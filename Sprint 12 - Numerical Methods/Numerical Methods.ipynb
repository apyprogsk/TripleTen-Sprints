{
 "cells": [
  {
   "cell_type": "markdown",
   "id": "c6bb3a43",
   "metadata": {},
   "source": [
    "### Project Title: Predicting Market Value of Used Cars for Rusty Bargain\n",
    "\n",
    "##### Objective:\n",
    "The goal of this project is to develop a machine learning model that predicts the market value of used cars based on their historical technical specifications and conditions. The model will be integrated into Rusty Bargain’s new app, enabling customers to quickly and accurately assess the value of their vehicles.\n",
    "\n",
    "##### Project Scope:\n",
    "###### The project involves:\n",
    "\n",
    "   Analyzing historical car data with various features such as vehicle type, registration year, mileage, and fuel type.\n",
    "   Building and comparing machine learning models including gradient boosting methods, random forest, decision tree, and linear regression.\n",
    "   Optimizing for both prediction quality and efficiency, balancing training time and speed of predictions.\n",
    "\n",
    "##### Key Evaluation Metric:\n",
    "The primary metric for model performance will be the Root Mean Squared Error (RMSE), which will help measure the accuracy of the predicted car prices compared to actual prices.\n",
    "\n",
    "##### Approach:\n",
    "\n",
    "   Data Preprocessing: Cleaning and encoding the dataset for model training, addressing any missing values or anomalies.\n",
    "   Model Building: Training multiple models and tuning hyperparameters to achieve optimal performance. The models will include:\n",
    "        Linear Regression (sanity check)\n",
    "        Random Forest\n",
    "        Decision Tree\n",
    "        LightGBM, XGBoost, and (optionally) CatBoost for gradient boosting.\n",
    "   Model Evaluation: Comparing the models based on RMSE, training time, and prediction speed.\n",
    "   Conclusion: Recommending the best model for Rusty Bargain’s app based on both performance and efficiency.\n",
    "\n",
    "This project will demonstrate strong machine learning practices, including data preprocessing, feature engineering, model optimization, and a thorough comparison of algorithms."
   ]
  },
  {
   "cell_type": "markdown",
   "id": "91931730",
   "metadata": {},
   "source": [
    "## Data preparation\n",
    "\n",
    "### libraries"
   ]
  },
  {
   "cell_type": "code",
   "execution_count": 1,
   "id": "ee075921",
   "metadata": {},
   "outputs": [],
   "source": [
    "import pandas as pd\n",
    "import numpy as np\n",
    "import matplotlib.pyplot as plt\n",
    "import seaborn as sns\n",
    "import plotly.express as px\n",
    "import math\n",
    "import matplotlib\n",
    "\n",
    "# Models\n",
    "from sklearn.ensemble import RandomForestRegressor\n",
    "from sklearn.tree import DecisionTreeRegressor\n",
    "from sklearn.linear_model import LinearRegression, SGDRegressor\n",
    "from sklearn import linear_model\n",
    "\n",
    "from sklearn.model_selection import train_test_split, RandomizedSearchCV\n",
    "from sklearn.metrics import mean_squared_error, confusion_matrix, classification_report, accuracy_score\n",
    "from sklearn.preprocessing import LabelEncoder\n",
    "from scipy.stats import randint as sp_randint\n",
    "\n",
    "\n",
    "# Boosting\n",
    "import lightgbm as lgb\n",
    "from lightgbm import LGBMClassifier\n",
    "from xgboost import XGBClassifier, XGBRegressor\n",
    "from catboost import CatBoostRegressor, Pool, metrics, cv\n",
    "import xgboost as xgb\n",
    "\n",
    "\n",
    "import warnings\n",
    "\n",
    "\n",
    "warnings.filterwarnings(\"ignore\")"
   ]
  },
  {
   "cell_type": "markdown",
   "id": "9edce73f",
   "metadata": {},
   "source": [
    "### data import"
   ]
  },
  {
   "cell_type": "code",
   "execution_count": 2,
   "id": "19606af8",
   "metadata": {},
   "outputs": [],
   "source": [
    "try:\n",
    "    df = pd.read_csv('C:/Users/gsrav/Documents/Documents/Sprint12_Data/car_data.csv')\n",
    "except:\n",
    "    print('Something is wrong with your data.')"
   ]
  },
  {
   "cell_type": "markdown",
   "id": "96598771",
   "metadata": {},
   "source": [
    "### data review"
   ]
  },
  {
   "cell_type": "code",
   "execution_count": 3,
   "id": "162419f3",
   "metadata": {},
   "outputs": [
    {
     "data": {
      "text/html": [
       "<div>\n",
       "<style scoped>\n",
       "    .dataframe tbody tr th:only-of-type {\n",
       "        vertical-align: middle;\n",
       "    }\n",
       "\n",
       "    .dataframe tbody tr th {\n",
       "        vertical-align: top;\n",
       "    }\n",
       "\n",
       "    .dataframe thead th {\n",
       "        text-align: right;\n",
       "    }\n",
       "</style>\n",
       "<table border=\"1\" class=\"dataframe\">\n",
       "  <thead>\n",
       "    <tr style=\"text-align: right;\">\n",
       "      <th></th>\n",
       "      <th>DateCrawled</th>\n",
       "      <th>Price</th>\n",
       "      <th>VehicleType</th>\n",
       "      <th>RegistrationYear</th>\n",
       "      <th>Gearbox</th>\n",
       "      <th>Power</th>\n",
       "      <th>Model</th>\n",
       "      <th>Mileage</th>\n",
       "      <th>RegistrationMonth</th>\n",
       "      <th>FuelType</th>\n",
       "      <th>Brand</th>\n",
       "      <th>NotRepaired</th>\n",
       "      <th>DateCreated</th>\n",
       "      <th>NumberOfPictures</th>\n",
       "      <th>PostalCode</th>\n",
       "      <th>LastSeen</th>\n",
       "    </tr>\n",
       "  </thead>\n",
       "  <tbody>\n",
       "    <tr>\n",
       "      <th>0</th>\n",
       "      <td>24/03/2016 11:52</td>\n",
       "      <td>480</td>\n",
       "      <td>NaN</td>\n",
       "      <td>1993</td>\n",
       "      <td>manual</td>\n",
       "      <td>0</td>\n",
       "      <td>golf</td>\n",
       "      <td>150000</td>\n",
       "      <td>0</td>\n",
       "      <td>petrol</td>\n",
       "      <td>volkswagen</td>\n",
       "      <td>NaN</td>\n",
       "      <td>24/03/2016 00:00</td>\n",
       "      <td>0</td>\n",
       "      <td>70435</td>\n",
       "      <td>07/04/2016 03:16</td>\n",
       "    </tr>\n",
       "    <tr>\n",
       "      <th>1</th>\n",
       "      <td>24/03/2016 10:58</td>\n",
       "      <td>18300</td>\n",
       "      <td>coupe</td>\n",
       "      <td>2011</td>\n",
       "      <td>manual</td>\n",
       "      <td>190</td>\n",
       "      <td>NaN</td>\n",
       "      <td>125000</td>\n",
       "      <td>5</td>\n",
       "      <td>gasoline</td>\n",
       "      <td>audi</td>\n",
       "      <td>yes</td>\n",
       "      <td>24/03/2016 00:00</td>\n",
       "      <td>0</td>\n",
       "      <td>66954</td>\n",
       "      <td>07/04/2016 01:46</td>\n",
       "    </tr>\n",
       "    <tr>\n",
       "      <th>2</th>\n",
       "      <td>14/03/2016 12:52</td>\n",
       "      <td>9800</td>\n",
       "      <td>suv</td>\n",
       "      <td>2004</td>\n",
       "      <td>auto</td>\n",
       "      <td>163</td>\n",
       "      <td>grand</td>\n",
       "      <td>125000</td>\n",
       "      <td>8</td>\n",
       "      <td>gasoline</td>\n",
       "      <td>jeep</td>\n",
       "      <td>NaN</td>\n",
       "      <td>14/03/2016 00:00</td>\n",
       "      <td>0</td>\n",
       "      <td>90480</td>\n",
       "      <td>05/04/2016 12:47</td>\n",
       "    </tr>\n",
       "    <tr>\n",
       "      <th>3</th>\n",
       "      <td>17/03/2016 16:54</td>\n",
       "      <td>1500</td>\n",
       "      <td>small</td>\n",
       "      <td>2001</td>\n",
       "      <td>manual</td>\n",
       "      <td>75</td>\n",
       "      <td>golf</td>\n",
       "      <td>150000</td>\n",
       "      <td>6</td>\n",
       "      <td>petrol</td>\n",
       "      <td>volkswagen</td>\n",
       "      <td>no</td>\n",
       "      <td>17/03/2016 00:00</td>\n",
       "      <td>0</td>\n",
       "      <td>91074</td>\n",
       "      <td>17/03/2016 17:40</td>\n",
       "    </tr>\n",
       "    <tr>\n",
       "      <th>4</th>\n",
       "      <td>31/03/2016 17:25</td>\n",
       "      <td>3600</td>\n",
       "      <td>small</td>\n",
       "      <td>2008</td>\n",
       "      <td>manual</td>\n",
       "      <td>69</td>\n",
       "      <td>fabia</td>\n",
       "      <td>90000</td>\n",
       "      <td>7</td>\n",
       "      <td>gasoline</td>\n",
       "      <td>skoda</td>\n",
       "      <td>no</td>\n",
       "      <td>31/03/2016 00:00</td>\n",
       "      <td>0</td>\n",
       "      <td>60437</td>\n",
       "      <td>06/04/2016 10:17</td>\n",
       "    </tr>\n",
       "  </tbody>\n",
       "</table>\n",
       "</div>"
      ],
      "text/plain": [
       "        DateCrawled  Price VehicleType  RegistrationYear Gearbox  Power  \\\n",
       "0  24/03/2016 11:52    480         NaN              1993  manual      0   \n",
       "1  24/03/2016 10:58  18300       coupe              2011  manual    190   \n",
       "2  14/03/2016 12:52   9800         suv              2004    auto    163   \n",
       "3  17/03/2016 16:54   1500       small              2001  manual     75   \n",
       "4  31/03/2016 17:25   3600       small              2008  manual     69   \n",
       "\n",
       "   Model  Mileage  RegistrationMonth  FuelType       Brand NotRepaired  \\\n",
       "0   golf   150000                  0    petrol  volkswagen         NaN   \n",
       "1    NaN   125000                  5  gasoline        audi         yes   \n",
       "2  grand   125000                  8  gasoline        jeep         NaN   \n",
       "3   golf   150000                  6    petrol  volkswagen          no   \n",
       "4  fabia    90000                  7  gasoline       skoda          no   \n",
       "\n",
       "        DateCreated  NumberOfPictures  PostalCode          LastSeen  \n",
       "0  24/03/2016 00:00                 0       70435  07/04/2016 03:16  \n",
       "1  24/03/2016 00:00                 0       66954  07/04/2016 01:46  \n",
       "2  14/03/2016 00:00                 0       90480  05/04/2016 12:47  \n",
       "3  17/03/2016 00:00                 0       91074  17/03/2016 17:40  \n",
       "4  31/03/2016 00:00                 0       60437  06/04/2016 10:17  "
      ]
     },
     "metadata": {},
     "output_type": "display_data"
    }
   ],
   "source": [
    "display(df.head())"
   ]
  },
  {
   "cell_type": "code",
   "execution_count": 4,
   "id": "aec5d94b",
   "metadata": {},
   "outputs": [
    {
     "name": "stdout",
     "output_type": "stream",
     "text": [
      "<class 'pandas.core.frame.DataFrame'>\n",
      "RangeIndex: 354369 entries, 0 to 354368\n",
      "Data columns (total 16 columns):\n",
      " #   Column             Non-Null Count   Dtype \n",
      "---  ------             --------------   ----- \n",
      " 0   DateCrawled        354369 non-null  object\n",
      " 1   Price              354369 non-null  int64 \n",
      " 2   VehicleType        316879 non-null  object\n",
      " 3   RegistrationYear   354369 non-null  int64 \n",
      " 4   Gearbox            334536 non-null  object\n",
      " 5   Power              354369 non-null  int64 \n",
      " 6   Model              334664 non-null  object\n",
      " 7   Mileage            354369 non-null  int64 \n",
      " 8   RegistrationMonth  354369 non-null  int64 \n",
      " 9   FuelType           321474 non-null  object\n",
      " 10  Brand              354369 non-null  object\n",
      " 11  NotRepaired        283215 non-null  object\n",
      " 12  DateCreated        354369 non-null  object\n",
      " 13  NumberOfPictures   354369 non-null  int64 \n",
      " 14  PostalCode         354369 non-null  int64 \n",
      " 15  LastSeen           354369 non-null  object\n",
      "dtypes: int64(7), object(9)\n",
      "memory usage: 43.3+ MB\n"
     ]
    }
   ],
   "source": [
    "df.info()"
   ]
  },
  {
   "cell_type": "code",
   "execution_count": 5,
   "id": "6d589fd3",
   "metadata": {},
   "outputs": [
    {
     "data": {
      "text/html": [
       "<div>\n",
       "<style scoped>\n",
       "    .dataframe tbody tr th:only-of-type {\n",
       "        vertical-align: middle;\n",
       "    }\n",
       "\n",
       "    .dataframe tbody tr th {\n",
       "        vertical-align: top;\n",
       "    }\n",
       "\n",
       "    .dataframe thead th {\n",
       "        text-align: right;\n",
       "    }\n",
       "</style>\n",
       "<table border=\"1\" class=\"dataframe\">\n",
       "  <thead>\n",
       "    <tr style=\"text-align: right;\">\n",
       "      <th></th>\n",
       "      <th>Price</th>\n",
       "      <th>RegistrationYear</th>\n",
       "      <th>Power</th>\n",
       "      <th>Mileage</th>\n",
       "      <th>RegistrationMonth</th>\n",
       "      <th>NumberOfPictures</th>\n",
       "      <th>PostalCode</th>\n",
       "    </tr>\n",
       "  </thead>\n",
       "  <tbody>\n",
       "    <tr>\n",
       "      <th>count</th>\n",
       "      <td>354369.000000</td>\n",
       "      <td>354369.000000</td>\n",
       "      <td>354369.000000</td>\n",
       "      <td>354369.000000</td>\n",
       "      <td>354369.000000</td>\n",
       "      <td>354369.0</td>\n",
       "      <td>354369.000000</td>\n",
       "    </tr>\n",
       "    <tr>\n",
       "      <th>mean</th>\n",
       "      <td>4416.656776</td>\n",
       "      <td>2004.234448</td>\n",
       "      <td>110.094337</td>\n",
       "      <td>128211.172535</td>\n",
       "      <td>5.714645</td>\n",
       "      <td>0.0</td>\n",
       "      <td>50508.689087</td>\n",
       "    </tr>\n",
       "    <tr>\n",
       "      <th>std</th>\n",
       "      <td>4514.158514</td>\n",
       "      <td>90.227958</td>\n",
       "      <td>189.850405</td>\n",
       "      <td>37905.341530</td>\n",
       "      <td>3.726421</td>\n",
       "      <td>0.0</td>\n",
       "      <td>25783.096248</td>\n",
       "    </tr>\n",
       "    <tr>\n",
       "      <th>min</th>\n",
       "      <td>0.000000</td>\n",
       "      <td>1000.000000</td>\n",
       "      <td>0.000000</td>\n",
       "      <td>5000.000000</td>\n",
       "      <td>0.000000</td>\n",
       "      <td>0.0</td>\n",
       "      <td>1067.000000</td>\n",
       "    </tr>\n",
       "    <tr>\n",
       "      <th>25%</th>\n",
       "      <td>1050.000000</td>\n",
       "      <td>1999.000000</td>\n",
       "      <td>69.000000</td>\n",
       "      <td>125000.000000</td>\n",
       "      <td>3.000000</td>\n",
       "      <td>0.0</td>\n",
       "      <td>30165.000000</td>\n",
       "    </tr>\n",
       "    <tr>\n",
       "      <th>50%</th>\n",
       "      <td>2700.000000</td>\n",
       "      <td>2003.000000</td>\n",
       "      <td>105.000000</td>\n",
       "      <td>150000.000000</td>\n",
       "      <td>6.000000</td>\n",
       "      <td>0.0</td>\n",
       "      <td>49413.000000</td>\n",
       "    </tr>\n",
       "    <tr>\n",
       "      <th>75%</th>\n",
       "      <td>6400.000000</td>\n",
       "      <td>2008.000000</td>\n",
       "      <td>143.000000</td>\n",
       "      <td>150000.000000</td>\n",
       "      <td>9.000000</td>\n",
       "      <td>0.0</td>\n",
       "      <td>71083.000000</td>\n",
       "    </tr>\n",
       "    <tr>\n",
       "      <th>max</th>\n",
       "      <td>20000.000000</td>\n",
       "      <td>9999.000000</td>\n",
       "      <td>20000.000000</td>\n",
       "      <td>150000.000000</td>\n",
       "      <td>12.000000</td>\n",
       "      <td>0.0</td>\n",
       "      <td>99998.000000</td>\n",
       "    </tr>\n",
       "  </tbody>\n",
       "</table>\n",
       "</div>"
      ],
      "text/plain": [
       "               Price  RegistrationYear          Power        Mileage  \\\n",
       "count  354369.000000     354369.000000  354369.000000  354369.000000   \n",
       "mean     4416.656776       2004.234448     110.094337  128211.172535   \n",
       "std      4514.158514         90.227958     189.850405   37905.341530   \n",
       "min         0.000000       1000.000000       0.000000    5000.000000   \n",
       "25%      1050.000000       1999.000000      69.000000  125000.000000   \n",
       "50%      2700.000000       2003.000000     105.000000  150000.000000   \n",
       "75%      6400.000000       2008.000000     143.000000  150000.000000   \n",
       "max     20000.000000       9999.000000   20000.000000  150000.000000   \n",
       "\n",
       "       RegistrationMonth  NumberOfPictures     PostalCode  \n",
       "count      354369.000000          354369.0  354369.000000  \n",
       "mean            5.714645               0.0   50508.689087  \n",
       "std             3.726421               0.0   25783.096248  \n",
       "min             0.000000               0.0    1067.000000  \n",
       "25%             3.000000               0.0   30165.000000  \n",
       "50%             6.000000               0.0   49413.000000  \n",
       "75%             9.000000               0.0   71083.000000  \n",
       "max            12.000000               0.0   99998.000000  "
      ]
     },
     "execution_count": 5,
     "metadata": {},
     "output_type": "execute_result"
    }
   ],
   "source": [
    "pd.options.display.max_columns = None\n",
    "df.describe()"
   ]
  },
  {
   "cell_type": "code",
   "execution_count": 6,
   "id": "1295e54b",
   "metadata": {},
   "outputs": [
    {
     "data": {
      "image/png": "[encoded data removed]",
      "text/plain": [
       "<Figure size 1000x800 with 1 Axes>"
      ]
     },
     "metadata": {},
     "output_type": "display_data"
    }
   ],
   "source": [
    "sns.set_context(\"notebook\", font_scale=.85)\n",
    "\n",
    "fig, ax = plt.subplots(figsize=(10, 8))\n",
    "g = sns.countplot(data=df,\n",
    "                  x='VehicleType',\n",
    "                  hue='Gearbox',\n",
    "                  color= '#d0bbff',\n",
    "                  #palette=\"dark:#5A9_r\",\n",
    "                  ax=ax,\n",
    "                  dodge=False,\n",
    "                  edgecolor = \"white\"\n",
    "                  )\n",
    "\n",
    "ax.set(xlabel=\"Category Type\", ylabel='Count (#)')\n",
    "bottoms = {}\n",
    "for bars in ax.containers:\n",
    "    for bar in bars:\n",
    "        x, y = bar.get_xy()\n",
    "        h = bar.get_height()\n",
    "        if x in bottoms:\n",
    "            bar.set_y(bottoms[x])\n",
    "            bottoms[x] += h\n",
    "        else:\n",
    "            bottoms[x] = h\n",
    "\n",
    "for c in ax.containers:\n",
    "    labels = [f'{round((v.get_height())):,}' for v in c]\n",
    "    ax.bar_label(c, labels=labels, label_type='center', color='white')\n",
    "\n",
    "ax.relim()  # the plot limits need to be updated with the moved bars\n",
    "ax.autoscale()\n",
    "ax.text(x=0.5, y=1.1, s='Vehicle types', fontsize=16, weight='bold', ha='center', va='bottom', transform=ax.transAxes)\n",
    "ax.text(x=0.5, y=1.05, s='Gearbox mix analysis', fontsize=8, alpha=0.75, ha='center', va='bottom', transform=ax.transAxes)\n",
    "# sns.despine(offset=10, trim=True)\n",
    "\n",
    "# if we need to move legend around\n",
    "# h,l = ax.get_legend_handles_labels()\n",
    "# ax.legend(h[:4],l[:4], bbox_to_anchor=(1.05, 1), loc=2)\n",
    "\n",
    "plt.show()"
   ]
  },
  {
   "cell_type": "code",
   "execution_count": 7,
   "id": "153d99ae",
   "metadata": {},
   "outputs": [
    {
     "data": {
      "image/png": "[encoded data removed]",
      "text/plain": [
       "<Figure size 1600x800 with 1 Axes>"
      ]
     },
     "metadata": {},
     "output_type": "display_data"
    }
   ],
   "source": [
    "sns.set_context(\"notebook\", font_scale=.85)\n",
    "\n",
    "# Create the catplot without the ax parameter and without native_scale\n",
    "g = sns.catplot(data=df,\n",
    "                x='FuelType',\n",
    "                y='Price',\n",
    "                hue='FuelType',\n",
    "                palette=\"flare\",\n",
    "                height=8,\n",
    "                aspect=2,\n",
    "                kind='box'\n",
    "                )\n",
    "\n",
    "# Set the labels\n",
    "g.set(xlabel=\"Fuel Type\", ylabel='Price')\n",
    "\n",
    "# Titles\n",
    "plt.title('Price to Fuel Type', x=0.5, y=1.1, fontsize=16, weight='bold', ha='center', va='bottom')\n",
    "g.fig.suptitle('Categorical boxplot analysis', x=0.52, y=1.05, fontsize=8, alpha=0.75, ha='center', va='bottom')\n",
    "\n",
    "plt.show()"
   ]
  },
  {
   "cell_type": "markdown",
   "id": "85f353cb",
   "metadata": {},
   "source": [
    "### Findings\n",
    "#### Findings\n",
    "\n",
    "Features that should be removed / should have no material impact on analysis\n",
    "\n",
    "   DateCrawled\n",
    "\n",
    "   DateCreated\n",
    "\n",
    "   NumberOfPictures\n",
    "\n",
    "   LastSeen\n",
    "\n",
    "   RegistrationMonth / PostalCode are two others to tentitatively think about removing\n",
    "\n",
    "NaN values for features like VehicleType or Model may need to be removed after checking overall impact\n",
    "\n",
    "   If needed, something worth exploring is filling in these values with values that are far away from any of their distributions so the model identifies them as 'outliers'. The null values in categorical features may be filled in with something like 'Unknown'.'\n",
    " \n",
    "Features with dtype object will have to be encoded for regular training using LabelEncoding then we may need to use specific methods for Gradient Boosting (attempting to run both LightGBM/CatBoost with our already encoded data)\n",
    "\n",
    "Possible normalization/standardization needed [placeholder to come back to if needed]"
   ]
  },
  {
   "cell_type": "code",
   "execution_count": 8,
   "id": "a3556d75",
   "metadata": {},
   "outputs": [],
   "source": [
    "df.drop(['DateCrawled', 'DateCreated', 'NumberOfPictures', 'LastSeen', 'PostalCode', 'RegistrationMonth'], axis=1, inplace=True)"
   ]
  },
  {
   "cell_type": "markdown",
   "id": "14ca3054",
   "metadata": {},
   "source": [
    "### null value statistics"
   ]
  },
  {
   "cell_type": "code",
   "execution_count": 9,
   "id": "8e9b9c7c",
   "metadata": {},
   "outputs": [
    {
     "data": {
      "text/html": [
       "<div>\n",
       "<style scoped>\n",
       "    .dataframe tbody tr th:only-of-type {\n",
       "        vertical-align: middle;\n",
       "    }\n",
       "\n",
       "    .dataframe tbody tr th {\n",
       "        vertical-align: top;\n",
       "    }\n",
       "\n",
       "    .dataframe thead th {\n",
       "        text-align: right;\n",
       "    }\n",
       "</style>\n",
       "<table border=\"1\" class=\"dataframe\">\n",
       "  <thead>\n",
       "    <tr style=\"text-align: right;\">\n",
       "      <th></th>\n",
       "      <th>Price</th>\n",
       "      <th>Power</th>\n",
       "      <th>Mileage</th>\n",
       "      <th>RegistrationYear</th>\n",
       "    </tr>\n",
       "  </thead>\n",
       "  <tbody>\n",
       "    <tr>\n",
       "      <th>Price</th>\n",
       "      <td>1.000000</td>\n",
       "      <td>0.158872</td>\n",
       "      <td>-0.333199</td>\n",
       "      <td>0.026916</td>\n",
       "    </tr>\n",
       "    <tr>\n",
       "      <th>Power</th>\n",
       "      <td>0.158872</td>\n",
       "      <td>1.000000</td>\n",
       "      <td>0.024002</td>\n",
       "      <td>-0.000828</td>\n",
       "    </tr>\n",
       "    <tr>\n",
       "      <th>Mileage</th>\n",
       "      <td>-0.333199</td>\n",
       "      <td>0.024002</td>\n",
       "      <td>1.000000</td>\n",
       "      <td>-0.053447</td>\n",
       "    </tr>\n",
       "    <tr>\n",
       "      <th>RegistrationYear</th>\n",
       "      <td>0.026916</td>\n",
       "      <td>-0.000828</td>\n",
       "      <td>-0.053447</td>\n",
       "      <td>1.000000</td>\n",
       "    </tr>\n",
       "  </tbody>\n",
       "</table>\n",
       "</div>"
      ],
      "text/plain": [
       "                     Price     Power   Mileage  RegistrationYear\n",
       "Price             1.000000  0.158872 -0.333199          0.026916\n",
       "Power             0.158872  1.000000  0.024002         -0.000828\n",
       "Mileage          -0.333199  0.024002  1.000000         -0.053447\n",
       "RegistrationYear  0.026916 -0.000828 -0.053447          1.000000"
      ]
     },
     "execution_count": 9,
     "metadata": {},
     "output_type": "execute_result"
    }
   ],
   "source": [
    "correlation_filter = ['Price', 'Power', 'Mileage','RegistrationYear']\n",
    "\n",
    "df[correlation_filter].corr()"
   ]
  },
  {
   "cell_type": "code",
   "execution_count": 10,
   "id": "5c351e00",
   "metadata": {},
   "outputs": [
    {
     "data": {
      "image/png": "[encoded data removed]",
      "text/plain": [
       "<Figure size 1000x500 with 1 Axes>"
      ]
     },
     "metadata": {},
     "output_type": "display_data"
    }
   ],
   "source": [
    "from matplotlib.patches import Rectangle\n",
    "\n",
    "# Calculate missing data ratio\n",
    "df_na = (df.isnull().sum() / len(df)) * 100\n",
    "df_na = df_na.drop(df_na[df_na == 0].index).sort_values(ascending=False)[:30]\n",
    "missing_data = pd.DataFrame({'Missing Ratio': df_na})\n",
    "missing_data.reset_index(inplace=True)  # Reset index to use it as a column\n",
    "\n",
    "# Rename the index column for clarity\n",
    "missing_data.rename(columns={'index': 'Feature'}, inplace=True)\n",
    "\n",
    "# Plotting\n",
    "sns.set_context(\"notebook\", font_scale=.85)\n",
    "\n",
    "g = sns.catplot(data=missing_data,\n",
    "                x='Feature',\n",
    "                y='Missing Ratio',\n",
    "                kind='bar',\n",
    "                height=5,\n",
    "                aspect=2,\n",
    "                legend=None,\n",
    "                palette=\"flare\"  # Use a palette instead of hue\n",
    "                )\n",
    "\n",
    "# Set the labels\n",
    "g.set(xlabel='DataFrame Feature', ylabel='Null Proportion (%)')\n",
    "\n",
    "# Add labels on bars\n",
    "ax = g.facet_axis(0, 0)\n",
    "for c in ax.containers:\n",
    "    labels = [f'{(v.get_height()):.2f}%' for v in c]\n",
    "    ax.bar_label(c, labels=labels, label_type='center', color='white')\n",
    "\n",
    "# Title and annotations\n",
    "ax.autoscale()\n",
    "ax.text(x=0.5, y=1.1, s='% of missing values', fontsize=16, weight='bold', ha='center', va='bottom', transform=ax.transAxes)\n",
    "ax.text(x=0.5, y=1.05, s='Selected feature analysis', fontsize=8, alpha=0.75, ha='center', va='bottom', transform=ax.transAxes)\n",
    "\n",
    "# Add a rectangle patch\n",
    "ax.add_patch(Rectangle((-0.41, 0), .81, 20.25, fill=False, edgecolor='#9999CC', lw=4))\n",
    "ax.text(0.42, 8.5, \"Feature w/the most missing values\", fontsize=10, color=\"#9999CC\", rotation=-90)\n",
    "\n",
    "plt.show()"
   ]
  },
  {
   "cell_type": "code",
   "execution_count": 11,
   "id": "dee02b44",
   "metadata": {},
   "outputs": [
    {
     "data": {
      "text/plain": [
       "VehicleType    37490\n",
       "Gearbox        19833\n",
       "Model          19705\n",
       "FuelType       32895\n",
       "NotRepaired    71154\n",
       "dtype: int64"
      ]
     },
     "execution_count": 11,
     "metadata": {},
     "output_type": "execute_result"
    }
   ],
   "source": [
    "# Debating if we should fill in the missing values with a value\n",
    "\n",
    "null_value_stats = df.isnull().sum(axis=0)\n",
    "null_value_stats[null_value_stats != 0]"
   ]
  },
  {
   "cell_type": "markdown",
   "id": "440ddc0a",
   "metadata": {},
   "source": [
    "### encoding"
   ]
  },
  {
   "cell_type": "code",
   "execution_count": 12,
   "id": "18cd6459",
   "metadata": {},
   "outputs": [
    {
     "data": {
      "text/html": [
       "<div>\n",
       "<style scoped>\n",
       "    .dataframe tbody tr th:only-of-type {\n",
       "        vertical-align: middle;\n",
       "    }\n",
       "\n",
       "    .dataframe tbody tr th {\n",
       "        vertical-align: top;\n",
       "    }\n",
       "\n",
       "    .dataframe thead th {\n",
       "        text-align: right;\n",
       "    }\n",
       "</style>\n",
       "<table border=\"1\" class=\"dataframe\">\n",
       "  <thead>\n",
       "    <tr style=\"text-align: right;\">\n",
       "      <th></th>\n",
       "      <th>Price</th>\n",
       "      <th>VehicleType</th>\n",
       "      <th>RegistrationYear</th>\n",
       "      <th>Gearbox</th>\n",
       "      <th>Power</th>\n",
       "      <th>Model</th>\n",
       "      <th>Mileage</th>\n",
       "      <th>FuelType</th>\n",
       "      <th>Brand</th>\n",
       "      <th>NotRepaired</th>\n",
       "    </tr>\n",
       "  </thead>\n",
       "  <tbody>\n",
       "    <tr>\n",
       "      <th>0</th>\n",
       "      <td>480</td>\n",
       "      <td>8</td>\n",
       "      <td>1993</td>\n",
       "      <td>1</td>\n",
       "      <td>0</td>\n",
       "      <td>116</td>\n",
       "      <td>150000</td>\n",
       "      <td>6</td>\n",
       "      <td>38</td>\n",
       "      <td>2</td>\n",
       "    </tr>\n",
       "    <tr>\n",
       "      <th>1</th>\n",
       "      <td>18300</td>\n",
       "      <td>2</td>\n",
       "      <td>2011</td>\n",
       "      <td>1</td>\n",
       "      <td>190</td>\n",
       "      <td>250</td>\n",
       "      <td>125000</td>\n",
       "      <td>2</td>\n",
       "      <td>1</td>\n",
       "      <td>1</td>\n",
       "    </tr>\n",
       "    <tr>\n",
       "      <th>2</th>\n",
       "      <td>9800</td>\n",
       "      <td>6</td>\n",
       "      <td>2004</td>\n",
       "      <td>0</td>\n",
       "      <td>163</td>\n",
       "      <td>117</td>\n",
       "      <td>125000</td>\n",
       "      <td>2</td>\n",
       "      <td>14</td>\n",
       "      <td>2</td>\n",
       "    </tr>\n",
       "    <tr>\n",
       "      <th>3</th>\n",
       "      <td>1500</td>\n",
       "      <td>5</td>\n",
       "      <td>2001</td>\n",
       "      <td>1</td>\n",
       "      <td>75</td>\n",
       "      <td>116</td>\n",
       "      <td>150000</td>\n",
       "      <td>6</td>\n",
       "      <td>38</td>\n",
       "      <td>0</td>\n",
       "    </tr>\n",
       "    <tr>\n",
       "      <th>4</th>\n",
       "      <td>3600</td>\n",
       "      <td>5</td>\n",
       "      <td>2008</td>\n",
       "      <td>1</td>\n",
       "      <td>69</td>\n",
       "      <td>101</td>\n",
       "      <td>90000</td>\n",
       "      <td>2</td>\n",
       "      <td>31</td>\n",
       "      <td>0</td>\n",
       "    </tr>\n",
       "    <tr>\n",
       "      <th>...</th>\n",
       "      <td>...</td>\n",
       "      <td>...</td>\n",
       "      <td>...</td>\n",
       "      <td>...</td>\n",
       "      <td>...</td>\n",
       "      <td>...</td>\n",
       "      <td>...</td>\n",
       "      <td>...</td>\n",
       "      <td>...</td>\n",
       "      <td>...</td>\n",
       "    </tr>\n",
       "    <tr>\n",
       "      <th>354364</th>\n",
       "      <td>0</td>\n",
       "      <td>8</td>\n",
       "      <td>2005</td>\n",
       "      <td>1</td>\n",
       "      <td>0</td>\n",
       "      <td>78</td>\n",
       "      <td>150000</td>\n",
       "      <td>6</td>\n",
       "      <td>22</td>\n",
       "      <td>1</td>\n",
       "    </tr>\n",
       "    <tr>\n",
       "      <th>354365</th>\n",
       "      <td>2200</td>\n",
       "      <td>8</td>\n",
       "      <td>2005</td>\n",
       "      <td>2</td>\n",
       "      <td>0</td>\n",
       "      <td>250</td>\n",
       "      <td>20000</td>\n",
       "      <td>7</td>\n",
       "      <td>33</td>\n",
       "      <td>2</td>\n",
       "    </tr>\n",
       "    <tr>\n",
       "      <th>354366</th>\n",
       "      <td>1199</td>\n",
       "      <td>1</td>\n",
       "      <td>2000</td>\n",
       "      <td>0</td>\n",
       "      <td>101</td>\n",
       "      <td>106</td>\n",
       "      <td>125000</td>\n",
       "      <td>6</td>\n",
       "      <td>32</td>\n",
       "      <td>0</td>\n",
       "    </tr>\n",
       "    <tr>\n",
       "      <th>354367</th>\n",
       "      <td>9200</td>\n",
       "      <td>0</td>\n",
       "      <td>1996</td>\n",
       "      <td>1</td>\n",
       "      <td>102</td>\n",
       "      <td>224</td>\n",
       "      <td>150000</td>\n",
       "      <td>2</td>\n",
       "      <td>38</td>\n",
       "      <td>0</td>\n",
       "    </tr>\n",
       "    <tr>\n",
       "      <th>354368</th>\n",
       "      <td>3400</td>\n",
       "      <td>7</td>\n",
       "      <td>2002</td>\n",
       "      <td>1</td>\n",
       "      <td>100</td>\n",
       "      <td>116</td>\n",
       "      <td>150000</td>\n",
       "      <td>2</td>\n",
       "      <td>38</td>\n",
       "      <td>2</td>\n",
       "    </tr>\n",
       "  </tbody>\n",
       "</table>\n",
       "<p>354369 rows × 10 columns</p>\n",
       "</div>"
      ],
      "text/plain": [
       "        Price  VehicleType  RegistrationYear  Gearbox  Power  Model  Mileage  \\\n",
       "0         480            8              1993        1      0    116   150000   \n",
       "1       18300            2              2011        1    190    250   125000   \n",
       "2        9800            6              2004        0    163    117   125000   \n",
       "3        1500            5              2001        1     75    116   150000   \n",
       "4        3600            5              2008        1     69    101    90000   \n",
       "...       ...          ...               ...      ...    ...    ...      ...   \n",
       "354364      0            8              2005        1      0     78   150000   \n",
       "354365   2200            8              2005        2      0    250    20000   \n",
       "354366   1199            1              2000        0    101    106   125000   \n",
       "354367   9200            0              1996        1    102    224   150000   \n",
       "354368   3400            7              2002        1    100    116   150000   \n",
       "\n",
       "        FuelType  Brand  NotRepaired  \n",
       "0              6     38            2  \n",
       "1              2      1            1  \n",
       "2              2     14            2  \n",
       "3              6     38            0  \n",
       "4              2     31            0  \n",
       "...          ...    ...          ...  \n",
       "354364         6     22            1  \n",
       "354365         7     33            2  \n",
       "354366         6     32            0  \n",
       "354367         2     38            0  \n",
       "354368         2     38            2  \n",
       "\n",
       "[354369 rows x 10 columns]"
      ]
     },
     "metadata": {},
     "output_type": "display_data"
    }
   ],
   "source": [
    "class MultiColumnLabelEncoder: #OrdinalEncoder as a 2nd option\n",
    "    def __init__(self,columns = None):\n",
    "        self.columns = columns\n",
    "\n",
    "    def fit(self,X,y=None):\n",
    "        return self\n",
    "\n",
    "    def transform(self,X):\n",
    "        output = X.copy()\n",
    "        if self.columns is not None:\n",
    "            for col in self.columns:\n",
    "                output[col] = LabelEncoder().fit_transform(output[col])\n",
    "        else:\n",
    "            for colname,col in output.iteritems():\n",
    "                output[colname] = LabelEncoder().fit_transform(col)\n",
    "        return output\n",
    "\n",
    "    def fit_transform(self,X,y=None):\n",
    "        return self.fit(X,y).transform(X)\n",
    "\n",
    "cat_columns = ['VehicleType', 'Gearbox', 'Model', 'FuelType', 'Brand', 'NotRepaired'] \n",
    "df_clean = MultiColumnLabelEncoder(columns = cat_columns).fit_transform(df)\n",
    "display(df_clean)"
   ]
  },
  {
   "cell_type": "markdown",
   "id": "75f561e7",
   "metadata": {},
   "source": [
    "## Data Modeling\n",
    "\n",
    "### data splitting and scaling"
   ]
  },
  {
   "cell_type": "code",
   "execution_count": 13,
   "id": "929014a4",
   "metadata": {},
   "outputs": [],
   "source": [
    "# After df_clean is prepared and cleaned, scale numerical and label encoded features\n",
    "\n",
    "from sklearn.preprocessing import StandardScaler\n",
    "\n",
    "from sklearn.preprocessing import StandardScaler\n",
    "\n",
    "# Defining the numerical features\n",
    "num_features = ['RegistrationYear', 'Power', 'Mileage']\n",
    "\n",
    "# Scaling the numerical features\n",
    "scaler = StandardScaler()\n",
    "df_clean[num_features] = scaler.fit_transform(df_clean[num_features])\n",
    "\n",
    "# Proceed with splitting features and target\n",
    "features, target = df_clean.drop('Price', axis=1), df_clean.Price\n",
    "\n",
    "# Proceed with data splitting\n",
    "features_train, features_test, target_train, target_test = train_test_split(features,\n",
    "                                                                            target,\n",
    "                                                                            test_size=0.30,\n",
    "                                                                            random_state=12345)"
   ]
  },
  {
   "cell_type": "markdown",
   "id": "54ca8932",
   "metadata": {},
   "source": [
    "### Decision Tree Regression Model"
   ]
  },
  {
   "cell_type": "code",
   "execution_count": 14,
   "id": "8df532ae",
   "metadata": {},
   "outputs": [
    {
     "name": "stdout",
     "output_type": "stream",
     "text": [
      "Best Params:\n",
      " {'max_depth': 20, 'max_features': 2, 'splitter': 'best'}\n",
      "\n",
      "\n",
      "Runtime:\n",
      "CPU times: total: 11.9 s\n",
      "Wall time: 13.8 s\n"
     ]
    }
   ],
   "source": [
    "%%time\n",
    "tree_model = DecisionTreeRegressor(random_state=12345)\n",
    "tree_parameters = [{'max_depth': [1, 20],\n",
    "                    \"splitter\": ['best', 'random'],\n",
    "                    'max_features': sp_randint(1, 10)}]\n",
    "\n",
    "tree_clf = RandomizedSearchCV(tree_model, tree_parameters, cv=5)\n",
    "tree_clf.fit(features_train, target_train)\n",
    "print('Best Params:\\n', tree_clf.best_params_)\n",
    "print('')\n",
    "\n",
    "print('')\n",
    "print('Runtime:')"
   ]
  },
  {
   "cell_type": "code",
   "execution_count": 15,
   "id": "c770f715",
   "metadata": {},
   "outputs": [
    {
     "name": "stdout",
     "output_type": "stream",
     "text": [
      "Retraining Time for Best Decision Tree Model: 0.5405 seconds\n"
     ]
    }
   ],
   "source": [
    "import time\n",
    "# Retrain best decision tree model and measure training time\n",
    "best_tree_model = tree_clf.best_estimator_\n",
    "\n",
    "start_time = time.time()\n",
    "best_tree_model.fit(features_train, target_train)\n",
    "training_time = time.time() - start_time\n",
    "\n",
    "print(f\"Retraining Time for Best Decision Tree Model: {training_time:.4f} seconds\")"
   ]
  },
  {
   "cell_type": "code",
   "execution_count": 16,
   "id": "1c3b34bd",
   "metadata": {},
   "outputs": [
    {
     "name": "stdout",
     "output_type": "stream",
     "text": [
      "Prediction Time: 0.0554 seconds\n",
      "Decision Tree RMSE:\n",
      " 2178.3469050508374\n"
     ]
    }
   ],
   "source": [
    "# Prediction and evaluation\n",
    "start_time = time.time()\n",
    "tree_prediction = best_tree_model.predict(features_test)\n",
    "prediction_time = time.time() - start_time\n",
    "\n",
    "print(f'Prediction Time: {prediction_time:.4f} seconds')\n",
    "print('Decision Tree RMSE:\\n', math.sqrt(mean_squared_error(target_test, tree_prediction)))"
   ]
  },
  {
   "cell_type": "code",
   "execution_count": 17,
   "id": "178224a0",
   "metadata": {},
   "outputs": [
    {
     "name": "stdout",
     "output_type": "stream",
     "text": [
      "Feature Importance:\n"
     ]
    },
    {
     "data": {
      "text/plain": [
       "{'RegistrationYear': 0.49242174224921476,\n",
       " 'Power': 0.1425158036227904,\n",
       " 'Brand': 0.0813759164186264,\n",
       " 'NotRepaired': 0.06821801731959234,\n",
       " 'Mileage': 0.05823630617107772,\n",
       " 'Model': 0.04679556838786968,\n",
       " 'VehicleType': 0.04584794465407893,\n",
       " 'Gearbox': 0.043583841997048324,\n",
       " 'FuelType': 0.021004859179701612}"
      ]
     },
     "execution_count": 17,
     "metadata": {},
     "output_type": "execute_result"
    }
   ],
   "source": [
    "# Feature Importance\n",
    "print('Feature Importance:')\n",
    "{k: v for k, v in sorted(zip(best_tree_model.feature_names_in_, best_tree_model.feature_importances_), key= lambda x: x[1], reverse=True)}"
   ]
  },
  {
   "cell_type": "markdown",
   "id": "7ec6a60e",
   "metadata": {},
   "source": [
    "### Random Forest Regression Model"
   ]
  },
  {
   "cell_type": "code",
   "execution_count": 18,
   "id": "ee2f7b33",
   "metadata": {},
   "outputs": [
    {
     "name": "stdout",
     "output_type": "stream",
     "text": [
      "Best Params:\n",
      " {'max_depth': 10, 'max_features': 7}\n",
      "\n",
      "Runtime:\n",
      "CPU times: total: 15min 48s\n",
      "Wall time: 17min 46s\n"
     ]
    }
   ],
   "source": [
    "%%time\n",
    "forest_model = RandomForestRegressor(random_state=12345)\n",
    "forest_parameters = [{'max_depth': [2, 10],\n",
    "                      'max_features': sp_randint(1, 9)}]\n",
    "\n",
    "forest_clf = RandomizedSearchCV(forest_model, forest_parameters, cv=5)\n",
    "forest_clf.fit(features_train, target_train)\n",
    "print('Best Params:\\n', forest_clf.best_params_)\n",
    "\n",
    "print('')\n",
    "print('Runtime:')"
   ]
  },
  {
   "cell_type": "code",
   "execution_count": 19,
   "id": "2ef3da06",
   "metadata": {},
   "outputs": [
    {
     "name": "stdout",
     "output_type": "stream",
     "text": [
      "Retraining Time for Best Random Forest Model: 56.3171 seconds\n"
     ]
    }
   ],
   "source": [
    "# Retrain best random forest model and measure training time\n",
    "best_forest_model = forest_clf.best_estimator_\n",
    "\n",
    "start_time = time.time()\n",
    "best_forest_model.fit(features_train, target_train)\n",
    "training_time = time.time() - start_time\n",
    "\n",
    "print(f\"Retraining Time for Best Random Forest Model: {training_time:.4f} seconds\")"
   ]
  },
  {
   "cell_type": "code",
   "execution_count": 20,
   "id": "f0b928dd",
   "metadata": {},
   "outputs": [
    {
     "name": "stdout",
     "output_type": "stream",
     "text": [
      "Prediction Time: 1.3975 seconds\n",
      "Random Forest RMSE:\n",
      " 1991.9171113989437\n"
     ]
    }
   ],
   "source": [
    "# Prediction and evaluation\n",
    "start_time = time.time()\n",
    "forest_prediction = best_forest_model.predict(features_test)\n",
    "prediction_time = time.time() - start_time\n",
    "\n",
    "print(f'Prediction Time: {prediction_time:.4f} seconds')\n",
    "print('Random Forest RMSE:\\n', math.sqrt(mean_squared_error(target_test, forest_prediction)))"
   ]
  },
  {
   "cell_type": "code",
   "execution_count": 21,
   "id": "fb97698e",
   "metadata": {},
   "outputs": [
    {
     "name": "stdout",
     "output_type": "stream",
     "text": [
      "Feature Importance:\n"
     ]
    },
    {
     "data": {
      "text/plain": [
       "{'RegistrationYear': 0.5049075057079476,\n",
       " 'Power': 0.3088955226804717,\n",
       " 'VehicleType': 0.07878760033259184,\n",
       " 'Mileage': 0.05234284050462689,\n",
       " 'Brand': 0.020886697081228714,\n",
       " 'NotRepaired': 0.0141769505523501,\n",
       " 'Model': 0.009830027693564733,\n",
       " 'FuelType': 0.005478616154545426,\n",
       " 'Gearbox': 0.004694239292673054}"
      ]
     },
     "execution_count": 21,
     "metadata": {},
     "output_type": "execute_result"
    }
   ],
   "source": [
    "# Feature Importance\n",
    "print('Feature Importance:')\n",
    "{k: v for k, v in sorted(zip(best_forest_model.feature_names_in_, best_forest_model.feature_importances_), key= lambda x: x[1], reverse=True)}"
   ]
  },
  {
   "cell_type": "markdown",
   "id": "ffba418d",
   "metadata": {},
   "source": [
    "### Linear Regression Model"
   ]
  },
  {
   "cell_type": "code",
   "execution_count": 22,
   "id": "f688422a",
   "metadata": {},
   "outputs": [
    {
     "name": "stdout",
     "output_type": "stream",
     "text": [
      "Best Params:\n",
      " {'positive': False, 'n_jobs': 8, 'fit_intercept': True}\n",
      "\n",
      "Runtime:\n",
      "CPU times: total: 23.8 s\n",
      "Wall time: 8.82 s\n"
     ]
    }
   ],
   "source": [
    "%%time\n",
    "linear_model = LinearRegression()\n",
    "linear_parameters = [{\"positive\": [True, False],\n",
    "                      \"fit_intercept\": [True, False],\n",
    "                      \"n_jobs\": list(range(1, 9))}]\n",
    "\n",
    "linear_clf = RandomizedSearchCV(linear_model, linear_parameters, cv=5)\n",
    "linear_clf.fit(features_train, target_train)\n",
    "print('Best Params:\\n', linear_clf.best_params_)\n",
    "\n",
    "print('')\n",
    "print('Runtime:')"
   ]
  },
  {
   "cell_type": "code",
   "execution_count": 23,
   "id": "8571edea",
   "metadata": {},
   "outputs": [
    {
     "name": "stdout",
     "output_type": "stream",
     "text": [
      "Retraining Time for Best Linear Regression Model: 0.2073 seconds\n"
     ]
    }
   ],
   "source": [
    "# Retrain best linear regression model and measure training time\n",
    "best_linear_model = linear_clf.best_estimator_\n",
    "\n",
    "start_time = time.time()\n",
    "best_linear_model.fit(features_train, target_train)\n",
    "training_time = time.time() - start_time\n",
    "\n",
    "print(f\"Retraining Time for Best Linear Regression Model: {training_time:.4f} seconds\")"
   ]
  },
  {
   "cell_type": "code",
   "execution_count": 24,
   "id": "95ce548b",
   "metadata": {},
   "outputs": [
    {
     "name": "stdout",
     "output_type": "stream",
     "text": [
      "Prediction Time: 0.0090 seconds\n",
      "Linear Regression RMSE:\n",
      " 3649.7118196289516\n"
     ]
    }
   ],
   "source": [
    "# Prediction and evaluation\n",
    "start_time = time.time()\n",
    "linear_prediction = best_linear_model.predict(features_test)\n",
    "prediction_time = time.time() - start_time\n",
    "\n",
    "print(f'Prediction Time: {prediction_time:.4f} seconds')\n",
    "print('Linear Regression RMSE:\\n', math.sqrt(mean_squared_error(target_test, linear_prediction)))"
   ]
  },
  {
   "cell_type": "markdown",
   "id": "06fb72dc",
   "metadata": {},
   "source": [
    "## Speed and Quality results\n",
    "### speed rankings\n",
    "\n",
    "#### CPU Times\n",
    "\n",
    "1. LinearRegression\n",
    "\n",
    "2. DecisionTree\n",
    "\n",
    "3. RandomForest\n",
    "\n",
    "#### Wall Times\n",
    "\n",
    "1. LinearRegression\n",
    "\n",
    "2. DecisionTree\n",
    "\n",
    "3. RandomForest\n",
    "\n",
    "### quality rankings\n",
    "\n",
    "#### RMSE\n",
    "\n",
    "1. RandomForest\n",
    "\n",
    "2. DecisionTree\n",
    "\n",
    "3. LinearRegression\n",
    "\n",
    "#### boosting models\n",
    "\n",
    "Gradient Boosting\n",
    "\n",
    "1. LightGBM grows leaf-wise while XGBoost grows level-wise\n",
    "\n",
    "2. LightGBM expects categorical features converted to integer"
   ]
  },
  {
   "cell_type": "code",
   "execution_count": 25,
   "id": "a7e2f389",
   "metadata": {},
   "outputs": [
    {
     "name": "stdout",
     "output_type": "stream",
     "text": [
      "\n",
      "Runtime:\n",
      "CPU times: total: 203 ms\n",
      "Wall time: 214 ms\n"
     ]
    }
   ],
   "source": [
    "%%time\n",
    "from sklearn.model_selection import train_test_split\n",
    "\n",
    "# Splitting features and target\n",
    "features, target = df_clean.drop('Price', axis=1), df_clean.Price\n",
    "\n",
    "# Split into training and test sets\n",
    "features_train, features_test, target_train, target_test = train_test_split(features,\n",
    "                                                                            target,\n",
    "                                                                            test_size=0.30,\n",
    "                                                                            random_state=12345)\n",
    "\n",
    "# Further split the training set into training and validation sets\n",
    "x_train, x_val, y_train, y_val = train_test_split(features_train.values, \n",
    "                                                  target_train.values, \n",
    "                                                  test_size=0.20,  # Adjust size as needed\n",
    "                                                  random_state=12345)\n",
    "\n",
    "# Prepare LightGBM datasets\n",
    "lgb_features = df_clean[['RegistrationYear', 'Power', 'Mileage']]\n",
    "lgb_categorical_features = ['VehicleType', 'Gearbox', 'Model', 'FuelType', 'Brand', 'NotRepaired']\n",
    "\n",
    "lgb_train = lgb.Dataset(x_train, \n",
    "                        y_train, \n",
    "                        feature_name=lgb_features.columns.tolist(),  \n",
    "                        categorical_feature=lgb_categorical_features)\n",
    "print('')\n",
    "print('Runtime:')"
   ]
  },
  {
   "cell_type": "code",
   "execution_count": 26,
   "id": "41557f9e",
   "metadata": {},
   "outputs": [
    {
     "name": "stdout",
     "output_type": "stream",
     "text": [
      "[LightGBM] [Info] Auto-choosing row-wise multi-threading, the overhead of testing was 0.007742 seconds.\n",
      "You can set `force_row_wise=true` to remove the overhead.\n",
      "And if memory is not enough, you can set `force_col_wise=true`.\n",
      "[LightGBM] [Info] Total Bins 684\n",
      "[LightGBM] [Info] Number of data points in the train set: 198446, number of used features: 9\n",
      "[LightGBM] [Info] Start training from score 4415.835522\n",
      "[LightGBM] [Warning] No further splits with positive gain, best gain: -inf\n",
      "[LightGBM] [Warning] No further splits with positive gain, best gain: -inf\n",
      "[LightGBM] [Warning] No further splits with positive gain, best gain: -inf\n",
      "\n",
      "Runtime:\n",
      "CPU times: total: 8.78 s\n",
      "Wall time: 3.27 s\n"
     ]
    }
   ],
   "source": [
    "%%time\n",
    "lgb_parameters = {\n",
    "    'task': 'train',    \n",
    "    'learning_rate': 0.1,\n",
    "    'boosting_type': 'gbdt',\n",
    "    'random_state': 12345,\n",
    "    'n_estimators': 150,\n",
    "    'max_depth': 10,\n",
    "    'num_leaves': 100\n",
    "}\n",
    "\n",
    "# Fit the model\n",
    "gbm = lgb.LGBMRegressor(**lgb_parameters)\n",
    "\n",
    "gbm.fit(x_train, y_train,\n",
    "        eval_set=[(x_val, y_val)],  # Use the validation set here\n",
    "        eval_metric='l1'\n",
    "        )\n",
    "\n",
    "print('')\n",
    "print('Runtime:')"
   ]
  },
  {
   "cell_type": "markdown",
   "id": "283bbb7a",
   "metadata": {},
   "source": [
    "#### LightGBM Prediction"
   ]
  },
  {
   "cell_type": "code",
   "execution_count": 27,
   "id": "6f8bc203",
   "metadata": {},
   "outputs": [
    {
     "name": "stdout",
     "output_type": "stream",
     "text": [
      "Prediction Time:\n",
      "CPU times: total: 2 s\n",
      "Wall time: 633 ms\n"
     ]
    }
   ],
   "source": [
    "%%time\n",
    "lgb_prediction = gbm.predict(features_test, num_iteration=gbm.best_iteration_) \n",
    "print('Prediction Time:')"
   ]
  },
  {
   "cell_type": "code",
   "execution_count": 28,
   "id": "667316d6",
   "metadata": {},
   "outputs": [
    {
     "name": "stdout",
     "output_type": "stream",
     "text": [
      "LGBM Regression RMSE:\n",
      " 1752.1434399602515\n"
     ]
    }
   ],
   "source": [
    "print('LGBM Regression RMSE:\\n', math.sqrt(mean_squared_error(target_test, lgb_prediction)))"
   ]
  },
  {
   "cell_type": "code",
   "execution_count": 29,
   "id": "91d52f6c",
   "metadata": {},
   "outputs": [
    {
     "name": "stdout",
     "output_type": "stream",
     "text": [
      "[LightGBM] [Info] Auto-choosing row-wise multi-threading, the overhead of testing was 0.007417 seconds.\n",
      "You can set `force_row_wise=true` to remove the overhead.\n",
      "And if memory is not enough, you can set `force_col_wise=true`.\n",
      "[LightGBM] [Info] Total Bins 684\n",
      "[LightGBM] [Info] Number of data points in the train set: 198446, number of used features: 9\n",
      "[LightGBM] [Info] Start training from score 4415.835522\n",
      "\n",
      "Runtime:\n",
      "CPU times: total: 4.05 s\n",
      "Wall time: 1.47 s\n"
     ]
    }
   ],
   "source": [
    "%%time\n",
    "## Test #2\n",
    "lgbm_model = lgb.LGBMRegressor()\n",
    "lgbm_model.fit(x_train, y_train)\n",
    "print('')\n",
    "print('Runtime:')"
   ]
  },
  {
   "cell_type": "code",
   "execution_count": 30,
   "id": "9d4bcb07",
   "metadata": {},
   "outputs": [
    {
     "name": "stdout",
     "output_type": "stream",
     "text": [
      "Prediction Time:\n",
      "CPU times: total: 1.19 s\n",
      "Wall time: 570 ms\n"
     ]
    }
   ],
   "source": [
    "%%time\n",
    "lgbm_prediction = lgbm_model.predict(features_test)\n",
    "print('Prediction Time:')"
   ]
  },
  {
   "cell_type": "code",
   "execution_count": 31,
   "id": "a020ccbf",
   "metadata": {},
   "outputs": [
    {
     "name": "stdout",
     "output_type": "stream",
     "text": [
      "LGBM Regression RMSE v2:\n",
      " 1856.9966006832062\n"
     ]
    }
   ],
   "source": [
    "print('LGBM Regression RMSE v2:\\n', math.sqrt(mean_squared_error(target_test, lgbm_prediction)))"
   ]
  },
  {
   "cell_type": "markdown",
   "id": "d111d922",
   "metadata": {},
   "source": [
    "#### Cat Boost"
   ]
  },
  {
   "cell_type": "code",
   "execution_count": 32,
   "id": "859f62ef",
   "metadata": {},
   "outputs": [
    {
     "data": {
      "application/vnd.jupyter.widget-view+json": {
       "model_id": "b4a02c66c9f847ea8c2ec8bbc762ea7c",
       "version_major": 2,
       "version_minor": 0
      },
      "text/plain": [
       "MetricVisualizer(layout=Layout(align_self='stretch', height='500px'))"
      ]
     },
     "metadata": {},
     "output_type": "display_data"
    },
    {
     "name": "stdout",
     "output_type": "stream",
     "text": [
      "0:\tlearn: 4237.6966676\ttest: 4241.1684393\tbest: 4241.1684393 (0)\ttotal: 477ms\tremaining: 7m 56s\n",
      "100:\tlearn: 1904.1266443\ttest: 1944.7785436\tbest: 1944.7785436 (100)\ttotal: 27.9s\tremaining: 4m 7s\n",
      "200:\tlearn: 1827.2183668\ttest: 1873.6023445\tbest: 1873.6023445 (200)\ttotal: 53.8s\tremaining: 3m 33s\n",
      "300:\tlearn: 1789.1090525\ttest: 1843.1695048\tbest: 1843.1650886 (299)\ttotal: 1m 18s\tremaining: 3m 1s\n",
      "400:\tlearn: 1762.2948405\ttest: 1826.0176343\tbest: 1826.0176343 (400)\ttotal: 1m 43s\tremaining: 2m 34s\n",
      "500:\tlearn: 1744.1341002\ttest: 1814.6767068\tbest: 1814.6767068 (500)\ttotal: 2m 9s\tremaining: 2m 8s\n",
      "600:\tlearn: 1727.5885063\ttest: 1805.6592070\tbest: 1805.6592070 (600)\ttotal: 2m 32s\tremaining: 1m 41s\n",
      "700:\tlearn: 1713.2694423\ttest: 1797.4405996\tbest: 1797.4405996 (700)\ttotal: 2m 57s\tremaining: 1m 15s\n",
      "800:\tlearn: 1700.8670360\ttest: 1791.6610962\tbest: 1791.6610962 (800)\ttotal: 3m 26s\tremaining: 51.2s\n",
      "900:\tlearn: 1688.9276862\ttest: 1786.1240027\tbest: 1786.1234325 (899)\ttotal: 3m 51s\tremaining: 25.4s\n",
      "999:\tlearn: 1679.8343780\ttest: 1782.5308075\tbest: 1782.5308075 (999)\ttotal: 4m 16s\tremaining: 0us\n",
      "\n",
      "bestTest = 1782.530808\n",
      "bestIteration = 999\n",
      "\n",
      "Prediction Time: 0.8184 seconds\n",
      "CatBoost Regression RMSE: 3048.377185702877\n",
      "\n",
      "Feature Importance:\n",
      "RegistrationYear: 37.45400575664447\n",
      "Power: 22.632707316189506\n",
      "VehicleType: 11.677989035215093\n",
      "Mileage: 9.920581581718825\n",
      "Brand: 7.809073512390015\n",
      "Model: 4.385199778739469\n",
      "NotRepaired: 3.410500001927074\n",
      "FuelType: 1.6294606193258168\n",
      "Gearbox: 1.080482397849734\n"
     ]
    }
   ],
   "source": [
    "import time\n",
    "\n",
    "# Convert numpy arrays back to pandas DataFrames\n",
    "x_train_df = pd.DataFrame(x_train, columns=features_train.columns)\n",
    "x_val_df = pd.DataFrame(x_val, columns=features_train.columns)\n",
    "features_test_df = pd.DataFrame(features_test, columns=features_train.columns)\n",
    "\n",
    "# Convert categorical columns to strings\n",
    "for col in lgb_categorical_features:\n",
    "    x_train_df[col] = x_train_df[col].astype(str)\n",
    "    x_val_df[col] = x_val_df[col].astype(str)\n",
    "    features_test_df[col] = features_test_df[col].astype(str)\n",
    "\n",
    "# Get categorical feature indices\n",
    "cat_features_indices = [x_train_df.columns.get_loc(col) for col in lgb_categorical_features]\n",
    "\n",
    "# Prepare CatBoost-specific parameters\n",
    "catboost_params = {\n",
    "    'iterations': 1000,\n",
    "    'learning_rate': 0.1,\n",
    "    'depth': 6,\n",
    "    'l2_leaf_reg': 3,\n",
    "    'loss_function': 'RMSE',\n",
    "    'eval_metric': 'RMSE',\n",
    "    'random_seed': 12345,\n",
    "    'early_stopping_rounds': 50,\n",
    "    'verbose': 100\n",
    "}\n",
    "\n",
    "# Create CatBoost Pool objects for training and validation\n",
    "train_pool = Pool(x_train_df, \n",
    "                  y_train,\n",
    "                  cat_features=cat_features_indices)\n",
    "val_pool = Pool(x_val_df, \n",
    "                y_val,\n",
    "                cat_features=cat_features_indices)\n",
    "\n",
    "# Initialize and train the model\n",
    "catboost_model = CatBoostRegressor(**catboost_params)\n",
    "catboost_model.fit(train_pool,\n",
    "                   eval_set=val_pool,\n",
    "                   use_best_model=True,\n",
    "                   plot=True)\n",
    "\n",
    "# Measure prediction time\n",
    "start_time = time.time()\n",
    "catboost_predictions = catboost_model.predict(features_test_df)\n",
    "prediction_time = time.time() - start_time\n",
    "print(f'Prediction Time: {prediction_time:.4f} seconds')\n",
    "\n",
    "# Calculate and print RMSE\n",
    "catboost_rmse = math.sqrt(mean_squared_error(target_test, catboost_predictions))\n",
    "print(f'CatBoost Regression RMSE: {catboost_rmse}')\n",
    "\n",
    "# Feature importance\n",
    "feature_importance = catboost_model.feature_importances_\n",
    "feature_names = features_train.columns.tolist()\n",
    "feature_importance_dict = dict(zip(feature_names, feature_importance))\n",
    "sorted_feature_importance = {k: v for k, v in sorted(feature_importance_dict.items(), \n",
    "                                                    key=lambda x: x[1], \n",
    "                                                    reverse=True)}\n",
    "print('\\nFeature Importance:')\n",
    "for feature, importance in sorted_feature_importance.items():\n",
    "    print(f'{feature}: {importance}')"
   ]
  },
  {
   "cell_type": "markdown",
   "id": "23a71a81",
   "metadata": {},
   "source": [
    "##### XGBoost\n",
    "\n",
    "Regression Matrices\n",
    "\n",
    "    1. enable_categorical set to True in order to enable automatic encoding"
   ]
  },
  {
   "cell_type": "code",
   "execution_count": 33,
   "id": "cb2a750b",
   "metadata": {},
   "outputs": [
    {
     "name": "stdout",
     "output_type": "stream",
     "text": [
      "Starting XGBoost training...\n",
      "[0]\ttrain-rmse:4195.70613\tval-rmse:4200.30596\n",
      "[100]\ttrain-rmse:1802.49845\tval-rmse:1877.53490\n",
      "[200]\ttrain-rmse:1713.84566\tval-rmse:1824.49419\n",
      "[300]\ttrain-rmse:1656.91959\tval-rmse:1796.67162\n",
      "[400]\ttrain-rmse:1613.71036\tval-rmse:1780.71289\n",
      "[500]\ttrain-rmse:1580.78225\tval-rmse:1769.52710\n",
      "[600]\ttrain-rmse:1553.88770\tval-rmse:1762.88553\n",
      "[700]\ttrain-rmse:1528.31195\tval-rmse:1755.03616\n",
      "[800]\ttrain-rmse:1506.96779\tval-rmse:1750.74881\n",
      "[900]\ttrain-rmse:1488.45532\tval-rmse:1747.88413\n",
      "[999]\ttrain-rmse:1470.69812\tval-rmse:1744.24296\n",
      "Training Time: 21.4530 seconds\n",
      "\n",
      "Making predictions...\n",
      "Prediction Time: 0.6811 seconds\n",
      "XGBoost RMSE: 2966.78955182376\n",
      "\n",
      "Calculating feature importance...\n",
      "\n",
      "Top 10 Feature Importance:\n",
      "RegistrationYear: 0.2939\n",
      "Power: 0.2235\n",
      "VehicleType: 0.1142\n",
      "Mileage: 0.1021\n",
      "NotRepaired: 0.0829\n",
      "Brand: 0.0641\n",
      "FuelType: 0.0557\n",
      "Gearbox: 0.0394\n",
      "Model: 0.0242\n"
     ]
    },
    {
     "data": {
      "text/plain": [
       "<Figure size 1000x600 with 0 Axes>"
      ]
     },
     "metadata": {},
     "output_type": "display_data"
    },
    {
     "data": {
      "image/png": "[encoded data removed]",
      "text/plain": [
       "<Figure size 640x480 with 1 Axes>"
      ]
     },
     "metadata": {},
     "output_type": "display_data"
    }
   ],
   "source": [
    "import time\n",
    "\n",
    "# Prepare data for XGBoost\n",
    "x_train_xgb = x_train_df.copy()\n",
    "x_val_xgb = x_val_df.copy()\n",
    "features_test_xgb = features_test_df.copy()\n",
    "\n",
    "# Convert categorical columns to numeric using label encoding\n",
    "label_encoders = {}\n",
    "for col in lgb_categorical_features:\n",
    "    # Combine all unique values from train, validation, and test sets\n",
    "    all_values = pd.concat([x_train_df[col], x_val_df[col], features_test_df[col]]).unique()\n",
    "    \n",
    "    # Initialize and fit the label encoder with all possible values\n",
    "    label_encoders[col] = LabelEncoder()\n",
    "    label_encoders[col].fit(all_values)\n",
    "    \n",
    "    # Transform each dataset\n",
    "    x_train_xgb[col] = label_encoders[col].transform(x_train_df[col])\n",
    "    x_val_xgb[col] = label_encoders[col].transform(x_val_df[col])\n",
    "    features_test_xgb[col] = label_encoders[col].transform(features_test_df[col])\n",
    "\n",
    "# Convert to DMatrix format\n",
    "dtrain = xgb.DMatrix(x_train_xgb, label=y_train)\n",
    "dval = xgb.DMatrix(x_val_xgb, label=y_val)\n",
    "dtest = xgb.DMatrix(features_test_xgb)\n",
    "\n",
    "# Set XGBoost parameters\n",
    "xgb_params = {\n",
    "    'objective': 'reg:squarederror',\n",
    "    'eval_metric': 'rmse',\n",
    "    'max_depth': 6,\n",
    "    'learning_rate': 0.1,\n",
    "    'n_estimators': 1000,\n",
    "    'subsample': 0.8,\n",
    "    'colsample_bytree': 0.8,\n",
    "    'seed': 12345\n",
    "}\n",
    "\n",
    "# Train XGBoost model\n",
    "print(\"Starting XGBoost training...\")\n",
    "start_time = time.time()\n",
    "xgb_model = xgb.train(\n",
    "    xgb_params,\n",
    "    dtrain,\n",
    "    num_boost_round=1000,\n",
    "    evals=[(dtrain, 'train'), (dval, 'val')],\n",
    "    early_stopping_rounds=50,\n",
    "    verbose_eval=100\n",
    ")\n",
    "training_time = time.time() - start_time\n",
    "print(f'Training Time: {training_time:.4f} seconds')\n",
    "\n",
    "# Make predictions\n",
    "print(\"\\nMaking predictions...\")\n",
    "start_time = time.time()\n",
    "xgb_predictions = xgb_model.predict(dtest)\n",
    "prediction_time = time.time() - start_time\n",
    "print(f'Prediction Time: {prediction_time:.4f} seconds')\n",
    "\n",
    "# Calculate RMSE\n",
    "xgb_rmse = math.sqrt(mean_squared_error(target_test, xgb_predictions))\n",
    "print(f'XGBoost RMSE: {xgb_rmse}')\n",
    "\n",
    "# Get feature importance\n",
    "print(\"\\nCalculating feature importance...\")\n",
    "importance_dict = xgb_model.get_score(importance_type='gain')\n",
    "# Normalize feature importance\n",
    "total_importance = sum(importance_dict.values())\n",
    "normalized_importance = {k: v/total_importance for k, v in importance_dict.items()}\n",
    "sorted_importance = dict(sorted(normalized_importance.items(), key=lambda x: x[1], reverse=True))\n",
    "\n",
    "print('\\nTop 10 Feature Importance:')\n",
    "for feature, importance in list(sorted_importance.items())[:10]:\n",
    "    print(f'{feature}: {importance:.4f}')\n",
    "\n",
    "# Optional: Plot feature importance\n",
    "plt.figure(figsize=(10, 6))\n",
    "xgb.plot_importance(xgb_model, max_num_features=10)\n",
    "plt.title('XGBoost Top 10 Feature Importance')\n",
    "plt.tight_layout()\n",
    "plt.show()"
   ]
  },
  {
   "cell_type": "code",
   "execution_count": 34,
   "id": "eb86fc11",
   "metadata": {},
   "outputs": [
    {
     "data": {
      "image/png": "[encoded data removed]",
      "text/plain": [
       "<Figure size 1200x600 with 1 Axes>"
      ]
     },
     "metadata": {},
     "output_type": "display_data"
    },
    {
     "name": "stdout",
     "output_type": "stream",
     "text": [
      "\n",
      "Top 5 Important Features by Model:\n",
      "\n",
      "Random Forest:\n",
      "RegistrationYear: 0.5049\n",
      "Power: 0.3089\n",
      "VehicleType: 0.0788\n",
      "Mileage: 0.0523\n",
      "Brand: 0.0209\n",
      "\n",
      "LightGBM:\n",
      "RegistrationYear: 685.0000\n",
      "Power: 666.0000\n",
      "Brand: 531.0000\n",
      "Model: 320.0000\n",
      "VehicleType: 287.0000\n",
      "\n",
      "CatBoost:\n",
      "RegistrationYear: 37.4540\n",
      "Power: 22.6327\n",
      "VehicleType: 11.6780\n",
      "Mileage: 9.9206\n",
      "Brand: 7.8091\n",
      "\n",
      "XGBoost:\n",
      "RegistrationYear: 538524224.0000\n",
      "Power: 409462112.0000\n",
      "VehicleType: 209293520.0000\n",
      "Mileage: 187041648.0000\n",
      "NotRepaired: 151961952.0000\n",
      "\n",
      "Final Recommendations:\n",
      "1. Best Model: LightGBM with RMSE of 1857.00\n",
      "\n",
      "2. Key Features:\n",
      "   - RegistrationYear\n",
      "   - Power\n",
      "   - Brand\n",
      "\n",
      "3. Model Selection Considerations:\n",
      "   - Fastest prediction time: XGBoost\n",
      "   - Best accuracy (lowest RMSE): LightGBM\n",
      "\n",
      "Example of using the saved model:\n",
      "```python\n",
      "import joblib\n",
      "model = joblib.load('lightgbm_model.joblib')\n",
      "label_encoders = joblib.load('label_encoders.joblib')\n",
      "# Prepare new data using the same preprocessing steps\n",
      "predictions = model.predict(new_data)\n",
      "```\n"
     ]
    }
   ],
   "source": [
    "# Collect all results\n",
    "model_results = {\n",
    "    'Linear Regression': {\n",
    "        'RMSE': math.sqrt(mean_squared_error(target_test, linear_prediction)),\n",
    "        'Prediction Time': None  # Add if you recorded it\n",
    "    },\n",
    "    'Decision Tree': {\n",
    "        'RMSE': math.sqrt(mean_squared_error(target_test, tree_prediction)),\n",
    "        'Prediction Time': None  # Add if you recorded it\n",
    "    },\n",
    "    'Random Forest': {\n",
    "        'RMSE': math.sqrt(mean_squared_error(target_test, forest_prediction)),\n",
    "        'Prediction Time': None  # Add if you recorded it\n",
    "    },\n",
    "    'LightGBM': {\n",
    "        'RMSE': math.sqrt(mean_squared_error(target_test, lgbm_prediction)),\n",
    "        'Prediction Time': None  # Add if you recorded it\n",
    "    },\n",
    "    'CatBoost': {\n",
    "        'RMSE': math.sqrt(mean_squared_error(target_test, catboost_predictions)),\n",
    "        'Prediction Time': prediction_time  # From CatBoost section\n",
    "    },\n",
    "    'XGBoost': {\n",
    "        'RMSE': math.sqrt(mean_squared_error(target_test, xgb_predictions)),\n",
    "        'Prediction Time': prediction_time  # From XGBoost section\n",
    "    }\n",
    "}\n",
    "\n",
    "# Create comparison DataFrame\n",
    "results_df = pd.DataFrame(model_results).transpose()\n",
    "results_df = results_df.sort_values('RMSE')\n",
    "\n",
    "# Plotting results\n",
    "plt.figure(figsize=(12, 6))\n",
    "ax = results_df['RMSE'].plot(kind='bar')\n",
    "plt.title('Model Comparison - RMSE')\n",
    "plt.ylabel('RMSE')\n",
    "plt.xlabel('Models')\n",
    "plt.xticks(rotation=45)\n",
    "for i, v in enumerate(results_df['RMSE']):\n",
    "    ax.text(i, v, f'{v:.2f}', ha='center', va='bottom')\n",
    "plt.tight_layout()\n",
    "plt.show()\n",
    "\n",
    "# Feature importance comparison\n",
    "def get_top_features(model, feature_names, n=5):\n",
    "    if hasattr(model, 'feature_importances_'):\n",
    "        importances = model.feature_importances_\n",
    "    elif hasattr(model, 'get_score'):\n",
    "        importances = model.get_score(importance_type='gain').values()\n",
    "    else:\n",
    "        return None\n",
    "    \n",
    "    return dict(sorted(zip(feature_names, importances), \n",
    "                       key=lambda x: x[1], reverse=True)[:n])\n",
    "\n",
    "# Collect top features from each model\n",
    "feature_importance = {\n",
    "    'Random Forest': get_top_features(best_forest_model, features.columns),\n",
    "    'LightGBM': get_top_features(lgbm_model, features.columns),\n",
    "    'CatBoost': get_top_features(catboost_model, features.columns),\n",
    "    'XGBoost': get_top_features(xgb_model, features.columns)\n",
    "}\n",
    "\n",
    "# Print feature importance comparison\n",
    "print(\"\\nTop 5 Important Features by Model:\")\n",
    "for model, features in feature_importance.items():\n",
    "    print(f\"\\n{model}:\")\n",
    "    for feature, importance in features.items():\n",
    "        print(f\"{feature}: {importance:.4f}\")\n",
    "\n",
    "# Save models\n",
    "import joblib\n",
    "\n",
    "models_to_save = {\n",
    "    'linear': best_linear_model,\n",
    "    'tree': best_tree_model,\n",
    "    'forest': best_forest_model,\n",
    "    'lgbm': lgbm_model,\n",
    "    'catboost': catboost_model,\n",
    "    'xgboost': xgb_model\n",
    "}\n",
    "\n",
    "# Save label encoders for future use\n",
    "joblib.dump(label_encoders, 'label_encoders.joblib')\n",
    "\n",
    "# Save each model\n",
    "for name, model in models_to_save.items():\n",
    "    joblib.dump(model, f'{name}_model.joblib')\n",
    "\n",
    "# Final recommendations\n",
    "print(\"\\nFinal Recommendations:\")\n",
    "best_model = results_df.index[0]\n",
    "print(f\"1. Best Model: {best_model} with RMSE of {results_df.loc[best_model, 'RMSE']:.2f}\")\n",
    "print(\"\\n2. Key Features:\")\n",
    "for feature, importance in list(feature_importance[best_model].items())[:3]:\n",
    "    print(f\"   - {feature}\")\n",
    "\n",
    "print(\"\\n3. Model Selection Considerations:\")\n",
    "print(f\"   - Fastest prediction time: {results_df['Prediction Time'].idxmin()}\")\n",
    "print(f\"   - Best accuracy (lowest RMSE): {best_model}\")\n",
    "\n",
    "# Example of how to load and use the model for future predictions\n",
    "print(\"\\nExample of using the saved model:\")\n",
    "print(\"```python\")\n",
    "print(\"import joblib\")\n",
    "print(f\"model = joblib.load('{best_model.lower()}_model.joblib')\")\n",
    "print(\"label_encoders = joblib.load('label_encoders.joblib')\")\n",
    "print(\"# Prepare new data using the same preprocessing steps\")\n",
    "print(\"predictions = model.predict(new_data)\")\n",
    "print(\"```\")"
   ]
  },
  {
   "cell_type": "code",
   "execution_count": null,
   "id": "ed87a50d",
   "metadata": {},
   "outputs": [],
   "source": [
    "# Example of using final code:\n",
    "'''\n",
    "import joblib\n",
    "model = joblib.load('lgbm_model.joblib')\n",
    "label_encoders = joblib.load('label_encoders.joblib')\n",
    "\n",
    "# Example of new data\n",
    "# Replace this with your actual new data\n",
    "new_data = pd.DataFrame({\n",
    "    'RegistrationYear': [2015],\n",
    "    'Power': [110],\n",
    "    'Brand': ['Volkswagen'],\n",
    "    'VehicleType': ['SUV'],\n",
    "    'Mileage': [80000],\n",
    "    'NotRepaired': ['no']\n",
    "})\n",
    "\n",
    "# Apply label encoding if necessary\n",
    "for column in label_encoders:\n",
    "    if column in new_data:\n",
    "        new_data[column] = label_encoders[column].transform(new_data[column])\n",
    "predictions = model.predict(new_data)\n",
    "'''"
   ]
  },
  {
   "cell_type": "markdown",
   "id": "03853b05",
   "metadata": {},
   "source": [
    "## Conclusion:\n",
    "\n",
    "Based on the feature importance and model performance analysis, LightGBM is the best model for predicting the market value of cars, achieving the lowest RMSE of 1857.00. This model balances accuracy and efficiency, with the following key insights:\n",
    "\n",
    "### Key Features:\n",
    "\n",
    "The most important features across the models are consistent, especially:<br>\n",
    "    RegistrationYear <br>\n",
    "    Power <br>\n",
    "    Brand These features strongly influence the price prediction, making them critical for future predictions.<br>\n",
    "    \n",
    "### Model Performance:\n",
    "\n",
    "   LightGBM had the best accuracy (lowest RMSE) and a strong focus on key features such as RegistrationYear, Power, and Brand.<br>\n",
    "   XGBoost offers the fastest prediction time but is less accurate compared to LightGBM.\n",
    "\n",
    "### Recommendations for Future Predictions:\n",
    "\n",
    "LightGBM should be the go-to model for predictions due to its superior accuracy. <br>\n",
    "\n",
    "RegistrationYear and Power should be prioritized when analyzing new data, as they consistently rank highly across all models.<br>\n",
    "\n",
    "\n",
    "In conclusion, <b>LightGBM</b> with the features <b>RegistrationYear, Power and Brand</b> should be used for the most accurate market value predictions for cars, while XGBoost can be considered for scenarios that require faster predictions."
   ]
  }
 ],
 "metadata": {
  "ExecuteTimeLog": [
   {
    "duration": 6,
    "start_time": "2024-09-28T21:58:08.038Z"
   },
   {
    "duration": 3,
    "start_time": "2024-09-28T21:58:52.774Z"
   },
   {
    "duration": 843,
    "start_time": "2024-09-30T00:21:47.583Z"
   },
   {
    "duration": 2254,
    "start_time": "2024-09-30T00:56:27.320Z"
   },
   {
    "duration": 4,
    "start_time": "2024-09-30T00:56:29.577Z"
   },
   {
    "duration": 56,
    "start_time": "2024-09-30T00:56:31.692Z"
   }
  ],
  "kernelspec": {
   "display_name": "Python 3 (ipykernel)",
   "language": "python",
   "name": "python3"
  },
  "language_info": {
   "codemirror_mode": {
    "name": "ipython",
    "version": 3
   },
   "file_extension": ".py",
   "mimetype": "text/x-python",
   "name": "python",
   "nbconvert_exporter": "python",
   "pygments_lexer": "ipython3",
   "version": "3.10.0"
  },
  "toc": {
   "base_numbering": 1,
   "nav_menu": {},
   "number_sections": true,
   "sideBar": true,
   "skip_h1_title": true,
   "title_cell": "Table of Contents",
   "title_sidebar": "Contents",
   "toc_cell": false,
   "toc_position": {},
   "toc_section_display": true,
   "toc_window_display": false
  }
 },
 "nbformat": 4,
 "nbformat_minor": 5
}
