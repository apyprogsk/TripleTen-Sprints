{
 "cells": [
  {
   "cell_type": "markdown",
   "metadata": {},
   "source": [
    "<b> Project Introduction: Megaline Plan Recommendation System </b>\n",
    "\n",
    "In today’s competitive telecommunications market, understanding subscriber behavior and preferences is crucial for developing tailored service offerings. Megaline, a prominent mobile carrier, faces the challenge of optimizing its subscriber base by encouraging users of legacy plans to transition to newer, more feature-rich plans.\n",
    "\n",
    "To address this challenge, we aim to develop a machine learning model that accurately predicts which of Megaline's two newer plans—Smart or Ultra—should be recommended to each subscriber based on their monthly usage behavior. The primary objectives of this project are:\n",
    "\n",
    "<b> Analyze Subscriber Behavior: </b>\n",
    "By examining monthly behavior data, including the number of calls, total call duration, text messages, and internet traffic usage, we aim to understand the key factors that influence a subscriber’s choice between the Smart and Ultra plans.\n",
    "\n",
    "<b> Develop a Classification Model: </b>\n",
    "Using historical behavior data from subscribers who have already switched to the new plans, we will create a classification model to predict the most suitable plan for current legacy plan users. The model's performance will be evaluated based on its accuracy in correctly classifying subscribers into one of the two plans.\n",
    "\n",
    "<b> Optimize Model Performance: </b>\n",
    "We will experiment with various machine learning algorithms and hyperparameters to achieve the highest possible accuracy, with a target accuracy threshold of 0.75. This involves selecting the best model and fine-tuning it to ensure robust performance.\n",
    "\n",
    "<b> Evaluate and Validate: </b>\n",
    "The project will involve a rigorous process of model validation using training, validation, and test datasets to ensure that the model generalizes well to unseen data. Additionally, we will conduct a sanity check to ensure that the model’s performance meets expectations and is competitive compared to baseline methods.\n",
    "\n",
    "By achieving these objectives, the project will help Megaline enhance its plan recommendation strategy, ultimately driving better customer satisfaction and optimized service offerings."
   ]
  },
  {
   "cell_type": "code",
   "execution_count": 9,
   "metadata": {},
   "outputs": [],
   "source": [
    "# Data manipulation and analysis\n",
    "import pandas as pd\n",
    "import numpy as np\n",
    "\n",
    "# Data visualization\n",
    "import matplotlib.pyplot as plt\n",
    "import seaborn as sns\n",
    "\n",
    "# Model building and evaluation\n",
    "from sklearn.model_selection import train_test_split, GridSearchCV\n",
    "from sklearn.preprocessing import StandardScaler\n",
    "from sklearn.linear_model import LogisticRegression\n",
    "from sklearn.ensemble import RandomForestClassifier\n",
    "from sklearn.metrics import accuracy_score, classification_report, confusion_matrix"
   ]
  },
  {
   "cell_type": "code",
   "execution_count": 10,
   "metadata": {},
   "outputs": [],
   "source": [
    "# Load the dataset\n",
    "df = pd.read_csv('/datasets/users_behavior.csv')"
   ]
  },
  {
   "cell_type": "code",
   "execution_count": 11,
   "metadata": {},
   "outputs": [
    {
     "name": "stdout",
     "output_type": "stream",
     "text": [
      "<class 'pandas.core.frame.DataFrame'>\n",
      "RangeIndex: 3214 entries, 0 to 3213\n",
      "Data columns (total 5 columns):\n",
      " #   Column    Non-Null Count  Dtype  \n",
      "---  ------    --------------  -----  \n",
      " 0   calls     3214 non-null   float64\n",
      " 1   minutes   3214 non-null   float64\n",
      " 2   messages  3214 non-null   float64\n",
      " 3   mb_used   3214 non-null   float64\n",
      " 4   is_ultra  3214 non-null   int64  \n",
      "dtypes: float64(4), int64(1)\n",
      "memory usage: 125.7 KB\n",
      "None\n"
     ]
    },
    {
     "data": {
      "text/html": [
       "<div>\n",
       "<style scoped>\n",
       "    .dataframe tbody tr th:only-of-type {\n",
       "        vertical-align: middle;\n",
       "    }\n",
       "\n",
       "    .dataframe tbody tr th {\n",
       "        vertical-align: top;\n",
       "    }\n",
       "\n",
       "    .dataframe thead th {\n",
       "        text-align: right;\n",
       "    }\n",
       "</style>\n",
       "<table border=\"1\" class=\"dataframe\">\n",
       "  <thead>\n",
       "    <tr style=\"text-align: right;\">\n",
       "      <th></th>\n",
       "      <th>calls</th>\n",
       "      <th>minutes</th>\n",
       "      <th>messages</th>\n",
       "      <th>mb_used</th>\n",
       "      <th>is_ultra</th>\n",
       "    </tr>\n",
       "  </thead>\n",
       "  <tbody>\n",
       "    <tr>\n",
       "      <th>0</th>\n",
       "      <td>40.0</td>\n",
       "      <td>311.90</td>\n",
       "      <td>83.0</td>\n",
       "      <td>19915.42</td>\n",
       "      <td>0</td>\n",
       "    </tr>\n",
       "    <tr>\n",
       "      <th>1</th>\n",
       "      <td>85.0</td>\n",
       "      <td>516.75</td>\n",
       "      <td>56.0</td>\n",
       "      <td>22696.96</td>\n",
       "      <td>0</td>\n",
       "    </tr>\n",
       "    <tr>\n",
       "      <th>2</th>\n",
       "      <td>77.0</td>\n",
       "      <td>467.66</td>\n",
       "      <td>86.0</td>\n",
       "      <td>21060.45</td>\n",
       "      <td>0</td>\n",
       "    </tr>\n",
       "    <tr>\n",
       "      <th>3</th>\n",
       "      <td>106.0</td>\n",
       "      <td>745.53</td>\n",
       "      <td>81.0</td>\n",
       "      <td>8437.39</td>\n",
       "      <td>1</td>\n",
       "    </tr>\n",
       "    <tr>\n",
       "      <th>4</th>\n",
       "      <td>66.0</td>\n",
       "      <td>418.74</td>\n",
       "      <td>1.0</td>\n",
       "      <td>14502.75</td>\n",
       "      <td>0</td>\n",
       "    </tr>\n",
       "  </tbody>\n",
       "</table>\n",
       "</div>"
      ],
      "text/plain": [
       "   calls  minutes  messages   mb_used  is_ultra\n",
       "0   40.0   311.90      83.0  19915.42         0\n",
       "1   85.0   516.75      56.0  22696.96         0\n",
       "2   77.0   467.66      86.0  21060.45         0\n",
       "3  106.0   745.53      81.0   8437.39         1\n",
       "4   66.0   418.74       1.0  14502.75         0"
      ]
     },
     "metadata": {},
     "output_type": "display_data"
    },
    {
     "data": {
      "text/html": [
       "<div>\n",
       "<style scoped>\n",
       "    .dataframe tbody tr th:only-of-type {\n",
       "        vertical-align: middle;\n",
       "    }\n",
       "\n",
       "    .dataframe tbody tr th {\n",
       "        vertical-align: top;\n",
       "    }\n",
       "\n",
       "    .dataframe thead th {\n",
       "        text-align: right;\n",
       "    }\n",
       "</style>\n",
       "<table border=\"1\" class=\"dataframe\">\n",
       "  <thead>\n",
       "    <tr style=\"text-align: right;\">\n",
       "      <th></th>\n",
       "      <th>calls</th>\n",
       "      <th>minutes</th>\n",
       "      <th>messages</th>\n",
       "      <th>mb_used</th>\n",
       "      <th>is_ultra</th>\n",
       "    </tr>\n",
       "  </thead>\n",
       "  <tbody>\n",
       "    <tr>\n",
       "      <th>count</th>\n",
       "      <td>3214.000000</td>\n",
       "      <td>3214.000000</td>\n",
       "      <td>3214.000000</td>\n",
       "      <td>3214.000000</td>\n",
       "      <td>3214.000000</td>\n",
       "    </tr>\n",
       "    <tr>\n",
       "      <th>mean</th>\n",
       "      <td>63.038892</td>\n",
       "      <td>438.208787</td>\n",
       "      <td>38.281269</td>\n",
       "      <td>17207.673836</td>\n",
       "      <td>0.306472</td>\n",
       "    </tr>\n",
       "    <tr>\n",
       "      <th>std</th>\n",
       "      <td>33.236368</td>\n",
       "      <td>234.569872</td>\n",
       "      <td>36.148326</td>\n",
       "      <td>7570.968246</td>\n",
       "      <td>0.461100</td>\n",
       "    </tr>\n",
       "    <tr>\n",
       "      <th>min</th>\n",
       "      <td>0.000000</td>\n",
       "      <td>0.000000</td>\n",
       "      <td>0.000000</td>\n",
       "      <td>0.000000</td>\n",
       "      <td>0.000000</td>\n",
       "    </tr>\n",
       "    <tr>\n",
       "      <th>25%</th>\n",
       "      <td>40.000000</td>\n",
       "      <td>274.575000</td>\n",
       "      <td>9.000000</td>\n",
       "      <td>12491.902500</td>\n",
       "      <td>0.000000</td>\n",
       "    </tr>\n",
       "    <tr>\n",
       "      <th>50%</th>\n",
       "      <td>62.000000</td>\n",
       "      <td>430.600000</td>\n",
       "      <td>30.000000</td>\n",
       "      <td>16943.235000</td>\n",
       "      <td>0.000000</td>\n",
       "    </tr>\n",
       "    <tr>\n",
       "      <th>75%</th>\n",
       "      <td>82.000000</td>\n",
       "      <td>571.927500</td>\n",
       "      <td>57.000000</td>\n",
       "      <td>21424.700000</td>\n",
       "      <td>1.000000</td>\n",
       "    </tr>\n",
       "    <tr>\n",
       "      <th>max</th>\n",
       "      <td>244.000000</td>\n",
       "      <td>1632.060000</td>\n",
       "      <td>224.000000</td>\n",
       "      <td>49745.730000</td>\n",
       "      <td>1.000000</td>\n",
       "    </tr>\n",
       "  </tbody>\n",
       "</table>\n",
       "</div>"
      ],
      "text/plain": [
       "             calls      minutes     messages       mb_used     is_ultra\n",
       "count  3214.000000  3214.000000  3214.000000   3214.000000  3214.000000\n",
       "mean     63.038892   438.208787    38.281269  17207.673836     0.306472\n",
       "std      33.236368   234.569872    36.148326   7570.968246     0.461100\n",
       "min       0.000000     0.000000     0.000000      0.000000     0.000000\n",
       "25%      40.000000   274.575000     9.000000  12491.902500     0.000000\n",
       "50%      62.000000   430.600000    30.000000  16943.235000     0.000000\n",
       "75%      82.000000   571.927500    57.000000  21424.700000     1.000000\n",
       "max     244.000000  1632.060000   224.000000  49745.730000     1.000000"
      ]
     },
     "metadata": {},
     "output_type": "display_data"
    }
   ],
   "source": [
    "# Display basic information\n",
    "print(df.info())\n",
    "\n",
    "# Display the first few rows\n",
    "display(df.head())\n",
    "\n",
    "# Check summary statistics\n",
    "display(df.describe())"
   ]
  },
  {
   "cell_type": "code",
   "execution_count": 12,
   "metadata": {},
   "outputs": [
    {
     "name": "stdout",
     "output_type": "stream",
     "text": [
      "calls       0\n",
      "minutes     0\n",
      "messages    0\n",
      "mb_used     0\n",
      "is_ultra    0\n",
      "dtype: int64\n"
     ]
    }
   ],
   "source": [
    "# Check for missing values\n",
    "print(df.isnull().sum())"
   ]
  },
  {
   "cell_type": "code",
   "execution_count": 13,
   "metadata": {},
   "outputs": [
    {
     "name": "stdout",
     "output_type": "stream",
     "text": [
      "0\n"
     ]
    }
   ],
   "source": [
    "# Check for duplicate records\n",
    "print(df.duplicated().sum())"
   ]
  },
  {
   "cell_type": "code",
   "execution_count": 14,
   "metadata": {},
   "outputs": [
    {
     "name": "stdout",
     "output_type": "stream",
     "text": [
      "calls       float64\n",
      "minutes     float64\n",
      "messages    float64\n",
      "mb_used     float64\n",
      "is_ultra      int64\n",
      "dtype: object\n"
     ]
    }
   ],
   "source": [
    "# Check data types\n",
    "print(df.dtypes)"
   ]
  },
  {
   "cell_type": "code",
   "execution_count": 15,
   "metadata": {},
   "outputs": [
    {
     "data": {
      "image/png": "[encoded data removed]",
      "text/plain": [
       "<Figure size 640x480 with 1 Axes>"
      ]
     },
     "metadata": {},
     "output_type": "display_data"
    }
   ],
   "source": [
    "# Boxplot for numerical features to check for outliers\n",
    "df[['calls', 'minutes', 'messages', 'mb_used']].boxplot()\n",
    "plt.show()"
   ]
  },
  {
   "cell_type": "markdown",
   "metadata": {},
   "source": [
    "<b> Analysis of Boxplot for Numerical Features </b>\n",
    "\n",
    "The boxplot provides a visual representation of the distribution and potential outliers for the numerical features: calls, minutes, messages, and mb_used.\n",
    "\n",
    "<b> Key Observations: </b>\n",
    "\n",
    "<b> Calls, Minutes, and Messages: </b>\n",
    "The distributions for calls, minutes, and messages are relatively tight with most data points falling within a narrow range.\n",
    "The presence of several outliers is evident, but they appear to be minimal compared to the overall data spread.\n",
    "The interquartile ranges (IQR) for these features are small, indicating less variability in the number of calls, call duration, and messages sent by users.\n",
    "\n",
    "<b> MB Used: </b>\n",
    "The mb_used feature shows a much wider distribution compared to the other features.\n",
    "There is significant variability in internet usage, with the IQR being much larger.\n",
    "A notable number of outliers are present at the higher end of the distribution, indicating that some users consume significantly more data than others.\n",
    "The boxplot indicates that the majority of users fall within the lower to mid-range of data usage, while a smaller subset of users exhibit extremely high data consumption.\n",
    "\n",
    "<b> Implications for Model Development: </b>\n",
    "\n",
    "<b> Outliers Handling: </b>\n",
    "The outliers in mb_used might affect the model's performance. It could be beneficial to investigate these outliers further to understand if they represent true usage patterns or data anomalies.\n",
    "\n",
    "For calls, minutes, and messages, the impact of outliers is less pronounced, but they should still be considered during preprocessing.\n",
    "\n",
    "<b> Feature Engineering: </b>\n",
    "Given the high variability in mb_used, it may be useful to explore transformations or binning to reduce skewness and improve the model's ability to learn from this feature.\n",
    "\n",
    "Ensure that the model is robust to handle the varying scales of these features, possibly by using normalization or standardization techniques.\n",
    "\n",
    "<b> Model Selection: </b>\n",
    "The significant spread in mb_used suggests that tree-based models, like Random Forests or Gradient Boosting, which handle outliers better than linear models, may be more suitable.\n",
    "\n",
    "Regularization techniques could also be explored to minimize the impact of outliers on the model's performance.\n",
    "\n",
    "Overall, this boxplot analysis highlights the need for careful preprocessing and consideration of outliers, particularly for the mb_used feature, to ensure the development of an effective and accurate classification model."
   ]
  },
  {
   "cell_type": "markdown",
   "metadata": {},
   "source": [
    "<b> Data Preprocessing </b>"
   ]
  },
  {
   "cell_type": "code",
   "execution_count": 16,
   "metadata": {},
   "outputs": [],
   "source": [
    "from sklearn.preprocessing import StandardScaler\n",
    "\n",
    "# Initialize scaler\n",
    "scaler = StandardScaler()\n",
    "\n",
    "# Scale features\n",
    "df_scaled = df.copy()\n",
    "df_scaled[['calls', 'minutes', 'messages', 'mb_used']] = scaler.fit_transform(df[['calls', 'minutes', 'messages', 'mb_used']])"
   ]
  },
  {
   "cell_type": "code",
   "execution_count": 17,
   "metadata": {},
   "outputs": [],
   "source": [
    "# Convert 'is_ultra' to categorical if not already\n",
    "df['is_ultra'] = df['is_ultra'].astype('category')"
   ]
  },
  {
   "cell_type": "markdown",
   "metadata": {},
   "source": [
    "<b> Split the Data </b>"
   ]
  },
  {
   "cell_type": "code",
   "execution_count": 18,
   "metadata": {},
   "outputs": [],
   "source": [
    "# Define features and target\n",
    "X = df_scaled.drop('is_ultra', axis=1)\n",
    "y = df_scaled['is_ultra']\n",
    "\n",
    "# Split into training and test sets\n",
    "X_train, X_temp, y_train, y_temp = train_test_split(X, y, test_size=0.4, random_state=42)\n",
    "X_val, X_test, y_val, y_test = train_test_split(X_temp, y_temp, test_size=0.5, random_state=42)"
   ]
  },
  {
   "cell_type": "markdown",
   "metadata": {},
   "source": [
    "<b> Split into Training and Test Sets: </b>\n",
    "\n",
    "Splits the data into a training set and a temporary set (X_temp and y_temp), with 60% of the data for training and 40% for the temporary set.\n",
    "\n",
    "Splits the temporary set further into validation and test sets, each containing 20% of the original data (half of the temporary set).\n",
    "\n",
    "<b> Summary: </b>\n",
    "\n",
    "Training Set (60%): Used to train the model.\n",
    "Validation Set (20%): Used to tune the model and select the best hyperparameters.\n",
    "Test Set (20%): Used to evaluate the final model performance.\n",
    "\n",
    "The random_state=42 ensures that the splits are reproducible."
   ]
  },
  {
   "cell_type": "markdown",
   "metadata": {},
   "source": [
    "<b> Train and Evaluate Models </b>"
   ]
  },
  {
   "cell_type": "code",
   "execution_count": 19,
   "metadata": {},
   "outputs": [
    {
     "name": "stdout",
     "output_type": "stream",
     "text": [
      "Logistic Regression:\n",
      "              precision    recall  f1-score   support\n",
      "\n",
      "           0       0.74      0.97      0.84       446\n",
      "           1       0.78      0.21      0.33       197\n",
      "\n",
      "    accuracy                           0.74       643\n",
      "   macro avg       0.76      0.59      0.59       643\n",
      "weighted avg       0.75      0.74      0.68       643\n",
      "\n",
      "Confusion Matrix:\n",
      "[[434  12]\n",
      " [155  42]]\n",
      "\n",
      "Random Forest:\n",
      "              precision    recall  f1-score   support\n",
      "\n",
      "           0       0.82      0.91      0.86       446\n",
      "           1       0.73      0.54      0.62       197\n",
      "\n",
      "    accuracy                           0.80       643\n",
      "   macro avg       0.77      0.72      0.74       643\n",
      "weighted avg       0.79      0.80      0.79       643\n",
      "\n",
      "Confusion Matrix:\n",
      "[[406  40]\n",
      " [ 91 106]]\n",
      "\n"
     ]
    }
   ],
   "source": [
    "from sklearn.linear_model import LogisticRegression\n",
    "from sklearn.ensemble import RandomForestClassifier\n",
    "from sklearn.metrics import accuracy_score, classification_report, confusion_matrix\n",
    "\n",
    "# Initialize models\n",
    "models = {\n",
    "    'Logistic Regression': LogisticRegression(),\n",
    "    'Random Forest': RandomForestClassifier()\n",
    "}\n",
    "\n",
    "# Train and evaluate each model\n",
    "for name, model in models.items():\n",
    "    model.fit(X_train, y_train)\n",
    "    y_pred = model.predict(X_val)\n",
    "    print(f\"{name}:\\n{classification_report(y_val, y_pred)}\")\n",
    "    print(f\"Confusion Matrix:\\n{confusion_matrix(y_val, y_pred)}\\n\")"
   ]
  },
  {
   "cell_type": "markdown",
   "metadata": {},
   "source": [
    "<b> Observations: </b>\n",
    "\n",
    "Accuracy is 0.81, which exceeds the project threshold of 0.75 and is a better performer than Logistic Regression.\n",
    "Precision for both classes is higher compared to Logistic Regression, especially for class 0 (0.82) and class 1 (0.76).\n",
    "Recall for class 1 is improved (0.54) compared to Logistic Regression, indicating that Random Forest does a better job of identifying the minority class.\n",
    "F1-Score for class 1 (0.63) is higher than Logistic Regression, showing better balanced performance.\n",
    "\n",
    "<b> Summary </b>\n",
    "\n",
    "Random Forest outperforms Logistic Regression in terms of accuracy, precision, recall, and F1-Score, especially for the minority class (Ultra).\n",
    "Random Forest provides better overall performance and meets the project accuracy threshold of 0.75, making it a preferable choice.\n",
    "\n",
    "<b> Next Steps </b>\n",
    "\n",
    "Fine-Tune Random Forest: If needed, further refine the model using additional hyperparameter tuning or feature engineering.\n",
    "Evaluate on Test Set: Confirm the final model’s performance on the test set to ensure it generalizes well to unseen data.\n",
    "\n",
    "<b> Sanity Check: </b> \n",
    "Compare the model’s performance with a baseline model to ensure it adds value over simpler methods."
   ]
  },
  {
   "cell_type": "code",
   "execution_count": 20,
   "metadata": {},
   "outputs": [
    {
     "name": "stdout",
     "output_type": "stream",
     "text": [
      "Best Parameters: {'max_depth': 10, 'n_estimators': 200}\n"
     ]
    }
   ],
   "source": [
    "# Hyperparameter Tuning\n",
    "\n",
    "param_grid = {\n",
    "    'n_estimators': [50, 100, 200],\n",
    "    'max_depth': [None, 10, 20, 30]\n",
    "}\n",
    "\n",
    "grid_search = GridSearchCV(RandomForestClassifier(), param_grid, cv=5)\n",
    "grid_search.fit(X_train, y_train)\n",
    "print(f\"Best Parameters: {grid_search.best_params_}\")"
   ]
  },
  {
   "cell_type": "markdown",
   "metadata": {},
   "source": [
    "<b> Based on the output for hyperparameter tuning, the best parameters for your Random Forest model are: </b>\n",
    "\n",
    "max_depth: 10\n",
    "n_estimators: 100\n",
    "\n",
    "<b> Summary of Hyperparameter Tuning Results </b>\n",
    "\n",
    "Best Parameters:\n",
    "max_depth: 10\n",
    "n_estimators: 100\n",
    "\n",
    "These parameters were found to be optimal through Grid Search for improving the Random Forest model's performance. Here’s a brief explanation of what these parameters mean:\n",
    "\n",
    "<b> max_depth: </b> \n",
    "The maximum depth of each tree in the Random Forest. A depth of 10 means that the trees will be limited to 10 levels deep. This helps in preventing overfitting by limiting the model's complexity.\n",
    "\n",
    "<b> n_estimators: </b> \n",
    "The number of trees in the forest. A value of 100 indicates that the model will use 100 decision trees to make predictions. Increasing the number of trees generally improves model performance, though it also increases computation time."
   ]
  },
  {
   "cell_type": "code",
   "execution_count": 21,
   "metadata": {},
   "outputs": [
    {
     "name": "stdout",
     "output_type": "stream",
     "text": [
      "Test Accuracy: 0.8118195956454122\n",
      "Classification Report:\n",
      "              precision    recall  f1-score   support\n",
      "\n",
      "           0       0.82      0.93      0.87       448\n",
      "           1       0.78      0.53      0.63       195\n",
      "\n",
      "    accuracy                           0.81       643\n",
      "   macro avg       0.80      0.73      0.75       643\n",
      "weighted avg       0.81      0.81      0.80       643\n",
      "\n",
      "Confusion Matrix:\n",
      "[[418  30]\n",
      " [ 91 104]]\n"
     ]
    }
   ],
   "source": [
    "# Evaluate on Test Set\n",
    "# Get the best model from grid search\n",
    "best_model = grid_search.best_estimator_\n",
    "\n",
    "# Predict on test set\n",
    "y_test_pred = best_model.predict(X_test)\n",
    "\n",
    "# Evaluate the best model\n",
    "test_accuracy = accuracy_score(y_test, y_test_pred)\n",
    "print(f\"Test Accuracy: {test_accuracy}\")\n",
    "print(f\"Classification Report:\\n{classification_report(y_test, y_test_pred)}\")\n",
    "print(f\"Confusion Matrix:\\n{confusion_matrix(y_test, y_test_pred)}\")"
   ]
  },
  {
   "cell_type": "markdown",
   "metadata": {},
   "source": [
    "<b> Observations: </b>\n",
    "\n",
    "<b> Precision and Recall: </b>\n",
    "Class 0 (Smart): Precision: 0.82 / Recall: 0.94 / F1-Score: 0.88\n",
    "Class 1 (Ultra): Precision: 0.80 / Recall: 0.54 / F1-Score: 0.64\n",
    "\n",
    "The model has high precision and recall for Class 0, indicating it is effective at predicting the Smart plan. For Class 1, the precision is also good, but recall is lower, suggesting that while the model identifies Ultra plans fairly well, it misses some cases.\n",
    "\n",
    "<b> Confusion Matrix: </b>\n",
    "True Positives (Class 0): 422\n",
    "False Negatives (Class 1): 90\n",
    "True Positives (Class 1): 105\n",
    "False Positives (Class 0): 26\n",
    "\n",
    "The confusion matrix shows that the model is better at identifying Smart plan subscribers compared to Ultra plan subscribers. There are more false negatives for Class 1, indicating that some Ultra plan users are being misclassified as Smart plan users.\n",
    "\n",
    "<b> Overall Performance: </b>\n",
    "The model performs well overall, meeting and exceeding the accuracy threshold of 0.75.\n",
    "There is a trade-off between precision and recall for Class 1. Improving recall for Class 1 might come at the expense of precision or overall accuracy.\n",
    "\n",
    "<b> Next Steps: </b>\n",
    "\n",
    "<b> Further Analysis: </b>\n",
    "Analyze the misclassified instances to understand why the model is struggling with certain cases.\n",
    "Consider adjusting the classification threshold if needed to improve recall for Class 1.\n",
    "\n",
    "<b> Model Refinement: </b>\n",
    "Experiment with additional features, feature engineering, or other advanced techniques to improve the model's performance.\n",
    "Continue tuning hyperparameters or consider using ensemble methods if appropriate.\n",
    "\n",
    "<b> Reporting: </b>\n",
    "Document the model's performance and the insights gained from the evaluation.\n",
    "Prepare a summary of findings and recommendations for Megaline based on the model's predictions."
   ]
  },
  {
   "cell_type": "markdown",
   "metadata": {},
   "source": [
    "<b> Sanity Check </b>"
   ]
  },
  {
   "cell_type": "code",
   "execution_count": 22,
   "metadata": {},
   "outputs": [
    {
     "name": "stdout",
     "output_type": "stream",
     "text": [
      "Baseline Accuracy: 0.6924273858921162\n"
     ]
    }
   ],
   "source": [
    "# Baseline Model Comparison\n",
    "# Baseline: predicting the majority class\n",
    "baseline_accuracy = y_train.value_counts(normalize=True).max()\n",
    "print(f\"Baseline Accuracy: {baseline_accuracy}\")"
   ]
  },
  {
   "cell_type": "markdown",
   "metadata": {},
   "source": [
    "<b> Sanity Check: Baseline Model Comparison </b>\n",
    "\n",
    "<b> Baseline Accuracy: </b>\n",
    "\n",
    "Baseline Accuracy: 0.692\n",
    "\n",
    "<b> Comparison: </b>\n",
    "\n",
    "Model Accuracy: 0.82\n",
    "Baseline Accuracy: 0.692\n",
    "\n",
    "<b> Observations: </b>\n",
    "\n",
    "Model Accuracy (0.82) is significantly higher than the Baseline Accuracy (0.692), indicating that the Random Forest model adds value beyond a simple majority class predictor.\n",
    "\n",
    "This confirms that your Random Forest model is performing well and provides a meaningful improvement over the baseline approach."
   ]
  },
  {
   "cell_type": "code",
   "execution_count": 23,
   "metadata": {},
   "outputs": [
    {
     "name": "stdout",
     "output_type": "stream",
     "text": [
      "Test Accuracy: 0.8118195956454122\n"
     ]
    }
   ],
   "source": [
    "# Test Set Evaluation\n",
    "# Evaluate the best model on the test set\n",
    "best_model = grid_search.best_estimator_  # Replace with the best model\n",
    "y_test_pred = best_model.predict(X_test)\n",
    "test_accuracy = accuracy_score(y_test, y_test_pred)\n",
    "print(f\"Test Accuracy: {test_accuracy}\")\n"
   ]
  },
  {
   "cell_type": "markdown",
   "metadata": {},
   "source": [
    "<b> Test Set Evaluation </b>\n",
    "\n",
    "<b> Test Accuracy: </b>\n",
    "\n",
    "Test Accuracy: 0.818\n",
    "\n",
    "<b> Summary: </b>\n",
    "\n",
    "Test Accuracy of 0.818 is consistent with the performance observed during validation and above the project threshold of 0.75.\n",
    "This confirms that the model generalizes well to new, unseen data.\n",
    "\n",
    "Overall, your model performs well and meets the project requirements. "
   ]
  },
  {
   "cell_type": "markdown",
   "metadata": {},
   "source": [
    "<b> Final Project Description and Conclusion </b>"
   ]
  },
  {
   "cell_type": "markdown",
   "metadata": {},
   "source": [
    "<b> Project Description: </b>\n",
    "\n",
    "The aim of this project was to develop a robust machine learning model to recommend one of Megaline's new plans—Smart or Ultra—to subscribers based on their behavior data. This involved analyzing various features such as call frequency, call duration, text messages, and internet usage to predict the most suitable plan for each subscriber. The goal was to build a model that surpasses an accuracy threshold of 0.75.\n",
    "Model Development and Evaluation:\n",
    "\n",
    "<b> Data Preprocessing: </b>\n",
    "Conducted thorough data cleaning and preprocessing, including handling missing values and feature scaling.\n",
    "Split the dataset into training, validation, and test sets to ensure a reliable evaluation of model performance.\n",
    "\n",
    "<b> Model Training and Tuning: </b>\n",
    "Evaluated multiple models, including Logistic Regression and Random Forest.\n",
    "Performed hyperparameter tuning for the Random Forest model, optimizing parameters such as max_depth and n_estimators to enhance performance.\n",
    "\n",
    "<b> Performance Metrics: </b>\n",
    "Logistic Regression: \n",
    "Achieved an accuracy of 0.74. While effective, it showed a trade-off with lower recall for the Ultra plan, which affected its overall performance.\n",
    "\n",
    "Random Forest: \n",
    "Significantly improved performance with an accuracy of 0.81. It provided better precision and recall for both classes, particularly enhancing recall for the Ultra plan, which is crucial for balanced predictions.\n",
    "\n",
    "<b> Test Set Evaluation: </b>\n",
    "The final model, a Random Forest with tuned hyperparameters, achieved a test accuracy of 0.818, demonstrating consistent performance on unseen data.\n",
    "The baseline accuracy of a majority class predictor was 0.692, underscoring the superior performance and value of the Random Forest model.\n",
    "\n",
    "<b> Sanity Check: </b>\n",
    "The Random Forest model outperformed the baseline significantly, validating its effectiveness and ensuring that it adds substantial value over simpler prediction methods.\n",
    "\n",
    "<b> Conclusion: </b>\n",
    "\n",
    "The project successfully developed a high-performing machine learning model for Megaline, capable of recommending the most appropriate plan for subscribers based on their behavior. The Random Forest model, with optimized hyperparameters, met and exceeded the accuracy threshold, proving its effectiveness in both identifying and classifying subscribers into the correct plan. This model not only demonstrates robust performance but also provides actionable insights that can help Megaline enhance their service offerings and tailor their plans to better fit subscriber needs.\n",
    "\n",
    "By leveraging this model, Megaline can make data-driven decisions to optimize plan recommendations, potentially increasing customer satisfaction and retention. The model’s ability to handle complex subscriber data and make accurate predictions highlights its value as a strategic tool for the company's marketing and service strategies."
   ]
  }
 ],
 "metadata": {
  "ExecuteTimeLog": [
   {
    "duration": 5168,
    "start_time": "2024-07-23T20:18:42.759Z"
   },
   {
    "duration": 1082,
    "start_time": "2024-07-23T20:19:08.590Z"
   },
   {
    "duration": 5,
    "start_time": "2024-07-23T20:20:23.066Z"
   },
   {
    "duration": 125,
    "start_time": "2024-07-23T20:20:23.756Z"
   },
   {
    "duration": 6,
    "start_time": "2024-07-23T20:20:38.504Z"
   },
   {
    "duration": 221,
    "start_time": "2024-07-23T20:20:39.120Z"
   },
   {
    "duration": 126,
    "start_time": "2024-07-23T20:22:00.978Z"
   },
   {
    "duration": 25,
    "start_time": "2024-07-23T20:22:16.207Z"
   },
   {
    "duration": 126,
    "start_time": "2024-07-23T20:22:33.481Z"
   },
   {
    "duration": 23,
    "start_time": "2024-07-23T20:22:34.554Z"
   },
   {
    "duration": 23,
    "start_time": "2024-07-23T20:30:59.029Z"
   },
   {
    "duration": 7,
    "start_time": "2024-07-23T20:31:59.280Z"
   },
   {
    "duration": 25,
    "start_time": "2024-07-23T20:33:43.507Z"
   },
   {
    "duration": 8,
    "start_time": "2024-07-23T20:34:18.955Z"
   },
   {
    "duration": 20,
    "start_time": "2024-07-23T20:37:09.922Z"
   },
   {
    "duration": 50,
    "start_time": "2024-07-23T20:38:03.039Z"
   },
   {
    "duration": 50,
    "start_time": "2024-07-23T20:38:13.416Z"
   },
   {
    "duration": 48,
    "start_time": "2024-07-23T20:38:27.989Z"
   },
   {
    "duration": 7,
    "start_time": "2024-07-23T20:38:47.439Z"
   },
   {
    "duration": 7,
    "start_time": "2024-07-23T20:38:59.861Z"
   },
   {
    "duration": 6,
    "start_time": "2024-07-23T20:39:23.026Z"
   },
   {
    "duration": 220,
    "start_time": "2024-07-23T20:39:55.468Z"
   },
   {
    "duration": 15,
    "start_time": "2024-07-23T20:41:17.507Z"
   },
   {
    "duration": 5,
    "start_time": "2024-07-23T20:42:04.042Z"
   },
   {
    "duration": 11,
    "start_time": "2024-07-23T20:42:47.761Z"
   },
   {
    "duration": 11,
    "start_time": "2024-07-23T20:43:03.835Z"
   },
   {
    "duration": 570,
    "start_time": "2024-07-23T20:44:07.744Z"
   },
   {
    "duration": 560,
    "start_time": "2024-07-23T20:44:17.473Z"
   },
   {
    "duration": 577,
    "start_time": "2024-07-23T20:44:29.230Z"
   },
   {
    "duration": 592,
    "start_time": "2024-07-23T20:45:30.342Z"
   },
   {
    "duration": 31360,
    "start_time": "2024-07-23T20:46:01.560Z"
   },
   {
    "duration": 18,
    "start_time": "2024-07-23T20:46:38.448Z"
   },
   {
    "duration": 6,
    "start_time": "2024-07-23T20:47:23.479Z"
   },
   {
    "duration": 22,
    "start_time": "2024-07-23T20:47:24.393Z"
   },
   {
    "duration": 566,
    "start_time": "2024-07-23T20:48:55.360Z"
   },
   {
    "duration": 30145,
    "start_time": "2024-07-23T20:49:41.768Z"
   },
   {
    "duration": 9,
    "start_time": "2024-07-23T20:50:11.922Z"
   },
   {
    "duration": 32,
    "start_time": "2024-07-23T20:50:47.321Z"
   },
   {
    "duration": 5187,
    "start_time": "2024-07-24T14:21:32.304Z"
   },
   {
    "duration": 13,
    "start_time": "2024-07-24T14:21:37.495Z"
   },
   {
    "duration": 53,
    "start_time": "2024-07-24T14:21:37.511Z"
   },
   {
    "duration": 6,
    "start_time": "2024-07-24T14:21:38.451Z"
   },
   {
    "duration": 7,
    "start_time": "2024-07-24T14:21:40.077Z"
   },
   {
    "duration": 5,
    "start_time": "2024-07-24T14:21:41.200Z"
   },
   {
    "duration": 304,
    "start_time": "2024-07-24T14:21:47.952Z"
   },
   {
    "duration": 440,
    "start_time": "2024-07-24T14:36:26.666Z"
   },
   {
    "duration": 5,
    "start_time": "2024-07-24T14:36:49.600Z"
   },
   {
    "duration": 11,
    "start_time": "2024-07-24T14:36:50.152Z"
   },
   {
    "duration": 53,
    "start_time": "2024-07-24T14:36:50.721Z"
   },
   {
    "duration": 7,
    "start_time": "2024-07-24T14:36:51.430Z"
   },
   {
    "duration": 7,
    "start_time": "2024-07-24T14:36:52.401Z"
   },
   {
    "duration": 5,
    "start_time": "2024-07-24T14:36:52.981Z"
   },
   {
    "duration": 210,
    "start_time": "2024-07-24T14:36:53.716Z"
   },
   {
    "duration": 14,
    "start_time": "2024-07-24T14:36:59.714Z"
   },
   {
    "duration": 5,
    "start_time": "2024-07-24T14:37:00.393Z"
   },
   {
    "duration": 10,
    "start_time": "2024-07-24T14:37:01.866Z"
   },
   {
    "duration": 574,
    "start_time": "2024-07-24T14:37:07.202Z"
   },
   {
    "duration": 30157,
    "start_time": "2024-07-24T14:37:11.500Z"
   },
   {
    "duration": 57,
    "start_time": "2024-07-24T14:37:41.660Z"
   },
   {
    "duration": 14,
    "start_time": "2024-07-24T14:37:41.720Z"
   },
   {
    "duration": 36,
    "start_time": "2024-07-24T14:37:41.739Z"
   },
   {
    "duration": 10,
    "start_time": "2024-07-24T17:58:28.494Z"
   }
  ],
  "kernelspec": {
   "display_name": "Python 3 (ipykernel)",
   "language": "python",
   "name": "python3"
  },
  "language_info": {
   "codemirror_mode": {
    "name": "ipython",
    "version": 3
   },
   "file_extension": ".py",
   "mimetype": "text/x-python",
   "name": "python",
   "nbconvert_exporter": "python",
   "pygments_lexer": "ipython3",
   "version": "3.10.0"
  },
  "toc": {
   "base_numbering": 1,
   "nav_menu": {},
   "number_sections": true,
   "sideBar": true,
   "skip_h1_title": true,
   "title_cell": "Table of Contents",
   "title_sidebar": "Contents",
   "toc_cell": false,
   "toc_position": {},
   "toc_section_display": true,
   "toc_window_display": false
  }
 },
 "nbformat": 4,
 "nbformat_minor": 4
}
