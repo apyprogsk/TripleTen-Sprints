{
 "cells": [
  {
   "cell_type": "markdown",
   "metadata": {},
   "source": [
    "<b> Project Description </b>\n",
    "\n",
    "The project involves analyzing and modeling gold recovery data from three datasets:\n",
    "\n",
    "   gold_recovery_train.csv: Training dataset<br>\n",
    "   gold_recovery_test.csv: Test dataset<br>\n",
    "   gold_recovery_full.csv: Source dataset with all features\n",
    "\n",
    "<b> Objective: </b> Prepare the data, analyze it, and build a predictive model for gold recovery.\n",
    "\n",
    "<b> Instructions: </b>\n",
    "    \n",
    "Prepare the Data:\n",
    "     Open and inspect the datasets.<br>\n",
    "     Verify the accuracy of recovery calculations in the training set.<br>\n",
    "     Analyze the features not available in the test set, including their types.<br>\n",
    "     Perform necessary data preprocessing.\n",
    "\n",
    "<b> Analyze the Data: </b><br>\n",
    "     Observe how metal concentrations change at different purification stages.<br>\n",
    "     Compare feed particle size distributions between the training and test sets.<br>\n",
    "     Evaluate the total concentrations at different stages for anomalies and address any issues.\n",
    "\n",
    "<b> Build the Model: </b><br>\n",
    "     Create a function to calculate the final sMAPE (symmetric Mean Absolute Percentage Error) value.<br>\n",
    "     Train and evaluate various models using cross-validation. Select the best model and test it on the test sample.\n",
    "\n",
    "<b> Evaluation Metrics: </b> Follow the provided formulas for calculating evaluation metrics."
   ]
  },
  {
   "cell_type": "code",
   "execution_count": 1,
   "metadata": {},
   "outputs": [],
   "source": [
    "import pandas as pd\n",
    "import numpy as np\n",
    "np.seterr(divide='ignore', invalid='ignore')\n",
    "\n",
    "from scipy.stats import iqr\n",
    "from itertools import islice\n",
    "\n",
    "import matplotlib.pyplot as plt\n",
    "import seaborn as sns"
   ]
  },
  {
   "cell_type": "code",
   "execution_count": 2,
   "metadata": {},
   "outputs": [],
   "source": [
    "from sklearn.metrics import mean_squared_error, mean_absolute_error, make_scorer\n",
    "from sklearn.impute import SimpleImputer\n",
    "from sklearn.linear_model import LinearRegression, Ridge, Lasso, BayesianRidge\n",
    "from sklearn.ensemble import RandomForestRegressor, GradientBoostingRegressor, AdaBoostRegressor\n",
    "from sklearn.gaussian_process import GaussianProcessRegressor\n",
    "from sklearn.tree import DecisionTreeRegressor\n",
    "from sklearn.svm import SVR\n",
    "from sklearn.preprocessing import StandardScaler, QuantileTransformer, MaxAbsScaler, RobustScaler\n",
    "from sklearn.model_selection import RepeatedKFold, RandomizedSearchCV, GridSearchCV, cross_val_score\n",
    "from sklearn.dummy import DummyRegressor\n",
    "from sklearn.pipeline import Pipeline\n",
    "from sklearn.multioutput import MultiOutputRegressor"
   ]
  },
  {
   "cell_type": "markdown",
   "metadata": {},
   "source": [
    "<b> Explore Data </b>"
   ]
  },
  {
   "cell_type": "code",
   "execution_count": 3,
   "metadata": {},
   "outputs": [],
   "source": [
    "try:\n",
    "    df_full = pd.read_csv('/datasets/gold_recovery_full.csv')\n",
    "    df_train = pd.read_csv('/datasets/gold_recovery_train.csv')\n",
    "    df_test = pd.read_csv('/datasets/gold_recovery_test.csv')\n",
    "\n",
    "except:\n",
    "    print('Something is wrong with your data')"
   ]
  },
  {
   "cell_type": "code",
   "execution_count": 4,
   "metadata": {
    "scrolled": true
   },
   "outputs": [
    {
     "name": "stdout",
     "output_type": "stream",
     "text": [
      "<class 'pandas.core.frame.DataFrame'>\n",
      "RangeIndex: 22716 entries, 0 to 22715\n",
      "Data columns (total 87 columns):\n",
      " #   Column                                              Non-Null Count  Dtype  \n",
      "---  ------                                              --------------  -----  \n",
      " 0   date                                                22716 non-null  object \n",
      " 1   final.output.concentrate_ag                         22627 non-null  float64\n",
      " 2   final.output.concentrate_pb                         22629 non-null  float64\n",
      " 3   final.output.concentrate_sol                        22331 non-null  float64\n",
      " 4   final.output.concentrate_au                         22630 non-null  float64\n",
      " 5   final.output.recovery                               20753 non-null  float64\n",
      " 6   final.output.tail_ag                                22633 non-null  float64\n",
      " 7   final.output.tail_pb                                22516 non-null  float64\n",
      " 8   final.output.tail_sol                               22445 non-null  float64\n",
      " 9   final.output.tail_au                                22635 non-null  float64\n",
      " 10  primary_cleaner.input.sulfate                       21107 non-null  float64\n",
      " 11  primary_cleaner.input.depressant                    21170 non-null  float64\n",
      " 12  primary_cleaner.input.feed_size                     22716 non-null  float64\n",
      " 13  primary_cleaner.input.xanthate                      21565 non-null  float64\n",
      " 14  primary_cleaner.output.concentrate_ag               22618 non-null  float64\n",
      " 15  primary_cleaner.output.concentrate_pb               22268 non-null  float64\n",
      " 16  primary_cleaner.output.concentrate_sol              21918 non-null  float64\n",
      " 17  primary_cleaner.output.concentrate_au               22618 non-null  float64\n",
      " 18  primary_cleaner.output.tail_ag                      22614 non-null  float64\n",
      " 19  primary_cleaner.output.tail_pb                      22594 non-null  float64\n",
      " 20  primary_cleaner.output.tail_sol                     22365 non-null  float64\n",
      " 21  primary_cleaner.output.tail_au                      22617 non-null  float64\n",
      " 22  primary_cleaner.state.floatbank8_a_air              22660 non-null  float64\n",
      " 23  primary_cleaner.state.floatbank8_a_level            22667 non-null  float64\n",
      " 24  primary_cleaner.state.floatbank8_b_air              22660 non-null  float64\n",
      " 25  primary_cleaner.state.floatbank8_b_level            22673 non-null  float64\n",
      " 26  primary_cleaner.state.floatbank8_c_air              22662 non-null  float64\n",
      " 27  primary_cleaner.state.floatbank8_c_level            22673 non-null  float64\n",
      " 28  primary_cleaner.state.floatbank8_d_air              22661 non-null  float64\n",
      " 29  primary_cleaner.state.floatbank8_d_level            22673 non-null  float64\n",
      " 30  rougher.calculation.sulfate_to_au_concentrate       22672 non-null  float64\n",
      " 31  rougher.calculation.floatbank10_sulfate_to_au_feed  22672 non-null  float64\n",
      " 32  rougher.calculation.floatbank11_sulfate_to_au_feed  22672 non-null  float64\n",
      " 33  rougher.calculation.au_pb_ratio                     21089 non-null  float64\n",
      " 34  rougher.input.feed_ag                               22618 non-null  float64\n",
      " 35  rougher.input.feed_pb                               22472 non-null  float64\n",
      " 36  rougher.input.feed_rate                             22163 non-null  float64\n",
      " 37  rougher.input.feed_size                             22277 non-null  float64\n",
      " 38  rougher.input.feed_sol                              22357 non-null  float64\n",
      " 39  rougher.input.feed_au                               22617 non-null  float64\n",
      " 40  rougher.input.floatbank10_sulfate                   21415 non-null  float64\n",
      " 41  rougher.input.floatbank10_xanthate                  22247 non-null  float64\n",
      " 42  rougher.input.floatbank11_sulfate                   22038 non-null  float64\n",
      " 43  rougher.input.floatbank11_xanthate                  20459 non-null  float64\n",
      " 44  rougher.output.concentrate_ag                       22618 non-null  float64\n",
      " 45  rougher.output.concentrate_pb                       22618 non-null  float64\n",
      " 46  rougher.output.concentrate_sol                      22526 non-null  float64\n",
      " 47  rougher.output.concentrate_au                       22618 non-null  float64\n",
      " 48  rougher.output.recovery                             19597 non-null  float64\n",
      " 49  rougher.output.tail_ag                              19979 non-null  float64\n",
      " 50  rougher.output.tail_pb                              22618 non-null  float64\n",
      " 51  rougher.output.tail_sol                             19980 non-null  float64\n",
      " 52  rougher.output.tail_au                              19980 non-null  float64\n",
      " 53  rougher.state.floatbank10_a_air                     22646 non-null  float64\n",
      " 54  rougher.state.floatbank10_a_level                   22647 non-null  float64\n",
      " 55  rougher.state.floatbank10_b_air                     22646 non-null  float64\n",
      " 56  rougher.state.floatbank10_b_level                   22647 non-null  float64\n",
      " 57  rougher.state.floatbank10_c_air                     22646 non-null  float64\n",
      " 58  rougher.state.floatbank10_c_level                   22654 non-null  float64\n",
      " 59  rougher.state.floatbank10_d_air                     22641 non-null  float64\n",
      " 60  rougher.state.floatbank10_d_level                   22649 non-null  float64\n",
      " 61  rougher.state.floatbank10_e_air                     22096 non-null  float64\n",
      " 62  rougher.state.floatbank10_e_level                   22649 non-null  float64\n",
      " 63  rougher.state.floatbank10_f_air                     22641 non-null  float64\n",
      " 64  rougher.state.floatbank10_f_level                   22642 non-null  float64\n",
      " 65  secondary_cleaner.output.tail_ag                    22616 non-null  float64\n",
      " 66  secondary_cleaner.output.tail_pb                    22600 non-null  float64\n",
      " 67  secondary_cleaner.output.tail_sol                   20501 non-null  float64\n",
      " 68  secondary_cleaner.output.tail_au                    22618 non-null  float64\n",
      " 69  secondary_cleaner.state.floatbank2_a_air            22333 non-null  float64\n",
      " 70  secondary_cleaner.state.floatbank2_a_level          22591 non-null  float64\n",
      " 71  secondary_cleaner.state.floatbank2_b_air            22538 non-null  float64\n",
      " 72  secondary_cleaner.state.floatbank2_b_level          22588 non-null  float64\n",
      " 73  secondary_cleaner.state.floatbank3_a_air            22585 non-null  float64\n",
      " 74  secondary_cleaner.state.floatbank3_a_level          22587 non-null  float64\n",
      " 75  secondary_cleaner.state.floatbank3_b_air            22592 non-null  float64\n",
      " 76  secondary_cleaner.state.floatbank3_b_level          22590 non-null  float64\n",
      " 77  secondary_cleaner.state.floatbank4_a_air            22571 non-null  float64\n",
      " 78  secondary_cleaner.state.floatbank4_a_level          22587 non-null  float64\n",
      " 79  secondary_cleaner.state.floatbank4_b_air            22608 non-null  float64\n",
      " 80  secondary_cleaner.state.floatbank4_b_level          22607 non-null  float64\n",
      " 81  secondary_cleaner.state.floatbank5_a_air            22615 non-null  float64\n",
      " 82  secondary_cleaner.state.floatbank5_a_level          22615 non-null  float64\n",
      " 83  secondary_cleaner.state.floatbank5_b_air            22615 non-null  float64\n",
      " 84  secondary_cleaner.state.floatbank5_b_level          22616 non-null  float64\n",
      " 85  secondary_cleaner.state.floatbank6_a_air            22597 non-null  float64\n",
      " 86  secondary_cleaner.state.floatbank6_a_level          22615 non-null  float64\n",
      "dtypes: float64(86), object(1)\n",
      "memory usage: 15.1+ MB\n"
     ]
    },
    {
     "data": {
      "text/plain": [
       "(22716, 87)"
      ]
     },
     "execution_count": 4,
     "metadata": {},
     "output_type": "execute_result"
    }
   ],
   "source": [
    "df_full.info()\n",
    "df_full.shape"
   ]
  },
  {
   "cell_type": "code",
   "execution_count": 5,
   "metadata": {
    "scrolled": true
   },
   "outputs": [
    {
     "name": "stdout",
     "output_type": "stream",
     "text": [
      "<class 'pandas.core.frame.DataFrame'>\n",
      "RangeIndex: 16860 entries, 0 to 16859\n",
      "Data columns (total 87 columns):\n",
      " #   Column                                              Non-Null Count  Dtype  \n",
      "---  ------                                              --------------  -----  \n",
      " 0   date                                                16860 non-null  object \n",
      " 1   final.output.concentrate_ag                         16788 non-null  float64\n",
      " 2   final.output.concentrate_pb                         16788 non-null  float64\n",
      " 3   final.output.concentrate_sol                        16490 non-null  float64\n",
      " 4   final.output.concentrate_au                         16789 non-null  float64\n",
      " 5   final.output.recovery                               15339 non-null  float64\n",
      " 6   final.output.tail_ag                                16794 non-null  float64\n",
      " 7   final.output.tail_pb                                16677 non-null  float64\n",
      " 8   final.output.tail_sol                               16715 non-null  float64\n",
      " 9   final.output.tail_au                                16794 non-null  float64\n",
      " 10  primary_cleaner.input.sulfate                       15553 non-null  float64\n",
      " 11  primary_cleaner.input.depressant                    15598 non-null  float64\n",
      " 12  primary_cleaner.input.feed_size                     16860 non-null  float64\n",
      " 13  primary_cleaner.input.xanthate                      15875 non-null  float64\n",
      " 14  primary_cleaner.output.concentrate_ag               16778 non-null  float64\n",
      " 15  primary_cleaner.output.concentrate_pb               16502 non-null  float64\n",
      " 16  primary_cleaner.output.concentrate_sol              16224 non-null  float64\n",
      " 17  primary_cleaner.output.concentrate_au               16778 non-null  float64\n",
      " 18  primary_cleaner.output.tail_ag                      16777 non-null  float64\n",
      " 19  primary_cleaner.output.tail_pb                      16761 non-null  float64\n",
      " 20  primary_cleaner.output.tail_sol                     16579 non-null  float64\n",
      " 21  primary_cleaner.output.tail_au                      16777 non-null  float64\n",
      " 22  primary_cleaner.state.floatbank8_a_air              16820 non-null  float64\n",
      " 23  primary_cleaner.state.floatbank8_a_level            16827 non-null  float64\n",
      " 24  primary_cleaner.state.floatbank8_b_air              16820 non-null  float64\n",
      " 25  primary_cleaner.state.floatbank8_b_level            16833 non-null  float64\n",
      " 26  primary_cleaner.state.floatbank8_c_air              16822 non-null  float64\n",
      " 27  primary_cleaner.state.floatbank8_c_level            16833 non-null  float64\n",
      " 28  primary_cleaner.state.floatbank8_d_air              16821 non-null  float64\n",
      " 29  primary_cleaner.state.floatbank8_d_level            16833 non-null  float64\n",
      " 30  rougher.calculation.sulfate_to_au_concentrate       16833 non-null  float64\n",
      " 31  rougher.calculation.floatbank10_sulfate_to_au_feed  16833 non-null  float64\n",
      " 32  rougher.calculation.floatbank11_sulfate_to_au_feed  16833 non-null  float64\n",
      " 33  rougher.calculation.au_pb_ratio                     15618 non-null  float64\n",
      " 34  rougher.input.feed_ag                               16778 non-null  float64\n",
      " 35  rougher.input.feed_pb                               16632 non-null  float64\n",
      " 36  rougher.input.feed_rate                             16347 non-null  float64\n",
      " 37  rougher.input.feed_size                             16443 non-null  float64\n",
      " 38  rougher.input.feed_sol                              16568 non-null  float64\n",
      " 39  rougher.input.feed_au                               16777 non-null  float64\n",
      " 40  rougher.input.floatbank10_sulfate                   15816 non-null  float64\n",
      " 41  rougher.input.floatbank10_xanthate                  16514 non-null  float64\n",
      " 42  rougher.input.floatbank11_sulfate                   16237 non-null  float64\n",
      " 43  rougher.input.floatbank11_xanthate                  14956 non-null  float64\n",
      " 44  rougher.output.concentrate_ag                       16778 non-null  float64\n",
      " 45  rougher.output.concentrate_pb                       16778 non-null  float64\n",
      " 46  rougher.output.concentrate_sol                      16698 non-null  float64\n",
      " 47  rougher.output.concentrate_au                       16778 non-null  float64\n",
      " 48  rougher.output.recovery                             14287 non-null  float64\n",
      " 49  rougher.output.tail_ag                              14610 non-null  float64\n",
      " 50  rougher.output.tail_pb                              16778 non-null  float64\n",
      " 51  rougher.output.tail_sol                             14611 non-null  float64\n",
      " 52  rougher.output.tail_au                              14611 non-null  float64\n",
      " 53  rougher.state.floatbank10_a_air                     16807 non-null  float64\n",
      " 54  rougher.state.floatbank10_a_level                   16807 non-null  float64\n",
      " 55  rougher.state.floatbank10_b_air                     16807 non-null  float64\n",
      " 56  rougher.state.floatbank10_b_level                   16807 non-null  float64\n",
      " 57  rougher.state.floatbank10_c_air                     16807 non-null  float64\n",
      " 58  rougher.state.floatbank10_c_level                   16814 non-null  float64\n",
      " 59  rougher.state.floatbank10_d_air                     16802 non-null  float64\n",
      " 60  rougher.state.floatbank10_d_level                   16809 non-null  float64\n",
      " 61  rougher.state.floatbank10_e_air                     16257 non-null  float64\n",
      " 62  rougher.state.floatbank10_e_level                   16809 non-null  float64\n",
      " 63  rougher.state.floatbank10_f_air                     16802 non-null  float64\n",
      " 64  rougher.state.floatbank10_f_level                   16802 non-null  float64\n",
      " 65  secondary_cleaner.output.tail_ag                    16776 non-null  float64\n",
      " 66  secondary_cleaner.output.tail_pb                    16764 non-null  float64\n",
      " 67  secondary_cleaner.output.tail_sol                   14874 non-null  float64\n",
      " 68  secondary_cleaner.output.tail_au                    16778 non-null  float64\n",
      " 69  secondary_cleaner.state.floatbank2_a_air            16497 non-null  float64\n",
      " 70  secondary_cleaner.state.floatbank2_a_level          16751 non-null  float64\n",
      " 71  secondary_cleaner.state.floatbank2_b_air            16705 non-null  float64\n",
      " 72  secondary_cleaner.state.floatbank2_b_level          16748 non-null  float64\n",
      " 73  secondary_cleaner.state.floatbank3_a_air            16763 non-null  float64\n",
      " 74  secondary_cleaner.state.floatbank3_a_level          16747 non-null  float64\n",
      " 75  secondary_cleaner.state.floatbank3_b_air            16752 non-null  float64\n",
      " 76  secondary_cleaner.state.floatbank3_b_level          16750 non-null  float64\n",
      " 77  secondary_cleaner.state.floatbank4_a_air            16731 non-null  float64\n",
      " 78  secondary_cleaner.state.floatbank4_a_level          16747 non-null  float64\n",
      " 79  secondary_cleaner.state.floatbank4_b_air            16768 non-null  float64\n",
      " 80  secondary_cleaner.state.floatbank4_b_level          16767 non-null  float64\n",
      " 81  secondary_cleaner.state.floatbank5_a_air            16775 non-null  float64\n",
      " 82  secondary_cleaner.state.floatbank5_a_level          16775 non-null  float64\n",
      " 83  secondary_cleaner.state.floatbank5_b_air            16775 non-null  float64\n",
      " 84  secondary_cleaner.state.floatbank5_b_level          16776 non-null  float64\n",
      " 85  secondary_cleaner.state.floatbank6_a_air            16757 non-null  float64\n",
      " 86  secondary_cleaner.state.floatbank6_a_level          16775 non-null  float64\n",
      "dtypes: float64(86), object(1)\n",
      "memory usage: 11.2+ MB\n"
     ]
    }
   ],
   "source": [
    "df_train.info()\n",
    "df_train.shape\n",
    "df_train.drop(columns='date', index=1, inplace=True)"
   ]
  },
  {
   "cell_type": "code",
   "execution_count": 6,
   "metadata": {
    "scrolled": true
   },
   "outputs": [
    {
     "name": "stdout",
     "output_type": "stream",
     "text": [
      "<class 'pandas.core.frame.DataFrame'>\n",
      "RangeIndex: 5856 entries, 0 to 5855\n",
      "Data columns (total 53 columns):\n",
      " #   Column                                      Non-Null Count  Dtype  \n",
      "---  ------                                      --------------  -----  \n",
      " 0   date                                        5856 non-null   object \n",
      " 1   primary_cleaner.input.sulfate               5554 non-null   float64\n",
      " 2   primary_cleaner.input.depressant            5572 non-null   float64\n",
      " 3   primary_cleaner.input.feed_size             5856 non-null   float64\n",
      " 4   primary_cleaner.input.xanthate              5690 non-null   float64\n",
      " 5   primary_cleaner.state.floatbank8_a_air      5840 non-null   float64\n",
      " 6   primary_cleaner.state.floatbank8_a_level    5840 non-null   float64\n",
      " 7   primary_cleaner.state.floatbank8_b_air      5840 non-null   float64\n",
      " 8   primary_cleaner.state.floatbank8_b_level    5840 non-null   float64\n",
      " 9   primary_cleaner.state.floatbank8_c_air      5840 non-null   float64\n",
      " 10  primary_cleaner.state.floatbank8_c_level    5840 non-null   float64\n",
      " 11  primary_cleaner.state.floatbank8_d_air      5840 non-null   float64\n",
      " 12  primary_cleaner.state.floatbank8_d_level    5840 non-null   float64\n",
      " 13  rougher.input.feed_ag                       5840 non-null   float64\n",
      " 14  rougher.input.feed_pb                       5840 non-null   float64\n",
      " 15  rougher.input.feed_rate                     5816 non-null   float64\n",
      " 16  rougher.input.feed_size                     5834 non-null   float64\n",
      " 17  rougher.input.feed_sol                      5789 non-null   float64\n",
      " 18  rougher.input.feed_au                       5840 non-null   float64\n",
      " 19  rougher.input.floatbank10_sulfate           5599 non-null   float64\n",
      " 20  rougher.input.floatbank10_xanthate          5733 non-null   float64\n",
      " 21  rougher.input.floatbank11_sulfate           5801 non-null   float64\n",
      " 22  rougher.input.floatbank11_xanthate          5503 non-null   float64\n",
      " 23  rougher.state.floatbank10_a_air             5839 non-null   float64\n",
      " 24  rougher.state.floatbank10_a_level           5840 non-null   float64\n",
      " 25  rougher.state.floatbank10_b_air             5839 non-null   float64\n",
      " 26  rougher.state.floatbank10_b_level           5840 non-null   float64\n",
      " 27  rougher.state.floatbank10_c_air             5839 non-null   float64\n",
      " 28  rougher.state.floatbank10_c_level           5840 non-null   float64\n",
      " 29  rougher.state.floatbank10_d_air             5839 non-null   float64\n",
      " 30  rougher.state.floatbank10_d_level           5840 non-null   float64\n",
      " 31  rougher.state.floatbank10_e_air             5839 non-null   float64\n",
      " 32  rougher.state.floatbank10_e_level           5840 non-null   float64\n",
      " 33  rougher.state.floatbank10_f_air             5839 non-null   float64\n",
      " 34  rougher.state.floatbank10_f_level           5840 non-null   float64\n",
      " 35  secondary_cleaner.state.floatbank2_a_air    5836 non-null   float64\n",
      " 36  secondary_cleaner.state.floatbank2_a_level  5840 non-null   float64\n",
      " 37  secondary_cleaner.state.floatbank2_b_air    5833 non-null   float64\n",
      " 38  secondary_cleaner.state.floatbank2_b_level  5840 non-null   float64\n",
      " 39  secondary_cleaner.state.floatbank3_a_air    5822 non-null   float64\n",
      " 40  secondary_cleaner.state.floatbank3_a_level  5840 non-null   float64\n",
      " 41  secondary_cleaner.state.floatbank3_b_air    5840 non-null   float64\n",
      " 42  secondary_cleaner.state.floatbank3_b_level  5840 non-null   float64\n",
      " 43  secondary_cleaner.state.floatbank4_a_air    5840 non-null   float64\n",
      " 44  secondary_cleaner.state.floatbank4_a_level  5840 non-null   float64\n",
      " 45  secondary_cleaner.state.floatbank4_b_air    5840 non-null   float64\n",
      " 46  secondary_cleaner.state.floatbank4_b_level  5840 non-null   float64\n",
      " 47  secondary_cleaner.state.floatbank5_a_air    5840 non-null   float64\n",
      " 48  secondary_cleaner.state.floatbank5_a_level  5840 non-null   float64\n",
      " 49  secondary_cleaner.state.floatbank5_b_air    5840 non-null   float64\n",
      " 50  secondary_cleaner.state.floatbank5_b_level  5840 non-null   float64\n",
      " 51  secondary_cleaner.state.floatbank6_a_air    5840 non-null   float64\n",
      " 52  secondary_cleaner.state.floatbank6_a_level  5840 non-null   float64\n",
      "dtypes: float64(52), object(1)\n",
      "memory usage: 2.4+ MB\n"
     ]
    },
    {
     "data": {
      "text/plain": [
       "(5856, 53)"
      ]
     },
     "execution_count": 6,
     "metadata": {},
     "output_type": "execute_result"
    }
   ],
   "source": [
    "df_test.info()\n",
    "df_test.shape\n",
    "# df_test.drop(columns='date', index=1, inplace=True)"
   ]
  },
  {
   "cell_type": "code",
   "execution_count": 7,
   "metadata": {},
   "outputs": [
    {
     "name": "stdout",
     "output_type": "stream",
     "text": [
      "(0, 16, 0)\n"
     ]
    }
   ],
   "source": [
    "print((df_full.duplicated().sum(), df_train.duplicated().sum(), df_test.duplicated().sum()))"
   ]
  },
  {
   "cell_type": "code",
   "execution_count": 8,
   "metadata": {
    "scrolled": true
   },
   "outputs": [
    {
     "data": {
      "text/html": [
       "<style  type=\"text/css\" >\n",
       "#T_c5ea3_row0_col0,#T_c5ea3_row12_col0{\n",
       "            background-color:  #f7fbff;\n",
       "            color:  #000000;\n",
       "        }#T_c5ea3_row1_col0,#T_c5ea3_row2_col0,#T_c5ea3_row4_col0{\n",
       "            background-color:  #f2f7fd;\n",
       "            color:  #000000;\n",
       "        }#T_c5ea3_row3_col0,#T_c5ea3_row69_col0{\n",
       "            background-color:  #dfebf7;\n",
       "            color:  #000000;\n",
       "        }#T_c5ea3_row5_col0{\n",
       "            background-color:  #4090c5;\n",
       "            color:  #000000;\n",
       "        }#T_c5ea3_row6_col0,#T_c5ea3_row9_col0,#T_c5ea3_row59_col0,#T_c5ea3_row63_col0,#T_c5ea3_row64_col0{\n",
       "            background-color:  #f2f8fd;\n",
       "            color:  #000000;\n",
       "        }#T_c5ea3_row7_col0{\n",
       "            background-color:  #eaf3fb;\n",
       "            color:  #000000;\n",
       "        }#T_c5ea3_row8_col0{\n",
       "            background-color:  #e6f0f9;\n",
       "            color:  #000000;\n",
       "        }#T_c5ea3_row10_col0{\n",
       "            background-color:  #65aad4;\n",
       "            color:  #000000;\n",
       "        }#T_c5ea3_row11_col0{\n",
       "            background-color:  #6dafd7;\n",
       "            color:  #000000;\n",
       "        }#T_c5ea3_row13_col0{\n",
       "            background-color:  #a0cbe2;\n",
       "            color:  #000000;\n",
       "        }#T_c5ea3_row14_col0,#T_c5ea3_row17_col0,#T_c5ea3_row18_col0,#T_c5ea3_row21_col0,#T_c5ea3_row34_col0,#T_c5ea3_row39_col0,#T_c5ea3_row44_col0,#T_c5ea3_row45_col0,#T_c5ea3_row47_col0,#T_c5ea3_row50_col0,#T_c5ea3_row65_col0,#T_c5ea3_row68_col0,#T_c5ea3_row79_col0,#T_c5ea3_row80_col0,#T_c5ea3_row81_col0,#T_c5ea3_row82_col0,#T_c5ea3_row83_col0,#T_c5ea3_row84_col0,#T_c5ea3_row86_col0{\n",
       "            background-color:  #f1f7fd;\n",
       "            color:  #000000;\n",
       "        }#T_c5ea3_row15_col0,#T_c5ea3_row37_col0{\n",
       "            background-color:  #dbe9f6;\n",
       "            color:  #000000;\n",
       "        }#T_c5ea3_row16_col0{\n",
       "            background-color:  #c4daee;\n",
       "            color:  #000000;\n",
       "        }#T_c5ea3_row19_col0,#T_c5ea3_row70_col0,#T_c5ea3_row72_col0,#T_c5ea3_row73_col0,#T_c5ea3_row74_col0,#T_c5ea3_row75_col0,#T_c5ea3_row76_col0,#T_c5ea3_row78_col0{\n",
       "            background-color:  #eff6fc;\n",
       "            color:  #000000;\n",
       "        }#T_c5ea3_row20_col0{\n",
       "            background-color:  #e1edf8;\n",
       "            color:  #000000;\n",
       "        }#T_c5ea3_row22_col0,#T_c5ea3_row23_col0,#T_c5ea3_row24_col0,#T_c5ea3_row26_col0,#T_c5ea3_row28_col0{\n",
       "            background-color:  #f4f9fe;\n",
       "            color:  #000000;\n",
       "        }#T_c5ea3_row25_col0,#T_c5ea3_row27_col0,#T_c5ea3_row29_col0,#T_c5ea3_row30_col0,#T_c5ea3_row31_col0,#T_c5ea3_row32_col0{\n",
       "            background-color:  #f5f9fe;\n",
       "            color:  #000000;\n",
       "        }#T_c5ea3_row33_col0{\n",
       "            background-color:  #64a9d3;\n",
       "            color:  #000000;\n",
       "        }#T_c5ea3_row35_col0{\n",
       "            background-color:  #e7f1fa;\n",
       "            color:  #000000;\n",
       "        }#T_c5ea3_row36_col0{\n",
       "            background-color:  #d4e4f4;\n",
       "            color:  #000000;\n",
       "        }#T_c5ea3_row38_col0{\n",
       "            background-color:  #e0ecf8;\n",
       "            color:  #000000;\n",
       "        }#T_c5ea3_row40_col0{\n",
       "            background-color:  #8dc1dd;\n",
       "            color:  #000000;\n",
       "        }#T_c5ea3_row41_col0{\n",
       "            background-color:  #d9e8f5;\n",
       "            color:  #000000;\n",
       "        }#T_c5ea3_row42_col0{\n",
       "            background-color:  #cddff1;\n",
       "            color:  #000000;\n",
       "        }#T_c5ea3_row43_col0{\n",
       "            background-color:  #2777b8;\n",
       "            color:  #000000;\n",
       "        }#T_c5ea3_row46_col0{\n",
       "            background-color:  #ebf3fb;\n",
       "            color:  #000000;\n",
       "        }#T_c5ea3_row48_col0{\n",
       "            background-color:  #08306b;\n",
       "            color:  #f1f1f1;\n",
       "        }#T_c5ea3_row49_col0,#T_c5ea3_row51_col0,#T_c5ea3_row52_col0{\n",
       "            background-color:  #08509b;\n",
       "            color:  #f1f1f1;\n",
       "        }#T_c5ea3_row53_col0,#T_c5ea3_row54_col0,#T_c5ea3_row55_col0,#T_c5ea3_row56_col0,#T_c5ea3_row57_col0,#T_c5ea3_row58_col0,#T_c5ea3_row60_col0,#T_c5ea3_row62_col0{\n",
       "            background-color:  #f3f8fe;\n",
       "            color:  #000000;\n",
       "        }#T_c5ea3_row61_col0{\n",
       "            background-color:  #d0e2f2;\n",
       "            color:  #000000;\n",
       "        }#T_c5ea3_row66_col0,#T_c5ea3_row85_col0{\n",
       "            background-color:  #f0f6fd;\n",
       "            color:  #000000;\n",
       "        }#T_c5ea3_row67_col0{\n",
       "            background-color:  #2c7cba;\n",
       "            color:  #000000;\n",
       "        }#T_c5ea3_row71_col0{\n",
       "            background-color:  #ecf4fb;\n",
       "            color:  #000000;\n",
       "        }#T_c5ea3_row77_col0{\n",
       "            background-color:  #eef5fc;\n",
       "            color:  #000000;\n",
       "        }</style><table id=\"T_c5ea3_\" ><thead>    <tr>        <th class=\"blank level0\" ></th>        <th class=\"col_heading level0 col0\" >NaN Count</th>        <th class=\"col_heading level0 col1\" >NaN Percent</th>    </tr></thead><tbody>\n",
       "                <tr>\n",
       "                        <th id=\"T_c5ea3_level0_row0\" class=\"row_heading level0 row0\" >date</th>\n",
       "                        <td id=\"T_c5ea3_row0_col0\" class=\"data row0 col0\" >0</td>\n",
       "                        <td id=\"T_c5ea3_row0_col1\" class=\"data row0 col1\" >0.00%</td>\n",
       "            </tr>\n",
       "            <tr>\n",
       "                        <th id=\"T_c5ea3_level0_row1\" class=\"row_heading level0 row1\" >final.output.concentrate_ag</th>\n",
       "                        <td id=\"T_c5ea3_row1_col0\" class=\"data row1 col0\" >89</td>\n",
       "                        <td id=\"T_c5ea3_row1_col1\" class=\"data row1 col1\" >0.39%</td>\n",
       "            </tr>\n",
       "            <tr>\n",
       "                        <th id=\"T_c5ea3_level0_row2\" class=\"row_heading level0 row2\" >final.output.concentrate_pb</th>\n",
       "                        <td id=\"T_c5ea3_row2_col0\" class=\"data row2 col0\" >87</td>\n",
       "                        <td id=\"T_c5ea3_row2_col1\" class=\"data row2 col1\" >0.38%</td>\n",
       "            </tr>\n",
       "            <tr>\n",
       "                        <th id=\"T_c5ea3_level0_row3\" class=\"row_heading level0 row3\" >final.output.concentrate_sol</th>\n",
       "                        <td id=\"T_c5ea3_row3_col0\" class=\"data row3 col0\" >385</td>\n",
       "                        <td id=\"T_c5ea3_row3_col1\" class=\"data row3 col1\" >1.69%</td>\n",
       "            </tr>\n",
       "            <tr>\n",
       "                        <th id=\"T_c5ea3_level0_row4\" class=\"row_heading level0 row4\" >final.output.concentrate_au</th>\n",
       "                        <td id=\"T_c5ea3_row4_col0\" class=\"data row4 col0\" >86</td>\n",
       "                        <td id=\"T_c5ea3_row4_col1\" class=\"data row4 col1\" >0.38%</td>\n",
       "            </tr>\n",
       "            <tr>\n",
       "                        <th id=\"T_c5ea3_level0_row5\" class=\"row_heading level0 row5\" >final.output.recovery</th>\n",
       "                        <td id=\"T_c5ea3_row5_col0\" class=\"data row5 col0\" >1963</td>\n",
       "                        <td id=\"T_c5ea3_row5_col1\" class=\"data row5 col1\" >8.64%</td>\n",
       "            </tr>\n",
       "            <tr>\n",
       "                        <th id=\"T_c5ea3_level0_row6\" class=\"row_heading level0 row6\" >final.output.tail_ag</th>\n",
       "                        <td id=\"T_c5ea3_row6_col0\" class=\"data row6 col0\" >83</td>\n",
       "                        <td id=\"T_c5ea3_row6_col1\" class=\"data row6 col1\" >0.37%</td>\n",
       "            </tr>\n",
       "            <tr>\n",
       "                        <th id=\"T_c5ea3_level0_row7\" class=\"row_heading level0 row7\" >final.output.tail_pb</th>\n",
       "                        <td id=\"T_c5ea3_row7_col0\" class=\"data row7 col0\" >200</td>\n",
       "                        <td id=\"T_c5ea3_row7_col1\" class=\"data row7 col1\" >0.88%</td>\n",
       "            </tr>\n",
       "            <tr>\n",
       "                        <th id=\"T_c5ea3_level0_row8\" class=\"row_heading level0 row8\" >final.output.tail_sol</th>\n",
       "                        <td id=\"T_c5ea3_row8_col0\" class=\"data row8 col0\" >271</td>\n",
       "                        <td id=\"T_c5ea3_row8_col1\" class=\"data row8 col1\" >1.19%</td>\n",
       "            </tr>\n",
       "            <tr>\n",
       "                        <th id=\"T_c5ea3_level0_row9\" class=\"row_heading level0 row9\" >final.output.tail_au</th>\n",
       "                        <td id=\"T_c5ea3_row9_col0\" class=\"data row9 col0\" >81</td>\n",
       "                        <td id=\"T_c5ea3_row9_col1\" class=\"data row9 col1\" >0.36%</td>\n",
       "            </tr>\n",
       "            <tr>\n",
       "                        <th id=\"T_c5ea3_level0_row10\" class=\"row_heading level0 row10\" >primary_cleaner.input.sulfate</th>\n",
       "                        <td id=\"T_c5ea3_row10_col0\" class=\"data row10 col0\" >1609</td>\n",
       "                        <td id=\"T_c5ea3_row10_col1\" class=\"data row10 col1\" >7.08%</td>\n",
       "            </tr>\n",
       "            <tr>\n",
       "                        <th id=\"T_c5ea3_level0_row11\" class=\"row_heading level0 row11\" >primary_cleaner.input.depressant</th>\n",
       "                        <td id=\"T_c5ea3_row11_col0\" class=\"data row11 col0\" >1546</td>\n",
       "                        <td id=\"T_c5ea3_row11_col1\" class=\"data row11 col1\" >6.81%</td>\n",
       "            </tr>\n",
       "            <tr>\n",
       "                        <th id=\"T_c5ea3_level0_row12\" class=\"row_heading level0 row12\" >primary_cleaner.input.feed_size</th>\n",
       "                        <td id=\"T_c5ea3_row12_col0\" class=\"data row12 col0\" >0</td>\n",
       "                        <td id=\"T_c5ea3_row12_col1\" class=\"data row12 col1\" >0.00%</td>\n",
       "            </tr>\n",
       "            <tr>\n",
       "                        <th id=\"T_c5ea3_level0_row13\" class=\"row_heading level0 row13\" >primary_cleaner.input.xanthate</th>\n",
       "                        <td id=\"T_c5ea3_row13_col0\" class=\"data row13 col0\" >1151</td>\n",
       "                        <td id=\"T_c5ea3_row13_col1\" class=\"data row13 col1\" >5.07%</td>\n",
       "            </tr>\n",
       "            <tr>\n",
       "                        <th id=\"T_c5ea3_level0_row14\" class=\"row_heading level0 row14\" >primary_cleaner.output.concentrate_ag</th>\n",
       "                        <td id=\"T_c5ea3_row14_col0\" class=\"data row14 col0\" >98</td>\n",
       "                        <td id=\"T_c5ea3_row14_col1\" class=\"data row14 col1\" >0.43%</td>\n",
       "            </tr>\n",
       "            <tr>\n",
       "                        <th id=\"T_c5ea3_level0_row15\" class=\"row_heading level0 row15\" >primary_cleaner.output.concentrate_pb</th>\n",
       "                        <td id=\"T_c5ea3_row15_col0\" class=\"data row15 col0\" >448</td>\n",
       "                        <td id=\"T_c5ea3_row15_col1\" class=\"data row15 col1\" >1.97%</td>\n",
       "            </tr>\n",
       "            <tr>\n",
       "                        <th id=\"T_c5ea3_level0_row16\" class=\"row_heading level0 row16\" >primary_cleaner.output.concentrate_sol</th>\n",
       "                        <td id=\"T_c5ea3_row16_col0\" class=\"data row16 col0\" >798</td>\n",
       "                        <td id=\"T_c5ea3_row16_col1\" class=\"data row16 col1\" >3.51%</td>\n",
       "            </tr>\n",
       "            <tr>\n",
       "                        <th id=\"T_c5ea3_level0_row17\" class=\"row_heading level0 row17\" >primary_cleaner.output.concentrate_au</th>\n",
       "                        <td id=\"T_c5ea3_row17_col0\" class=\"data row17 col0\" >98</td>\n",
       "                        <td id=\"T_c5ea3_row17_col1\" class=\"data row17 col1\" >0.43%</td>\n",
       "            </tr>\n",
       "            <tr>\n",
       "                        <th id=\"T_c5ea3_level0_row18\" class=\"row_heading level0 row18\" >primary_cleaner.output.tail_ag</th>\n",
       "                        <td id=\"T_c5ea3_row18_col0\" class=\"data row18 col0\" >102</td>\n",
       "                        <td id=\"T_c5ea3_row18_col1\" class=\"data row18 col1\" >0.45%</td>\n",
       "            </tr>\n",
       "            <tr>\n",
       "                        <th id=\"T_c5ea3_level0_row19\" class=\"row_heading level0 row19\" >primary_cleaner.output.tail_pb</th>\n",
       "                        <td id=\"T_c5ea3_row19_col0\" class=\"data row19 col0\" >122</td>\n",
       "                        <td id=\"T_c5ea3_row19_col1\" class=\"data row19 col1\" >0.54%</td>\n",
       "            </tr>\n",
       "            <tr>\n",
       "                        <th id=\"T_c5ea3_level0_row20\" class=\"row_heading level0 row20\" >primary_cleaner.output.tail_sol</th>\n",
       "                        <td id=\"T_c5ea3_row20_col0\" class=\"data row20 col0\" >351</td>\n",
       "                        <td id=\"T_c5ea3_row20_col1\" class=\"data row20 col1\" >1.55%</td>\n",
       "            </tr>\n",
       "            <tr>\n",
       "                        <th id=\"T_c5ea3_level0_row21\" class=\"row_heading level0 row21\" >primary_cleaner.output.tail_au</th>\n",
       "                        <td id=\"T_c5ea3_row21_col0\" class=\"data row21 col0\" >99</td>\n",
       "                        <td id=\"T_c5ea3_row21_col1\" class=\"data row21 col1\" >0.44%</td>\n",
       "            </tr>\n",
       "            <tr>\n",
       "                        <th id=\"T_c5ea3_level0_row22\" class=\"row_heading level0 row22\" >primary_cleaner.state.floatbank8_a_air</th>\n",
       "                        <td id=\"T_c5ea3_row22_col0\" class=\"data row22 col0\" >56</td>\n",
       "                        <td id=\"T_c5ea3_row22_col1\" class=\"data row22 col1\" >0.25%</td>\n",
       "            </tr>\n",
       "            <tr>\n",
       "                        <th id=\"T_c5ea3_level0_row23\" class=\"row_heading level0 row23\" >primary_cleaner.state.floatbank8_a_level</th>\n",
       "                        <td id=\"T_c5ea3_row23_col0\" class=\"data row23 col0\" >49</td>\n",
       "                        <td id=\"T_c5ea3_row23_col1\" class=\"data row23 col1\" >0.22%</td>\n",
       "            </tr>\n",
       "            <tr>\n",
       "                        <th id=\"T_c5ea3_level0_row24\" class=\"row_heading level0 row24\" >primary_cleaner.state.floatbank8_b_air</th>\n",
       "                        <td id=\"T_c5ea3_row24_col0\" class=\"data row24 col0\" >56</td>\n",
       "                        <td id=\"T_c5ea3_row24_col1\" class=\"data row24 col1\" >0.25%</td>\n",
       "            </tr>\n",
       "            <tr>\n",
       "                        <th id=\"T_c5ea3_level0_row25\" class=\"row_heading level0 row25\" >primary_cleaner.state.floatbank8_b_level</th>\n",
       "                        <td id=\"T_c5ea3_row25_col0\" class=\"data row25 col0\" >43</td>\n",
       "                        <td id=\"T_c5ea3_row25_col1\" class=\"data row25 col1\" >0.19%</td>\n",
       "            </tr>\n",
       "            <tr>\n",
       "                        <th id=\"T_c5ea3_level0_row26\" class=\"row_heading level0 row26\" >primary_cleaner.state.floatbank8_c_air</th>\n",
       "                        <td id=\"T_c5ea3_row26_col0\" class=\"data row26 col0\" >54</td>\n",
       "                        <td id=\"T_c5ea3_row26_col1\" class=\"data row26 col1\" >0.24%</td>\n",
       "            </tr>\n",
       "            <tr>\n",
       "                        <th id=\"T_c5ea3_level0_row27\" class=\"row_heading level0 row27\" >primary_cleaner.state.floatbank8_c_level</th>\n",
       "                        <td id=\"T_c5ea3_row27_col0\" class=\"data row27 col0\" >43</td>\n",
       "                        <td id=\"T_c5ea3_row27_col1\" class=\"data row27 col1\" >0.19%</td>\n",
       "            </tr>\n",
       "            <tr>\n",
       "                        <th id=\"T_c5ea3_level0_row28\" class=\"row_heading level0 row28\" >primary_cleaner.state.floatbank8_d_air</th>\n",
       "                        <td id=\"T_c5ea3_row28_col0\" class=\"data row28 col0\" >55</td>\n",
       "                        <td id=\"T_c5ea3_row28_col1\" class=\"data row28 col1\" >0.24%</td>\n",
       "            </tr>\n",
       "            <tr>\n",
       "                        <th id=\"T_c5ea3_level0_row29\" class=\"row_heading level0 row29\" >primary_cleaner.state.floatbank8_d_level</th>\n",
       "                        <td id=\"T_c5ea3_row29_col0\" class=\"data row29 col0\" >43</td>\n",
       "                        <td id=\"T_c5ea3_row29_col1\" class=\"data row29 col1\" >0.19%</td>\n",
       "            </tr>\n",
       "            <tr>\n",
       "                        <th id=\"T_c5ea3_level0_row30\" class=\"row_heading level0 row30\" >rougher.calculation.sulfate_to_au_concentrate</th>\n",
       "                        <td id=\"T_c5ea3_row30_col0\" class=\"data row30 col0\" >44</td>\n",
       "                        <td id=\"T_c5ea3_row30_col1\" class=\"data row30 col1\" >0.19%</td>\n",
       "            </tr>\n",
       "            <tr>\n",
       "                        <th id=\"T_c5ea3_level0_row31\" class=\"row_heading level0 row31\" >rougher.calculation.floatbank10_sulfate_to_au_feed</th>\n",
       "                        <td id=\"T_c5ea3_row31_col0\" class=\"data row31 col0\" >44</td>\n",
       "                        <td id=\"T_c5ea3_row31_col1\" class=\"data row31 col1\" >0.19%</td>\n",
       "            </tr>\n",
       "            <tr>\n",
       "                        <th id=\"T_c5ea3_level0_row32\" class=\"row_heading level0 row32\" >rougher.calculation.floatbank11_sulfate_to_au_feed</th>\n",
       "                        <td id=\"T_c5ea3_row32_col0\" class=\"data row32 col0\" >44</td>\n",
       "                        <td id=\"T_c5ea3_row32_col1\" class=\"data row32 col1\" >0.19%</td>\n",
       "            </tr>\n",
       "            <tr>\n",
       "                        <th id=\"T_c5ea3_level0_row33\" class=\"row_heading level0 row33\" >rougher.calculation.au_pb_ratio</th>\n",
       "                        <td id=\"T_c5ea3_row33_col0\" class=\"data row33 col0\" >1627</td>\n",
       "                        <td id=\"T_c5ea3_row33_col1\" class=\"data row33 col1\" >7.16%</td>\n",
       "            </tr>\n",
       "            <tr>\n",
       "                        <th id=\"T_c5ea3_level0_row34\" class=\"row_heading level0 row34\" >rougher.input.feed_ag</th>\n",
       "                        <td id=\"T_c5ea3_row34_col0\" class=\"data row34 col0\" >98</td>\n",
       "                        <td id=\"T_c5ea3_row34_col1\" class=\"data row34 col1\" >0.43%</td>\n",
       "            </tr>\n",
       "            <tr>\n",
       "                        <th id=\"T_c5ea3_level0_row35\" class=\"row_heading level0 row35\" >rougher.input.feed_pb</th>\n",
       "                        <td id=\"T_c5ea3_row35_col0\" class=\"data row35 col0\" >244</td>\n",
       "                        <td id=\"T_c5ea3_row35_col1\" class=\"data row35 col1\" >1.07%</td>\n",
       "            </tr>\n",
       "            <tr>\n",
       "                        <th id=\"T_c5ea3_level0_row36\" class=\"row_heading level0 row36\" >rougher.input.feed_rate</th>\n",
       "                        <td id=\"T_c5ea3_row36_col0\" class=\"data row36 col0\" >553</td>\n",
       "                        <td id=\"T_c5ea3_row36_col1\" class=\"data row36 col1\" >2.43%</td>\n",
       "            </tr>\n",
       "            <tr>\n",
       "                        <th id=\"T_c5ea3_level0_row37\" class=\"row_heading level0 row37\" >rougher.input.feed_size</th>\n",
       "                        <td id=\"T_c5ea3_row37_col0\" class=\"data row37 col0\" >439</td>\n",
       "                        <td id=\"T_c5ea3_row37_col1\" class=\"data row37 col1\" >1.93%</td>\n",
       "            </tr>\n",
       "            <tr>\n",
       "                        <th id=\"T_c5ea3_level0_row38\" class=\"row_heading level0 row38\" >rougher.input.feed_sol</th>\n",
       "                        <td id=\"T_c5ea3_row38_col0\" class=\"data row38 col0\" >359</td>\n",
       "                        <td id=\"T_c5ea3_row38_col1\" class=\"data row38 col1\" >1.58%</td>\n",
       "            </tr>\n",
       "            <tr>\n",
       "                        <th id=\"T_c5ea3_level0_row39\" class=\"row_heading level0 row39\" >rougher.input.feed_au</th>\n",
       "                        <td id=\"T_c5ea3_row39_col0\" class=\"data row39 col0\" >99</td>\n",
       "                        <td id=\"T_c5ea3_row39_col1\" class=\"data row39 col1\" >0.44%</td>\n",
       "            </tr>\n",
       "            <tr>\n",
       "                        <th id=\"T_c5ea3_level0_row40\" class=\"row_heading level0 row40\" >rougher.input.floatbank10_sulfate</th>\n",
       "                        <td id=\"T_c5ea3_row40_col0\" class=\"data row40 col0\" >1301</td>\n",
       "                        <td id=\"T_c5ea3_row40_col1\" class=\"data row40 col1\" >5.73%</td>\n",
       "            </tr>\n",
       "            <tr>\n",
       "                        <th id=\"T_c5ea3_level0_row41\" class=\"row_heading level0 row41\" >rougher.input.floatbank10_xanthate</th>\n",
       "                        <td id=\"T_c5ea3_row41_col0\" class=\"data row41 col0\" >469</td>\n",
       "                        <td id=\"T_c5ea3_row41_col1\" class=\"data row41 col1\" >2.06%</td>\n",
       "            </tr>\n",
       "            <tr>\n",
       "                        <th id=\"T_c5ea3_level0_row42\" class=\"row_heading level0 row42\" >rougher.input.floatbank11_sulfate</th>\n",
       "                        <td id=\"T_c5ea3_row42_col0\" class=\"data row42 col0\" >678</td>\n",
       "                        <td id=\"T_c5ea3_row42_col1\" class=\"data row42 col1\" >2.98%</td>\n",
       "            </tr>\n",
       "            <tr>\n",
       "                        <th id=\"T_c5ea3_level0_row43\" class=\"row_heading level0 row43\" >rougher.input.floatbank11_xanthate</th>\n",
       "                        <td id=\"T_c5ea3_row43_col0\" class=\"data row43 col0\" >2257</td>\n",
       "                        <td id=\"T_c5ea3_row43_col1\" class=\"data row43 col1\" >9.94%</td>\n",
       "            </tr>\n",
       "            <tr>\n",
       "                        <th id=\"T_c5ea3_level0_row44\" class=\"row_heading level0 row44\" >rougher.output.concentrate_ag</th>\n",
       "                        <td id=\"T_c5ea3_row44_col0\" class=\"data row44 col0\" >98</td>\n",
       "                        <td id=\"T_c5ea3_row44_col1\" class=\"data row44 col1\" >0.43%</td>\n",
       "            </tr>\n",
       "            <tr>\n",
       "                        <th id=\"T_c5ea3_level0_row45\" class=\"row_heading level0 row45\" >rougher.output.concentrate_pb</th>\n",
       "                        <td id=\"T_c5ea3_row45_col0\" class=\"data row45 col0\" >98</td>\n",
       "                        <td id=\"T_c5ea3_row45_col1\" class=\"data row45 col1\" >0.43%</td>\n",
       "            </tr>\n",
       "            <tr>\n",
       "                        <th id=\"T_c5ea3_level0_row46\" class=\"row_heading level0 row46\" >rougher.output.concentrate_sol</th>\n",
       "                        <td id=\"T_c5ea3_row46_col0\" class=\"data row46 col0\" >190</td>\n",
       "                        <td id=\"T_c5ea3_row46_col1\" class=\"data row46 col1\" >0.84%</td>\n",
       "            </tr>\n",
       "            <tr>\n",
       "                        <th id=\"T_c5ea3_level0_row47\" class=\"row_heading level0 row47\" >rougher.output.concentrate_au</th>\n",
       "                        <td id=\"T_c5ea3_row47_col0\" class=\"data row47 col0\" >98</td>\n",
       "                        <td id=\"T_c5ea3_row47_col1\" class=\"data row47 col1\" >0.43%</td>\n",
       "            </tr>\n",
       "            <tr>\n",
       "                        <th id=\"T_c5ea3_level0_row48\" class=\"row_heading level0 row48\" >rougher.output.recovery</th>\n",
       "                        <td id=\"T_c5ea3_row48_col0\" class=\"data row48 col0\" >3119</td>\n",
       "                        <td id=\"T_c5ea3_row48_col1\" class=\"data row48 col1\" >13.73%</td>\n",
       "            </tr>\n",
       "            <tr>\n",
       "                        <th id=\"T_c5ea3_level0_row49\" class=\"row_heading level0 row49\" >rougher.output.tail_ag</th>\n",
       "                        <td id=\"T_c5ea3_row49_col0\" class=\"data row49 col0\" >2737</td>\n",
       "                        <td id=\"T_c5ea3_row49_col1\" class=\"data row49 col1\" >12.05%</td>\n",
       "            </tr>\n",
       "            <tr>\n",
       "                        <th id=\"T_c5ea3_level0_row50\" class=\"row_heading level0 row50\" >rougher.output.tail_pb</th>\n",
       "                        <td id=\"T_c5ea3_row50_col0\" class=\"data row50 col0\" >98</td>\n",
       "                        <td id=\"T_c5ea3_row50_col1\" class=\"data row50 col1\" >0.43%</td>\n",
       "            </tr>\n",
       "            <tr>\n",
       "                        <th id=\"T_c5ea3_level0_row51\" class=\"row_heading level0 row51\" >rougher.output.tail_sol</th>\n",
       "                        <td id=\"T_c5ea3_row51_col0\" class=\"data row51 col0\" >2736</td>\n",
       "                        <td id=\"T_c5ea3_row51_col1\" class=\"data row51 col1\" >12.04%</td>\n",
       "            </tr>\n",
       "            <tr>\n",
       "                        <th id=\"T_c5ea3_level0_row52\" class=\"row_heading level0 row52\" >rougher.output.tail_au</th>\n",
       "                        <td id=\"T_c5ea3_row52_col0\" class=\"data row52 col0\" >2736</td>\n",
       "                        <td id=\"T_c5ea3_row52_col1\" class=\"data row52 col1\" >12.04%</td>\n",
       "            </tr>\n",
       "            <tr>\n",
       "                        <th id=\"T_c5ea3_level0_row53\" class=\"row_heading level0 row53\" >rougher.state.floatbank10_a_air</th>\n",
       "                        <td id=\"T_c5ea3_row53_col0\" class=\"data row53 col0\" >70</td>\n",
       "                        <td id=\"T_c5ea3_row53_col1\" class=\"data row53 col1\" >0.31%</td>\n",
       "            </tr>\n",
       "            <tr>\n",
       "                        <th id=\"T_c5ea3_level0_row54\" class=\"row_heading level0 row54\" >rougher.state.floatbank10_a_level</th>\n",
       "                        <td id=\"T_c5ea3_row54_col0\" class=\"data row54 col0\" >69</td>\n",
       "                        <td id=\"T_c5ea3_row54_col1\" class=\"data row54 col1\" >0.30%</td>\n",
       "            </tr>\n",
       "            <tr>\n",
       "                        <th id=\"T_c5ea3_level0_row55\" class=\"row_heading level0 row55\" >rougher.state.floatbank10_b_air</th>\n",
       "                        <td id=\"T_c5ea3_row55_col0\" class=\"data row55 col0\" >70</td>\n",
       "                        <td id=\"T_c5ea3_row55_col1\" class=\"data row55 col1\" >0.31%</td>\n",
       "            </tr>\n",
       "            <tr>\n",
       "                        <th id=\"T_c5ea3_level0_row56\" class=\"row_heading level0 row56\" >rougher.state.floatbank10_b_level</th>\n",
       "                        <td id=\"T_c5ea3_row56_col0\" class=\"data row56 col0\" >69</td>\n",
       "                        <td id=\"T_c5ea3_row56_col1\" class=\"data row56 col1\" >0.30%</td>\n",
       "            </tr>\n",
       "            <tr>\n",
       "                        <th id=\"T_c5ea3_level0_row57\" class=\"row_heading level0 row57\" >rougher.state.floatbank10_c_air</th>\n",
       "                        <td id=\"T_c5ea3_row57_col0\" class=\"data row57 col0\" >70</td>\n",
       "                        <td id=\"T_c5ea3_row57_col1\" class=\"data row57 col1\" >0.31%</td>\n",
       "            </tr>\n",
       "            <tr>\n",
       "                        <th id=\"T_c5ea3_level0_row58\" class=\"row_heading level0 row58\" >rougher.state.floatbank10_c_level</th>\n",
       "                        <td id=\"T_c5ea3_row58_col0\" class=\"data row58 col0\" >62</td>\n",
       "                        <td id=\"T_c5ea3_row58_col1\" class=\"data row58 col1\" >0.27%</td>\n",
       "            </tr>\n",
       "            <tr>\n",
       "                        <th id=\"T_c5ea3_level0_row59\" class=\"row_heading level0 row59\" >rougher.state.floatbank10_d_air</th>\n",
       "                        <td id=\"T_c5ea3_row59_col0\" class=\"data row59 col0\" >75</td>\n",
       "                        <td id=\"T_c5ea3_row59_col1\" class=\"data row59 col1\" >0.33%</td>\n",
       "            </tr>\n",
       "            <tr>\n",
       "                        <th id=\"T_c5ea3_level0_row60\" class=\"row_heading level0 row60\" >rougher.state.floatbank10_d_level</th>\n",
       "                        <td id=\"T_c5ea3_row60_col0\" class=\"data row60 col0\" >67</td>\n",
       "                        <td id=\"T_c5ea3_row60_col1\" class=\"data row60 col1\" >0.29%</td>\n",
       "            </tr>\n",
       "            <tr>\n",
       "                        <th id=\"T_c5ea3_level0_row61\" class=\"row_heading level0 row61\" >rougher.state.floatbank10_e_air</th>\n",
       "                        <td id=\"T_c5ea3_row61_col0\" class=\"data row61 col0\" >620</td>\n",
       "                        <td id=\"T_c5ea3_row61_col1\" class=\"data row61 col1\" >2.73%</td>\n",
       "            </tr>\n",
       "            <tr>\n",
       "                        <th id=\"T_c5ea3_level0_row62\" class=\"row_heading level0 row62\" >rougher.state.floatbank10_e_level</th>\n",
       "                        <td id=\"T_c5ea3_row62_col0\" class=\"data row62 col0\" >67</td>\n",
       "                        <td id=\"T_c5ea3_row62_col1\" class=\"data row62 col1\" >0.29%</td>\n",
       "            </tr>\n",
       "            <tr>\n",
       "                        <th id=\"T_c5ea3_level0_row63\" class=\"row_heading level0 row63\" >rougher.state.floatbank10_f_air</th>\n",
       "                        <td id=\"T_c5ea3_row63_col0\" class=\"data row63 col0\" >75</td>\n",
       "                        <td id=\"T_c5ea3_row63_col1\" class=\"data row63 col1\" >0.33%</td>\n",
       "            </tr>\n",
       "            <tr>\n",
       "                        <th id=\"T_c5ea3_level0_row64\" class=\"row_heading level0 row64\" >rougher.state.floatbank10_f_level</th>\n",
       "                        <td id=\"T_c5ea3_row64_col0\" class=\"data row64 col0\" >74</td>\n",
       "                        <td id=\"T_c5ea3_row64_col1\" class=\"data row64 col1\" >0.33%</td>\n",
       "            </tr>\n",
       "            <tr>\n",
       "                        <th id=\"T_c5ea3_level0_row65\" class=\"row_heading level0 row65\" >secondary_cleaner.output.tail_ag</th>\n",
       "                        <td id=\"T_c5ea3_row65_col0\" class=\"data row65 col0\" >100</td>\n",
       "                        <td id=\"T_c5ea3_row65_col1\" class=\"data row65 col1\" >0.44%</td>\n",
       "            </tr>\n",
       "            <tr>\n",
       "                        <th id=\"T_c5ea3_level0_row66\" class=\"row_heading level0 row66\" >secondary_cleaner.output.tail_pb</th>\n",
       "                        <td id=\"T_c5ea3_row66_col0\" class=\"data row66 col0\" >116</td>\n",
       "                        <td id=\"T_c5ea3_row66_col1\" class=\"data row66 col1\" >0.51%</td>\n",
       "            </tr>\n",
       "            <tr>\n",
       "                        <th id=\"T_c5ea3_level0_row67\" class=\"row_heading level0 row67\" >secondary_cleaner.output.tail_sol</th>\n",
       "                        <td id=\"T_c5ea3_row67_col0\" class=\"data row67 col0\" >2215</td>\n",
       "                        <td id=\"T_c5ea3_row67_col1\" class=\"data row67 col1\" >9.75%</td>\n",
       "            </tr>\n",
       "            <tr>\n",
       "                        <th id=\"T_c5ea3_level0_row68\" class=\"row_heading level0 row68\" >secondary_cleaner.output.tail_au</th>\n",
       "                        <td id=\"T_c5ea3_row68_col0\" class=\"data row68 col0\" >98</td>\n",
       "                        <td id=\"T_c5ea3_row68_col1\" class=\"data row68 col1\" >0.43%</td>\n",
       "            </tr>\n",
       "            <tr>\n",
       "                        <th id=\"T_c5ea3_level0_row69\" class=\"row_heading level0 row69\" >secondary_cleaner.state.floatbank2_a_air</th>\n",
       "                        <td id=\"T_c5ea3_row69_col0\" class=\"data row69 col0\" >383</td>\n",
       "                        <td id=\"T_c5ea3_row69_col1\" class=\"data row69 col1\" >1.69%</td>\n",
       "            </tr>\n",
       "            <tr>\n",
       "                        <th id=\"T_c5ea3_level0_row70\" class=\"row_heading level0 row70\" >secondary_cleaner.state.floatbank2_a_level</th>\n",
       "                        <td id=\"T_c5ea3_row70_col0\" class=\"data row70 col0\" >125</td>\n",
       "                        <td id=\"T_c5ea3_row70_col1\" class=\"data row70 col1\" >0.55%</td>\n",
       "            </tr>\n",
       "            <tr>\n",
       "                        <th id=\"T_c5ea3_level0_row71\" class=\"row_heading level0 row71\" >secondary_cleaner.state.floatbank2_b_air</th>\n",
       "                        <td id=\"T_c5ea3_row71_col0\" class=\"data row71 col0\" >178</td>\n",
       "                        <td id=\"T_c5ea3_row71_col1\" class=\"data row71 col1\" >0.78%</td>\n",
       "            </tr>\n",
       "            <tr>\n",
       "                        <th id=\"T_c5ea3_level0_row72\" class=\"row_heading level0 row72\" >secondary_cleaner.state.floatbank2_b_level</th>\n",
       "                        <td id=\"T_c5ea3_row72_col0\" class=\"data row72 col0\" >128</td>\n",
       "                        <td id=\"T_c5ea3_row72_col1\" class=\"data row72 col1\" >0.56%</td>\n",
       "            </tr>\n",
       "            <tr>\n",
       "                        <th id=\"T_c5ea3_level0_row73\" class=\"row_heading level0 row73\" >secondary_cleaner.state.floatbank3_a_air</th>\n",
       "                        <td id=\"T_c5ea3_row73_col0\" class=\"data row73 col0\" >131</td>\n",
       "                        <td id=\"T_c5ea3_row73_col1\" class=\"data row73 col1\" >0.58%</td>\n",
       "            </tr>\n",
       "            <tr>\n",
       "                        <th id=\"T_c5ea3_level0_row74\" class=\"row_heading level0 row74\" >secondary_cleaner.state.floatbank3_a_level</th>\n",
       "                        <td id=\"T_c5ea3_row74_col0\" class=\"data row74 col0\" >129</td>\n",
       "                        <td id=\"T_c5ea3_row74_col1\" class=\"data row74 col1\" >0.57%</td>\n",
       "            </tr>\n",
       "            <tr>\n",
       "                        <th id=\"T_c5ea3_level0_row75\" class=\"row_heading level0 row75\" >secondary_cleaner.state.floatbank3_b_air</th>\n",
       "                        <td id=\"T_c5ea3_row75_col0\" class=\"data row75 col0\" >124</td>\n",
       "                        <td id=\"T_c5ea3_row75_col1\" class=\"data row75 col1\" >0.55%</td>\n",
       "            </tr>\n",
       "            <tr>\n",
       "                        <th id=\"T_c5ea3_level0_row76\" class=\"row_heading level0 row76\" >secondary_cleaner.state.floatbank3_b_level</th>\n",
       "                        <td id=\"T_c5ea3_row76_col0\" class=\"data row76 col0\" >126</td>\n",
       "                        <td id=\"T_c5ea3_row76_col1\" class=\"data row76 col1\" >0.55%</td>\n",
       "            </tr>\n",
       "            <tr>\n",
       "                        <th id=\"T_c5ea3_level0_row77\" class=\"row_heading level0 row77\" >secondary_cleaner.state.floatbank4_a_air</th>\n",
       "                        <td id=\"T_c5ea3_row77_col0\" class=\"data row77 col0\" >145</td>\n",
       "                        <td id=\"T_c5ea3_row77_col1\" class=\"data row77 col1\" >0.64%</td>\n",
       "            </tr>\n",
       "            <tr>\n",
       "                        <th id=\"T_c5ea3_level0_row78\" class=\"row_heading level0 row78\" >secondary_cleaner.state.floatbank4_a_level</th>\n",
       "                        <td id=\"T_c5ea3_row78_col0\" class=\"data row78 col0\" >129</td>\n",
       "                        <td id=\"T_c5ea3_row78_col1\" class=\"data row78 col1\" >0.57%</td>\n",
       "            </tr>\n",
       "            <tr>\n",
       "                        <th id=\"T_c5ea3_level0_row79\" class=\"row_heading level0 row79\" >secondary_cleaner.state.floatbank4_b_air</th>\n",
       "                        <td id=\"T_c5ea3_row79_col0\" class=\"data row79 col0\" >108</td>\n",
       "                        <td id=\"T_c5ea3_row79_col1\" class=\"data row79 col1\" >0.48%</td>\n",
       "            </tr>\n",
       "            <tr>\n",
       "                        <th id=\"T_c5ea3_level0_row80\" class=\"row_heading level0 row80\" >secondary_cleaner.state.floatbank4_b_level</th>\n",
       "                        <td id=\"T_c5ea3_row80_col0\" class=\"data row80 col0\" >109</td>\n",
       "                        <td id=\"T_c5ea3_row80_col1\" class=\"data row80 col1\" >0.48%</td>\n",
       "            </tr>\n",
       "            <tr>\n",
       "                        <th id=\"T_c5ea3_level0_row81\" class=\"row_heading level0 row81\" >secondary_cleaner.state.floatbank5_a_air</th>\n",
       "                        <td id=\"T_c5ea3_row81_col0\" class=\"data row81 col0\" >101</td>\n",
       "                        <td id=\"T_c5ea3_row81_col1\" class=\"data row81 col1\" >0.44%</td>\n",
       "            </tr>\n",
       "            <tr>\n",
       "                        <th id=\"T_c5ea3_level0_row82\" class=\"row_heading level0 row82\" >secondary_cleaner.state.floatbank5_a_level</th>\n",
       "                        <td id=\"T_c5ea3_row82_col0\" class=\"data row82 col0\" >101</td>\n",
       "                        <td id=\"T_c5ea3_row82_col1\" class=\"data row82 col1\" >0.44%</td>\n",
       "            </tr>\n",
       "            <tr>\n",
       "                        <th id=\"T_c5ea3_level0_row83\" class=\"row_heading level0 row83\" >secondary_cleaner.state.floatbank5_b_air</th>\n",
       "                        <td id=\"T_c5ea3_row83_col0\" class=\"data row83 col0\" >101</td>\n",
       "                        <td id=\"T_c5ea3_row83_col1\" class=\"data row83 col1\" >0.44%</td>\n",
       "            </tr>\n",
       "            <tr>\n",
       "                        <th id=\"T_c5ea3_level0_row84\" class=\"row_heading level0 row84\" >secondary_cleaner.state.floatbank5_b_level</th>\n",
       "                        <td id=\"T_c5ea3_row84_col0\" class=\"data row84 col0\" >100</td>\n",
       "                        <td id=\"T_c5ea3_row84_col1\" class=\"data row84 col1\" >0.44%</td>\n",
       "            </tr>\n",
       "            <tr>\n",
       "                        <th id=\"T_c5ea3_level0_row85\" class=\"row_heading level0 row85\" >secondary_cleaner.state.floatbank6_a_air</th>\n",
       "                        <td id=\"T_c5ea3_row85_col0\" class=\"data row85 col0\" >119</td>\n",
       "                        <td id=\"T_c5ea3_row85_col1\" class=\"data row85 col1\" >0.52%</td>\n",
       "            </tr>\n",
       "            <tr>\n",
       "                        <th id=\"T_c5ea3_level0_row86\" class=\"row_heading level0 row86\" >secondary_cleaner.state.floatbank6_a_level</th>\n",
       "                        <td id=\"T_c5ea3_row86_col0\" class=\"data row86 col0\" >101</td>\n",
       "                        <td id=\"T_c5ea3_row86_col1\" class=\"data row86 col1\" >0.44%</td>\n",
       "            </tr>\n",
       "    </tbody></table>"
      ],
      "text/plain": [
       "<pandas.io.formats.style.Styler at 0x7f96ac462fa0>"
      ]
     },
     "execution_count": 8,
     "metadata": {},
     "output_type": "execute_result"
    }
   ],
   "source": [
    "df_full_nan = pd.DataFrame(data=[df_full.isna().sum().tolist(), ['{:.2f}'.format(i)+'%' \\\n",
    "           for i in (df_full.isna().sum()/df_full.shape[0]*100).tolist()]], \n",
    "           columns=df_full.columns, index=['NaN Count', 'NaN Percent']).transpose()\n",
    "\n",
    "df_full_nan.style.background_gradient(cmap='Blues', subset=['NaN Count'])"
   ]
  },
  {
   "cell_type": "code",
   "execution_count": 9,
   "metadata": {},
   "outputs": [
    {
     "data": {
      "text/html": [
       "<style  type=\"text/css\" >\n",
       "#T_c09c7_row0_col0,#T_c09c7_row1_col0,#T_c09c7_row3_col0{\n",
       "            background-color:  #fff2e5;\n",
       "            color:  #000000;\n",
       "        }#T_c09c7_row2_col0,#T_c09c7_row68_col0{\n",
       "            background-color:  #fee3c8;\n",
       "            color:  #000000;\n",
       "        }#T_c09c7_row4_col0{\n",
       "            background-color:  #f4721e;\n",
       "            color:  #000000;\n",
       "        }#T_c09c7_row5_col0,#T_c09c7_row8_col0{\n",
       "            background-color:  #fff2e6;\n",
       "            color:  #000000;\n",
       "        }#T_c09c7_row6_col0{\n",
       "            background-color:  #feeddb;\n",
       "            color:  #000000;\n",
       "        }#T_c09c7_row7_col0{\n",
       "            background-color:  #ffeede;\n",
       "            color:  #000000;\n",
       "        }#T_c09c7_row9_col0{\n",
       "            background-color:  #fc8a39;\n",
       "            color:  #000000;\n",
       "        }#T_c09c7_row10_col0{\n",
       "            background-color:  #fd9040;\n",
       "            color:  #000000;\n",
       "        }#T_c09c7_row11_col0{\n",
       "            background-color:  #fff5eb;\n",
       "            color:  #000000;\n",
       "        }#T_c09c7_row12_col0{\n",
       "            background-color:  #fdac67;\n",
       "            color:  #000000;\n",
       "        }#T_c09c7_row13_col0,#T_c09c7_row16_col0,#T_c09c7_row17_col0,#T_c09c7_row20_col0,#T_c09c7_row33_col0,#T_c09c7_row38_col0,#T_c09c7_row43_col0,#T_c09c7_row44_col0,#T_c09c7_row46_col0,#T_c09c7_row49_col0,#T_c09c7_row64_col0,#T_c09c7_row67_col0,#T_c09c7_row80_col0,#T_c09c7_row81_col0,#T_c09c7_row82_col0,#T_c09c7_row83_col0,#T_c09c7_row85_col0{\n",
       "            background-color:  #fff1e4;\n",
       "            color:  #000000;\n",
       "        }#T_c09c7_row14_col0{\n",
       "            background-color:  #fee4ca;\n",
       "            color:  #000000;\n",
       "        }#T_c09c7_row15_col0{\n",
       "            background-color:  #fdd1a3;\n",
       "            color:  #000000;\n",
       "        }#T_c09c7_row18_col0,#T_c09c7_row65_col0,#T_c09c7_row72_col0,#T_c09c7_row78_col0,#T_c09c7_row79_col0{\n",
       "            background-color:  #fff1e3;\n",
       "            color:  #000000;\n",
       "        }#T_c09c7_row19_col0{\n",
       "            background-color:  #fee8d2;\n",
       "            color:  #000000;\n",
       "        }#T_c09c7_row21_col0,#T_c09c7_row22_col0,#T_c09c7_row23_col0,#T_c09c7_row25_col0,#T_c09c7_row27_col0{\n",
       "            background-color:  #fff4e8;\n",
       "            color:  #000000;\n",
       "        }#T_c09c7_row24_col0,#T_c09c7_row26_col0,#T_c09c7_row28_col0,#T_c09c7_row29_col0,#T_c09c7_row30_col0,#T_c09c7_row31_col0{\n",
       "            background-color:  #fff4e9;\n",
       "            color:  #000000;\n",
       "        }#T_c09c7_row32_col0{\n",
       "            background-color:  #fd9243;\n",
       "            color:  #000000;\n",
       "        }#T_c09c7_row34_col0{\n",
       "            background-color:  #feebd7;\n",
       "            color:  #000000;\n",
       "        }#T_c09c7_row35_col0{\n",
       "            background-color:  #fdd9b4;\n",
       "            color:  #000000;\n",
       "        }#T_c09c7_row36_col0{\n",
       "            background-color:  #fee0c1;\n",
       "            color:  #000000;\n",
       "        }#T_c09c7_row37_col0{\n",
       "            background-color:  #fee7d1;\n",
       "            color:  #000000;\n",
       "        }#T_c09c7_row39_col0{\n",
       "            background-color:  #fda660;\n",
       "            color:  #000000;\n",
       "        }#T_c09c7_row40_col0{\n",
       "            background-color:  #fee5cb;\n",
       "            color:  #000000;\n",
       "        }#T_c09c7_row41_col0{\n",
       "            background-color:  #fdd2a6;\n",
       "            color:  #000000;\n",
       "        }#T_c09c7_row42_col0{\n",
       "            background-color:  #db4a02;\n",
       "            color:  #f1f1f1;\n",
       "        }#T_c09c7_row45_col0{\n",
       "            background-color:  #feeddc;\n",
       "            color:  #000000;\n",
       "        }#T_c09c7_row47_col0{\n",
       "            background-color:  #7f2704;\n",
       "            color:  #f1f1f1;\n",
       "        }#T_c09c7_row48_col0,#T_c09c7_row50_col0,#T_c09c7_row51_col0{\n",
       "            background-color:  #a63603;\n",
       "            color:  #f1f1f1;\n",
       "        }#T_c09c7_row52_col0,#T_c09c7_row53_col0,#T_c09c7_row54_col0,#T_c09c7_row55_col0,#T_c09c7_row56_col0,#T_c09c7_row58_col0,#T_c09c7_row59_col0,#T_c09c7_row61_col0,#T_c09c7_row62_col0,#T_c09c7_row63_col0{\n",
       "            background-color:  #fff3e6;\n",
       "            color:  #000000;\n",
       "        }#T_c09c7_row57_col0{\n",
       "            background-color:  #fff3e7;\n",
       "            color:  #000000;\n",
       "        }#T_c09c7_row60_col0{\n",
       "            background-color:  #fdd3a9;\n",
       "            color:  #000000;\n",
       "        }#T_c09c7_row66_col0{\n",
       "            background-color:  #d04501;\n",
       "            color:  #f1f1f1;\n",
       "        }#T_c09c7_row69_col0,#T_c09c7_row74_col0,#T_c09c7_row75_col0,#T_c09c7_row84_col0{\n",
       "            background-color:  #fff0e2;\n",
       "            color:  #000000;\n",
       "        }#T_c09c7_row70_col0{\n",
       "            background-color:  #ffeedd;\n",
       "            color:  #000000;\n",
       "        }#T_c09c7_row71_col0,#T_c09c7_row73_col0,#T_c09c7_row77_col0{\n",
       "            background-color:  #fff0e1;\n",
       "            color:  #000000;\n",
       "        }#T_c09c7_row76_col0{\n",
       "            background-color:  #ffefe0;\n",
       "            color:  #000000;\n",
       "        }</style><table id=\"T_c09c7_\" ><thead>    <tr>        <th class=\"blank level0\" ></th>        <th class=\"col_heading level0 col0\" >NaN Count</th>        <th class=\"col_heading level0 col1\" >NaN Percent</th>    </tr></thead><tbody>\n",
       "                <tr>\n",
       "                        <th id=\"T_c09c7_level0_row0\" class=\"row_heading level0 row0\" >final.output.concentrate_ag</th>\n",
       "                        <td id=\"T_c09c7_row0_col0\" class=\"data row0 col0\" >72</td>\n",
       "                        <td id=\"T_c09c7_row0_col1\" class=\"data row0 col1\" >0.43%</td>\n",
       "            </tr>\n",
       "            <tr>\n",
       "                        <th id=\"T_c09c7_level0_row1\" class=\"row_heading level0 row1\" >final.output.concentrate_pb</th>\n",
       "                        <td id=\"T_c09c7_row1_col0\" class=\"data row1 col0\" >72</td>\n",
       "                        <td id=\"T_c09c7_row1_col1\" class=\"data row1 col1\" >0.43%</td>\n",
       "            </tr>\n",
       "            <tr>\n",
       "                        <th id=\"T_c09c7_level0_row2\" class=\"row_heading level0 row2\" >final.output.concentrate_sol</th>\n",
       "                        <td id=\"T_c09c7_row2_col0\" class=\"data row2 col0\" >370</td>\n",
       "                        <td id=\"T_c09c7_row2_col1\" class=\"data row2 col1\" >2.19%</td>\n",
       "            </tr>\n",
       "            <tr>\n",
       "                        <th id=\"T_c09c7_level0_row3\" class=\"row_heading level0 row3\" >final.output.concentrate_au</th>\n",
       "                        <td id=\"T_c09c7_row3_col0\" class=\"data row3 col0\" >71</td>\n",
       "                        <td id=\"T_c09c7_row3_col1\" class=\"data row3 col1\" >0.42%</td>\n",
       "            </tr>\n",
       "            <tr>\n",
       "                        <th id=\"T_c09c7_level0_row4\" class=\"row_heading level0 row4\" >final.output.recovery</th>\n",
       "                        <td id=\"T_c09c7_row4_col0\" class=\"data row4 col0\" >1521</td>\n",
       "                        <td id=\"T_c09c7_row4_col1\" class=\"data row4 col1\" >9.02%</td>\n",
       "            </tr>\n",
       "            <tr>\n",
       "                        <th id=\"T_c09c7_level0_row5\" class=\"row_heading level0 row5\" >final.output.tail_ag</th>\n",
       "                        <td id=\"T_c09c7_row5_col0\" class=\"data row5 col0\" >66</td>\n",
       "                        <td id=\"T_c09c7_row5_col1\" class=\"data row5 col1\" >0.39%</td>\n",
       "            </tr>\n",
       "            <tr>\n",
       "                        <th id=\"T_c09c7_level0_row6\" class=\"row_heading level0 row6\" >final.output.tail_pb</th>\n",
       "                        <td id=\"T_c09c7_row6_col0\" class=\"data row6 col0\" >183</td>\n",
       "                        <td id=\"T_c09c7_row6_col1\" class=\"data row6 col1\" >1.09%</td>\n",
       "            </tr>\n",
       "            <tr>\n",
       "                        <th id=\"T_c09c7_level0_row7\" class=\"row_heading level0 row7\" >final.output.tail_sol</th>\n",
       "                        <td id=\"T_c09c7_row7_col0\" class=\"data row7 col0\" >145</td>\n",
       "                        <td id=\"T_c09c7_row7_col1\" class=\"data row7 col1\" >0.86%</td>\n",
       "            </tr>\n",
       "            <tr>\n",
       "                        <th id=\"T_c09c7_level0_row8\" class=\"row_heading level0 row8\" >final.output.tail_au</th>\n",
       "                        <td id=\"T_c09c7_row8_col0\" class=\"data row8 col0\" >66</td>\n",
       "                        <td id=\"T_c09c7_row8_col1\" class=\"data row8 col1\" >0.39%</td>\n",
       "            </tr>\n",
       "            <tr>\n",
       "                        <th id=\"T_c09c7_level0_row9\" class=\"row_heading level0 row9\" >primary_cleaner.input.sulfate</th>\n",
       "                        <td id=\"T_c09c7_row9_col0\" class=\"data row9 col0\" >1307</td>\n",
       "                        <td id=\"T_c09c7_row9_col1\" class=\"data row9 col1\" >7.75%</td>\n",
       "            </tr>\n",
       "            <tr>\n",
       "                        <th id=\"T_c09c7_level0_row10\" class=\"row_heading level0 row10\" >primary_cleaner.input.depressant</th>\n",
       "                        <td id=\"T_c09c7_row10_col0\" class=\"data row10 col0\" >1262</td>\n",
       "                        <td id=\"T_c09c7_row10_col1\" class=\"data row10 col1\" >7.49%</td>\n",
       "            </tr>\n",
       "            <tr>\n",
       "                        <th id=\"T_c09c7_level0_row11\" class=\"row_heading level0 row11\" >primary_cleaner.input.feed_size</th>\n",
       "                        <td id=\"T_c09c7_row11_col0\" class=\"data row11 col0\" >0</td>\n",
       "                        <td id=\"T_c09c7_row11_col1\" class=\"data row11 col1\" >0.00%</td>\n",
       "            </tr>\n",
       "            <tr>\n",
       "                        <th id=\"T_c09c7_level0_row12\" class=\"row_heading level0 row12\" >primary_cleaner.input.xanthate</th>\n",
       "                        <td id=\"T_c09c7_row12_col0\" class=\"data row12 col0\" >985</td>\n",
       "                        <td id=\"T_c09c7_row12_col1\" class=\"data row12 col1\" >5.84%</td>\n",
       "            </tr>\n",
       "            <tr>\n",
       "                        <th id=\"T_c09c7_level0_row13\" class=\"row_heading level0 row13\" >primary_cleaner.output.concentrate_ag</th>\n",
       "                        <td id=\"T_c09c7_row13_col0\" class=\"data row13 col0\" >82</td>\n",
       "                        <td id=\"T_c09c7_row13_col1\" class=\"data row13 col1\" >0.49%</td>\n",
       "            </tr>\n",
       "            <tr>\n",
       "                        <th id=\"T_c09c7_level0_row14\" class=\"row_heading level0 row14\" >primary_cleaner.output.concentrate_pb</th>\n",
       "                        <td id=\"T_c09c7_row14_col0\" class=\"data row14 col0\" >358</td>\n",
       "                        <td id=\"T_c09c7_row14_col1\" class=\"data row14 col1\" >2.12%</td>\n",
       "            </tr>\n",
       "            <tr>\n",
       "                        <th id=\"T_c09c7_level0_row15\" class=\"row_heading level0 row15\" >primary_cleaner.output.concentrate_sol</th>\n",
       "                        <td id=\"T_c09c7_row15_col0\" class=\"data row15 col0\" >636</td>\n",
       "                        <td id=\"T_c09c7_row15_col1\" class=\"data row15 col1\" >3.77%</td>\n",
       "            </tr>\n",
       "            <tr>\n",
       "                        <th id=\"T_c09c7_level0_row16\" class=\"row_heading level0 row16\" >primary_cleaner.output.concentrate_au</th>\n",
       "                        <td id=\"T_c09c7_row16_col0\" class=\"data row16 col0\" >82</td>\n",
       "                        <td id=\"T_c09c7_row16_col1\" class=\"data row16 col1\" >0.49%</td>\n",
       "            </tr>\n",
       "            <tr>\n",
       "                        <th id=\"T_c09c7_level0_row17\" class=\"row_heading level0 row17\" >primary_cleaner.output.tail_ag</th>\n",
       "                        <td id=\"T_c09c7_row17_col0\" class=\"data row17 col0\" >83</td>\n",
       "                        <td id=\"T_c09c7_row17_col1\" class=\"data row17 col1\" >0.49%</td>\n",
       "            </tr>\n",
       "            <tr>\n",
       "                        <th id=\"T_c09c7_level0_row18\" class=\"row_heading level0 row18\" >primary_cleaner.output.tail_pb</th>\n",
       "                        <td id=\"T_c09c7_row18_col0\" class=\"data row18 col0\" >99</td>\n",
       "                        <td id=\"T_c09c7_row18_col1\" class=\"data row18 col1\" >0.59%</td>\n",
       "            </tr>\n",
       "            <tr>\n",
       "                        <th id=\"T_c09c7_level0_row19\" class=\"row_heading level0 row19\" >primary_cleaner.output.tail_sol</th>\n",
       "                        <td id=\"T_c09c7_row19_col0\" class=\"data row19 col0\" >281</td>\n",
       "                        <td id=\"T_c09c7_row19_col1\" class=\"data row19 col1\" >1.67%</td>\n",
       "            </tr>\n",
       "            <tr>\n",
       "                        <th id=\"T_c09c7_level0_row20\" class=\"row_heading level0 row20\" >primary_cleaner.output.tail_au</th>\n",
       "                        <td id=\"T_c09c7_row20_col0\" class=\"data row20 col0\" >83</td>\n",
       "                        <td id=\"T_c09c7_row20_col1\" class=\"data row20 col1\" >0.49%</td>\n",
       "            </tr>\n",
       "            <tr>\n",
       "                        <th id=\"T_c09c7_level0_row21\" class=\"row_heading level0 row21\" >primary_cleaner.state.floatbank8_a_air</th>\n",
       "                        <td id=\"T_c09c7_row21_col0\" class=\"data row21 col0\" >40</td>\n",
       "                        <td id=\"T_c09c7_row21_col1\" class=\"data row21 col1\" >0.24%</td>\n",
       "            </tr>\n",
       "            <tr>\n",
       "                        <th id=\"T_c09c7_level0_row22\" class=\"row_heading level0 row22\" >primary_cleaner.state.floatbank8_a_level</th>\n",
       "                        <td id=\"T_c09c7_row22_col0\" class=\"data row22 col0\" >33</td>\n",
       "                        <td id=\"T_c09c7_row22_col1\" class=\"data row22 col1\" >0.20%</td>\n",
       "            </tr>\n",
       "            <tr>\n",
       "                        <th id=\"T_c09c7_level0_row23\" class=\"row_heading level0 row23\" >primary_cleaner.state.floatbank8_b_air</th>\n",
       "                        <td id=\"T_c09c7_row23_col0\" class=\"data row23 col0\" >40</td>\n",
       "                        <td id=\"T_c09c7_row23_col1\" class=\"data row23 col1\" >0.24%</td>\n",
       "            </tr>\n",
       "            <tr>\n",
       "                        <th id=\"T_c09c7_level0_row24\" class=\"row_heading level0 row24\" >primary_cleaner.state.floatbank8_b_level</th>\n",
       "                        <td id=\"T_c09c7_row24_col0\" class=\"data row24 col0\" >27</td>\n",
       "                        <td id=\"T_c09c7_row24_col1\" class=\"data row24 col1\" >0.16%</td>\n",
       "            </tr>\n",
       "            <tr>\n",
       "                        <th id=\"T_c09c7_level0_row25\" class=\"row_heading level0 row25\" >primary_cleaner.state.floatbank8_c_air</th>\n",
       "                        <td id=\"T_c09c7_row25_col0\" class=\"data row25 col0\" >38</td>\n",
       "                        <td id=\"T_c09c7_row25_col1\" class=\"data row25 col1\" >0.23%</td>\n",
       "            </tr>\n",
       "            <tr>\n",
       "                        <th id=\"T_c09c7_level0_row26\" class=\"row_heading level0 row26\" >primary_cleaner.state.floatbank8_c_level</th>\n",
       "                        <td id=\"T_c09c7_row26_col0\" class=\"data row26 col0\" >27</td>\n",
       "                        <td id=\"T_c09c7_row26_col1\" class=\"data row26 col1\" >0.16%</td>\n",
       "            </tr>\n",
       "            <tr>\n",
       "                        <th id=\"T_c09c7_level0_row27\" class=\"row_heading level0 row27\" >primary_cleaner.state.floatbank8_d_air</th>\n",
       "                        <td id=\"T_c09c7_row27_col0\" class=\"data row27 col0\" >39</td>\n",
       "                        <td id=\"T_c09c7_row27_col1\" class=\"data row27 col1\" >0.23%</td>\n",
       "            </tr>\n",
       "            <tr>\n",
       "                        <th id=\"T_c09c7_level0_row28\" class=\"row_heading level0 row28\" >primary_cleaner.state.floatbank8_d_level</th>\n",
       "                        <td id=\"T_c09c7_row28_col0\" class=\"data row28 col0\" >27</td>\n",
       "                        <td id=\"T_c09c7_row28_col1\" class=\"data row28 col1\" >0.16%</td>\n",
       "            </tr>\n",
       "            <tr>\n",
       "                        <th id=\"T_c09c7_level0_row29\" class=\"row_heading level0 row29\" >rougher.calculation.sulfate_to_au_concentrate</th>\n",
       "                        <td id=\"T_c09c7_row29_col0\" class=\"data row29 col0\" >27</td>\n",
       "                        <td id=\"T_c09c7_row29_col1\" class=\"data row29 col1\" >0.16%</td>\n",
       "            </tr>\n",
       "            <tr>\n",
       "                        <th id=\"T_c09c7_level0_row30\" class=\"row_heading level0 row30\" >rougher.calculation.floatbank10_sulfate_to_au_feed</th>\n",
       "                        <td id=\"T_c09c7_row30_col0\" class=\"data row30 col0\" >27</td>\n",
       "                        <td id=\"T_c09c7_row30_col1\" class=\"data row30 col1\" >0.16%</td>\n",
       "            </tr>\n",
       "            <tr>\n",
       "                        <th id=\"T_c09c7_level0_row31\" class=\"row_heading level0 row31\" >rougher.calculation.floatbank11_sulfate_to_au_feed</th>\n",
       "                        <td id=\"T_c09c7_row31_col0\" class=\"data row31 col0\" >27</td>\n",
       "                        <td id=\"T_c09c7_row31_col1\" class=\"data row31 col1\" >0.16%</td>\n",
       "            </tr>\n",
       "            <tr>\n",
       "                        <th id=\"T_c09c7_level0_row32\" class=\"row_heading level0 row32\" >rougher.calculation.au_pb_ratio</th>\n",
       "                        <td id=\"T_c09c7_row32_col0\" class=\"data row32 col0\" >1242</td>\n",
       "                        <td id=\"T_c09c7_row32_col1\" class=\"data row32 col1\" >7.37%</td>\n",
       "            </tr>\n",
       "            <tr>\n",
       "                        <th id=\"T_c09c7_level0_row33\" class=\"row_heading level0 row33\" >rougher.input.feed_ag</th>\n",
       "                        <td id=\"T_c09c7_row33_col0\" class=\"data row33 col0\" >82</td>\n",
       "                        <td id=\"T_c09c7_row33_col1\" class=\"data row33 col1\" >0.49%</td>\n",
       "            </tr>\n",
       "            <tr>\n",
       "                        <th id=\"T_c09c7_level0_row34\" class=\"row_heading level0 row34\" >rougher.input.feed_pb</th>\n",
       "                        <td id=\"T_c09c7_row34_col0\" class=\"data row34 col0\" >228</td>\n",
       "                        <td id=\"T_c09c7_row34_col1\" class=\"data row34 col1\" >1.35%</td>\n",
       "            </tr>\n",
       "            <tr>\n",
       "                        <th id=\"T_c09c7_level0_row35\" class=\"row_heading level0 row35\" >rougher.input.feed_rate</th>\n",
       "                        <td id=\"T_c09c7_row35_col0\" class=\"data row35 col0\" >513</td>\n",
       "                        <td id=\"T_c09c7_row35_col1\" class=\"data row35 col1\" >3.04%</td>\n",
       "            </tr>\n",
       "            <tr>\n",
       "                        <th id=\"T_c09c7_level0_row36\" class=\"row_heading level0 row36\" >rougher.input.feed_size</th>\n",
       "                        <td id=\"T_c09c7_row36_col0\" class=\"data row36 col0\" >417</td>\n",
       "                        <td id=\"T_c09c7_row36_col1\" class=\"data row36 col1\" >2.47%</td>\n",
       "            </tr>\n",
       "            <tr>\n",
       "                        <th id=\"T_c09c7_level0_row37\" class=\"row_heading level0 row37\" >rougher.input.feed_sol</th>\n",
       "                        <td id=\"T_c09c7_row37_col0\" class=\"data row37 col0\" >292</td>\n",
       "                        <td id=\"T_c09c7_row37_col1\" class=\"data row37 col1\" >1.73%</td>\n",
       "            </tr>\n",
       "            <tr>\n",
       "                        <th id=\"T_c09c7_level0_row38\" class=\"row_heading level0 row38\" >rougher.input.feed_au</th>\n",
       "                        <td id=\"T_c09c7_row38_col0\" class=\"data row38 col0\" >83</td>\n",
       "                        <td id=\"T_c09c7_row38_col1\" class=\"data row38 col1\" >0.49%</td>\n",
       "            </tr>\n",
       "            <tr>\n",
       "                        <th id=\"T_c09c7_level0_row39\" class=\"row_heading level0 row39\" >rougher.input.floatbank10_sulfate</th>\n",
       "                        <td id=\"T_c09c7_row39_col0\" class=\"data row39 col0\" >1044</td>\n",
       "                        <td id=\"T_c09c7_row39_col1\" class=\"data row39 col1\" >6.19%</td>\n",
       "            </tr>\n",
       "            <tr>\n",
       "                        <th id=\"T_c09c7_level0_row40\" class=\"row_heading level0 row40\" >rougher.input.floatbank10_xanthate</th>\n",
       "                        <td id=\"T_c09c7_row40_col0\" class=\"data row40 col0\" >346</td>\n",
       "                        <td id=\"T_c09c7_row40_col1\" class=\"data row40 col1\" >2.05%</td>\n",
       "            </tr>\n",
       "            <tr>\n",
       "                        <th id=\"T_c09c7_level0_row41\" class=\"row_heading level0 row41\" >rougher.input.floatbank11_sulfate</th>\n",
       "                        <td id=\"T_c09c7_row41_col0\" class=\"data row41 col0\" >623</td>\n",
       "                        <td id=\"T_c09c7_row41_col1\" class=\"data row41 col1\" >3.70%</td>\n",
       "            </tr>\n",
       "            <tr>\n",
       "                        <th id=\"T_c09c7_level0_row42\" class=\"row_heading level0 row42\" >rougher.input.floatbank11_xanthate</th>\n",
       "                        <td id=\"T_c09c7_row42_col0\" class=\"data row42 col0\" >1904</td>\n",
       "                        <td id=\"T_c09c7_row42_col1\" class=\"data row42 col1\" >11.29%</td>\n",
       "            </tr>\n",
       "            <tr>\n",
       "                        <th id=\"T_c09c7_level0_row43\" class=\"row_heading level0 row43\" >rougher.output.concentrate_ag</th>\n",
       "                        <td id=\"T_c09c7_row43_col0\" class=\"data row43 col0\" >82</td>\n",
       "                        <td id=\"T_c09c7_row43_col1\" class=\"data row43 col1\" >0.49%</td>\n",
       "            </tr>\n",
       "            <tr>\n",
       "                        <th id=\"T_c09c7_level0_row44\" class=\"row_heading level0 row44\" >rougher.output.concentrate_pb</th>\n",
       "                        <td id=\"T_c09c7_row44_col0\" class=\"data row44 col0\" >82</td>\n",
       "                        <td id=\"T_c09c7_row44_col1\" class=\"data row44 col1\" >0.49%</td>\n",
       "            </tr>\n",
       "            <tr>\n",
       "                        <th id=\"T_c09c7_level0_row45\" class=\"row_heading level0 row45\" >rougher.output.concentrate_sol</th>\n",
       "                        <td id=\"T_c09c7_row45_col0\" class=\"data row45 col0\" >162</td>\n",
       "                        <td id=\"T_c09c7_row45_col1\" class=\"data row45 col1\" >0.96%</td>\n",
       "            </tr>\n",
       "            <tr>\n",
       "                        <th id=\"T_c09c7_level0_row46\" class=\"row_heading level0 row46\" >rougher.output.concentrate_au</th>\n",
       "                        <td id=\"T_c09c7_row46_col0\" class=\"data row46 col0\" >82</td>\n",
       "                        <td id=\"T_c09c7_row46_col1\" class=\"data row46 col1\" >0.49%</td>\n",
       "            </tr>\n",
       "            <tr>\n",
       "                        <th id=\"T_c09c7_level0_row47\" class=\"row_heading level0 row47\" >rougher.output.recovery</th>\n",
       "                        <td id=\"T_c09c7_row47_col0\" class=\"data row47 col0\" >2573</td>\n",
       "                        <td id=\"T_c09c7_row47_col1\" class=\"data row47 col1\" >15.26%</td>\n",
       "            </tr>\n",
       "            <tr>\n",
       "                        <th id=\"T_c09c7_level0_row48\" class=\"row_heading level0 row48\" >rougher.output.tail_ag</th>\n",
       "                        <td id=\"T_c09c7_row48_col0\" class=\"data row48 col0\" >2250</td>\n",
       "                        <td id=\"T_c09c7_row48_col1\" class=\"data row48 col1\" >13.35%</td>\n",
       "            </tr>\n",
       "            <tr>\n",
       "                        <th id=\"T_c09c7_level0_row49\" class=\"row_heading level0 row49\" >rougher.output.tail_pb</th>\n",
       "                        <td id=\"T_c09c7_row49_col0\" class=\"data row49 col0\" >82</td>\n",
       "                        <td id=\"T_c09c7_row49_col1\" class=\"data row49 col1\" >0.49%</td>\n",
       "            </tr>\n",
       "            <tr>\n",
       "                        <th id=\"T_c09c7_level0_row50\" class=\"row_heading level0 row50\" >rougher.output.tail_sol</th>\n",
       "                        <td id=\"T_c09c7_row50_col0\" class=\"data row50 col0\" >2249</td>\n",
       "                        <td id=\"T_c09c7_row50_col1\" class=\"data row50 col1\" >13.34%</td>\n",
       "            </tr>\n",
       "            <tr>\n",
       "                        <th id=\"T_c09c7_level0_row51\" class=\"row_heading level0 row51\" >rougher.output.tail_au</th>\n",
       "                        <td id=\"T_c09c7_row51_col0\" class=\"data row51 col0\" >2249</td>\n",
       "                        <td id=\"T_c09c7_row51_col1\" class=\"data row51 col1\" >13.34%</td>\n",
       "            </tr>\n",
       "            <tr>\n",
       "                        <th id=\"T_c09c7_level0_row52\" class=\"row_heading level0 row52\" >rougher.state.floatbank10_a_air</th>\n",
       "                        <td id=\"T_c09c7_row52_col0\" class=\"data row52 col0\" >53</td>\n",
       "                        <td id=\"T_c09c7_row52_col1\" class=\"data row52 col1\" >0.31%</td>\n",
       "            </tr>\n",
       "            <tr>\n",
       "                        <th id=\"T_c09c7_level0_row53\" class=\"row_heading level0 row53\" >rougher.state.floatbank10_a_level</th>\n",
       "                        <td id=\"T_c09c7_row53_col0\" class=\"data row53 col0\" >53</td>\n",
       "                        <td id=\"T_c09c7_row53_col1\" class=\"data row53 col1\" >0.31%</td>\n",
       "            </tr>\n",
       "            <tr>\n",
       "                        <th id=\"T_c09c7_level0_row54\" class=\"row_heading level0 row54\" >rougher.state.floatbank10_b_air</th>\n",
       "                        <td id=\"T_c09c7_row54_col0\" class=\"data row54 col0\" >53</td>\n",
       "                        <td id=\"T_c09c7_row54_col1\" class=\"data row54 col1\" >0.31%</td>\n",
       "            </tr>\n",
       "            <tr>\n",
       "                        <th id=\"T_c09c7_level0_row55\" class=\"row_heading level0 row55\" >rougher.state.floatbank10_b_level</th>\n",
       "                        <td id=\"T_c09c7_row55_col0\" class=\"data row55 col0\" >53</td>\n",
       "                        <td id=\"T_c09c7_row55_col1\" class=\"data row55 col1\" >0.31%</td>\n",
       "            </tr>\n",
       "            <tr>\n",
       "                        <th id=\"T_c09c7_level0_row56\" class=\"row_heading level0 row56\" >rougher.state.floatbank10_c_air</th>\n",
       "                        <td id=\"T_c09c7_row56_col0\" class=\"data row56 col0\" >53</td>\n",
       "                        <td id=\"T_c09c7_row56_col1\" class=\"data row56 col1\" >0.31%</td>\n",
       "            </tr>\n",
       "            <tr>\n",
       "                        <th id=\"T_c09c7_level0_row57\" class=\"row_heading level0 row57\" >rougher.state.floatbank10_c_level</th>\n",
       "                        <td id=\"T_c09c7_row57_col0\" class=\"data row57 col0\" >46</td>\n",
       "                        <td id=\"T_c09c7_row57_col1\" class=\"data row57 col1\" >0.27%</td>\n",
       "            </tr>\n",
       "            <tr>\n",
       "                        <th id=\"T_c09c7_level0_row58\" class=\"row_heading level0 row58\" >rougher.state.floatbank10_d_air</th>\n",
       "                        <td id=\"T_c09c7_row58_col0\" class=\"data row58 col0\" >58</td>\n",
       "                        <td id=\"T_c09c7_row58_col1\" class=\"data row58 col1\" >0.34%</td>\n",
       "            </tr>\n",
       "            <tr>\n",
       "                        <th id=\"T_c09c7_level0_row59\" class=\"row_heading level0 row59\" >rougher.state.floatbank10_d_level</th>\n",
       "                        <td id=\"T_c09c7_row59_col0\" class=\"data row59 col0\" >51</td>\n",
       "                        <td id=\"T_c09c7_row59_col1\" class=\"data row59 col1\" >0.30%</td>\n",
       "            </tr>\n",
       "            <tr>\n",
       "                        <th id=\"T_c09c7_level0_row60\" class=\"row_heading level0 row60\" >rougher.state.floatbank10_e_air</th>\n",
       "                        <td id=\"T_c09c7_row60_col0\" class=\"data row60 col0\" >603</td>\n",
       "                        <td id=\"T_c09c7_row60_col1\" class=\"data row60 col1\" >3.58%</td>\n",
       "            </tr>\n",
       "            <tr>\n",
       "                        <th id=\"T_c09c7_level0_row61\" class=\"row_heading level0 row61\" >rougher.state.floatbank10_e_level</th>\n",
       "                        <td id=\"T_c09c7_row61_col0\" class=\"data row61 col0\" >51</td>\n",
       "                        <td id=\"T_c09c7_row61_col1\" class=\"data row61 col1\" >0.30%</td>\n",
       "            </tr>\n",
       "            <tr>\n",
       "                        <th id=\"T_c09c7_level0_row62\" class=\"row_heading level0 row62\" >rougher.state.floatbank10_f_air</th>\n",
       "                        <td id=\"T_c09c7_row62_col0\" class=\"data row62 col0\" >58</td>\n",
       "                        <td id=\"T_c09c7_row62_col1\" class=\"data row62 col1\" >0.34%</td>\n",
       "            </tr>\n",
       "            <tr>\n",
       "                        <th id=\"T_c09c7_level0_row63\" class=\"row_heading level0 row63\" >rougher.state.floatbank10_f_level</th>\n",
       "                        <td id=\"T_c09c7_row63_col0\" class=\"data row63 col0\" >58</td>\n",
       "                        <td id=\"T_c09c7_row63_col1\" class=\"data row63 col1\" >0.34%</td>\n",
       "            </tr>\n",
       "            <tr>\n",
       "                        <th id=\"T_c09c7_level0_row64\" class=\"row_heading level0 row64\" >secondary_cleaner.output.tail_ag</th>\n",
       "                        <td id=\"T_c09c7_row64_col0\" class=\"data row64 col0\" >84</td>\n",
       "                        <td id=\"T_c09c7_row64_col1\" class=\"data row64 col1\" >0.50%</td>\n",
       "            </tr>\n",
       "            <tr>\n",
       "                        <th id=\"T_c09c7_level0_row65\" class=\"row_heading level0 row65\" >secondary_cleaner.output.tail_pb</th>\n",
       "                        <td id=\"T_c09c7_row65_col0\" class=\"data row65 col0\" >96</td>\n",
       "                        <td id=\"T_c09c7_row65_col1\" class=\"data row65 col1\" >0.57%</td>\n",
       "            </tr>\n",
       "            <tr>\n",
       "                        <th id=\"T_c09c7_level0_row66\" class=\"row_heading level0 row66\" >secondary_cleaner.output.tail_sol</th>\n",
       "                        <td id=\"T_c09c7_row66_col0\" class=\"data row66 col0\" >1986</td>\n",
       "                        <td id=\"T_c09c7_row66_col1\" class=\"data row66 col1\" >11.78%</td>\n",
       "            </tr>\n",
       "            <tr>\n",
       "                        <th id=\"T_c09c7_level0_row67\" class=\"row_heading level0 row67\" >secondary_cleaner.output.tail_au</th>\n",
       "                        <td id=\"T_c09c7_row67_col0\" class=\"data row67 col0\" >82</td>\n",
       "                        <td id=\"T_c09c7_row67_col1\" class=\"data row67 col1\" >0.49%</td>\n",
       "            </tr>\n",
       "            <tr>\n",
       "                        <th id=\"T_c09c7_level0_row68\" class=\"row_heading level0 row68\" >secondary_cleaner.state.floatbank2_a_air</th>\n",
       "                        <td id=\"T_c09c7_row68_col0\" class=\"data row68 col0\" >363</td>\n",
       "                        <td id=\"T_c09c7_row68_col1\" class=\"data row68 col1\" >2.15%</td>\n",
       "            </tr>\n",
       "            <tr>\n",
       "                        <th id=\"T_c09c7_level0_row69\" class=\"row_heading level0 row69\" >secondary_cleaner.state.floatbank2_a_level</th>\n",
       "                        <td id=\"T_c09c7_row69_col0\" class=\"data row69 col0\" >109</td>\n",
       "                        <td id=\"T_c09c7_row69_col1\" class=\"data row69 col1\" >0.65%</td>\n",
       "            </tr>\n",
       "            <tr>\n",
       "                        <th id=\"T_c09c7_level0_row70\" class=\"row_heading level0 row70\" >secondary_cleaner.state.floatbank2_b_air</th>\n",
       "                        <td id=\"T_c09c7_row70_col0\" class=\"data row70 col0\" >155</td>\n",
       "                        <td id=\"T_c09c7_row70_col1\" class=\"data row70 col1\" >0.92%</td>\n",
       "            </tr>\n",
       "            <tr>\n",
       "                        <th id=\"T_c09c7_level0_row71\" class=\"row_heading level0 row71\" >secondary_cleaner.state.floatbank2_b_level</th>\n",
       "                        <td id=\"T_c09c7_row71_col0\" class=\"data row71 col0\" >112</td>\n",
       "                        <td id=\"T_c09c7_row71_col1\" class=\"data row71 col1\" >0.66%</td>\n",
       "            </tr>\n",
       "            <tr>\n",
       "                        <th id=\"T_c09c7_level0_row72\" class=\"row_heading level0 row72\" >secondary_cleaner.state.floatbank3_a_air</th>\n",
       "                        <td id=\"T_c09c7_row72_col0\" class=\"data row72 col0\" >97</td>\n",
       "                        <td id=\"T_c09c7_row72_col1\" class=\"data row72 col1\" >0.58%</td>\n",
       "            </tr>\n",
       "            <tr>\n",
       "                        <th id=\"T_c09c7_level0_row73\" class=\"row_heading level0 row73\" >secondary_cleaner.state.floatbank3_a_level</th>\n",
       "                        <td id=\"T_c09c7_row73_col0\" class=\"data row73 col0\" >113</td>\n",
       "                        <td id=\"T_c09c7_row73_col1\" class=\"data row73 col1\" >0.67%</td>\n",
       "            </tr>\n",
       "            <tr>\n",
       "                        <th id=\"T_c09c7_level0_row74\" class=\"row_heading level0 row74\" >secondary_cleaner.state.floatbank3_b_air</th>\n",
       "                        <td id=\"T_c09c7_row74_col0\" class=\"data row74 col0\" >108</td>\n",
       "                        <td id=\"T_c09c7_row74_col1\" class=\"data row74 col1\" >0.64%</td>\n",
       "            </tr>\n",
       "            <tr>\n",
       "                        <th id=\"T_c09c7_level0_row75\" class=\"row_heading level0 row75\" >secondary_cleaner.state.floatbank3_b_level</th>\n",
       "                        <td id=\"T_c09c7_row75_col0\" class=\"data row75 col0\" >110</td>\n",
       "                        <td id=\"T_c09c7_row75_col1\" class=\"data row75 col1\" >0.65%</td>\n",
       "            </tr>\n",
       "            <tr>\n",
       "                        <th id=\"T_c09c7_level0_row76\" class=\"row_heading level0 row76\" >secondary_cleaner.state.floatbank4_a_air</th>\n",
       "                        <td id=\"T_c09c7_row76_col0\" class=\"data row76 col0\" >129</td>\n",
       "                        <td id=\"T_c09c7_row76_col1\" class=\"data row76 col1\" >0.77%</td>\n",
       "            </tr>\n",
       "            <tr>\n",
       "                        <th id=\"T_c09c7_level0_row77\" class=\"row_heading level0 row77\" >secondary_cleaner.state.floatbank4_a_level</th>\n",
       "                        <td id=\"T_c09c7_row77_col0\" class=\"data row77 col0\" >113</td>\n",
       "                        <td id=\"T_c09c7_row77_col1\" class=\"data row77 col1\" >0.67%</td>\n",
       "            </tr>\n",
       "            <tr>\n",
       "                        <th id=\"T_c09c7_level0_row78\" class=\"row_heading level0 row78\" >secondary_cleaner.state.floatbank4_b_air</th>\n",
       "                        <td id=\"T_c09c7_row78_col0\" class=\"data row78 col0\" >92</td>\n",
       "                        <td id=\"T_c09c7_row78_col1\" class=\"data row78 col1\" >0.55%</td>\n",
       "            </tr>\n",
       "            <tr>\n",
       "                        <th id=\"T_c09c7_level0_row79\" class=\"row_heading level0 row79\" >secondary_cleaner.state.floatbank4_b_level</th>\n",
       "                        <td id=\"T_c09c7_row79_col0\" class=\"data row79 col0\" >93</td>\n",
       "                        <td id=\"T_c09c7_row79_col1\" class=\"data row79 col1\" >0.55%</td>\n",
       "            </tr>\n",
       "            <tr>\n",
       "                        <th id=\"T_c09c7_level0_row80\" class=\"row_heading level0 row80\" >secondary_cleaner.state.floatbank5_a_air</th>\n",
       "                        <td id=\"T_c09c7_row80_col0\" class=\"data row80 col0\" >85</td>\n",
       "                        <td id=\"T_c09c7_row80_col1\" class=\"data row80 col1\" >0.50%</td>\n",
       "            </tr>\n",
       "            <tr>\n",
       "                        <th id=\"T_c09c7_level0_row81\" class=\"row_heading level0 row81\" >secondary_cleaner.state.floatbank5_a_level</th>\n",
       "                        <td id=\"T_c09c7_row81_col0\" class=\"data row81 col0\" >85</td>\n",
       "                        <td id=\"T_c09c7_row81_col1\" class=\"data row81 col1\" >0.50%</td>\n",
       "            </tr>\n",
       "            <tr>\n",
       "                        <th id=\"T_c09c7_level0_row82\" class=\"row_heading level0 row82\" >secondary_cleaner.state.floatbank5_b_air</th>\n",
       "                        <td id=\"T_c09c7_row82_col0\" class=\"data row82 col0\" >85</td>\n",
       "                        <td id=\"T_c09c7_row82_col1\" class=\"data row82 col1\" >0.50%</td>\n",
       "            </tr>\n",
       "            <tr>\n",
       "                        <th id=\"T_c09c7_level0_row83\" class=\"row_heading level0 row83\" >secondary_cleaner.state.floatbank5_b_level</th>\n",
       "                        <td id=\"T_c09c7_row83_col0\" class=\"data row83 col0\" >84</td>\n",
       "                        <td id=\"T_c09c7_row83_col1\" class=\"data row83 col1\" >0.50%</td>\n",
       "            </tr>\n",
       "            <tr>\n",
       "                        <th id=\"T_c09c7_level0_row84\" class=\"row_heading level0 row84\" >secondary_cleaner.state.floatbank6_a_air</th>\n",
       "                        <td id=\"T_c09c7_row84_col0\" class=\"data row84 col0\" >103</td>\n",
       "                        <td id=\"T_c09c7_row84_col1\" class=\"data row84 col1\" >0.61%</td>\n",
       "            </tr>\n",
       "            <tr>\n",
       "                        <th id=\"T_c09c7_level0_row85\" class=\"row_heading level0 row85\" >secondary_cleaner.state.floatbank6_a_level</th>\n",
       "                        <td id=\"T_c09c7_row85_col0\" class=\"data row85 col0\" >85</td>\n",
       "                        <td id=\"T_c09c7_row85_col1\" class=\"data row85 col1\" >0.50%</td>\n",
       "            </tr>\n",
       "    </tbody></table>"
      ],
      "text/plain": [
       "<pandas.io.formats.style.Styler at 0x7f9664afae80>"
      ]
     },
     "execution_count": 9,
     "metadata": {},
     "output_type": "execute_result"
    }
   ],
   "source": [
    "df_train_nan = pd.DataFrame(data=[df_train.isna().sum().tolist(), ['{:.2f}'.format(i)+'%' \\\n",
    "           for i in (df_train.isna().sum()/df_train.shape[0]*100).tolist()]], \n",
    "           columns=df_train.columns, index=['NaN Count', 'NaN Percent']).transpose()\n",
    "\n",
    "df_train_nan.style.background_gradient(cmap='Oranges', subset=['NaN Count'])"
   ]
  },
  {
   "cell_type": "markdown",
   "metadata": {},
   "source": [
    "<b> Training set cleaning </b>"
   ]
  },
  {
   "cell_type": "code",
   "execution_count": 10,
   "metadata": {},
   "outputs": [],
   "source": [
    "# NaN removal and Inf replacement in order to be able to calculate our recovery calculation and sMAPE correctly\n",
    "## Data was already placed into Training and Test sets, dropping NaNs here should be okay and not spill over into data leakage territory\n",
    "df_train.dropna(inplace=True)\n",
    "df_train.replace([np.inf, -np.inf], 0, inplace=True)"
   ]
  },
  {
   "cell_type": "code",
   "execution_count": 11,
   "metadata": {
    "scrolled": true
   },
   "outputs": [
    {
     "data": {
      "text/html": [
       "<style  type=\"text/css\" >\n",
       "#T_c62cd_row0_col0,#T_c62cd_row3_col0{\n",
       "            background-color:  #f7fcf5;\n",
       "            color:  #000000;\n",
       "        }#T_c62cd_row1_col0{\n",
       "            background-color:  #05712f;\n",
       "            color:  #f1f1f1;\n",
       "        }#T_c62cd_row2_col0{\n",
       "            background-color:  #147e3a;\n",
       "            color:  #f1f1f1;\n",
       "        }#T_c62cd_row4_col0{\n",
       "            background-color:  #7fc97f;\n",
       "            color:  #000000;\n",
       "        }#T_c62cd_row5_col0,#T_c62cd_row6_col0,#T_c62cd_row7_col0,#T_c62cd_row8_col0,#T_c62cd_row9_col0,#T_c62cd_row10_col0,#T_c62cd_row11_col0,#T_c62cd_row12_col0,#T_c62cd_row13_col0,#T_c62cd_row14_col0,#T_c62cd_row18_col0,#T_c62cd_row24_col0,#T_c62cd_row26_col0,#T_c62cd_row28_col0,#T_c62cd_row30_col0,#T_c62cd_row32_col0,#T_c62cd_row34_col0,#T_c62cd_row36_col0,#T_c62cd_row38_col0,#T_c62cd_row40_col0,#T_c62cd_row41_col0,#T_c62cd_row42_col0,#T_c62cd_row43_col0,#T_c62cd_row44_col0,#T_c62cd_row45_col0,#T_c62cd_row46_col0,#T_c62cd_row47_col0,#T_c62cd_row48_col0,#T_c62cd_row49_col0,#T_c62cd_row50_col0,#T_c62cd_row51_col0,#T_c62cd_row52_col0{\n",
       "            background-color:  #f1faee;\n",
       "            color:  #000000;\n",
       "        }#T_c62cd_row15_col0{\n",
       "            background-color:  #e7f6e2;\n",
       "            color:  #000000;\n",
       "        }#T_c62cd_row16_col0{\n",
       "            background-color:  #eff9eb;\n",
       "            color:  #000000;\n",
       "        }#T_c62cd_row17_col0{\n",
       "            background-color:  #d6efd0;\n",
       "            color:  #000000;\n",
       "        }#T_c62cd_row19_col0{\n",
       "            background-color:  #289049;\n",
       "            color:  #000000;\n",
       "        }#T_c62cd_row20_col0{\n",
       "            background-color:  #a9dca3;\n",
       "            color:  #000000;\n",
       "        }#T_c62cd_row21_col0{\n",
       "            background-color:  #def2d9;\n",
       "            color:  #000000;\n",
       "        }#T_c62cd_row22_col0{\n",
       "            background-color:  #00441b;\n",
       "            color:  #f1f1f1;\n",
       "        }#T_c62cd_row23_col0,#T_c62cd_row25_col0,#T_c62cd_row27_col0,#T_c62cd_row29_col0,#T_c62cd_row31_col0,#T_c62cd_row33_col0{\n",
       "            background-color:  #f0f9ed;\n",
       "            color:  #000000;\n",
       "        }#T_c62cd_row35_col0{\n",
       "            background-color:  #eff9ec;\n",
       "            color:  #000000;\n",
       "        }#T_c62cd_row37_col0{\n",
       "            background-color:  #eef8ea;\n",
       "            color:  #000000;\n",
       "        }#T_c62cd_row39_col0{\n",
       "            background-color:  #e9f7e5;\n",
       "            color:  #000000;\n",
       "        }</style><table id=\"T_c62cd_\" ><thead>    <tr>        <th class=\"blank level0\" ></th>        <th class=\"col_heading level0 col0\" >NaN Count</th>        <th class=\"col_heading level0 col1\" >NaN Percent</th>    </tr></thead><tbody>\n",
       "                <tr>\n",
       "                        <th id=\"T_c62cd_level0_row0\" class=\"row_heading level0 row0\" >date</th>\n",
       "                        <td id=\"T_c62cd_row0_col0\" class=\"data row0 col0\" >0</td>\n",
       "                        <td id=\"T_c62cd_row0_col1\" class=\"data row0 col1\" >0.00%</td>\n",
       "            </tr>\n",
       "            <tr>\n",
       "                        <th id=\"T_c62cd_level0_row1\" class=\"row_heading level0 row1\" >primary_cleaner.input.sulfate</th>\n",
       "                        <td id=\"T_c62cd_row1_col0\" class=\"data row1 col0\" >302</td>\n",
       "                        <td id=\"T_c62cd_row1_col1\" class=\"data row1 col1\" >5.16%</td>\n",
       "            </tr>\n",
       "            <tr>\n",
       "                        <th id=\"T_c62cd_level0_row2\" class=\"row_heading level0 row2\" >primary_cleaner.input.depressant</th>\n",
       "                        <td id=\"T_c62cd_row2_col0\" class=\"data row2 col0\" >284</td>\n",
       "                        <td id=\"T_c62cd_row2_col1\" class=\"data row2 col1\" >4.85%</td>\n",
       "            </tr>\n",
       "            <tr>\n",
       "                        <th id=\"T_c62cd_level0_row3\" class=\"row_heading level0 row3\" >primary_cleaner.input.feed_size</th>\n",
       "                        <td id=\"T_c62cd_row3_col0\" class=\"data row3 col0\" >0</td>\n",
       "                        <td id=\"T_c62cd_row3_col1\" class=\"data row3 col1\" >0.00%</td>\n",
       "            </tr>\n",
       "            <tr>\n",
       "                        <th id=\"T_c62cd_level0_row4\" class=\"row_heading level0 row4\" >primary_cleaner.input.xanthate</th>\n",
       "                        <td id=\"T_c62cd_row4_col0\" class=\"data row4 col0\" >166</td>\n",
       "                        <td id=\"T_c62cd_row4_col1\" class=\"data row4 col1\" >2.83%</td>\n",
       "            </tr>\n",
       "            <tr>\n",
       "                        <th id=\"T_c62cd_level0_row5\" class=\"row_heading level0 row5\" >primary_cleaner.state.floatbank8_a_air</th>\n",
       "                        <td id=\"T_c62cd_row5_col0\" class=\"data row5 col0\" >16</td>\n",
       "                        <td id=\"T_c62cd_row5_col1\" class=\"data row5 col1\" >0.27%</td>\n",
       "            </tr>\n",
       "            <tr>\n",
       "                        <th id=\"T_c62cd_level0_row6\" class=\"row_heading level0 row6\" >primary_cleaner.state.floatbank8_a_level</th>\n",
       "                        <td id=\"T_c62cd_row6_col0\" class=\"data row6 col0\" >16</td>\n",
       "                        <td id=\"T_c62cd_row6_col1\" class=\"data row6 col1\" >0.27%</td>\n",
       "            </tr>\n",
       "            <tr>\n",
       "                        <th id=\"T_c62cd_level0_row7\" class=\"row_heading level0 row7\" >primary_cleaner.state.floatbank8_b_air</th>\n",
       "                        <td id=\"T_c62cd_row7_col0\" class=\"data row7 col0\" >16</td>\n",
       "                        <td id=\"T_c62cd_row7_col1\" class=\"data row7 col1\" >0.27%</td>\n",
       "            </tr>\n",
       "            <tr>\n",
       "                        <th id=\"T_c62cd_level0_row8\" class=\"row_heading level0 row8\" >primary_cleaner.state.floatbank8_b_level</th>\n",
       "                        <td id=\"T_c62cd_row8_col0\" class=\"data row8 col0\" >16</td>\n",
       "                        <td id=\"T_c62cd_row8_col1\" class=\"data row8 col1\" >0.27%</td>\n",
       "            </tr>\n",
       "            <tr>\n",
       "                        <th id=\"T_c62cd_level0_row9\" class=\"row_heading level0 row9\" >primary_cleaner.state.floatbank8_c_air</th>\n",
       "                        <td id=\"T_c62cd_row9_col0\" class=\"data row9 col0\" >16</td>\n",
       "                        <td id=\"T_c62cd_row9_col1\" class=\"data row9 col1\" >0.27%</td>\n",
       "            </tr>\n",
       "            <tr>\n",
       "                        <th id=\"T_c62cd_level0_row10\" class=\"row_heading level0 row10\" >primary_cleaner.state.floatbank8_c_level</th>\n",
       "                        <td id=\"T_c62cd_row10_col0\" class=\"data row10 col0\" >16</td>\n",
       "                        <td id=\"T_c62cd_row10_col1\" class=\"data row10 col1\" >0.27%</td>\n",
       "            </tr>\n",
       "            <tr>\n",
       "                        <th id=\"T_c62cd_level0_row11\" class=\"row_heading level0 row11\" >primary_cleaner.state.floatbank8_d_air</th>\n",
       "                        <td id=\"T_c62cd_row11_col0\" class=\"data row11 col0\" >16</td>\n",
       "                        <td id=\"T_c62cd_row11_col1\" class=\"data row11 col1\" >0.27%</td>\n",
       "            </tr>\n",
       "            <tr>\n",
       "                        <th id=\"T_c62cd_level0_row12\" class=\"row_heading level0 row12\" >primary_cleaner.state.floatbank8_d_level</th>\n",
       "                        <td id=\"T_c62cd_row12_col0\" class=\"data row12 col0\" >16</td>\n",
       "                        <td id=\"T_c62cd_row12_col1\" class=\"data row12 col1\" >0.27%</td>\n",
       "            </tr>\n",
       "            <tr>\n",
       "                        <th id=\"T_c62cd_level0_row13\" class=\"row_heading level0 row13\" >rougher.input.feed_ag</th>\n",
       "                        <td id=\"T_c62cd_row13_col0\" class=\"data row13 col0\" >16</td>\n",
       "                        <td id=\"T_c62cd_row13_col1\" class=\"data row13 col1\" >0.27%</td>\n",
       "            </tr>\n",
       "            <tr>\n",
       "                        <th id=\"T_c62cd_level0_row14\" class=\"row_heading level0 row14\" >rougher.input.feed_pb</th>\n",
       "                        <td id=\"T_c62cd_row14_col0\" class=\"data row14 col0\" >16</td>\n",
       "                        <td id=\"T_c62cd_row14_col1\" class=\"data row14 col1\" >0.27%</td>\n",
       "            </tr>\n",
       "            <tr>\n",
       "                        <th id=\"T_c62cd_level0_row15\" class=\"row_heading level0 row15\" >rougher.input.feed_rate</th>\n",
       "                        <td id=\"T_c62cd_row15_col0\" class=\"data row15 col0\" >40</td>\n",
       "                        <td id=\"T_c62cd_row15_col1\" class=\"data row15 col1\" >0.68%</td>\n",
       "            </tr>\n",
       "            <tr>\n",
       "                        <th id=\"T_c62cd_level0_row16\" class=\"row_heading level0 row16\" >rougher.input.feed_size</th>\n",
       "                        <td id=\"T_c62cd_row16_col0\" class=\"data row16 col0\" >22</td>\n",
       "                        <td id=\"T_c62cd_row16_col1\" class=\"data row16 col1\" >0.38%</td>\n",
       "            </tr>\n",
       "            <tr>\n",
       "                        <th id=\"T_c62cd_level0_row17\" class=\"row_heading level0 row17\" >rougher.input.feed_sol</th>\n",
       "                        <td id=\"T_c62cd_row17_col0\" class=\"data row17 col0\" >67</td>\n",
       "                        <td id=\"T_c62cd_row17_col1\" class=\"data row17 col1\" >1.14%</td>\n",
       "            </tr>\n",
       "            <tr>\n",
       "                        <th id=\"T_c62cd_level0_row18\" class=\"row_heading level0 row18\" >rougher.input.feed_au</th>\n",
       "                        <td id=\"T_c62cd_row18_col0\" class=\"data row18 col0\" >16</td>\n",
       "                        <td id=\"T_c62cd_row18_col1\" class=\"data row18 col1\" >0.27%</td>\n",
       "            </tr>\n",
       "            <tr>\n",
       "                        <th id=\"T_c62cd_level0_row19\" class=\"row_heading level0 row19\" >rougher.input.floatbank10_sulfate</th>\n",
       "                        <td id=\"T_c62cd_row19_col0\" class=\"data row19 col0\" >257</td>\n",
       "                        <td id=\"T_c62cd_row19_col1\" class=\"data row19 col1\" >4.39%</td>\n",
       "            </tr>\n",
       "            <tr>\n",
       "                        <th id=\"T_c62cd_level0_row20\" class=\"row_heading level0 row20\" >rougher.input.floatbank10_xanthate</th>\n",
       "                        <td id=\"T_c62cd_row20_col0\" class=\"data row20 col0\" >123</td>\n",
       "                        <td id=\"T_c62cd_row20_col1\" class=\"data row20 col1\" >2.10%</td>\n",
       "            </tr>\n",
       "            <tr>\n",
       "                        <th id=\"T_c62cd_level0_row21\" class=\"row_heading level0 row21\" >rougher.input.floatbank11_sulfate</th>\n",
       "                        <td id=\"T_c62cd_row21_col0\" class=\"data row21 col0\" >55</td>\n",
       "                        <td id=\"T_c62cd_row21_col1\" class=\"data row21 col1\" >0.94%</td>\n",
       "            </tr>\n",
       "            <tr>\n",
       "                        <th id=\"T_c62cd_level0_row22\" class=\"row_heading level0 row22\" >rougher.input.floatbank11_xanthate</th>\n",
       "                        <td id=\"T_c62cd_row22_col0\" class=\"data row22 col0\" >353</td>\n",
       "                        <td id=\"T_c62cd_row22_col1\" class=\"data row22 col1\" >6.03%</td>\n",
       "            </tr>\n",
       "            <tr>\n",
       "                        <th id=\"T_c62cd_level0_row23\" class=\"row_heading level0 row23\" >rougher.state.floatbank10_a_air</th>\n",
       "                        <td id=\"T_c62cd_row23_col0\" class=\"data row23 col0\" >17</td>\n",
       "                        <td id=\"T_c62cd_row23_col1\" class=\"data row23 col1\" >0.29%</td>\n",
       "            </tr>\n",
       "            <tr>\n",
       "                        <th id=\"T_c62cd_level0_row24\" class=\"row_heading level0 row24\" >rougher.state.floatbank10_a_level</th>\n",
       "                        <td id=\"T_c62cd_row24_col0\" class=\"data row24 col0\" >16</td>\n",
       "                        <td id=\"T_c62cd_row24_col1\" class=\"data row24 col1\" >0.27%</td>\n",
       "            </tr>\n",
       "            <tr>\n",
       "                        <th id=\"T_c62cd_level0_row25\" class=\"row_heading level0 row25\" >rougher.state.floatbank10_b_air</th>\n",
       "                        <td id=\"T_c62cd_row25_col0\" class=\"data row25 col0\" >17</td>\n",
       "                        <td id=\"T_c62cd_row25_col1\" class=\"data row25 col1\" >0.29%</td>\n",
       "            </tr>\n",
       "            <tr>\n",
       "                        <th id=\"T_c62cd_level0_row26\" class=\"row_heading level0 row26\" >rougher.state.floatbank10_b_level</th>\n",
       "                        <td id=\"T_c62cd_row26_col0\" class=\"data row26 col0\" >16</td>\n",
       "                        <td id=\"T_c62cd_row26_col1\" class=\"data row26 col1\" >0.27%</td>\n",
       "            </tr>\n",
       "            <tr>\n",
       "                        <th id=\"T_c62cd_level0_row27\" class=\"row_heading level0 row27\" >rougher.state.floatbank10_c_air</th>\n",
       "                        <td id=\"T_c62cd_row27_col0\" class=\"data row27 col0\" >17</td>\n",
       "                        <td id=\"T_c62cd_row27_col1\" class=\"data row27 col1\" >0.29%</td>\n",
       "            </tr>\n",
       "            <tr>\n",
       "                        <th id=\"T_c62cd_level0_row28\" class=\"row_heading level0 row28\" >rougher.state.floatbank10_c_level</th>\n",
       "                        <td id=\"T_c62cd_row28_col0\" class=\"data row28 col0\" >16</td>\n",
       "                        <td id=\"T_c62cd_row28_col1\" class=\"data row28 col1\" >0.27%</td>\n",
       "            </tr>\n",
       "            <tr>\n",
       "                        <th id=\"T_c62cd_level0_row29\" class=\"row_heading level0 row29\" >rougher.state.floatbank10_d_air</th>\n",
       "                        <td id=\"T_c62cd_row29_col0\" class=\"data row29 col0\" >17</td>\n",
       "                        <td id=\"T_c62cd_row29_col1\" class=\"data row29 col1\" >0.29%</td>\n",
       "            </tr>\n",
       "            <tr>\n",
       "                        <th id=\"T_c62cd_level0_row30\" class=\"row_heading level0 row30\" >rougher.state.floatbank10_d_level</th>\n",
       "                        <td id=\"T_c62cd_row30_col0\" class=\"data row30 col0\" >16</td>\n",
       "                        <td id=\"T_c62cd_row30_col1\" class=\"data row30 col1\" >0.27%</td>\n",
       "            </tr>\n",
       "            <tr>\n",
       "                        <th id=\"T_c62cd_level0_row31\" class=\"row_heading level0 row31\" >rougher.state.floatbank10_e_air</th>\n",
       "                        <td id=\"T_c62cd_row31_col0\" class=\"data row31 col0\" >17</td>\n",
       "                        <td id=\"T_c62cd_row31_col1\" class=\"data row31 col1\" >0.29%</td>\n",
       "            </tr>\n",
       "            <tr>\n",
       "                        <th id=\"T_c62cd_level0_row32\" class=\"row_heading level0 row32\" >rougher.state.floatbank10_e_level</th>\n",
       "                        <td id=\"T_c62cd_row32_col0\" class=\"data row32 col0\" >16</td>\n",
       "                        <td id=\"T_c62cd_row32_col1\" class=\"data row32 col1\" >0.27%</td>\n",
       "            </tr>\n",
       "            <tr>\n",
       "                        <th id=\"T_c62cd_level0_row33\" class=\"row_heading level0 row33\" >rougher.state.floatbank10_f_air</th>\n",
       "                        <td id=\"T_c62cd_row33_col0\" class=\"data row33 col0\" >17</td>\n",
       "                        <td id=\"T_c62cd_row33_col1\" class=\"data row33 col1\" >0.29%</td>\n",
       "            </tr>\n",
       "            <tr>\n",
       "                        <th id=\"T_c62cd_level0_row34\" class=\"row_heading level0 row34\" >rougher.state.floatbank10_f_level</th>\n",
       "                        <td id=\"T_c62cd_row34_col0\" class=\"data row34 col0\" >16</td>\n",
       "                        <td id=\"T_c62cd_row34_col1\" class=\"data row34 col1\" >0.27%</td>\n",
       "            </tr>\n",
       "            <tr>\n",
       "                        <th id=\"T_c62cd_level0_row35\" class=\"row_heading level0 row35\" >secondary_cleaner.state.floatbank2_a_air</th>\n",
       "                        <td id=\"T_c62cd_row35_col0\" class=\"data row35 col0\" >20</td>\n",
       "                        <td id=\"T_c62cd_row35_col1\" class=\"data row35 col1\" >0.34%</td>\n",
       "            </tr>\n",
       "            <tr>\n",
       "                        <th id=\"T_c62cd_level0_row36\" class=\"row_heading level0 row36\" >secondary_cleaner.state.floatbank2_a_level</th>\n",
       "                        <td id=\"T_c62cd_row36_col0\" class=\"data row36 col0\" >16</td>\n",
       "                        <td id=\"T_c62cd_row36_col1\" class=\"data row36 col1\" >0.27%</td>\n",
       "            </tr>\n",
       "            <tr>\n",
       "                        <th id=\"T_c62cd_level0_row37\" class=\"row_heading level0 row37\" >secondary_cleaner.state.floatbank2_b_air</th>\n",
       "                        <td id=\"T_c62cd_row37_col0\" class=\"data row37 col0\" >23</td>\n",
       "                        <td id=\"T_c62cd_row37_col1\" class=\"data row37 col1\" >0.39%</td>\n",
       "            </tr>\n",
       "            <tr>\n",
       "                        <th id=\"T_c62cd_level0_row38\" class=\"row_heading level0 row38\" >secondary_cleaner.state.floatbank2_b_level</th>\n",
       "                        <td id=\"T_c62cd_row38_col0\" class=\"data row38 col0\" >16</td>\n",
       "                        <td id=\"T_c62cd_row38_col1\" class=\"data row38 col1\" >0.27%</td>\n",
       "            </tr>\n",
       "            <tr>\n",
       "                        <th id=\"T_c62cd_level0_row39\" class=\"row_heading level0 row39\" >secondary_cleaner.state.floatbank3_a_air</th>\n",
       "                        <td id=\"T_c62cd_row39_col0\" class=\"data row39 col0\" >34</td>\n",
       "                        <td id=\"T_c62cd_row39_col1\" class=\"data row39 col1\" >0.58%</td>\n",
       "            </tr>\n",
       "            <tr>\n",
       "                        <th id=\"T_c62cd_level0_row40\" class=\"row_heading level0 row40\" >secondary_cleaner.state.floatbank3_a_level</th>\n",
       "                        <td id=\"T_c62cd_row40_col0\" class=\"data row40 col0\" >16</td>\n",
       "                        <td id=\"T_c62cd_row40_col1\" class=\"data row40 col1\" >0.27%</td>\n",
       "            </tr>\n",
       "            <tr>\n",
       "                        <th id=\"T_c62cd_level0_row41\" class=\"row_heading level0 row41\" >secondary_cleaner.state.floatbank3_b_air</th>\n",
       "                        <td id=\"T_c62cd_row41_col0\" class=\"data row41 col0\" >16</td>\n",
       "                        <td id=\"T_c62cd_row41_col1\" class=\"data row41 col1\" >0.27%</td>\n",
       "            </tr>\n",
       "            <tr>\n",
       "                        <th id=\"T_c62cd_level0_row42\" class=\"row_heading level0 row42\" >secondary_cleaner.state.floatbank3_b_level</th>\n",
       "                        <td id=\"T_c62cd_row42_col0\" class=\"data row42 col0\" >16</td>\n",
       "                        <td id=\"T_c62cd_row42_col1\" class=\"data row42 col1\" >0.27%</td>\n",
       "            </tr>\n",
       "            <tr>\n",
       "                        <th id=\"T_c62cd_level0_row43\" class=\"row_heading level0 row43\" >secondary_cleaner.state.floatbank4_a_air</th>\n",
       "                        <td id=\"T_c62cd_row43_col0\" class=\"data row43 col0\" >16</td>\n",
       "                        <td id=\"T_c62cd_row43_col1\" class=\"data row43 col1\" >0.27%</td>\n",
       "            </tr>\n",
       "            <tr>\n",
       "                        <th id=\"T_c62cd_level0_row44\" class=\"row_heading level0 row44\" >secondary_cleaner.state.floatbank4_a_level</th>\n",
       "                        <td id=\"T_c62cd_row44_col0\" class=\"data row44 col0\" >16</td>\n",
       "                        <td id=\"T_c62cd_row44_col1\" class=\"data row44 col1\" >0.27%</td>\n",
       "            </tr>\n",
       "            <tr>\n",
       "                        <th id=\"T_c62cd_level0_row45\" class=\"row_heading level0 row45\" >secondary_cleaner.state.floatbank4_b_air</th>\n",
       "                        <td id=\"T_c62cd_row45_col0\" class=\"data row45 col0\" >16</td>\n",
       "                        <td id=\"T_c62cd_row45_col1\" class=\"data row45 col1\" >0.27%</td>\n",
       "            </tr>\n",
       "            <tr>\n",
       "                        <th id=\"T_c62cd_level0_row46\" class=\"row_heading level0 row46\" >secondary_cleaner.state.floatbank4_b_level</th>\n",
       "                        <td id=\"T_c62cd_row46_col0\" class=\"data row46 col0\" >16</td>\n",
       "                        <td id=\"T_c62cd_row46_col1\" class=\"data row46 col1\" >0.27%</td>\n",
       "            </tr>\n",
       "            <tr>\n",
       "                        <th id=\"T_c62cd_level0_row47\" class=\"row_heading level0 row47\" >secondary_cleaner.state.floatbank5_a_air</th>\n",
       "                        <td id=\"T_c62cd_row47_col0\" class=\"data row47 col0\" >16</td>\n",
       "                        <td id=\"T_c62cd_row47_col1\" class=\"data row47 col1\" >0.27%</td>\n",
       "            </tr>\n",
       "            <tr>\n",
       "                        <th id=\"T_c62cd_level0_row48\" class=\"row_heading level0 row48\" >secondary_cleaner.state.floatbank5_a_level</th>\n",
       "                        <td id=\"T_c62cd_row48_col0\" class=\"data row48 col0\" >16</td>\n",
       "                        <td id=\"T_c62cd_row48_col1\" class=\"data row48 col1\" >0.27%</td>\n",
       "            </tr>\n",
       "            <tr>\n",
       "                        <th id=\"T_c62cd_level0_row49\" class=\"row_heading level0 row49\" >secondary_cleaner.state.floatbank5_b_air</th>\n",
       "                        <td id=\"T_c62cd_row49_col0\" class=\"data row49 col0\" >16</td>\n",
       "                        <td id=\"T_c62cd_row49_col1\" class=\"data row49 col1\" >0.27%</td>\n",
       "            </tr>\n",
       "            <tr>\n",
       "                        <th id=\"T_c62cd_level0_row50\" class=\"row_heading level0 row50\" >secondary_cleaner.state.floatbank5_b_level</th>\n",
       "                        <td id=\"T_c62cd_row50_col0\" class=\"data row50 col0\" >16</td>\n",
       "                        <td id=\"T_c62cd_row50_col1\" class=\"data row50 col1\" >0.27%</td>\n",
       "            </tr>\n",
       "            <tr>\n",
       "                        <th id=\"T_c62cd_level0_row51\" class=\"row_heading level0 row51\" >secondary_cleaner.state.floatbank6_a_air</th>\n",
       "                        <td id=\"T_c62cd_row51_col0\" class=\"data row51 col0\" >16</td>\n",
       "                        <td id=\"T_c62cd_row51_col1\" class=\"data row51 col1\" >0.27%</td>\n",
       "            </tr>\n",
       "            <tr>\n",
       "                        <th id=\"T_c62cd_level0_row52\" class=\"row_heading level0 row52\" >secondary_cleaner.state.floatbank6_a_level</th>\n",
       "                        <td id=\"T_c62cd_row52_col0\" class=\"data row52 col0\" >16</td>\n",
       "                        <td id=\"T_c62cd_row52_col1\" class=\"data row52 col1\" >0.27%</td>\n",
       "            </tr>\n",
       "    </tbody></table>"
      ],
      "text/plain": [
       "<pandas.io.formats.style.Styler at 0x7f9668443160>"
      ]
     },
     "execution_count": 11,
     "metadata": {},
     "output_type": "execute_result"
    }
   ],
   "source": [
    "df_test_nan = pd.DataFrame(data=[df_test.isna().sum().tolist(), ['{:.2f}'.format(i)+'%' \\\n",
    "           for i in (df_test.isna().sum()/df_test.shape[0]*100).tolist()]], \n",
    "           columns=df_test.columns, index=['NaN Count', 'NaN Percent']).transpose()\n",
    "\n",
    "df_test_nan.style.background_gradient(cmap='Greens', subset=['NaN Count'])"
   ]
  },
  {
   "cell_type": "markdown",
   "metadata": {},
   "source": [
    "<b> Descriptive statistics </b>"
   ]
  },
  {
   "cell_type": "code",
   "execution_count": 12,
   "metadata": {},
   "outputs": [
    {
     "data": {
      "text/html": [
       "<div>\n",
       "<style scoped>\n",
       "    .dataframe tbody tr th:only-of-type {\n",
       "        vertical-align: middle;\n",
       "    }\n",
       "\n",
       "    .dataframe tbody tr th {\n",
       "        vertical-align: top;\n",
       "    }\n",
       "\n",
       "    .dataframe thead th {\n",
       "        text-align: right;\n",
       "    }\n",
       "</style>\n",
       "<table border=\"1\" class=\"dataframe\">\n",
       "  <thead>\n",
       "    <tr style=\"text-align: right;\">\n",
       "      <th></th>\n",
       "      <th>final.output.concentrate_ag</th>\n",
       "      <th>final.output.concentrate_pb</th>\n",
       "      <th>final.output.concentrate_sol</th>\n",
       "      <th>final.output.concentrate_au</th>\n",
       "      <th>final.output.recovery</th>\n",
       "      <th>final.output.tail_ag</th>\n",
       "      <th>final.output.tail_pb</th>\n",
       "      <th>final.output.tail_sol</th>\n",
       "      <th>final.output.tail_au</th>\n",
       "      <th>primary_cleaner.input.sulfate</th>\n",
       "      <th>...</th>\n",
       "      <th>secondary_cleaner.state.floatbank4_a_air</th>\n",
       "      <th>secondary_cleaner.state.floatbank4_a_level</th>\n",
       "      <th>secondary_cleaner.state.floatbank4_b_air</th>\n",
       "      <th>secondary_cleaner.state.floatbank4_b_level</th>\n",
       "      <th>secondary_cleaner.state.floatbank5_a_air</th>\n",
       "      <th>secondary_cleaner.state.floatbank5_a_level</th>\n",
       "      <th>secondary_cleaner.state.floatbank5_b_air</th>\n",
       "      <th>secondary_cleaner.state.floatbank5_b_level</th>\n",
       "      <th>secondary_cleaner.state.floatbank6_a_air</th>\n",
       "      <th>secondary_cleaner.state.floatbank6_a_level</th>\n",
       "    </tr>\n",
       "  </thead>\n",
       "  <tbody>\n",
       "    <tr>\n",
       "      <th>count</th>\n",
       "      <td>22627.000000</td>\n",
       "      <td>22629.000000</td>\n",
       "      <td>22331.000000</td>\n",
       "      <td>22630.000000</td>\n",
       "      <td>20753.000000</td>\n",
       "      <td>22633.000000</td>\n",
       "      <td>22516.000000</td>\n",
       "      <td>22445.000000</td>\n",
       "      <td>22635.000000</td>\n",
       "      <td>21107.000000</td>\n",
       "      <td>...</td>\n",
       "      <td>22571.000000</td>\n",
       "      <td>22587.000000</td>\n",
       "      <td>22608.000000</td>\n",
       "      <td>22607.000000</td>\n",
       "      <td>22615.000000</td>\n",
       "      <td>22615.000000</td>\n",
       "      <td>22615.000000</td>\n",
       "      <td>22616.000000</td>\n",
       "      <td>22597.000000</td>\n",
       "      <td>22615.000000</td>\n",
       "    </tr>\n",
       "    <tr>\n",
       "      <th>mean</th>\n",
       "      <td>4.781559</td>\n",
       "      <td>9.095308</td>\n",
       "      <td>8.640317</td>\n",
       "      <td>40.001172</td>\n",
       "      <td>67.447488</td>\n",
       "      <td>8.923690</td>\n",
       "      <td>2.488252</td>\n",
       "      <td>9.523632</td>\n",
       "      <td>2.827459</td>\n",
       "      <td>140.277672</td>\n",
       "      <td>...</td>\n",
       "      <td>18.205125</td>\n",
       "      <td>-499.878977</td>\n",
       "      <td>14.356474</td>\n",
       "      <td>-476.532613</td>\n",
       "      <td>14.883276</td>\n",
       "      <td>-503.323288</td>\n",
       "      <td>11.626743</td>\n",
       "      <td>-500.521502</td>\n",
       "      <td>17.976810</td>\n",
       "      <td>-519.361465</td>\n",
       "    </tr>\n",
       "    <tr>\n",
       "      <th>std</th>\n",
       "      <td>2.030128</td>\n",
       "      <td>3.230797</td>\n",
       "      <td>3.785035</td>\n",
       "      <td>13.398062</td>\n",
       "      <td>11.616034</td>\n",
       "      <td>3.517917</td>\n",
       "      <td>1.189407</td>\n",
       "      <td>4.079739</td>\n",
       "      <td>1.262834</td>\n",
       "      <td>49.919004</td>\n",
       "      <td>...</td>\n",
       "      <td>6.560700</td>\n",
       "      <td>80.273964</td>\n",
       "      <td>5.655791</td>\n",
       "      <td>93.822791</td>\n",
       "      <td>6.372811</td>\n",
       "      <td>72.925589</td>\n",
       "      <td>5.757449</td>\n",
       "      <td>78.956292</td>\n",
       "      <td>6.636203</td>\n",
       "      <td>75.477151</td>\n",
       "    </tr>\n",
       "    <tr>\n",
       "      <th>min</th>\n",
       "      <td>0.000000</td>\n",
       "      <td>0.000000</td>\n",
       "      <td>0.000000</td>\n",
       "      <td>0.000000</td>\n",
       "      <td>0.000000</td>\n",
       "      <td>0.000000</td>\n",
       "      <td>0.000000</td>\n",
       "      <td>0.000000</td>\n",
       "      <td>0.000000</td>\n",
       "      <td>0.000003</td>\n",
       "      <td>...</td>\n",
       "      <td>0.000000</td>\n",
       "      <td>-799.920713</td>\n",
       "      <td>0.000000</td>\n",
       "      <td>-800.836914</td>\n",
       "      <td>-0.423260</td>\n",
       "      <td>-799.741097</td>\n",
       "      <td>0.427084</td>\n",
       "      <td>-800.258209</td>\n",
       "      <td>-0.079426</td>\n",
       "      <td>-810.473526</td>\n",
       "    </tr>\n",
       "    <tr>\n",
       "      <th>25%</th>\n",
       "      <td>4.018525</td>\n",
       "      <td>8.750171</td>\n",
       "      <td>7.116799</td>\n",
       "      <td>42.383721</td>\n",
       "      <td>63.282393</td>\n",
       "      <td>7.684016</td>\n",
       "      <td>1.805376</td>\n",
       "      <td>8.143576</td>\n",
       "      <td>2.303108</td>\n",
       "      <td>110.177081</td>\n",
       "      <td>...</td>\n",
       "      <td>14.095940</td>\n",
       "      <td>-500.896232</td>\n",
       "      <td>10.882675</td>\n",
       "      <td>-500.309169</td>\n",
       "      <td>10.941299</td>\n",
       "      <td>-500.628697</td>\n",
       "      <td>8.037533</td>\n",
       "      <td>-500.167897</td>\n",
       "      <td>13.968418</td>\n",
       "      <td>-500.981671</td>\n",
       "    </tr>\n",
       "    <tr>\n",
       "      <th>50%</th>\n",
       "      <td>4.953729</td>\n",
       "      <td>9.914519</td>\n",
       "      <td>8.908792</td>\n",
       "      <td>44.653436</td>\n",
       "      <td>68.322258</td>\n",
       "      <td>9.484369</td>\n",
       "      <td>2.653001</td>\n",
       "      <td>10.212998</td>\n",
       "      <td>2.913794</td>\n",
       "      <td>141.330501</td>\n",
       "      <td>...</td>\n",
       "      <td>18.007326</td>\n",
       "      <td>-499.917108</td>\n",
       "      <td>14.947646</td>\n",
       "      <td>-499.612292</td>\n",
       "      <td>14.859117</td>\n",
       "      <td>-499.865158</td>\n",
       "      <td>10.989756</td>\n",
       "      <td>-499.951980</td>\n",
       "      <td>18.004215</td>\n",
       "      <td>-500.095463</td>\n",
       "    </tr>\n",
       "    <tr>\n",
       "      <th>75%</th>\n",
       "      <td>5.862593</td>\n",
       "      <td>10.929839</td>\n",
       "      <td>10.705824</td>\n",
       "      <td>46.111999</td>\n",
       "      <td>72.950836</td>\n",
       "      <td>11.084557</td>\n",
       "      <td>3.287790</td>\n",
       "      <td>11.860824</td>\n",
       "      <td>3.555077</td>\n",
       "      <td>174.049914</td>\n",
       "      <td>...</td>\n",
       "      <td>22.998194</td>\n",
       "      <td>-498.361545</td>\n",
       "      <td>17.977502</td>\n",
       "      <td>-400.224147</td>\n",
       "      <td>18.014914</td>\n",
       "      <td>-498.489381</td>\n",
       "      <td>14.001193</td>\n",
       "      <td>-499.492354</td>\n",
       "      <td>23.009704</td>\n",
       "      <td>-499.526388</td>\n",
       "    </tr>\n",
       "    <tr>\n",
       "      <th>max</th>\n",
       "      <td>16.001945</td>\n",
       "      <td>17.031899</td>\n",
       "      <td>19.615720</td>\n",
       "      <td>53.611374</td>\n",
       "      <td>100.000000</td>\n",
       "      <td>19.552149</td>\n",
       "      <td>6.086532</td>\n",
       "      <td>22.861749</td>\n",
       "      <td>9.789625</td>\n",
       "      <td>274.409626</td>\n",
       "      <td>...</td>\n",
       "      <td>60.000000</td>\n",
       "      <td>-127.692333</td>\n",
       "      <td>31.269706</td>\n",
       "      <td>-6.506986</td>\n",
       "      <td>63.116298</td>\n",
       "      <td>-244.483566</td>\n",
       "      <td>39.846228</td>\n",
       "      <td>-120.190931</td>\n",
       "      <td>54.876806</td>\n",
       "      <td>-29.093593</td>\n",
       "    </tr>\n",
       "  </tbody>\n",
       "</table>\n",
       "<p>8 rows × 86 columns</p>\n",
       "</div>"
      ],
      "text/plain": [
       "       final.output.concentrate_ag  final.output.concentrate_pb  \\\n",
       "count                 22627.000000                 22629.000000   \n",
       "mean                      4.781559                     9.095308   \n",
       "std                       2.030128                     3.230797   \n",
       "min                       0.000000                     0.000000   \n",
       "25%                       4.018525                     8.750171   \n",
       "50%                       4.953729                     9.914519   \n",
       "75%                       5.862593                    10.929839   \n",
       "max                      16.001945                    17.031899   \n",
       "\n",
       "       final.output.concentrate_sol  final.output.concentrate_au  \\\n",
       "count                  22331.000000                 22630.000000   \n",
       "mean                       8.640317                    40.001172   \n",
       "std                        3.785035                    13.398062   \n",
       "min                        0.000000                     0.000000   \n",
       "25%                        7.116799                    42.383721   \n",
       "50%                        8.908792                    44.653436   \n",
       "75%                       10.705824                    46.111999   \n",
       "max                       19.615720                    53.611374   \n",
       "\n",
       "       final.output.recovery  final.output.tail_ag  final.output.tail_pb  \\\n",
       "count           20753.000000          22633.000000          22516.000000   \n",
       "mean               67.447488              8.923690              2.488252   \n",
       "std                11.616034              3.517917              1.189407   \n",
       "min                 0.000000              0.000000              0.000000   \n",
       "25%                63.282393              7.684016              1.805376   \n",
       "50%                68.322258              9.484369              2.653001   \n",
       "75%                72.950836             11.084557              3.287790   \n",
       "max               100.000000             19.552149              6.086532   \n",
       "\n",
       "       final.output.tail_sol  final.output.tail_au  \\\n",
       "count           22445.000000          22635.000000   \n",
       "mean                9.523632              2.827459   \n",
       "std                 4.079739              1.262834   \n",
       "min                 0.000000              0.000000   \n",
       "25%                 8.143576              2.303108   \n",
       "50%                10.212998              2.913794   \n",
       "75%                11.860824              3.555077   \n",
       "max                22.861749              9.789625   \n",
       "\n",
       "       primary_cleaner.input.sulfate  ...  \\\n",
       "count                   21107.000000  ...   \n",
       "mean                      140.277672  ...   \n",
       "std                        49.919004  ...   \n",
       "min                         0.000003  ...   \n",
       "25%                       110.177081  ...   \n",
       "50%                       141.330501  ...   \n",
       "75%                       174.049914  ...   \n",
       "max                       274.409626  ...   \n",
       "\n",
       "       secondary_cleaner.state.floatbank4_a_air  \\\n",
       "count                              22571.000000   \n",
       "mean                                  18.205125   \n",
       "std                                    6.560700   \n",
       "min                                    0.000000   \n",
       "25%                                   14.095940   \n",
       "50%                                   18.007326   \n",
       "75%                                   22.998194   \n",
       "max                                   60.000000   \n",
       "\n",
       "       secondary_cleaner.state.floatbank4_a_level  \\\n",
       "count                                22587.000000   \n",
       "mean                                  -499.878977   \n",
       "std                                     80.273964   \n",
       "min                                   -799.920713   \n",
       "25%                                   -500.896232   \n",
       "50%                                   -499.917108   \n",
       "75%                                   -498.361545   \n",
       "max                                   -127.692333   \n",
       "\n",
       "       secondary_cleaner.state.floatbank4_b_air  \\\n",
       "count                              22608.000000   \n",
       "mean                                  14.356474   \n",
       "std                                    5.655791   \n",
       "min                                    0.000000   \n",
       "25%                                   10.882675   \n",
       "50%                                   14.947646   \n",
       "75%                                   17.977502   \n",
       "max                                   31.269706   \n",
       "\n",
       "       secondary_cleaner.state.floatbank4_b_level  \\\n",
       "count                                22607.000000   \n",
       "mean                                  -476.532613   \n",
       "std                                     93.822791   \n",
       "min                                   -800.836914   \n",
       "25%                                   -500.309169   \n",
       "50%                                   -499.612292   \n",
       "75%                                   -400.224147   \n",
       "max                                     -6.506986   \n",
       "\n",
       "       secondary_cleaner.state.floatbank5_a_air  \\\n",
       "count                              22615.000000   \n",
       "mean                                  14.883276   \n",
       "std                                    6.372811   \n",
       "min                                   -0.423260   \n",
       "25%                                   10.941299   \n",
       "50%                                   14.859117   \n",
       "75%                                   18.014914   \n",
       "max                                   63.116298   \n",
       "\n",
       "       secondary_cleaner.state.floatbank5_a_level  \\\n",
       "count                                22615.000000   \n",
       "mean                                  -503.323288   \n",
       "std                                     72.925589   \n",
       "min                                   -799.741097   \n",
       "25%                                   -500.628697   \n",
       "50%                                   -499.865158   \n",
       "75%                                   -498.489381   \n",
       "max                                   -244.483566   \n",
       "\n",
       "       secondary_cleaner.state.floatbank5_b_air  \\\n",
       "count                              22615.000000   \n",
       "mean                                  11.626743   \n",
       "std                                    5.757449   \n",
       "min                                    0.427084   \n",
       "25%                                    8.037533   \n",
       "50%                                   10.989756   \n",
       "75%                                   14.001193   \n",
       "max                                   39.846228   \n",
       "\n",
       "       secondary_cleaner.state.floatbank5_b_level  \\\n",
       "count                                22616.000000   \n",
       "mean                                  -500.521502   \n",
       "std                                     78.956292   \n",
       "min                                   -800.258209   \n",
       "25%                                   -500.167897   \n",
       "50%                                   -499.951980   \n",
       "75%                                   -499.492354   \n",
       "max                                   -120.190931   \n",
       "\n",
       "       secondary_cleaner.state.floatbank6_a_air  \\\n",
       "count                              22597.000000   \n",
       "mean                                  17.976810   \n",
       "std                                    6.636203   \n",
       "min                                   -0.079426   \n",
       "25%                                   13.968418   \n",
       "50%                                   18.004215   \n",
       "75%                                   23.009704   \n",
       "max                                   54.876806   \n",
       "\n",
       "       secondary_cleaner.state.floatbank6_a_level  \n",
       "count                                22615.000000  \n",
       "mean                                  -519.361465  \n",
       "std                                     75.477151  \n",
       "min                                   -810.473526  \n",
       "25%                                   -500.981671  \n",
       "50%                                   -500.095463  \n",
       "75%                                   -499.526388  \n",
       "max                                    -29.093593  \n",
       "\n",
       "[8 rows x 86 columns]"
      ]
     },
     "execution_count": 12,
     "metadata": {},
     "output_type": "execute_result"
    }
   ],
   "source": [
    "df_full.describe()"
   ]
  },
  {
   "cell_type": "code",
   "execution_count": 13,
   "metadata": {},
   "outputs": [
    {
     "data": {
      "text/html": [
       "<div>\n",
       "<style scoped>\n",
       "    .dataframe tbody tr th:only-of-type {\n",
       "        vertical-align: middle;\n",
       "    }\n",
       "\n",
       "    .dataframe tbody tr th {\n",
       "        vertical-align: top;\n",
       "    }\n",
       "\n",
       "    .dataframe thead th {\n",
       "        text-align: right;\n",
       "    }\n",
       "</style>\n",
       "<table border=\"1\" class=\"dataframe\">\n",
       "  <thead>\n",
       "    <tr style=\"text-align: right;\">\n",
       "      <th></th>\n",
       "      <th>final.output.concentrate_ag</th>\n",
       "      <th>final.output.concentrate_pb</th>\n",
       "      <th>final.output.concentrate_sol</th>\n",
       "      <th>final.output.concentrate_au</th>\n",
       "      <th>final.output.recovery</th>\n",
       "      <th>final.output.tail_ag</th>\n",
       "      <th>final.output.tail_pb</th>\n",
       "      <th>final.output.tail_sol</th>\n",
       "      <th>final.output.tail_au</th>\n",
       "      <th>primary_cleaner.input.sulfate</th>\n",
       "      <th>...</th>\n",
       "      <th>secondary_cleaner.state.floatbank4_a_air</th>\n",
       "      <th>secondary_cleaner.state.floatbank4_a_level</th>\n",
       "      <th>secondary_cleaner.state.floatbank4_b_air</th>\n",
       "      <th>secondary_cleaner.state.floatbank4_b_level</th>\n",
       "      <th>secondary_cleaner.state.floatbank5_a_air</th>\n",
       "      <th>secondary_cleaner.state.floatbank5_a_level</th>\n",
       "      <th>secondary_cleaner.state.floatbank5_b_air</th>\n",
       "      <th>secondary_cleaner.state.floatbank5_b_level</th>\n",
       "      <th>secondary_cleaner.state.floatbank6_a_air</th>\n",
       "      <th>secondary_cleaner.state.floatbank6_a_level</th>\n",
       "    </tr>\n",
       "  </thead>\n",
       "  <tbody>\n",
       "    <tr>\n",
       "      <th>count</th>\n",
       "      <td>11016.000000</td>\n",
       "      <td>11016.000000</td>\n",
       "      <td>11016.000000</td>\n",
       "      <td>11016.000000</td>\n",
       "      <td>11016.000000</td>\n",
       "      <td>11016.000000</td>\n",
       "      <td>11016.000000</td>\n",
       "      <td>11016.000000</td>\n",
       "      <td>11016.000000</td>\n",
       "      <td>11016.000000</td>\n",
       "      <td>...</td>\n",
       "      <td>11016.000000</td>\n",
       "      <td>11016.000000</td>\n",
       "      <td>11016.000000</td>\n",
       "      <td>11016.000000</td>\n",
       "      <td>11016.000000</td>\n",
       "      <td>11016.000000</td>\n",
       "      <td>11016.000000</td>\n",
       "      <td>11016.000000</td>\n",
       "      <td>11016.000000</td>\n",
       "      <td>11016.000000</td>\n",
       "    </tr>\n",
       "    <tr>\n",
       "      <th>mean</th>\n",
       "      <td>5.156254</td>\n",
       "      <td>10.172706</td>\n",
       "      <td>9.600964</td>\n",
       "      <td>44.131766</td>\n",
       "      <td>66.807996</td>\n",
       "      <td>9.699026</td>\n",
       "      <td>2.661076</td>\n",
       "      <td>10.934617</td>\n",
       "      <td>3.009184</td>\n",
       "      <td>140.423475</td>\n",
       "      <td>...</td>\n",
       "      <td>19.305464</td>\n",
       "      <td>-476.379165</td>\n",
       "      <td>15.031783</td>\n",
       "      <td>-456.359652</td>\n",
       "      <td>16.460886</td>\n",
       "      <td>-481.893915</td>\n",
       "      <td>12.754424</td>\n",
       "      <td>-482.150528</td>\n",
       "      <td>20.127841</td>\n",
       "      <td>-508.577714</td>\n",
       "    </tr>\n",
       "    <tr>\n",
       "      <th>std</th>\n",
       "      <td>1.340526</td>\n",
       "      <td>1.589737</td>\n",
       "      <td>2.842133</td>\n",
       "      <td>4.171437</td>\n",
       "      <td>8.821443</td>\n",
       "      <td>2.335039</td>\n",
       "      <td>0.956443</td>\n",
       "      <td>2.736705</td>\n",
       "      <td>0.810098</td>\n",
       "      <td>36.240296</td>\n",
       "      <td>...</td>\n",
       "      <td>5.537726</td>\n",
       "      <td>52.792731</td>\n",
       "      <td>5.394614</td>\n",
       "      <td>60.329674</td>\n",
       "      <td>5.849667</td>\n",
       "      <td>40.614383</td>\n",
       "      <td>5.864024</td>\n",
       "      <td>41.887858</td>\n",
       "      <td>5.594330</td>\n",
       "      <td>39.611486</td>\n",
       "    </tr>\n",
       "    <tr>\n",
       "      <th>min</th>\n",
       "      <td>0.000000</td>\n",
       "      <td>0.000000</td>\n",
       "      <td>0.000000</td>\n",
       "      <td>0.000000</td>\n",
       "      <td>0.000000</td>\n",
       "      <td>0.000000</td>\n",
       "      <td>0.000000</td>\n",
       "      <td>0.000000</td>\n",
       "      <td>0.000000</td>\n",
       "      <td>1.873963</td>\n",
       "      <td>...</td>\n",
       "      <td>4.502796</td>\n",
       "      <td>-799.709069</td>\n",
       "      <td>4.815717</td>\n",
       "      <td>-799.889113</td>\n",
       "      <td>-0.372054</td>\n",
       "      <td>-797.142475</td>\n",
       "      <td>3.145675</td>\n",
       "      <td>-800.006180</td>\n",
       "      <td>0.195324</td>\n",
       "      <td>-809.045795</td>\n",
       "    </tr>\n",
       "    <tr>\n",
       "      <th>25%</th>\n",
       "      <td>4.231049</td>\n",
       "      <td>9.279527</td>\n",
       "      <td>7.952263</td>\n",
       "      <td>43.244370</td>\n",
       "      <td>62.954521</td>\n",
       "      <td>7.944320</td>\n",
       "      <td>1.968099</td>\n",
       "      <td>9.359555</td>\n",
       "      <td>2.493010</td>\n",
       "      <td>114.760370</td>\n",
       "      <td>...</td>\n",
       "      <td>14.519944</td>\n",
       "      <td>-500.605493</td>\n",
       "      <td>10.121519</td>\n",
       "      <td>-500.158019</td>\n",
       "      <td>11.032620</td>\n",
       "      <td>-500.359690</td>\n",
       "      <td>8.045665</td>\n",
       "      <td>-500.110488</td>\n",
       "      <td>15.005303</td>\n",
       "      <td>-500.873732</td>\n",
       "    </tr>\n",
       "    <tr>\n",
       "      <th>50%</th>\n",
       "      <td>4.999101</td>\n",
       "      <td>10.347546</td>\n",
       "      <td>9.268938</td>\n",
       "      <td>44.802348</td>\n",
       "      <td>67.319200</td>\n",
       "      <td>9.525787</td>\n",
       "      <td>2.641639</td>\n",
       "      <td>10.789339</td>\n",
       "      <td>2.931333</td>\n",
       "      <td>138.955661</td>\n",
       "      <td>...</td>\n",
       "      <td>18.982882</td>\n",
       "      <td>-499.621459</td>\n",
       "      <td>14.055455</td>\n",
       "      <td>-498.772447</td>\n",
       "      <td>16.033894</td>\n",
       "      <td>-499.631737</td>\n",
       "      <td>11.969783</td>\n",
       "      <td>-499.897695</td>\n",
       "      <td>19.996901</td>\n",
       "      <td>-500.090380</td>\n",
       "    </tr>\n",
       "    <tr>\n",
       "      <th>75%</th>\n",
       "      <td>5.852602</td>\n",
       "      <td>11.187033</td>\n",
       "      <td>10.904984</td>\n",
       "      <td>46.092333</td>\n",
       "      <td>72.061074</td>\n",
       "      <td>11.162284</td>\n",
       "      <td>3.286537</td>\n",
       "      <td>12.070684</td>\n",
       "      <td>3.471886</td>\n",
       "      <td>164.759480</td>\n",
       "      <td>...</td>\n",
       "      <td>24.979838</td>\n",
       "      <td>-401.869808</td>\n",
       "      <td>20.033849</td>\n",
       "      <td>-399.939349</td>\n",
       "      <td>20.019224</td>\n",
       "      <td>-450.684310</td>\n",
       "      <td>16.677064</td>\n",
       "      <td>-450.145969</td>\n",
       "      <td>24.993169</td>\n",
       "      <td>-499.546117</td>\n",
       "    </tr>\n",
       "    <tr>\n",
       "      <th>max</th>\n",
       "      <td>16.001945</td>\n",
       "      <td>17.031899</td>\n",
       "      <td>18.124851</td>\n",
       "      <td>51.571885</td>\n",
       "      <td>100.000000</td>\n",
       "      <td>19.552149</td>\n",
       "      <td>5.639565</td>\n",
       "      <td>22.272019</td>\n",
       "      <td>7.812801</td>\n",
       "      <td>250.127834</td>\n",
       "      <td>...</td>\n",
       "      <td>30.115735</td>\n",
       "      <td>-245.239184</td>\n",
       "      <td>24.007913</td>\n",
       "      <td>-163.742242</td>\n",
       "      <td>43.709931</td>\n",
       "      <td>-275.073125</td>\n",
       "      <td>27.926001</td>\n",
       "      <td>-183.442252</td>\n",
       "      <td>32.188906</td>\n",
       "      <td>-104.427459</td>\n",
       "    </tr>\n",
       "  </tbody>\n",
       "</table>\n",
       "<p>8 rows × 86 columns</p>\n",
       "</div>"
      ],
      "text/plain": [
       "       final.output.concentrate_ag  final.output.concentrate_pb  \\\n",
       "count                 11016.000000                 11016.000000   \n",
       "mean                      5.156254                    10.172706   \n",
       "std                       1.340526                     1.589737   \n",
       "min                       0.000000                     0.000000   \n",
       "25%                       4.231049                     9.279527   \n",
       "50%                       4.999101                    10.347546   \n",
       "75%                       5.852602                    11.187033   \n",
       "max                      16.001945                    17.031899   \n",
       "\n",
       "       final.output.concentrate_sol  final.output.concentrate_au  \\\n",
       "count                  11016.000000                 11016.000000   \n",
       "mean                       9.600964                    44.131766   \n",
       "std                        2.842133                     4.171437   \n",
       "min                        0.000000                     0.000000   \n",
       "25%                        7.952263                    43.244370   \n",
       "50%                        9.268938                    44.802348   \n",
       "75%                       10.904984                    46.092333   \n",
       "max                       18.124851                    51.571885   \n",
       "\n",
       "       final.output.recovery  final.output.tail_ag  final.output.tail_pb  \\\n",
       "count           11016.000000          11016.000000          11016.000000   \n",
       "mean               66.807996              9.699026              2.661076   \n",
       "std                 8.821443              2.335039              0.956443   \n",
       "min                 0.000000              0.000000              0.000000   \n",
       "25%                62.954521              7.944320              1.968099   \n",
       "50%                67.319200              9.525787              2.641639   \n",
       "75%                72.061074             11.162284              3.286537   \n",
       "max               100.000000             19.552149              5.639565   \n",
       "\n",
       "       final.output.tail_sol  final.output.tail_au  \\\n",
       "count           11016.000000          11016.000000   \n",
       "mean               10.934617              3.009184   \n",
       "std                 2.736705              0.810098   \n",
       "min                 0.000000              0.000000   \n",
       "25%                 9.359555              2.493010   \n",
       "50%                10.789339              2.931333   \n",
       "75%                12.070684              3.471886   \n",
       "max                22.272019              7.812801   \n",
       "\n",
       "       primary_cleaner.input.sulfate  ...  \\\n",
       "count                   11016.000000  ...   \n",
       "mean                      140.423475  ...   \n",
       "std                        36.240296  ...   \n",
       "min                         1.873963  ...   \n",
       "25%                       114.760370  ...   \n",
       "50%                       138.955661  ...   \n",
       "75%                       164.759480  ...   \n",
       "max                       250.127834  ...   \n",
       "\n",
       "       secondary_cleaner.state.floatbank4_a_air  \\\n",
       "count                              11016.000000   \n",
       "mean                                  19.305464   \n",
       "std                                    5.537726   \n",
       "min                                    4.502796   \n",
       "25%                                   14.519944   \n",
       "50%                                   18.982882   \n",
       "75%                                   24.979838   \n",
       "max                                   30.115735   \n",
       "\n",
       "       secondary_cleaner.state.floatbank4_a_level  \\\n",
       "count                                11016.000000   \n",
       "mean                                  -476.379165   \n",
       "std                                     52.792731   \n",
       "min                                   -799.709069   \n",
       "25%                                   -500.605493   \n",
       "50%                                   -499.621459   \n",
       "75%                                   -401.869808   \n",
       "max                                   -245.239184   \n",
       "\n",
       "       secondary_cleaner.state.floatbank4_b_air  \\\n",
       "count                              11016.000000   \n",
       "mean                                  15.031783   \n",
       "std                                    5.394614   \n",
       "min                                    4.815717   \n",
       "25%                                   10.121519   \n",
       "50%                                   14.055455   \n",
       "75%                                   20.033849   \n",
       "max                                   24.007913   \n",
       "\n",
       "       secondary_cleaner.state.floatbank4_b_level  \\\n",
       "count                                11016.000000   \n",
       "mean                                  -456.359652   \n",
       "std                                     60.329674   \n",
       "min                                   -799.889113   \n",
       "25%                                   -500.158019   \n",
       "50%                                   -498.772447   \n",
       "75%                                   -399.939349   \n",
       "max                                   -163.742242   \n",
       "\n",
       "       secondary_cleaner.state.floatbank5_a_air  \\\n",
       "count                              11016.000000   \n",
       "mean                                  16.460886   \n",
       "std                                    5.849667   \n",
       "min                                   -0.372054   \n",
       "25%                                   11.032620   \n",
       "50%                                   16.033894   \n",
       "75%                                   20.019224   \n",
       "max                                   43.709931   \n",
       "\n",
       "       secondary_cleaner.state.floatbank5_a_level  \\\n",
       "count                                11016.000000   \n",
       "mean                                  -481.893915   \n",
       "std                                     40.614383   \n",
       "min                                   -797.142475   \n",
       "25%                                   -500.359690   \n",
       "50%                                   -499.631737   \n",
       "75%                                   -450.684310   \n",
       "max                                   -275.073125   \n",
       "\n",
       "       secondary_cleaner.state.floatbank5_b_air  \\\n",
       "count                              11016.000000   \n",
       "mean                                  12.754424   \n",
       "std                                    5.864024   \n",
       "min                                    3.145675   \n",
       "25%                                    8.045665   \n",
       "50%                                   11.969783   \n",
       "75%                                   16.677064   \n",
       "max                                   27.926001   \n",
       "\n",
       "       secondary_cleaner.state.floatbank5_b_level  \\\n",
       "count                                11016.000000   \n",
       "mean                                  -482.150528   \n",
       "std                                     41.887858   \n",
       "min                                   -800.006180   \n",
       "25%                                   -500.110488   \n",
       "50%                                   -499.897695   \n",
       "75%                                   -450.145969   \n",
       "max                                   -183.442252   \n",
       "\n",
       "       secondary_cleaner.state.floatbank6_a_air  \\\n",
       "count                              11016.000000   \n",
       "mean                                  20.127841   \n",
       "std                                    5.594330   \n",
       "min                                    0.195324   \n",
       "25%                                   15.005303   \n",
       "50%                                   19.996901   \n",
       "75%                                   24.993169   \n",
       "max                                   32.188906   \n",
       "\n",
       "       secondary_cleaner.state.floatbank6_a_level  \n",
       "count                                11016.000000  \n",
       "mean                                  -508.577714  \n",
       "std                                     39.611486  \n",
       "min                                   -809.045795  \n",
       "25%                                   -500.873732  \n",
       "50%                                   -500.090380  \n",
       "75%                                   -499.546117  \n",
       "max                                   -104.427459  \n",
       "\n",
       "[8 rows x 86 columns]"
      ]
     },
     "execution_count": 13,
     "metadata": {},
     "output_type": "execute_result"
    }
   ],
   "source": [
    "df_train.describe()"
   ]
  },
  {
   "cell_type": "code",
   "execution_count": 14,
   "metadata": {},
   "outputs": [
    {
     "data": {
      "text/html": [
       "<div>\n",
       "<style scoped>\n",
       "    .dataframe tbody tr th:only-of-type {\n",
       "        vertical-align: middle;\n",
       "    }\n",
       "\n",
       "    .dataframe tbody tr th {\n",
       "        vertical-align: top;\n",
       "    }\n",
       "\n",
       "    .dataframe thead th {\n",
       "        text-align: right;\n",
       "    }\n",
       "</style>\n",
       "<table border=\"1\" class=\"dataframe\">\n",
       "  <thead>\n",
       "    <tr style=\"text-align: right;\">\n",
       "      <th></th>\n",
       "      <th>primary_cleaner.input.sulfate</th>\n",
       "      <th>primary_cleaner.input.depressant</th>\n",
       "      <th>primary_cleaner.input.feed_size</th>\n",
       "      <th>primary_cleaner.input.xanthate</th>\n",
       "      <th>primary_cleaner.state.floatbank8_a_air</th>\n",
       "      <th>primary_cleaner.state.floatbank8_a_level</th>\n",
       "      <th>primary_cleaner.state.floatbank8_b_air</th>\n",
       "      <th>primary_cleaner.state.floatbank8_b_level</th>\n",
       "      <th>primary_cleaner.state.floatbank8_c_air</th>\n",
       "      <th>primary_cleaner.state.floatbank8_c_level</th>\n",
       "      <th>...</th>\n",
       "      <th>secondary_cleaner.state.floatbank4_a_air</th>\n",
       "      <th>secondary_cleaner.state.floatbank4_a_level</th>\n",
       "      <th>secondary_cleaner.state.floatbank4_b_air</th>\n",
       "      <th>secondary_cleaner.state.floatbank4_b_level</th>\n",
       "      <th>secondary_cleaner.state.floatbank5_a_air</th>\n",
       "      <th>secondary_cleaner.state.floatbank5_a_level</th>\n",
       "      <th>secondary_cleaner.state.floatbank5_b_air</th>\n",
       "      <th>secondary_cleaner.state.floatbank5_b_level</th>\n",
       "      <th>secondary_cleaner.state.floatbank6_a_air</th>\n",
       "      <th>secondary_cleaner.state.floatbank6_a_level</th>\n",
       "    </tr>\n",
       "  </thead>\n",
       "  <tbody>\n",
       "    <tr>\n",
       "      <th>count</th>\n",
       "      <td>5554.000000</td>\n",
       "      <td>5572.000000</td>\n",
       "      <td>5856.000000</td>\n",
       "      <td>5690.000000</td>\n",
       "      <td>5840.000000</td>\n",
       "      <td>5840.000000</td>\n",
       "      <td>5840.000000</td>\n",
       "      <td>5840.000000</td>\n",
       "      <td>5840.000000</td>\n",
       "      <td>5840.000000</td>\n",
       "      <td>...</td>\n",
       "      <td>5840.000000</td>\n",
       "      <td>5840.000000</td>\n",
       "      <td>5840.000000</td>\n",
       "      <td>5840.000000</td>\n",
       "      <td>5840.000000</td>\n",
       "      <td>5840.000000</td>\n",
       "      <td>5840.000000</td>\n",
       "      <td>5840.000000</td>\n",
       "      <td>5840.000000</td>\n",
       "      <td>5840.000000</td>\n",
       "    </tr>\n",
       "    <tr>\n",
       "      <th>mean</th>\n",
       "      <td>170.515243</td>\n",
       "      <td>8.482873</td>\n",
       "      <td>7.264651</td>\n",
       "      <td>1.321420</td>\n",
       "      <td>1481.990241</td>\n",
       "      <td>-509.057796</td>\n",
       "      <td>1486.908670</td>\n",
       "      <td>-511.743956</td>\n",
       "      <td>1468.495216</td>\n",
       "      <td>-509.741212</td>\n",
       "      <td>...</td>\n",
       "      <td>15.636031</td>\n",
       "      <td>-516.266074</td>\n",
       "      <td>13.145702</td>\n",
       "      <td>-476.338907</td>\n",
       "      <td>12.308967</td>\n",
       "      <td>-512.208126</td>\n",
       "      <td>9.470986</td>\n",
       "      <td>-505.017827</td>\n",
       "      <td>16.678722</td>\n",
       "      <td>-512.351694</td>\n",
       "    </tr>\n",
       "    <tr>\n",
       "      <th>std</th>\n",
       "      <td>49.608602</td>\n",
       "      <td>3.353105</td>\n",
       "      <td>0.611526</td>\n",
       "      <td>0.693246</td>\n",
       "      <td>310.453166</td>\n",
       "      <td>61.339256</td>\n",
       "      <td>313.224286</td>\n",
       "      <td>67.139074</td>\n",
       "      <td>309.980748</td>\n",
       "      <td>62.671873</td>\n",
       "      <td>...</td>\n",
       "      <td>4.660835</td>\n",
       "      <td>62.756748</td>\n",
       "      <td>4.304086</td>\n",
       "      <td>105.549424</td>\n",
       "      <td>3.762827</td>\n",
       "      <td>58.864651</td>\n",
       "      <td>3.312471</td>\n",
       "      <td>68.785898</td>\n",
       "      <td>5.404514</td>\n",
       "      <td>69.919839</td>\n",
       "    </tr>\n",
       "    <tr>\n",
       "      <th>min</th>\n",
       "      <td>0.000103</td>\n",
       "      <td>0.000031</td>\n",
       "      <td>5.650000</td>\n",
       "      <td>0.000003</td>\n",
       "      <td>0.000000</td>\n",
       "      <td>-799.773788</td>\n",
       "      <td>0.000000</td>\n",
       "      <td>-800.029078</td>\n",
       "      <td>0.000000</td>\n",
       "      <td>-799.995127</td>\n",
       "      <td>...</td>\n",
       "      <td>0.000000</td>\n",
       "      <td>-799.798523</td>\n",
       "      <td>0.000000</td>\n",
       "      <td>-800.836914</td>\n",
       "      <td>-0.223393</td>\n",
       "      <td>-799.661076</td>\n",
       "      <td>0.528083</td>\n",
       "      <td>-800.220337</td>\n",
       "      <td>-0.079426</td>\n",
       "      <td>-809.859706</td>\n",
       "    </tr>\n",
       "    <tr>\n",
       "      <th>25%</th>\n",
       "      <td>143.340022</td>\n",
       "      <td>6.411500</td>\n",
       "      <td>6.885625</td>\n",
       "      <td>0.888769</td>\n",
       "      <td>1497.190681</td>\n",
       "      <td>-500.455211</td>\n",
       "      <td>1497.150234</td>\n",
       "      <td>-500.936639</td>\n",
       "      <td>1437.050321</td>\n",
       "      <td>-501.300441</td>\n",
       "      <td>...</td>\n",
       "      <td>12.057838</td>\n",
       "      <td>-501.054741</td>\n",
       "      <td>11.880119</td>\n",
       "      <td>-500.419113</td>\n",
       "      <td>10.123459</td>\n",
       "      <td>-500.879383</td>\n",
       "      <td>7.991208</td>\n",
       "      <td>-500.223089</td>\n",
       "      <td>13.012422</td>\n",
       "      <td>-500.833821</td>\n",
       "    </tr>\n",
       "    <tr>\n",
       "      <th>50%</th>\n",
       "      <td>176.103893</td>\n",
       "      <td>8.023252</td>\n",
       "      <td>7.259333</td>\n",
       "      <td>1.183362</td>\n",
       "      <td>1554.659783</td>\n",
       "      <td>-499.997402</td>\n",
       "      <td>1553.268084</td>\n",
       "      <td>-500.066588</td>\n",
       "      <td>1546.160672</td>\n",
       "      <td>-500.079537</td>\n",
       "      <td>...</td>\n",
       "      <td>17.001867</td>\n",
       "      <td>-500.160145</td>\n",
       "      <td>14.952102</td>\n",
       "      <td>-499.644328</td>\n",
       "      <td>12.062877</td>\n",
       "      <td>-500.047621</td>\n",
       "      <td>9.980774</td>\n",
       "      <td>-500.001338</td>\n",
       "      <td>16.007242</td>\n",
       "      <td>-500.041085</td>\n",
       "    </tr>\n",
       "    <tr>\n",
       "      <th>75%</th>\n",
       "      <td>207.240761</td>\n",
       "      <td>10.017725</td>\n",
       "      <td>7.650000</td>\n",
       "      <td>1.763797</td>\n",
       "      <td>1601.681656</td>\n",
       "      <td>-499.575313</td>\n",
       "      <td>1601.784707</td>\n",
       "      <td>-499.323361</td>\n",
       "      <td>1600.785573</td>\n",
       "      <td>-499.009545</td>\n",
       "      <td>...</td>\n",
       "      <td>18.030985</td>\n",
       "      <td>-499.441529</td>\n",
       "      <td>15.940011</td>\n",
       "      <td>-401.523664</td>\n",
       "      <td>15.017881</td>\n",
       "      <td>-499.297033</td>\n",
       "      <td>11.992176</td>\n",
       "      <td>-499.722835</td>\n",
       "      <td>21.009076</td>\n",
       "      <td>-499.395621</td>\n",
       "    </tr>\n",
       "    <tr>\n",
       "      <th>max</th>\n",
       "      <td>274.409626</td>\n",
       "      <td>40.024582</td>\n",
       "      <td>15.500000</td>\n",
       "      <td>5.433169</td>\n",
       "      <td>2212.432090</td>\n",
       "      <td>-57.195404</td>\n",
       "      <td>1975.147923</td>\n",
       "      <td>-142.527229</td>\n",
       "      <td>1715.053773</td>\n",
       "      <td>-150.937035</td>\n",
       "      <td>...</td>\n",
       "      <td>30.051797</td>\n",
       "      <td>-401.565212</td>\n",
       "      <td>31.269706</td>\n",
       "      <td>-6.506986</td>\n",
       "      <td>25.258848</td>\n",
       "      <td>-244.483566</td>\n",
       "      <td>14.090194</td>\n",
       "      <td>-126.463446</td>\n",
       "      <td>26.705889</td>\n",
       "      <td>-29.093593</td>\n",
       "    </tr>\n",
       "  </tbody>\n",
       "</table>\n",
       "<p>8 rows × 52 columns</p>\n",
       "</div>"
      ],
      "text/plain": [
       "       primary_cleaner.input.sulfate  primary_cleaner.input.depressant  \\\n",
       "count                    5554.000000                       5572.000000   \n",
       "mean                      170.515243                          8.482873   \n",
       "std                        49.608602                          3.353105   \n",
       "min                         0.000103                          0.000031   \n",
       "25%                       143.340022                          6.411500   \n",
       "50%                       176.103893                          8.023252   \n",
       "75%                       207.240761                         10.017725   \n",
       "max                       274.409626                         40.024582   \n",
       "\n",
       "       primary_cleaner.input.feed_size  primary_cleaner.input.xanthate  \\\n",
       "count                      5856.000000                     5690.000000   \n",
       "mean                          7.264651                        1.321420   \n",
       "std                           0.611526                        0.693246   \n",
       "min                           5.650000                        0.000003   \n",
       "25%                           6.885625                        0.888769   \n",
       "50%                           7.259333                        1.183362   \n",
       "75%                           7.650000                        1.763797   \n",
       "max                          15.500000                        5.433169   \n",
       "\n",
       "       primary_cleaner.state.floatbank8_a_air  \\\n",
       "count                             5840.000000   \n",
       "mean                              1481.990241   \n",
       "std                                310.453166   \n",
       "min                                  0.000000   \n",
       "25%                               1497.190681   \n",
       "50%                               1554.659783   \n",
       "75%                               1601.681656   \n",
       "max                               2212.432090   \n",
       "\n",
       "       primary_cleaner.state.floatbank8_a_level  \\\n",
       "count                               5840.000000   \n",
       "mean                                -509.057796   \n",
       "std                                   61.339256   \n",
       "min                                 -799.773788   \n",
       "25%                                 -500.455211   \n",
       "50%                                 -499.997402   \n",
       "75%                                 -499.575313   \n",
       "max                                  -57.195404   \n",
       "\n",
       "       primary_cleaner.state.floatbank8_b_air  \\\n",
       "count                             5840.000000   \n",
       "mean                              1486.908670   \n",
       "std                                313.224286   \n",
       "min                                  0.000000   \n",
       "25%                               1497.150234   \n",
       "50%                               1553.268084   \n",
       "75%                               1601.784707   \n",
       "max                               1975.147923   \n",
       "\n",
       "       primary_cleaner.state.floatbank8_b_level  \\\n",
       "count                               5840.000000   \n",
       "mean                                -511.743956   \n",
       "std                                   67.139074   \n",
       "min                                 -800.029078   \n",
       "25%                                 -500.936639   \n",
       "50%                                 -500.066588   \n",
       "75%                                 -499.323361   \n",
       "max                                 -142.527229   \n",
       "\n",
       "       primary_cleaner.state.floatbank8_c_air  \\\n",
       "count                             5840.000000   \n",
       "mean                              1468.495216   \n",
       "std                                309.980748   \n",
       "min                                  0.000000   \n",
       "25%                               1437.050321   \n",
       "50%                               1546.160672   \n",
       "75%                               1600.785573   \n",
       "max                               1715.053773   \n",
       "\n",
       "       primary_cleaner.state.floatbank8_c_level  ...  \\\n",
       "count                               5840.000000  ...   \n",
       "mean                                -509.741212  ...   \n",
       "std                                   62.671873  ...   \n",
       "min                                 -799.995127  ...   \n",
       "25%                                 -501.300441  ...   \n",
       "50%                                 -500.079537  ...   \n",
       "75%                                 -499.009545  ...   \n",
       "max                                 -150.937035  ...   \n",
       "\n",
       "       secondary_cleaner.state.floatbank4_a_air  \\\n",
       "count                               5840.000000   \n",
       "mean                                  15.636031   \n",
       "std                                    4.660835   \n",
       "min                                    0.000000   \n",
       "25%                                   12.057838   \n",
       "50%                                   17.001867   \n",
       "75%                                   18.030985   \n",
       "max                                   30.051797   \n",
       "\n",
       "       secondary_cleaner.state.floatbank4_a_level  \\\n",
       "count                                 5840.000000   \n",
       "mean                                  -516.266074   \n",
       "std                                     62.756748   \n",
       "min                                   -799.798523   \n",
       "25%                                   -501.054741   \n",
       "50%                                   -500.160145   \n",
       "75%                                   -499.441529   \n",
       "max                                   -401.565212   \n",
       "\n",
       "       secondary_cleaner.state.floatbank4_b_air  \\\n",
       "count                               5840.000000   \n",
       "mean                                  13.145702   \n",
       "std                                    4.304086   \n",
       "min                                    0.000000   \n",
       "25%                                   11.880119   \n",
       "50%                                   14.952102   \n",
       "75%                                   15.940011   \n",
       "max                                   31.269706   \n",
       "\n",
       "       secondary_cleaner.state.floatbank4_b_level  \\\n",
       "count                                 5840.000000   \n",
       "mean                                  -476.338907   \n",
       "std                                    105.549424   \n",
       "min                                   -800.836914   \n",
       "25%                                   -500.419113   \n",
       "50%                                   -499.644328   \n",
       "75%                                   -401.523664   \n",
       "max                                     -6.506986   \n",
       "\n",
       "       secondary_cleaner.state.floatbank5_a_air  \\\n",
       "count                               5840.000000   \n",
       "mean                                  12.308967   \n",
       "std                                    3.762827   \n",
       "min                                   -0.223393   \n",
       "25%                                   10.123459   \n",
       "50%                                   12.062877   \n",
       "75%                                   15.017881   \n",
       "max                                   25.258848   \n",
       "\n",
       "       secondary_cleaner.state.floatbank5_a_level  \\\n",
       "count                                 5840.000000   \n",
       "mean                                  -512.208126   \n",
       "std                                     58.864651   \n",
       "min                                   -799.661076   \n",
       "25%                                   -500.879383   \n",
       "50%                                   -500.047621   \n",
       "75%                                   -499.297033   \n",
       "max                                   -244.483566   \n",
       "\n",
       "       secondary_cleaner.state.floatbank5_b_air  \\\n",
       "count                               5840.000000   \n",
       "mean                                   9.470986   \n",
       "std                                    3.312471   \n",
       "min                                    0.528083   \n",
       "25%                                    7.991208   \n",
       "50%                                    9.980774   \n",
       "75%                                   11.992176   \n",
       "max                                   14.090194   \n",
       "\n",
       "       secondary_cleaner.state.floatbank5_b_level  \\\n",
       "count                                 5840.000000   \n",
       "mean                                  -505.017827   \n",
       "std                                     68.785898   \n",
       "min                                   -800.220337   \n",
       "25%                                   -500.223089   \n",
       "50%                                   -500.001338   \n",
       "75%                                   -499.722835   \n",
       "max                                   -126.463446   \n",
       "\n",
       "       secondary_cleaner.state.floatbank6_a_air  \\\n",
       "count                               5840.000000   \n",
       "mean                                  16.678722   \n",
       "std                                    5.404514   \n",
       "min                                   -0.079426   \n",
       "25%                                   13.012422   \n",
       "50%                                   16.007242   \n",
       "75%                                   21.009076   \n",
       "max                                   26.705889   \n",
       "\n",
       "       secondary_cleaner.state.floatbank6_a_level  \n",
       "count                                 5840.000000  \n",
       "mean                                  -512.351694  \n",
       "std                                     69.919839  \n",
       "min                                   -809.859706  \n",
       "25%                                   -500.833821  \n",
       "50%                                   -500.041085  \n",
       "75%                                   -499.395621  \n",
       "max                                    -29.093593  \n",
       "\n",
       "[8 rows x 52 columns]"
      ]
     },
     "execution_count": 14,
     "metadata": {},
     "output_type": "execute_result"
    }
   ],
   "source": [
    "df_test.describe()"
   ]
  },
  {
   "cell_type": "markdown",
   "metadata": {},
   "source": [
    "<b> Recovery Calculation </b>\n",
    "\n",
    "<b> C: Share of Gold in Concentrate </b>"
   ]
  },
  {
   "cell_type": "code",
   "execution_count": 15,
   "metadata": {},
   "outputs": [
    {
     "name": "stdout",
     "output_type": "stream",
     "text": [
      "Null values: 0\n"
     ]
    }
   ],
   "source": [
    "C = df_train['rougher.output.concentrate_au']\n",
    "print('Null values:', C.isnull().sum())"
   ]
  },
  {
   "cell_type": "markdown",
   "metadata": {},
   "source": [
    "<b> F: Share of Gold in Feed </b>"
   ]
  },
  {
   "cell_type": "code",
   "execution_count": 16,
   "metadata": {},
   "outputs": [
    {
     "name": "stdout",
     "output_type": "stream",
     "text": [
      "Null values: 0\n"
     ]
    }
   ],
   "source": [
    "F = df_train['rougher.input.feed_au']\n",
    "print('Null values:', F.isnull().sum())"
   ]
  },
  {
   "cell_type": "markdown",
   "metadata": {},
   "source": [
    "<b> T: Share of Gold in Rougher Tails </b>"
   ]
  },
  {
   "cell_type": "code",
   "execution_count": 17,
   "metadata": {},
   "outputs": [
    {
     "name": "stdout",
     "output_type": "stream",
     "text": [
      "Null values: 0\n"
     ]
    }
   ],
   "source": [
    "T = df_train['rougher.output.tail_au']\n",
    "print('Null values:', T.isnull().sum())"
   ]
  },
  {
   "cell_type": "markdown",
   "metadata": {},
   "source": [
    "<b> Visualizing our Recovery Metrics </b>"
   ]
  },
  {
   "cell_type": "code",
   "execution_count": 18,
   "metadata": {},
   "outputs": [
    {
     "data": {
      "image/png": "[encoded data removed]",
      "text/plain": [
       "<Figure size 1400x800 with 1 Axes>"
      ]
     },
     "metadata": {},
     "output_type": "display_data"
    }
   ],
   "source": [
    "sns.set(style=\"white\", color_codes=True)\n",
    "plt.rcParams['axes.linewidth'] = 0.1\n",
    "fig, ax = plt.subplots(figsize=(14, 8))\n",
    "for r in [C, F, T]:\n",
    "    sns.histplot(r, bins=25, ax=ax, kde=True).set_title('Au Distribution - Recovery Estimation')\n",
    "    ax.set_xlabel('Recovery Metrics')\n",
    "    ax.legend(labels=['C: Share of Gold in Concentrate','F: Share of Gold in Feed','T: Share of Gold in Rougher Tails'])"
   ]
  },
  {
   "cell_type": "markdown",
   "metadata": {},
   "source": [
    "<b> Rougher Output Recovery </b>"
   ]
  },
  {
   "cell_type": "code",
   "execution_count": 19,
   "metadata": {},
   "outputs": [],
   "source": [
    "recovery_calc = lambda df, C, F, T: ((df[C] * (df[F] - df[T])) \\\n",
    "                               / (df[F] * (df[C] - df[T])))  * 100\n",
    "\n",
    "estimated_recovery = recovery_calc(df_train.dropna(subset=['rougher.output.recovery']), \n",
    "                                'rougher.output.concentrate_au',\n",
    "                                'rougher.input.feed_au', \n",
    "                                'rougher.output.tail_au')\n",
    "\n",
    "estimated_recovery = estimated_recovery.fillna(0)\n",
    "estimated_recovery.replace([np.inf, -np.inf], 0, inplace=True)\n",
    "\n",
    "#display(estimated_recovery.sort_values())"
   ]
  },
  {
   "cell_type": "markdown",
   "metadata": {},
   "source": [
    "<b> Final Output Recovery </b>"
   ]
  },
  {
   "cell_type": "code",
   "execution_count": 20,
   "metadata": {},
   "outputs": [],
   "source": [
    "final_estimated_recovery = recovery_calc(df_train.dropna(subset=['final.output.recovery']), \n",
    "                                'final.output.concentrate_au',\n",
    "                                'rougher.input.feed_au',\n",
    "                                'final.output.tail_au')\n",
    "\n",
    "final_estimated_recovery = final_estimated_recovery.fillna(0) # filling in NaN with zero as final_error below has a mismatch after dropping NaN\n",
    "final_estimated_recovery.replace([np.inf, -np.inf], 0, inplace=True)\n",
    "#display(final_estimated_recovery.sort_values())"
   ]
  },
  {
   "cell_type": "markdown",
   "metadata": {},
   "source": [
    "<b> Mean Absolute Error - Rougher </b>"
   ]
  },
  {
   "cell_type": "code",
   "execution_count": 21,
   "metadata": {},
   "outputs": [
    {
     "name": "stdout",
     "output_type": "stream",
     "text": [
      "Null values: 0\n"
     ]
    }
   ],
   "source": [
    "recovery_feature = df_train['rougher.output.recovery']\n",
    "print('Null values:', recovery_feature.isna().sum())"
   ]
  },
  {
   "cell_type": "code",
   "execution_count": 22,
   "metadata": {},
   "outputs": [
    {
     "name": "stdout",
     "output_type": "stream",
     "text": [
      "Mean absolute error: 9.45971292906466e-15\n",
      "MAE with supression: 0.00000000000000946\n"
     ]
    }
   ],
   "source": [
    "error = mean_absolute_error(recovery_feature, estimated_recovery)\n",
    "\n",
    "print(\"Mean absolute error:\", error)\n",
    "print(f\"MAE with supression: {error:.17f}\")"
   ]
  },
  {
   "cell_type": "markdown",
   "metadata": {},
   "source": [
    "<b> Mean Absolute Error - Final </b>"
   ]
  },
  {
   "cell_type": "code",
   "execution_count": 23,
   "metadata": {},
   "outputs": [
    {
     "name": "stdout",
     "output_type": "stream",
     "text": [
      "Null values: 0\n"
     ]
    }
   ],
   "source": [
    "final_recovery_feature = df_train['final.output.recovery']\n",
    "print('Null values:', final_recovery_feature.isna().sum())\n",
    "#print('Null values:', final_recovery_feature.mean())"
   ]
  },
  {
   "cell_type": "code",
   "execution_count": 24,
   "metadata": {},
   "outputs": [
    {
     "name": "stdout",
     "output_type": "stream",
     "text": [
      "Mean absolute error :  8.186141186364662e-15\n",
      "MAE with supression: 0.00000000000000819\n"
     ]
    }
   ],
   "source": [
    "final_error = mean_absolute_error(final_recovery_feature, final_estimated_recovery)\n",
    "\n",
    "print(\"Mean absolute error : \", final_error)\n",
    "print(f\"MAE with supression: {final_error:.17f}\")"
   ]
  },
  {
   "cell_type": "markdown",
   "metadata": {},
   "source": [
    "<b> Findings </b>\n",
    "\n",
    "After removing NaN values, the average error between the predictions and actuals in this feature comparison (rougher recovery) is ~0.00000000000000946, which is a good value considering the average feature value is ~82.74 For final recovery, following the same process as prior and replacing infinity values, we see a slightly lower absolute error of ~0.00000000000000819 with the average final feature value of about 66.8 -- not a crazy MAE given the average value."
   ]
  },
  {
   "cell_type": "markdown",
   "metadata": {},
   "source": [
    "<b> Missing Features from Test dataset </b>"
   ]
  },
  {
   "cell_type": "code",
   "execution_count": 25,
   "metadata": {
    "scrolled": true
   },
   "outputs": [
    {
     "data": {
      "text/plain": [
       "0                           final.output.concentrate_ag\n",
       "1                           final.output.concentrate_au\n",
       "2                           final.output.concentrate_pb\n",
       "3                          final.output.concentrate_sol\n",
       "4                                 final.output.recovery\n",
       "5                                  final.output.tail_ag\n",
       "6                                  final.output.tail_au\n",
       "7                                  final.output.tail_pb\n",
       "8                                 final.output.tail_sol\n",
       "9                 primary_cleaner.output.concentrate_ag\n",
       "10                primary_cleaner.output.concentrate_au\n",
       "11                primary_cleaner.output.concentrate_pb\n",
       "12               primary_cleaner.output.concentrate_sol\n",
       "13                       primary_cleaner.output.tail_ag\n",
       "14                       primary_cleaner.output.tail_au\n",
       "15                       primary_cleaner.output.tail_pb\n",
       "16                      primary_cleaner.output.tail_sol\n",
       "17                      rougher.calculation.au_pb_ratio\n",
       "18    rougher.calculation.floatbank10_sulfate_to_au_...\n",
       "19    rougher.calculation.floatbank11_sulfate_to_au_...\n",
       "20        rougher.calculation.sulfate_to_au_concentrate\n",
       "21                        rougher.output.concentrate_ag\n",
       "22                        rougher.output.concentrate_au\n",
       "23                        rougher.output.concentrate_pb\n",
       "24                       rougher.output.concentrate_sol\n",
       "25                              rougher.output.recovery\n",
       "26                               rougher.output.tail_ag\n",
       "27                               rougher.output.tail_au\n",
       "28                               rougher.output.tail_pb\n",
       "29                              rougher.output.tail_sol\n",
       "30                     secondary_cleaner.output.tail_ag\n",
       "31                     secondary_cleaner.output.tail_au\n",
       "32                     secondary_cleaner.output.tail_pb\n",
       "33                    secondary_cleaner.output.tail_sol\n",
       "dtype: object"
      ]
     },
     "metadata": {},
     "output_type": "display_data"
    }
   ],
   "source": [
    "column_difference = df_train.columns.difference(df_test.columns)\n",
    "display(pd.Series(column_difference))"
   ]
  },
  {
   "cell_type": "markdown",
   "metadata": {},
   "source": [
    "<b> Findings </b>\n",
    "\n",
    "The above is a list of features between the train and test datasets where the 34 columns displayed are all missing from the test dataset (all float types). These will be dropped from the Train dataset once we evaluate the chosen model and leverage the Test dataset.\n",
    "\n",
    "Parameters include (with their respective types):\n",
    "\n",
    "concentrate (outputs)\n",
    "\n",
    "tail (outputs)\n",
    "\n",
    "pb_ratio (calculation)\n",
    "\n",
    "floatbank10_sulfate_to_au_feed & floatbank11_sulfate_to_au_feed (calculation)\n",
    "\n",
    "sulfate_to_au_concentrate (calculation)\n",
    "\n",
    "recovery (outputs)"
   ]
  },
  {
   "cell_type": "markdown",
   "metadata": {},
   "source": [
    "<b> Concentration of Metals </b>\n",
    "\n",
    "<b> Au </b>"
   ]
  },
  {
   "cell_type": "code",
   "execution_count": 26,
   "metadata": {},
   "outputs": [
    {
     "data": {
      "text/html": [
       "<div>\n",
       "<style scoped>\n",
       "    .dataframe tbody tr th:only-of-type {\n",
       "        vertical-align: middle;\n",
       "    }\n",
       "\n",
       "    .dataframe tbody tr th {\n",
       "        vertical-align: top;\n",
       "    }\n",
       "\n",
       "    .dataframe thead th {\n",
       "        text-align: right;\n",
       "    }\n",
       "</style>\n",
       "<table border=\"1\" class=\"dataframe\">\n",
       "  <thead>\n",
       "    <tr style=\"text-align: right;\">\n",
       "      <th></th>\n",
       "      <th>rougher.output.concentrate_au</th>\n",
       "      <th>primary_cleaner.output.concentrate_au</th>\n",
       "      <th>secondary_cleaner.output.tail_au</th>\n",
       "      <th>final.output.concentrate_au</th>\n",
       "    </tr>\n",
       "  </thead>\n",
       "  <tbody>\n",
       "    <tr>\n",
       "      <th>mean</th>\n",
       "      <td>19.776763</td>\n",
       "      <td>32.380828</td>\n",
       "      <td>4.274828</td>\n",
       "      <td>44.131766</td>\n",
       "    </tr>\n",
       "    <tr>\n",
       "      <th>median</th>\n",
       "      <td>20.262513</td>\n",
       "      <td>33.016945</td>\n",
       "      <td>3.956963</td>\n",
       "      <td>44.802348</td>\n",
       "    </tr>\n",
       "    <tr>\n",
       "      <th>var</th>\n",
       "      <td>12.964445</td>\n",
       "      <td>28.393822</td>\n",
       "      <td>5.241296</td>\n",
       "      <td>17.400887</td>\n",
       "    </tr>\n",
       "    <tr>\n",
       "      <th>std</th>\n",
       "      <td>3.600617</td>\n",
       "      <td>5.328585</td>\n",
       "      <td>2.289388</td>\n",
       "      <td>4.171437</td>\n",
       "    </tr>\n",
       "  </tbody>\n",
       "</table>\n",
       "</div>"
      ],
      "text/plain": [
       "        rougher.output.concentrate_au  primary_cleaner.output.concentrate_au  \\\n",
       "mean                        19.776763                              32.380828   \n",
       "median                      20.262513                              33.016945   \n",
       "var                         12.964445                              28.393822   \n",
       "std                          3.600617                               5.328585   \n",
       "\n",
       "        secondary_cleaner.output.tail_au  final.output.concentrate_au  \n",
       "mean                            4.274828                    44.131766  \n",
       "median                          3.956963                    44.802348  \n",
       "var                             5.241296                    17.400887  \n",
       "std                             2.289388                     4.171437  "
      ]
     },
     "execution_count": 26,
     "metadata": {},
     "output_type": "execute_result"
    }
   ],
   "source": [
    "# Base Concentrate\n",
    "au_metal = df_train['rougher.output.concentrate_au']\n",
    "# First Purification Stage (Concentrate)\n",
    "first_purif_au = df_train['primary_cleaner.output.concentrate_au']\n",
    "# Second Purification Stage (Tail - Residues)\n",
    "second_purif_au = df_train['secondary_cleaner.output.tail_au']\n",
    "# Final Output\n",
    "final_output_au = df_train['final.output.concentrate_au']\n",
    "# summary\n",
    "dict_au = ['rougher.output.concentrate_au', 'primary_cleaner.output.concentrate_au',\n",
    "           'secondary_cleaner.output.tail_au', 'final.output.concentrate_au']\n",
    "df_train[dict_au].agg(['mean', 'median', 'var', 'std'])"
   ]
  },
  {
   "cell_type": "code",
   "execution_count": 27,
   "metadata": {},
   "outputs": [
    {
     "data": {
      "image/png": "[encoded data removed]",
      "text/plain": [
       "<Figure size 1400x800 with 1 Axes>"
      ]
     },
     "metadata": {},
     "output_type": "display_data"
    }
   ],
   "source": [
    "sns.set(style=\"white\", color_codes=True)\n",
    "plt.rcParams['axes.linewidth'] = 0.1\n",
    "fig, ax = plt.subplots(figsize=(14, 8))\n",
    "au_values = [au_metal, first_purif_au,final_output_au]\n",
    "for r in au_values:\n",
    "    sns.histplot(r, bins=25, ax=ax, kde=True).set_title('Au Concentrate Distribution')\n",
    "    ax.legend(labels=['rougher.output.concentrate_au','primary_cleaner.output.concentrate_au','final.output.concentrate_au'])"
   ]
  },
  {
   "cell_type": "markdown",
   "metadata": {},
   "source": [
    "<b> Ag </b>"
   ]
  },
  {
   "cell_type": "code",
   "execution_count": 28,
   "metadata": {},
   "outputs": [
    {
     "data": {
      "text/html": [
       "<div>\n",
       "<style scoped>\n",
       "    .dataframe tbody tr th:only-of-type {\n",
       "        vertical-align: middle;\n",
       "    }\n",
       "\n",
       "    .dataframe tbody tr th {\n",
       "        vertical-align: top;\n",
       "    }\n",
       "\n",
       "    .dataframe thead th {\n",
       "        text-align: right;\n",
       "    }\n",
       "</style>\n",
       "<table border=\"1\" class=\"dataframe\">\n",
       "  <thead>\n",
       "    <tr style=\"text-align: right;\">\n",
       "      <th></th>\n",
       "      <th>rougher.output.concentrate_ag</th>\n",
       "      <th>primary_cleaner.output.concentrate_ag</th>\n",
       "      <th>secondary_cleaner.output.tail_ag</th>\n",
       "      <th>final.output.concentrate_ag</th>\n",
       "    </tr>\n",
       "  </thead>\n",
       "  <tbody>\n",
       "    <tr>\n",
       "      <th>mean</th>\n",
       "      <td>11.842002</td>\n",
       "      <td>8.437240</td>\n",
       "      <td>14.239971</td>\n",
       "      <td>5.156254</td>\n",
       "    </tr>\n",
       "    <tr>\n",
       "      <th>median</th>\n",
       "      <td>11.797862</td>\n",
       "      <td>8.436041</td>\n",
       "      <td>14.706733</td>\n",
       "      <td>4.999101</td>\n",
       "    </tr>\n",
       "    <tr>\n",
       "      <th>var</th>\n",
       "      <td>7.218432</td>\n",
       "      <td>3.567055</td>\n",
       "      <td>16.491916</td>\n",
       "      <td>1.797010</td>\n",
       "    </tr>\n",
       "    <tr>\n",
       "      <th>std</th>\n",
       "      <td>2.686714</td>\n",
       "      <td>1.888665</td>\n",
       "      <td>4.061024</td>\n",
       "      <td>1.340526</td>\n",
       "    </tr>\n",
       "  </tbody>\n",
       "</table>\n",
       "</div>"
      ],
      "text/plain": [
       "        rougher.output.concentrate_ag  primary_cleaner.output.concentrate_ag  \\\n",
       "mean                        11.842002                               8.437240   \n",
       "median                      11.797862                               8.436041   \n",
       "var                          7.218432                               3.567055   \n",
       "std                          2.686714                               1.888665   \n",
       "\n",
       "        secondary_cleaner.output.tail_ag  final.output.concentrate_ag  \n",
       "mean                           14.239971                     5.156254  \n",
       "median                         14.706733                     4.999101  \n",
       "var                            16.491916                     1.797010  \n",
       "std                             4.061024                     1.340526  "
      ]
     },
     "execution_count": 28,
     "metadata": {},
     "output_type": "execute_result"
    }
   ],
   "source": [
    "# Base Concentrate\n",
    "ag_metal = df_train['rougher.output.concentrate_ag']\n",
    "# First Purification Stage (Concentrate)\n",
    "first_purif_ag = df_train['primary_cleaner.output.concentrate_ag']\n",
    "# Second Purification Stage (Tail - Residues)\n",
    "second_purif_ag = df_train['secondary_cleaner.output.tail_ag']\n",
    "# Final Output\n",
    "final_output_ag = df_train['final.output.concentrate_ag']\n",
    "# summary\n",
    "dict_ag = ['rougher.output.concentrate_ag', 'primary_cleaner.output.concentrate_ag',\n",
    "           'secondary_cleaner.output.tail_ag', 'final.output.concentrate_ag']\n",
    "df_train[dict_ag].agg(['mean', 'median', 'var', 'std'])"
   ]
  },
  {
   "cell_type": "code",
   "execution_count": 29,
   "metadata": {},
   "outputs": [
    {
     "data": {
      "image/png": "[encoded data removed]",
      "text/plain": [
       "<Figure size 1400x800 with 1 Axes>"
      ]
     },
     "metadata": {},
     "output_type": "display_data"
    }
   ],
   "source": [
    "sns.set(style=\"white\", color_codes=True)\n",
    "plt.rcParams['axes.linewidth'] = 0.1\n",
    "fig, ax = plt.subplots(figsize=(14, 8))\n",
    "ag_values = [ag_metal, first_purif_ag,final_output_ag]\n",
    "for r in ag_values:\n",
    "    sns.histplot(r, bins=25, ax=ax, kde=True).set_title('Ag Concentrate Distribution')\n",
    "    ax.legend(labels=['rougher.output.concentrate_ag','primary_cleaner.output.concentrate_ag','final.output.concentrate_ag'])"
   ]
  },
  {
   "cell_type": "markdown",
   "metadata": {},
   "source": [
    "<b> Pb </b>"
   ]
  },
  {
   "cell_type": "code",
   "execution_count": 30,
   "metadata": {},
   "outputs": [
    {
     "data": {
      "text/html": [
       "<div>\n",
       "<style scoped>\n",
       "    .dataframe tbody tr th:only-of-type {\n",
       "        vertical-align: middle;\n",
       "    }\n",
       "\n",
       "    .dataframe tbody tr th {\n",
       "        vertical-align: top;\n",
       "    }\n",
       "\n",
       "    .dataframe thead th {\n",
       "        text-align: right;\n",
       "    }\n",
       "</style>\n",
       "<table border=\"1\" class=\"dataframe\">\n",
       "  <thead>\n",
       "    <tr style=\"text-align: right;\">\n",
       "      <th></th>\n",
       "      <th>rougher.output.concentrate_pb</th>\n",
       "      <th>primary_cleaner.output.concentrate_pb</th>\n",
       "      <th>secondary_cleaner.output.tail_pb</th>\n",
       "      <th>final.output.concentrate_pb</th>\n",
       "    </tr>\n",
       "  </thead>\n",
       "  <tbody>\n",
       "    <tr>\n",
       "      <th>mean</th>\n",
       "      <td>7.612353</td>\n",
       "      <td>9.574840</td>\n",
       "      <td>5.511462</td>\n",
       "      <td>10.172706</td>\n",
       "    </tr>\n",
       "    <tr>\n",
       "      <th>median</th>\n",
       "      <td>7.708724</td>\n",
       "      <td>9.919548</td>\n",
       "      <td>5.101502</td>\n",
       "      <td>10.347546</td>\n",
       "    </tr>\n",
       "    <tr>\n",
       "      <th>var</th>\n",
       "      <td>2.952758</td>\n",
       "      <td>6.442381</td>\n",
       "      <td>6.396597</td>\n",
       "      <td>2.527265</td>\n",
       "    </tr>\n",
       "    <tr>\n",
       "      <th>std</th>\n",
       "      <td>1.718359</td>\n",
       "      <td>2.538184</td>\n",
       "      <td>2.529149</td>\n",
       "      <td>1.589737</td>\n",
       "    </tr>\n",
       "  </tbody>\n",
       "</table>\n",
       "</div>"
      ],
      "text/plain": [
       "        rougher.output.concentrate_pb  primary_cleaner.output.concentrate_pb  \\\n",
       "mean                         7.612353                               9.574840   \n",
       "median                       7.708724                               9.919548   \n",
       "var                          2.952758                               6.442381   \n",
       "std                          1.718359                               2.538184   \n",
       "\n",
       "        secondary_cleaner.output.tail_pb  final.output.concentrate_pb  \n",
       "mean                            5.511462                    10.172706  \n",
       "median                          5.101502                    10.347546  \n",
       "var                             6.396597                     2.527265  \n",
       "std                             2.529149                     1.589737  "
      ]
     },
     "execution_count": 30,
     "metadata": {},
     "output_type": "execute_result"
    }
   ],
   "source": [
    "# Base Concentrate\n",
    "pb_metal = df_train['rougher.output.concentrate_pb']\n",
    "# First Purification Stage (Concentrate)\n",
    "first_purif_pb = df_train['primary_cleaner.output.concentrate_pb']\n",
    "# Second Purification Stage (Tail - Residues)\n",
    "second_purif_pb = df_train['secondary_cleaner.output.tail_pb']\n",
    "# Final Output\n",
    "final_output_pb = df_train['final.output.concentrate_pb']\n",
    "# summary\n",
    "dict_pb = ['rougher.output.concentrate_pb', 'primary_cleaner.output.concentrate_pb',\n",
    "           'secondary_cleaner.output.tail_pb', 'final.output.concentrate_pb']\n",
    "df_train[dict_pb].agg(['mean', 'median', 'var', 'std'])"
   ]
  },
  {
   "cell_type": "code",
   "execution_count": 31,
   "metadata": {},
   "outputs": [
    {
     "data": {
      "image/png": "[encoded data removed]",
      "text/plain": [
       "<Figure size 1400x800 with 1 Axes>"
      ]
     },
     "metadata": {},
     "output_type": "display_data"
    }
   ],
   "source": [
    "sns.set(style=\"white\", color_codes=True)\n",
    "plt.rcParams['axes.linewidth'] = 0.1\n",
    "fig, ax = plt.subplots(figsize=(14, 8))\n",
    "pb_values = [pb_metal, first_purif_pb,final_output_pb]\n",
    "for r in pb_values:\n",
    "    sns.histplot(r, bins=25, ax=ax, kde=True).set_title('Pb Concentrate Distribution')\n",
    "    ax.legend(labels=['rougher.output.concentrate_pb','primary_cleaner.output.concentrate_pb','final.output.concentrate_pb'])"
   ]
  },
  {
   "cell_type": "code",
   "execution_count": 32,
   "metadata": {},
   "outputs": [
    {
     "name": "stdout",
     "output_type": "stream",
     "text": [
      "Train dataset: \n",
      " mean       57.215122\n",
      "median     53.843214\n",
      "var       357.739559\n",
      "std        18.914004\n",
      "Name: rougher.input.feed_size, dtype: float64\n",
      "\n",
      "Test dataset: \n",
      " mean       55.937535\n",
      "median     50.002004\n",
      "var       516.391711\n",
      "std        22.724254\n",
      "Name: rougher.input.feed_size, dtype: float64\n"
     ]
    }
   ],
   "source": [
    "# summary\n",
    "print('Train dataset: \\n',df_train['rougher.input.feed_size'].agg(['mean', 'median', 'var', 'std']))\n",
    "print('')\n",
    "print('Test dataset: \\n',df_test['rougher.input.feed_size'].agg(['mean', 'median', 'var', 'std']))"
   ]
  },
  {
   "cell_type": "code",
   "execution_count": 33,
   "metadata": {},
   "outputs": [
    {
     "data": {
      "image/png": "[encoded data removed]",
      "text/plain": [
       "<Figure size 1400x800 with 1 Axes>"
      ]
     },
     "metadata": {},
     "output_type": "display_data"
    }
   ],
   "source": [
    "train_feed = df_train['rougher.input.feed_size']\n",
    "test_feed = df_test['rougher.input.feed_size']\n",
    "\n",
    "sns.set(style=\"white\", color_codes=True)\n",
    "plt.rcParams['axes.linewidth'] = 0.1\n",
    "fig, ax = plt.subplots(figsize=(14, 8))\n",
    "feed_values = [train_feed, test_feed]\n",
    "for r in feed_values:\n",
    "    sns.histplot(r, bins=25, ax=ax, kde=True).set_title('Particle Feed Distribution')\n",
    "    ax.legend(labels=['rougher.input.feed_size','rougher.input.feed_size'])"
   ]
  },
  {
   "cell_type": "code",
   "execution_count": 34,
   "metadata": {},
   "outputs": [
    {
     "name": "stdout",
     "output_type": "stream",
     "text": [
      "\u001b[1mRaw Feed:\u001b[0m \n",
      " mean      20.436083\n",
      "median    19.597006\n",
      "var       18.577679\n",
      "std        4.310183\n",
      "dtype: float64\n",
      "\n",
      "\u001b[1mRougher Concentrate:\u001b[0m \n",
      " mean      39.231118\n",
      "median    40.049979\n",
      "var       43.990866\n",
      "std        6.632561\n",
      "dtype: float64\n",
      "\n",
      "\u001b[1mFinal Concentrate:\u001b[0m \n",
      " mean      59.460725\n",
      "median    60.159669\n",
      "var       22.211627\n",
      "std        4.712921\n",
      "dtype: float64\n"
     ]
    }
   ],
   "source": [
    "# summary\n",
    "raw_feed = df_train[['rougher.input.feed_au','rougher.input.feed_ag','rougher.input.feed_pb']].sum(axis=1)\n",
    "rougher_concentrate = df_train[['rougher.output.concentrate_au','rougher.output.concentrate_ag','rougher.output.concentrate_pb']].sum(axis=1)\n",
    "final_concentrate = df_train[['final.output.concentrate_au','final.output.concentrate_ag','final.output.concentrate_pb']].sum(axis=1).dropna()\n",
    "\n",
    "print('\\033[1mRaw Feed:\\033[0m \\n', raw_feed.agg(['mean', 'median', 'var', 'std']))\n",
    "print('')\n",
    "print('\\033[1mRougher Concentrate:\\033[0m \\n', rougher_concentrate.agg(['mean', 'median', 'var', 'std']))\n",
    "print('')\n",
    "print('\\033[1mFinal Concentrate:\\033[0m \\n', final_concentrate.agg(['mean', 'median', 'var', 'std']))"
   ]
  },
  {
   "cell_type": "code",
   "execution_count": 35,
   "metadata": {},
   "outputs": [
    {
     "data": {
      "image/png": "[encoded data removed]",
      "text/plain": [
       "<Figure size 1400x800 with 1 Axes>"
      ]
     },
     "metadata": {},
     "output_type": "display_data"
    }
   ],
   "source": [
    "sns.set(style=\"white\", color_codes=True)\n",
    "plt.rcParams['axes.linewidth'] = 0.1\n",
    "fig, ax = plt.subplots(figsize=(14, 8))\n",
    "feed_values = [raw_feed, rougher_concentrate, final_concentrate]\n",
    "for r in feed_values:\n",
    "    sns.histplot(r, bins=25, ax=ax, kde=True).set_title('Concentrate Distribution')\n",
    "    ax.legend(labels=['Raw Feed','Rougher Concentrate','Final Concentrate'])"
   ]
  },
  {
   "cell_type": "markdown",
   "metadata": {},
   "source": [
    "<b> Findings </b>\n",
    "\n",
    "<b> Individual Concentrates </b>\n",
    "\n",
    "The concentrate distribution varies across Au, Ag, and Pb.\n",
    "\n",
    "Au (gold) has a higher frequency of instances overall and its values are larger with Base concentration in the 15-25 range, followed by First Purification in the 30-40 range then 40+ under the Final Output stage. The feature variance increases as the material is purified and converted into the Final Output (very acute compression at that stage) which in turn is showing us more final output concentration out of this metal.\n",
    "\n",
    "Ag (silver) concentrate shows a path reversal along with much smaller values overall (and less instances). As this material goes through its process towards the Final Output, we see a shift towards the left (less frequency in both values and instances compared to the First Purification and Base stages). Telling us that there is more difficulty refining/extracting this metal compared to gold.\n",
    "\n",
    "Pb's (lead) concentration is much more centered compared to the other two, where we see Base concentrate spead over a 'longer' path as it passes through the First Purification stage then it 'shrinks' as it goes through its Final Output stage. Sitting in the middle of the pack and giving us a sense that this metal does just okay as it passes through the process.\n",
    "\n",
    "Total Concentrates - Raw Feed, Rougher and Final\n",
    "\n",
    "Overall concentrate distribution follows a positive path towards its final output (good extraction overall from feed, all the way to the final output).\n",
    "\n",
    "As raw feed is introduced into the flotation process, we see a slightly higher rougher concentrate count as the metal is stabilized and 'concentrated'.\n",
    "\n",
    "Once the raw feed is stabilized and is now a rougher concentrate, it enters the purification stages (two) where we see the final output being about double the amount from rougher to final.\n",
    "\n",
    "Particle Feed\n",
    "\n",
    "Feed distribution across the Training and Test datasets are similar.\n",
    "\n",
    "We see higher frequency of values in the Test dataset which is expected given the preprocessing we did with the Train dataset (removal of NaNs, replacement, etc...).\n",
    "\n",
    "Both follow the same path, positive skews. Mean is higher than the median in both instances.\n",
    "\n",
    "Anomalies: performed in earlier stages for Training dataset (NaN removal, 0 fills and Infinity value replacement)\n",
    "\n",
    "The concentrate distribution across Au, Ag, and Pb originally showed 'outliers' where values ranging from 0 to 1, NaN or Inf values took a decent 'bite' out of the dataset, after corrections on these, all the charts above have diminished values closely 'glued' to the y-axis without affecting the overall analysis.\n",
    "\n",
    "Removing these 'anomalies' helps the modeling process so the model itself can 'focus' on the more recurring and significant values across the metals/stages.\n"
   ]
  },
  {
   "cell_type": "markdown",
   "metadata": {},
   "source": [
    "<b> Final sMAPE Calculation </b>"
   ]
  },
  {
   "cell_type": "code",
   "execution_count": 36,
   "metadata": {},
   "outputs": [],
   "source": [
    "rougher_target = pd.Series(df_train['rougher.output.recovery'])\n",
    "final_target = pd.Series(df_train['final.output.recovery'])\n",
    "\n",
    "rougher_predict = pd.Series(estimated_recovery, name='estimated_recovery')\n",
    "final_predict = pd.Series(final_estimated_recovery, name='final_estimated_recovery')\n",
    "\n",
    "target = pd.concat([rougher_target, final_target], axis=1).to_numpy()\n",
    "prediction = pd.concat([rougher_predict, final_predict], axis=1).to_numpy()"
   ]
  },
  {
   "cell_type": "code",
   "execution_count": 37,
   "metadata": {},
   "outputs": [],
   "source": [
    "def sMAPE_final_calc(target, prediction):\n",
    "    \"\"\"Function that follows our sMAPE calculation.\n",
    "    Similar to MAE, but is expressed in relative values instead of absolute ones.\n",
    "    It equally takes into account the scale of both the target and the prediction.\n",
    "    \"\"\"\n",
    "    target = np.array(target)\n",
    "    prediction = np.array(prediction)\n",
    "    \n",
    "    RT, FT = target[:, 0], target[:, 1]\n",
    "    RP, FP = prediction[:, 0], prediction[:, 1]\n",
    "    \n",
    "    # creating the calculations for both the rougher and final recovery values\n",
    "    rougher = 100/len(RT) * np.nansum(2 * np.abs(RP - RT) / (np.abs(RT) + np.abs(RP))) # + np.finfo(float).eps\n",
    "    final = 100/len(FT) * np.nansum(2 * np.abs(FP - FT) / (np.abs(FT) + np.abs(FP))) # + np.finfo(float).eps\n",
    "    final_sMAPE =  .25 * rougher + .75 * final\n",
    "    \n",
    "    return final_sMAPE\n",
    "\n",
    "sMAPE_scorer = make_scorer(sMAPE_final_calc, greater_is_better=False)"
   ]
  },
  {
   "cell_type": "code",
   "execution_count": 38,
   "metadata": {},
   "outputs": [
    {
     "name": "stdout",
     "output_type": "stream",
     "text": [
      "Final sMAPE: 1.2182257663447701e-14\n"
     ]
    }
   ],
   "source": [
    "np.seterr(invalid='ignore')\n",
    "result = sMAPE_final_calc(target, prediction)\n",
    "print('Final sMAPE:', result)"
   ]
  },
  {
   "cell_type": "markdown",
   "metadata": {},
   "source": [
    "<b> Modeling </b>\n",
    "\n",
    "<b> Reproducibility </b>"
   ]
  },
  {
   "cell_type": "code",
   "execution_count": 39,
   "metadata": {},
   "outputs": [],
   "source": [
    "seed = 12345"
   ]
  },
  {
   "cell_type": "code",
   "execution_count": 40,
   "metadata": {},
   "outputs": [],
   "source": [
    "cv = RepeatedKFold(n_repeats=3, n_splits=3, random_state=seed)"
   ]
  },
  {
   "cell_type": "markdown",
   "metadata": {},
   "source": [
    "<b> Training Data </b>"
   ]
  },
  {
   "cell_type": "code",
   "execution_count": 41,
   "metadata": {},
   "outputs": [],
   "source": [
    "# creating the features and target variables from our Training set\n",
    "target = df_train[['rougher.output.recovery','final.output.recovery']] # extracting target\n",
    "features = df_train.drop(['rougher.output.recovery','final.output.recovery'], axis=1) # feature extraction\n",
    "features_net = df_train.drop(column_difference, axis=1) # net differences between Train and Test set\n",
    "\n",
    "# constant model for in case there is a need for comparison\n",
    "constant = pd.Series(target.mean(), index = target.index)\n",
    "\n",
    "# scaled Training set to scale and take into account outliers in our data\n",
    "scaler = RobustScaler(unit_variance=True)\n",
    "features_net_scaled = scaler.fit_transform(features_net)"
   ]
  },
  {
   "cell_type": "code",
   "execution_count": 42,
   "metadata": {},
   "outputs": [],
   "source": [
    "# initializing the models we will be iterating through\n",
    "dm = DummyRegressor()\n",
    "lr = LinearRegression()\n",
    "dt = DecisionTreeRegressor(random_state=seed)\n",
    "ridge = Ridge()\n",
    "lasso = Lasso()\n",
    "rf = RandomForestRegressor(random_state=seed)\n",
    "multi_out = MultiOutputRegressor(rf)\n",
    "\n",
    "regressors = [('DummyRegressor', dm),('LinearRegression', lr),\n",
    "               ('Ridge', ridge), ('Lasso', lasso),\n",
    "              ('DecisionTreeRegressor', dt), ('RandomForestRegressor', rf),\n",
    "              ('MultiOutputRegressor', multi_out)]"
   ]
  },
  {
   "cell_type": "code",
   "execution_count": 43,
   "metadata": {},
   "outputs": [
    {
     "name": "stdout",
     "output_type": "stream",
     "text": [
      "\n",
      "DummyRegressor Avg. sMAPE Cross-Val Score: 9.888\n",
      "\n",
      "LinearRegression Avg. sMAPE Cross-Val Score: 7.833\n",
      "\n",
      "Ridge Avg. sMAPE Cross-Val Score: 7.833\n",
      "\n",
      "Lasso Avg. sMAPE Cross-Val Score: 8.403\n",
      "\n",
      "DecisionTreeRegressor Avg. sMAPE Cross-Val Score: 7.860\n",
      "\n",
      "RandomForestRegressor Avg. sMAPE Cross-Val Score: 5.919\n",
      "\n",
      "MultiOutputRegressor Avg. sMAPE Cross-Val Score: 5.953\n"
     ]
    }
   ],
   "source": [
    "for clf_name, clf in regressors:\n",
    "    \"\"\"Iterates through the regressors we initialized, takes into account the Name and Model we have provided.\n",
    "    Fits each model and provides scoring metrics through cross_val_score and our sMAPE_scorer.\n",
    "    The iteration is meant to provide us with baseline comparisons in order to select a model and then further tune via hyperparameter tuning/GridSearch.\n",
    "    \"\"\"\n",
    "    # fit\n",
    "    clf.fit(features_net_scaled, target)\n",
    "\n",
    "    # label prediction\n",
    "    # y_pred = clf.predict()\n",
    "\n",
    "    # evaluations\n",
    "    scoring = cross_val_score(clf, features_net_scaled, target, scoring=sMAPE_scorer, cv=cv)\n",
    "    print('')\n",
    "    print('{:s} Avg. sMAPE Cross-Val Score: {:.3f}'.format(clf_name, np.abs(scoring.mean())))"
   ]
  },
  {
   "cell_type": "markdown",
   "metadata": {},
   "source": [
    "<b> Model Selection </b>"
   ]
  },
  {
   "cell_type": "code",
   "execution_count": 44,
   "metadata": {},
   "outputs": [
    {
     "name": "stdout",
     "output_type": "stream",
     "text": [
      "CPU times: user 27min 33s, sys: 759 ms, total: 27min 33s\n",
      "Wall time: 27min 34s\n"
     ]
    }
   ],
   "source": [
    "%%time\n",
    "model = RandomForestRegressor(random_state=seed)\n",
    "model_params = [{'max_depth': list(range(5, 11)), 'max_features': list(range(3,7)), 'n_estimators':[100, 150, 300]}]\n",
    "\n",
    "cv_search = GridSearchCV(model, model_params, cv=cv, scoring=sMAPE_scorer)\n",
    "cv_search.fit(features_net_scaled, target)\n",
    "\"\"\"\n",
    "features_net takes into account the differences in columns between our train and test sets\n",
    "target is our target from the df_train set\n",
    "\"\"\"\n",
    "best_parameters = cv_search.best_params_\n",
    "best_score = cv_search.best_score_"
   ]
  },
  {
   "cell_type": "code",
   "execution_count": 45,
   "metadata": {},
   "outputs": [
    {
     "name": "stdout",
     "output_type": "stream",
     "text": [
      "Best Params: {'max_depth': 10, 'max_features': 6, 'n_estimators': 300},\n",
      " Best sMAPE Score: 6.659\n"
     ]
    }
   ],
   "source": [
    "print('Best Params: {},\\n Best sMAPE Score: {:.3f}'.format(best_parameters, np.abs(best_score)))"
   ]
  },
  {
   "cell_type": "code",
   "execution_count": null,
   "metadata": {},
   "outputs": [],
   "source": [
    "cv_results = pd.DataFrame(cv_search.cv_results_)\n",
    "\n",
    "print('Average Fold Score:', np.mean(abs(cv_results['split0_test_score']) + abs(cv_results['split1_test_score'] +\n",
    "                              abs(cv_results['split2_test_score'] + abs(cv_results['split3_test_score'])))))"
   ]
  },
  {
   "cell_type": "code",
   "execution_count": null,
   "metadata": {},
   "outputs": [],
   "source": [
    "\"\"\"Our target is not included in our Test set (known discrepancy).\n",
    "Pulling the target from the Full set.\n",
    "\"\"\"\n",
    "# we start with matching through our date columns\n",
    "match_list = df_test['date'].to_list()\n",
    "full_match_list = df_full['date'].to_list()\n",
    "mask = df_full['date'].isin(match_list)\n",
    "df_full.drop(columns='date', index=1, inplace=True)\n",
    "matching_rows = df_full[mask].fillna(0)\n",
    "\n",
    "# from our 'filter' we extract our target(s) and as a reminder, we are predicting two values in this project\n",
    "test_target = matching_rows[['rougher.output.recovery','final.output.recovery']]\n",
    "test_target = test_target[:-1] # kept getting a mismatch of one row, removed the last one\n",
    "\n",
    "# further DF clean-up by removing our date feature as well as filling in any NaNs or Inf values\n",
    "df_test.drop(columns='date', index=1, inplace=True)\n",
    "df_test = df_test.fillna(0)\n",
    "df_test.replace([np.inf, -np.inf], 0, inplace=True)\n",
    "\n",
    "# features for our Test set is simply the Test set DF\n",
    "features_test_scaled = scaler.transform(df_test)\n",
    "# features_test = df_test\n",
    "\n",
    "# since we have our features, we begin the prediction process on test data\n",
    "y_pred_final = cv_search.predict(features_test_scaled)\n",
    "\n",
    "# we utilize mean squared error metric in order to analyze performance\n",
    "mse = mean_squared_error(test_target, y_pred_final)\n",
    "\n",
    "# results, including our MSE and our RMSE in order to get a value that makes more sense \n",
    "print(\"RandomForestRegression Test dataset MSE:\", mse)\n",
    "print(\"RandomForestRegression Test dataset RMSE:\", mse ** 0.5)\n",
    "print('')\n",
    "\n",
    "dummy_model = DummyRegressor().fit(features_net_scaled, target)\n",
    "y_pred_dummy = dummy_model.predict(features_test_scaled)\n",
    "dummy_mse = mean_squared_error(test_target, y_pred_dummy)\n",
    "\n",
    "print(\"DummyRegression Test dataset MSE:\", dummy_mse)\n",
    "print(\"DummyRegression Test dataset RMSE:\", dummy_mse ** 0.5)"
   ]
  },
  {
   "cell_type": "code",
   "execution_count": null,
   "metadata": {},
   "outputs": [],
   "source": [
    "print('DummyRegressor Final sMAPE score (Test set) \\n', sMAPE_final_calc(test_target,y_pred_dummy))\n",
    "print('')\n",
    "print('RandomForestRegressor Final sMAPE score (Test set) \\n', sMAPE_final_calc(test_target,y_pred_final))\n",
    "print('')\n",
    "\n",
    "# sMAPE score function score based off of the Train set\n",
    "y_train_pred_final = cv_search.predict(features_net_scaled)\n",
    "print('RandomForestRegressor Final sMAPE score (Train set) \\n', sMAPE_final_calc(target,y_train_pred_final))\n",
    "print('')"
   ]
  },
  {
   "cell_type": "markdown",
   "metadata": {},
   "source": [
    "<b> Conclusions </b>\n",
    "\n",
    "We being our project by performing various checks on variability across the datasets as they were already split into a Full, Train and Test set.\n",
    "\n",
    "Our analysis provides us with clues on missing values and potential outliers that will impact regression model performance. Variability is expected as the features include values from different points of the extraction process.\n",
    "\n",
    "Clean-up is performed on the Train set to start (NaN removal), in order to get a truer sense on the various metals and their processes as missing values hinder our recovery/sMAPE calculations. Note: we created imputation and outlier removal cells in case these methods are needed and if they are truly impactful to our analysis/modeling. Imputing on NaN values negatively affects our modeling but the option is there.\n",
    "\n",
    "Once we get a sense of distributions across metals, concentrates and feeds we head into modeling our data via utilization of 5+ regression models. This includes a DummyRegressor model for comparability and make sure there aren't any initial issues. RobustScaling is implemented to take into account outlier values (scaling that resists the pull of outliers).\n",
    "\n",
    "We iterate through our regression models (without tuning) in order to cross-compare our cross_val scores which leverages our sMAPE_scorer function under the scoring parameter. This lets us have a baseline comparison to see how each model performs on the Train set before going further with hyperparameter tuning.\n",
    "Our analysis shows us that the RandomForestRegressor is the better performing model across the regressors but comes at the cost of lower speed. Both LinerRegression and Ridge follow closely with slightly worse scores but at a much higher computation speed. Our base scores from cross_val were as follows:\n",
    "\n",
    "    - Dummy: 9.88\n",
    "    - Linear: 7.83\n",
    "    - Ridge: 7.83\n",
    "    - Lasso: 8.04\n",
    "    - DecisionTree: 7.86\n",
    "    - RandomForest: 5.91\n",
    "    - MultiOutput: 5.95\n",
    "Further analyzing the most optimal model, in this case the RandomForestRegressor, we perform final evaluations on our Test set and deploy hyperparameter tuning through GridSearchCV. The evaluation yields the scores below which perform better than our DummyRegressor.\n",
    "\n",
    "    - MSE: 460\n",
    "    - RMSE: 21\n",
    "\n",
    "Our optimal model suggestion is based on our understanding that the company is placing more weight at the accuracy of the model compared to time/speed. RandomForestRegressor also gives added flexibility through more hyperparameter tuning than Linear or Ridge Regression (carefully calling out possible over-fitting nonetheless). If time/speed is desired, the recommendation is to use the Linear or Ridge regressors.\n",
    "\n",
    "Based on the sMAPE_final_calc comparison between the RandomForestRegressor and the DummyRegressor model, we conclude that the RandomForestRegressor gives us a % error of ~25% when leveraging the Test set (compared to a nearly identical but slightly better result to our DummyRegressor model). This % error result from our RandomForestRegressor is still a more optimal result compared to all other models deployed.\n",
    "\n",
    "When going one step further and analyzing the final sMAPE value on our train dataset, we find a ~6% error. Meaning our final sMAPE result on our Test set introduces a +19% delta to our overall results/predictions."
   ]
  }
 ],
 "metadata": {
  "ExecuteTimeLog": [
   {
    "duration": 1406,
    "start_time": "2024-08-23T17:13:47.674Z"
   },
   {
    "duration": 115,
    "start_time": "2024-08-23T17:13:49.083Z"
   },
   {
    "duration": 99,
    "start_time": "2024-08-23T17:15:14.891Z"
   },
   {
    "duration": 77,
    "start_time": "2024-08-23T17:15:36.727Z"
   },
   {
    "duration": 19,
    "start_time": "2024-08-23T17:15:45.622Z"
   },
   {
    "duration": 286,
    "start_time": "2024-08-23T17:16:04.853Z"
   },
   {
    "duration": 282,
    "start_time": "2024-08-23T17:27:14.736Z"
   },
   {
    "duration": 159,
    "start_time": "2024-08-23T17:28:18.655Z"
   },
   {
    "duration": 1964,
    "start_time": "2024-08-23T18:14:13.771Z"
   },
   {
    "duration": 1906,
    "start_time": "2024-08-23T18:15:42.985Z"
   },
   {
    "duration": 5,
    "start_time": "2024-08-23T18:16:18.082Z"
   },
   {
    "duration": 273636,
    "start_time": "2024-08-23T18:17:36.171Z"
   },
   {
    "duration": 1248,
    "start_time": "2024-08-23T18:22:09.811Z"
   },
   {
    "duration": 0,
    "start_time": "2024-08-23T18:22:11.063Z"
   },
   {
    "duration": 3069,
    "start_time": "2024-08-23T18:24:06.873Z"
   },
   {
    "duration": 37,
    "start_time": "2024-08-23T18:25:46.815Z"
   },
   {
    "duration": 14,
    "start_time": "2024-08-23T18:25:51.543Z"
   },
   {
    "duration": 30,
    "start_time": "2024-08-23T18:32:41.043Z"
   },
   {
    "duration": 100,
    "start_time": "2024-08-23T18:37:37.131Z"
   },
   {
    "duration": 14,
    "start_time": "2024-08-23T18:38:43.096Z"
   },
   {
    "duration": 433,
    "start_time": "2024-08-23T18:39:50.700Z"
   },
   {
    "duration": 13098,
    "start_time": "2024-08-23T18:40:43.940Z"
   },
   {
    "duration": 14293,
    "start_time": "2024-08-23T18:41:38.860Z"
   },
   {
    "duration": 45,
    "start_time": "2024-08-23T18:48:15.073Z"
   },
   {
    "duration": 38,
    "start_time": "2024-08-23T18:48:52.264Z"
   },
   {
    "duration": 33,
    "start_time": "2024-08-23T18:50:10.159Z"
   },
   {
    "duration": 6,
    "start_time": "2024-08-23T18:50:38.086Z"
   },
   {
    "duration": 63,
    "start_time": "2024-08-23T18:50:41.978Z"
   },
   {
    "duration": 5,
    "start_time": "2024-08-23T18:52:02.799Z"
   },
   {
    "duration": 281,
    "start_time": "2024-08-23T18:52:40.105Z"
   },
   {
    "duration": 5,
    "start_time": "2024-08-23T18:53:13.593Z"
   },
   {
    "duration": 805,
    "start_time": "2024-08-23T19:04:41.586Z"
   },
   {
    "duration": 827,
    "start_time": "2024-08-23T19:05:05.210Z"
   },
   {
    "duration": 20,
    "start_time": "2024-08-23T19:08:38.039Z"
   },
   {
    "duration": 275,
    "start_time": "2024-08-23T19:08:55.353Z"
   },
   {
    "duration": 350,
    "start_time": "2024-08-23T19:09:19.335Z"
   },
   {
    "duration": 269,
    "start_time": "2024-08-23T19:09:49.877Z"
   },
   {
    "duration": 257,
    "start_time": "2024-08-23T19:10:14.408Z"
   },
   {
    "duration": 262,
    "start_time": "2024-08-23T19:10:22.582Z"
   },
   {
    "duration": 353,
    "start_time": "2024-08-23T19:34:58.779Z"
   },
   {
    "duration": 12,
    "start_time": "2024-08-23T19:36:50.591Z"
   },
   {
    "duration": 132,
    "start_time": "2024-08-23T19:38:03.236Z"
   },
   {
    "duration": 6,
    "start_time": "2024-08-23T19:43:11.832Z"
   },
   {
    "duration": 32,
    "start_time": "2024-08-23T19:43:32.226Z"
   },
   {
    "duration": 140,
    "start_time": "2024-08-23T19:43:48.586Z"
   },
   {
    "duration": 379,
    "start_time": "2024-08-23T19:45:36.037Z"
   },
   {
    "duration": 32,
    "start_time": "2024-08-23T19:48:18.339Z"
   },
   {
    "duration": 17,
    "start_time": "2024-08-23T19:49:44.037Z"
   },
   {
    "duration": 135,
    "start_time": "2024-08-23T19:50:52.950Z"
   },
   {
    "duration": 8,
    "start_time": "2024-08-23T19:51:19.791Z"
   },
   {
    "duration": 33,
    "start_time": "2024-08-23T19:51:54.381Z"
   },
   {
    "duration": 163,
    "start_time": "2024-08-23T19:52:23.009Z"
   },
   {
    "duration": 8,
    "start_time": "2024-08-23T19:53:04.114Z"
   },
   {
    "duration": 25,
    "start_time": "2024-08-23T19:54:45.073Z"
   },
   {
    "duration": 7,
    "start_time": "2024-08-23T19:54:51.847Z"
   },
   {
    "duration": 519,
    "start_time": "2024-08-23T19:55:56.426Z"
   },
   {
    "duration": 514,
    "start_time": "2024-08-23T19:56:17.002Z"
   },
   {
    "duration": 699,
    "start_time": "2024-08-23T19:56:26.846Z"
   },
   {
    "duration": 32,
    "start_time": "2024-08-23T20:04:41.156Z"
   },
   {
    "duration": 9101,
    "start_time": "2024-08-23T20:05:18.484Z"
   },
   {
    "duration": 28,
    "start_time": "2024-08-23T20:06:27.003Z"
   },
   {
    "duration": 928,
    "start_time": "2024-08-23T20:06:34.522Z"
   },
   {
    "duration": 19,
    "start_time": "2024-08-23T20:12:54.662Z"
   },
   {
    "duration": 93,
    "start_time": "2024-08-23T20:13:02.753Z"
   },
   {
    "duration": 1302,
    "start_time": "2024-08-23T20:13:18.190Z"
   },
   {
    "duration": 18198,
    "start_time": "2024-08-23T20:13:29.817Z"
   },
   {
    "duration": 10043,
    "start_time": "2024-08-23T20:13:53.498Z"
   },
   {
    "duration": 5,
    "start_time": "2024-08-23T20:15:12.346Z"
   },
   {
    "duration": 1045,
    "start_time": "2024-08-23T20:15:35.139Z"
   },
   {
    "duration": 18799,
    "start_time": "2024-08-23T20:16:03.471Z"
   },
   {
    "duration": 1489,
    "start_time": "2024-08-26T13:51:09.980Z"
   },
   {
    "duration": 1516,
    "start_time": "2024-08-26T14:12:05.262Z"
   },
   {
    "duration": 13,
    "start_time": "2024-08-26T14:12:14.778Z"
   },
   {
    "duration": 618,
    "start_time": "2024-08-26T14:12:26.704Z"
   },
   {
    "duration": 4620,
    "start_time": "2024-08-26T14:13:05.539Z"
   },
   {
    "duration": 649,
    "start_time": "2024-08-26T14:13:27.166Z"
   },
   {
    "duration": 955,
    "start_time": "2024-08-26T14:20:00.615Z"
   },
   {
    "duration": 204,
    "start_time": "2024-08-26T14:21:11.537Z"
   },
   {
    "duration": 89,
    "start_time": "2024-08-26T14:22:21.846Z"
   },
   {
    "duration": 262,
    "start_time": "2024-08-26T14:23:13.552Z"
   },
   {
    "duration": 119,
    "start_time": "2024-08-26T14:23:19.233Z"
   },
   {
    "duration": 128,
    "start_time": "2024-08-26T14:24:13.020Z"
   },
   {
    "duration": 149,
    "start_time": "2024-08-26T14:25:00.558Z"
   },
   {
    "duration": 21,
    "start_time": "2024-08-26T14:26:08.628Z"
   },
   {
    "duration": 17,
    "start_time": "2024-08-26T14:27:50.153Z"
   },
   {
    "duration": 2375,
    "start_time": "2024-08-26T14:34:11.214Z"
   },
   {
    "duration": 423,
    "start_time": "2024-08-26T14:34:29.269Z"
   },
   {
    "duration": 2703,
    "start_time": "2024-08-26T14:34:54.124Z"
   },
   {
    "duration": 2536,
    "start_time": "2024-08-26T14:35:14.168Z"
   },
   {
    "duration": 789,
    "start_time": "2024-08-26T14:35:19.376Z"
   },
   {
    "duration": 466,
    "start_time": "2024-08-26T14:41:39.563Z"
   },
   {
    "duration": 29,
    "start_time": "2024-08-26T14:43:12.344Z"
   },
   {
    "duration": 30,
    "start_time": "2024-08-26T14:45:37.682Z"
   },
   {
    "duration": 7204,
    "start_time": "2024-08-26T14:46:41.497Z"
   },
   {
    "duration": 190,
    "start_time": "2024-08-26T14:48:03.034Z"
   },
   {
    "duration": 434,
    "start_time": "2024-08-26T14:48:44.260Z"
   },
   {
    "duration": 9050,
    "start_time": "2024-08-26T14:48:56.193Z"
   },
   {
    "duration": 5,
    "start_time": "2024-08-26T14:58:24.928Z"
   },
   {
    "duration": 753,
    "start_time": "2024-08-26T14:58:47.066Z"
   },
   {
    "duration": 1576,
    "start_time": "2024-08-26T14:59:15.085Z"
   },
   {
    "duration": 794,
    "start_time": "2024-08-26T14:59:16.664Z"
   },
   {
    "duration": 10,
    "start_time": "2024-08-26T15:01:48.023Z"
   },
   {
    "duration": 29,
    "start_time": "2024-08-26T15:02:34.437Z"
   },
   {
    "duration": 27,
    "start_time": "2024-08-26T15:02:55.002Z"
   },
   {
    "duration": 28,
    "start_time": "2024-08-26T15:03:19.332Z"
   },
   {
    "duration": 65,
    "start_time": "2024-08-26T15:04:12.840Z"
   },
   {
    "duration": 13,
    "start_time": "2024-08-26T15:05:33.078Z"
   },
   {
    "duration": 7,
    "start_time": "2024-08-26T15:05:58.147Z"
   },
   {
    "duration": 54,
    "start_time": "2024-08-26T15:06:15.466Z"
   },
   {
    "duration": 61,
    "start_time": "2024-08-26T15:06:28.045Z"
   },
   {
    "duration": 77,
    "start_time": "2024-08-26T15:07:48.680Z"
   },
   {
    "duration": 460,
    "start_time": "2024-08-26T15:08:48.868Z"
   },
   {
    "duration": 66357,
    "start_time": "2024-08-26T15:09:06.804Z"
   },
   {
    "duration": 37013,
    "start_time": "2024-08-26T15:10:13.165Z"
   },
   {
    "duration": 818,
    "start_time": "2024-08-26T15:11:07.804Z"
   },
   {
    "duration": 139,
    "start_time": "2024-08-26T15:11:15.298Z"
   },
   {
    "duration": 5,
    "start_time": "2024-08-26T15:12:08.820Z"
   },
   {
    "duration": 725,
    "start_time": "2024-08-26T15:12:16.037Z"
   },
   {
    "duration": 6,
    "start_time": "2024-08-26T15:12:22.481Z"
   },
   {
    "duration": 6,
    "start_time": "2024-08-26T15:13:11.386Z"
   },
   {
    "duration": 3,
    "start_time": "2024-08-26T15:13:23.473Z"
   },
   {
    "duration": 20,
    "start_time": "2024-08-26T15:13:30.853Z"
   },
   {
    "duration": 12,
    "start_time": "2024-08-26T15:13:36.515Z"
   },
   {
    "duration": 7,
    "start_time": "2024-08-26T15:13:45.641Z"
   },
   {
    "duration": 7,
    "start_time": "2024-08-26T15:13:53.744Z"
   },
   {
    "duration": 4,
    "start_time": "2024-08-26T15:14:01.435Z"
   },
   {
    "duration": 4,
    "start_time": "2024-08-26T15:14:49.742Z"
   },
   {
    "duration": 1732,
    "start_time": "2024-08-26T15:15:08.792Z"
   },
   {
    "duration": 1612,
    "start_time": "2024-08-26T15:22:09.364Z"
   },
   {
    "duration": 775,
    "start_time": "2024-08-26T15:22:10.979Z"
   },
   {
    "duration": 10,
    "start_time": "2024-08-26T15:22:17.452Z"
   },
   {
    "duration": 35,
    "start_time": "2024-08-26T15:22:19.734Z"
   },
   {
    "duration": 28,
    "start_time": "2024-08-26T15:22:28.867Z"
   },
   {
    "duration": 13,
    "start_time": "2024-08-26T15:22:34.577Z"
   },
   {
    "duration": 7,
    "start_time": "2024-08-26T15:22:36.747Z"
   },
   {
    "duration": 6,
    "start_time": "2024-08-26T15:22:42.001Z"
   },
   {
    "duration": 56,
    "start_time": "2024-08-26T15:22:43.721Z"
   },
   {
    "duration": 61,
    "start_time": "2024-08-26T15:22:45.970Z"
   },
   {
    "duration": 53,
    "start_time": "2024-08-26T15:22:58.147Z"
   },
   {
    "duration": 69,
    "start_time": "2024-08-26T15:23:01.870Z"
   },
   {
    "duration": 451,
    "start_time": "2024-08-26T15:23:05.157Z"
   },
   {
    "duration": 66963,
    "start_time": "2024-08-26T15:23:06.013Z"
   },
   {
    "duration": 37032,
    "start_time": "2024-08-26T15:25:18.101Z"
   },
   {
    "duration": 816,
    "start_time": "2024-08-26T15:33:15.852Z"
   },
   {
    "duration": 146,
    "start_time": "2024-08-26T15:33:21.708Z"
   },
   {
    "duration": 6,
    "start_time": "2024-08-26T15:33:27.896Z"
   },
   {
    "duration": 708,
    "start_time": "2024-08-26T15:33:31.158Z"
   },
   {
    "duration": 6,
    "start_time": "2024-08-26T15:33:32.622Z"
   },
   {
    "duration": 7,
    "start_time": "2024-08-26T15:33:36.309Z"
   },
   {
    "duration": 3,
    "start_time": "2024-08-26T15:33:38.315Z"
   },
   {
    "duration": 18,
    "start_time": "2024-08-26T15:33:40.535Z"
   },
   {
    "duration": 12,
    "start_time": "2024-08-26T15:33:42.496Z"
   },
   {
    "duration": 7,
    "start_time": "2024-08-26T15:33:49.534Z"
   },
   {
    "duration": 7,
    "start_time": "2024-08-26T15:33:50.978Z"
   },
   {
    "duration": 3,
    "start_time": "2024-08-26T15:33:52.576Z"
   },
   {
    "duration": 617989,
    "start_time": "2024-08-26T15:34:02.218Z"
   },
   {
    "duration": 1917,
    "start_time": "2024-08-26T15:44:20.211Z"
   },
   {
    "duration": 670,
    "start_time": "2024-08-26T15:50:28.368Z"
   },
   {
    "duration": 1481,
    "start_time": "2024-08-26T15:50:31.059Z"
   },
   {
    "duration": 27,
    "start_time": "2024-08-26T16:06:06.899Z"
   },
   {
    "duration": 21,
    "start_time": "2024-08-26T16:07:56.953Z"
   },
   {
    "duration": 52,
    "start_time": "2024-08-26T16:08:11.610Z"
   },
   {
    "duration": 154,
    "start_time": "2024-08-26T16:09:03.390Z"
   },
   {
    "duration": 453,
    "start_time": "2024-08-26T16:09:21.430Z"
   },
   {
    "duration": 36873,
    "start_time": "2024-08-26T16:11:41.008Z"
   },
   {
    "duration": 806,
    "start_time": "2024-08-26T16:12:17.885Z"
   },
   {
    "duration": 138,
    "start_time": "2024-08-26T16:13:06.902Z"
   },
   {
    "duration": 6,
    "start_time": "2024-08-26T16:13:52.091Z"
   },
   {
    "duration": 720,
    "start_time": "2024-08-26T16:14:22.354Z"
   },
   {
    "duration": 6,
    "start_time": "2024-08-26T16:14:23.077Z"
   },
   {
    "duration": 6,
    "start_time": "2024-08-26T16:14:51.949Z"
   },
   {
    "duration": 6,
    "start_time": "2024-08-26T16:18:04.643Z"
   },
   {
    "duration": 4,
    "start_time": "2024-08-26T16:18:05.691Z"
   },
   {
    "duration": 1604,
    "start_time": "2024-08-26T16:19:40.863Z"
   },
   {
    "duration": 762,
    "start_time": "2024-08-26T16:19:42.470Z"
   },
   {
    "duration": 9,
    "start_time": "2024-08-26T16:19:43.759Z"
   },
   {
    "duration": 30,
    "start_time": "2024-08-26T16:19:47.481Z"
   },
   {
    "duration": 12,
    "start_time": "2024-08-26T16:19:49.521Z"
   },
   {
    "duration": 7,
    "start_time": "2024-08-26T16:19:50.315Z"
   },
   {
    "duration": 57,
    "start_time": "2024-08-26T16:19:53.726Z"
   },
   {
    "duration": 61,
    "start_time": "2024-08-26T16:19:54.766Z"
   },
   {
    "duration": 70,
    "start_time": "2024-08-26T16:19:56.862Z"
   },
   {
    "duration": 464,
    "start_time": "2024-08-26T16:19:58.865Z"
   },
   {
    "duration": 66786,
    "start_time": "2024-08-26T16:20:00.786Z"
   },
   {
    "duration": 37925,
    "start_time": "2024-08-26T16:21:07.576Z"
   },
   {
    "duration": 808,
    "start_time": "2024-08-26T16:21:45.504Z"
   },
   {
    "duration": 69875,
    "start_time": "2024-08-26T16:25:09.253Z"
   },
   {
    "duration": 40403,
    "start_time": "2024-08-26T16:26:19.132Z"
   },
   {
    "duration": 850,
    "start_time": "2024-08-26T16:26:59.538Z"
   },
   {
    "duration": 159,
    "start_time": "2024-08-26T16:27:00.392Z"
   },
   {
    "duration": 6,
    "start_time": "2024-08-26T16:29:39.499Z"
   },
   {
    "duration": 812,
    "start_time": "2024-08-26T16:29:42.918Z"
   },
   {
    "duration": 6,
    "start_time": "2024-08-26T16:29:46.992Z"
   },
   {
    "duration": 6,
    "start_time": "2024-08-26T16:29:59.896Z"
   },
   {
    "duration": 5,
    "start_time": "2024-08-26T16:30:01.098Z"
   },
   {
    "duration": 19,
    "start_time": "2024-08-26T16:30:03.766Z"
   },
   {
    "duration": 13,
    "start_time": "2024-08-26T16:30:06.534Z"
   },
   {
    "duration": 7,
    "start_time": "2024-08-26T16:30:14.122Z"
   },
   {
    "duration": 7,
    "start_time": "2024-08-26T16:30:14.789Z"
   },
   {
    "duration": 4,
    "start_time": "2024-08-26T16:30:15.765Z"
   },
   {
    "duration": 599268,
    "start_time": "2024-08-26T16:30:26.976Z"
   },
   {
    "duration": 1890,
    "start_time": "2024-08-26T16:40:26.248Z"
   },
   {
    "duration": 992,
    "start_time": "2024-08-26T16:40:35.561Z"
   },
   {
    "duration": 1617,
    "start_time": "2024-08-26T16:40:38.213Z"
   },
   {
    "duration": 2657,
    "start_time": "2024-08-27T19:56:10.822Z"
   },
   {
    "duration": 667,
    "start_time": "2024-08-27T19:56:13.481Z"
   },
   {
    "duration": 6,
    "start_time": "2024-08-27T19:56:14.152Z"
   },
   {
    "duration": 17,
    "start_time": "2024-08-27T19:56:16.142Z"
   },
   {
    "duration": 9,
    "start_time": "2024-08-27T19:56:17.671Z"
   },
   {
    "duration": 4,
    "start_time": "2024-08-27T19:56:18.221Z"
   },
   {
    "duration": 29,
    "start_time": "2024-08-27T19:56:18.903Z"
   },
   {
    "duration": 34,
    "start_time": "2024-08-27T19:56:20.971Z"
   },
   {
    "duration": 39,
    "start_time": "2024-08-27T19:56:24.210Z"
   },
   {
    "duration": 270,
    "start_time": "2024-08-27T19:56:27.738Z"
   },
   {
    "duration": 42789,
    "start_time": "2024-08-27T19:57:17.108Z"
   },
   {
    "duration": 307,
    "start_time": "2024-08-27T20:01:24.232Z"
   },
   {
    "duration": 42545,
    "start_time": "2024-08-27T20:01:43.349Z"
   },
   {
    "duration": 14,
    "start_time": "2024-08-27T20:02:25.897Z"
   },
   {
    "duration": 29086,
    "start_time": "2024-08-27T20:04:07.849Z"
   },
   {
    "duration": 457,
    "start_time": "2024-08-27T20:05:17.632Z"
   },
   {
    "duration": 75,
    "start_time": "2024-08-27T20:06:02.860Z"
   },
   {
    "duration": 4,
    "start_time": "2024-08-27T20:08:50.154Z"
   },
   {
    "duration": 2,
    "start_time": "2024-08-27T20:08:51.195Z"
   },
   {
    "duration": 8,
    "start_time": "2024-08-27T20:08:51.869Z"
   },
   {
    "duration": 8,
    "start_time": "2024-08-27T20:08:53.041Z"
   },
   {
    "duration": 7,
    "start_time": "2024-08-27T20:09:13.458Z"
   },
   {
    "duration": 4,
    "start_time": "2024-08-27T20:09:20.253Z"
   },
   {
    "duration": 4,
    "start_time": "2024-08-27T20:09:27.026Z"
   },
   {
    "duration": 2,
    "start_time": "2024-08-27T20:09:35.367Z"
   },
   {
    "duration": 364770,
    "start_time": "2024-08-27T20:10:12.975Z"
   },
   {
    "duration": 1234,
    "start_time": "2024-08-27T20:16:52.053Z"
   },
   {
    "duration": 373,
    "start_time": "2024-08-27T20:16:55.119Z"
   },
   {
    "duration": 916,
    "start_time": "2024-08-27T20:16:56.885Z"
   },
   {
    "duration": 2606,
    "start_time": "2024-08-28T02:01:36.307Z"
   },
   {
    "duration": 662,
    "start_time": "2024-08-28T02:01:38.915Z"
   },
   {
    "duration": 6,
    "start_time": "2024-08-28T02:01:40.934Z"
   },
   {
    "duration": 18,
    "start_time": "2024-08-28T02:01:42.240Z"
   },
   {
    "duration": 8,
    "start_time": "2024-08-28T02:01:43.811Z"
   },
   {
    "duration": 4,
    "start_time": "2024-08-28T02:01:44.313Z"
   },
   {
    "duration": 30,
    "start_time": "2024-08-28T02:01:45.562Z"
   },
   {
    "duration": 34,
    "start_time": "2024-08-28T02:01:46.825Z"
   },
   {
    "duration": 94,
    "start_time": "2024-08-28T02:01:54.273Z"
   },
   {
    "duration": 253,
    "start_time": "2024-08-28T02:01:56.212Z"
   },
   {
    "duration": 32812,
    "start_time": "2024-08-28T02:09:59.451Z"
   },
   {
    "duration": 32444,
    "start_time": "2024-08-28T02:12:18.826Z"
   },
   {
    "duration": 468,
    "start_time": "2024-08-28T02:13:09.997Z"
   },
   {
    "duration": 77,
    "start_time": "2024-08-28T02:13:11.603Z"
   },
   {
    "duration": 4,
    "start_time": "2024-08-28T02:13:17.158Z"
   },
   {
    "duration": 309,
    "start_time": "2024-08-28T02:13:17.685Z"
   },
   {
    "duration": 5,
    "start_time": "2024-08-28T02:13:20.899Z"
   },
   {
    "duration": 4,
    "start_time": "2024-08-28T02:13:23.166Z"
   },
   {
    "duration": 4,
    "start_time": "2024-08-28T02:13:24.109Z"
   },
   {
    "duration": 10,
    "start_time": "2024-08-28T02:13:24.874Z"
   },
   {
    "duration": 7,
    "start_time": "2024-08-28T02:13:25.336Z"
   },
   {
    "duration": 4,
    "start_time": "2024-08-28T02:13:26.702Z"
   },
   {
    "duration": 4,
    "start_time": "2024-08-28T02:13:27.701Z"
   },
   {
    "duration": 2,
    "start_time": "2024-08-28T02:13:28.278Z"
   },
   {
    "duration": 7,
    "start_time": "2024-08-28T08:55:46.415Z"
   },
   {
    "duration": 2790,
    "start_time": "2024-08-31T02:21:28.604Z"
   },
   {
    "duration": 674,
    "start_time": "2024-08-31T02:21:31.396Z"
   },
   {
    "duration": 7,
    "start_time": "2024-08-31T02:21:32.073Z"
   },
   {
    "duration": 17,
    "start_time": "2024-08-31T02:21:33.731Z"
   },
   {
    "duration": 8,
    "start_time": "2024-08-31T02:21:35.377Z"
   },
   {
    "duration": 4,
    "start_time": "2024-08-31T02:21:36.711Z"
   },
   {
    "duration": 32,
    "start_time": "2024-08-31T02:21:37.943Z"
   },
   {
    "duration": 33,
    "start_time": "2024-08-31T02:21:39.446Z"
   },
   {
    "duration": 10,
    "start_time": "2024-08-31T02:46:34.582Z"
   },
   {
    "duration": 2661,
    "start_time": "2024-09-13T16:53:25.141Z"
   },
   {
    "duration": 173,
    "start_time": "2024-09-13T16:53:39.976Z"
   },
   {
    "duration": 748,
    "start_time": "2024-09-13T16:55:10.193Z"
   },
   {
    "duration": 17,
    "start_time": "2024-09-13T16:55:23.886Z"
   },
   {
    "duration": 20,
    "start_time": "2024-09-13T16:55:43.678Z"
   },
   {
    "duration": 11,
    "start_time": "2024-09-13T16:55:54.966Z"
   },
   {
    "duration": 166,
    "start_time": "2024-09-13T16:56:04.125Z"
   },
   {
    "duration": 123,
    "start_time": "2024-09-13T16:56:10.954Z"
   },
   {
    "duration": 23,
    "start_time": "2024-09-13T16:56:24.633Z"
   },
   {
    "duration": 8,
    "start_time": "2024-09-13T16:56:34.753Z"
   },
   {
    "duration": 28,
    "start_time": "2024-09-13T16:56:42.698Z"
   },
   {
    "duration": 175,
    "start_time": "2024-09-13T16:56:55.914Z"
   },
   {
    "duration": 148,
    "start_time": "2024-09-13T16:57:04.526Z"
   },
   {
    "duration": 88,
    "start_time": "2024-09-13T16:57:14.461Z"
   },
   {
    "duration": 4,
    "start_time": "2024-09-13T16:57:44.980Z"
   },
   {
    "duration": 4,
    "start_time": "2024-09-13T16:58:12.273Z"
   },
   {
    "duration": 3,
    "start_time": "2024-09-13T16:58:27.875Z"
   },
   {
    "duration": 793,
    "start_time": "2024-09-13T16:58:53.355Z"
   },
   {
    "duration": 8,
    "start_time": "2024-09-13T16:59:30.054Z"
   },
   {
    "duration": 7,
    "start_time": "2024-09-13T16:59:44.982Z"
   },
   {
    "duration": 3,
    "start_time": "2024-09-13T16:59:59.737Z"
   },
   {
    "duration": 4,
    "start_time": "2024-09-13T17:00:06.542Z"
   },
   {
    "duration": 3,
    "start_time": "2024-09-13T17:00:24.677Z"
   },
   {
    "duration": 4,
    "start_time": "2024-09-13T17:00:30.428Z"
   },
   {
    "duration": 11,
    "start_time": "2024-09-13T17:00:57.821Z"
   },
   {
    "duration": 17,
    "start_time": "2024-09-13T17:01:27.233Z"
   },
   {
    "duration": 726,
    "start_time": "2024-09-13T17:01:37.451Z"
   },
   {
    "duration": 15,
    "start_time": "2024-09-13T17:01:57.133Z"
   },
   {
    "duration": 852,
    "start_time": "2024-09-13T17:02:07.826Z"
   },
   {
    "duration": 22,
    "start_time": "2024-09-13T17:02:26.417Z"
   },
   {
    "duration": 794,
    "start_time": "2024-09-13T17:02:42.497Z"
   },
   {
    "duration": 7,
    "start_time": "2024-09-13T17:02:51.970Z"
   },
   {
    "duration": 582,
    "start_time": "2024-09-13T17:02:59.154Z"
   },
   {
    "duration": 21,
    "start_time": "2024-09-13T17:03:07.799Z"
   },
   {
    "duration": 857,
    "start_time": "2024-09-13T17:03:15.170Z"
   },
   {
    "duration": 11,
    "start_time": "2024-09-13T17:04:10.813Z"
   },
   {
    "duration": 16,
    "start_time": "2024-09-13T17:04:17.716Z"
   },
   {
    "duration": 4,
    "start_time": "2024-09-13T17:04:32.079Z"
   },
   {
    "duration": 267,
    "start_time": "2024-09-13T17:04:44.970Z"
   },
   {
    "duration": 3,
    "start_time": "2024-09-13T17:05:06.354Z"
   },
   {
    "duration": 2,
    "start_time": "2024-09-13T17:05:16.695Z"
   },
   {
    "duration": 26,
    "start_time": "2024-09-13T17:05:34.238Z"
   },
   {
    "duration": 9,
    "start_time": "2024-09-13T17:05:45.522Z"
   },
   {
    "duration": 975929,
    "start_time": "2024-09-13T17:05:52.687Z"
   },
   {
    "duration": 1668900,
    "start_time": "2024-09-13T17:23:00.038Z"
   },
   {
    "duration": 3,
    "start_time": "2024-09-13T17:50:48.940Z"
   },
   {
    "duration": 6,
    "start_time": "2024-09-13T17:54:30.234Z"
   },
   {
    "duration": 87,
    "start_time": "2024-09-13T17:54:32.451Z"
   },
   {
    "duration": 115,
    "start_time": "2024-09-13T17:54:33.828Z"
   },
   {
    "duration": 803,
    "start_time": "2024-09-13T17:55:26.047Z"
   },
   {
    "duration": 207,
    "start_time": "2024-09-13T17:55:26.852Z"
   },
   {
    "duration": 501,
    "start_time": "2024-09-13T17:55:27.914Z"
   },
   {
    "duration": 16,
    "start_time": "2024-09-13T17:55:28.602Z"
   },
   {
    "duration": 20,
    "start_time": "2024-09-13T17:55:29.116Z"
   },
   {
    "duration": 12,
    "start_time": "2024-09-13T17:55:29.834Z"
   },
   {
    "duration": 152,
    "start_time": "2024-09-13T17:55:30.346Z"
   },
   {
    "duration": 54,
    "start_time": "2024-09-13T17:55:30.843Z"
   },
   {
    "duration": 26,
    "start_time": "2024-09-13T17:55:31.286Z"
   },
   {
    "duration": 10,
    "start_time": "2024-09-13T17:55:32.419Z"
   },
   {
    "duration": 18,
    "start_time": "2024-09-13T17:55:34.270Z"
   },
   {
    "duration": 169,
    "start_time": "2024-09-13T17:55:35.590Z"
   },
   {
    "duration": 128,
    "start_time": "2024-09-13T17:55:36.367Z"
   },
   {
    "duration": 82,
    "start_time": "2024-09-13T17:55:36.975Z"
   },
   {
    "duration": 3,
    "start_time": "2024-09-13T17:55:38.153Z"
   },
   {
    "duration": 7,
    "start_time": "2024-09-13T17:55:39.229Z"
   },
   {
    "duration": 3,
    "start_time": "2024-09-13T17:55:40.180Z"
   },
   {
    "duration": 770,
    "start_time": "2024-09-13T17:55:41.200Z"
   },
   {
    "duration": 7,
    "start_time": "2024-09-13T17:55:42.700Z"
   },
   {
    "duration": 7,
    "start_time": "2024-09-13T17:55:44.087Z"
   },
   {
    "duration": 3,
    "start_time": "2024-09-13T17:55:45.073Z"
   },
   {
    "duration": 5,
    "start_time": "2024-09-13T17:55:45.616Z"
   },
   {
    "duration": 4,
    "start_time": "2024-09-13T17:55:46.757Z"
   },
   {
    "duration": 4,
    "start_time": "2024-09-13T17:55:47.208Z"
   },
   {
    "duration": 5,
    "start_time": "2024-09-13T17:55:49.118Z"
   },
   {
    "duration": 13,
    "start_time": "2024-09-13T17:55:50.884Z"
   },
   {
    "duration": 699,
    "start_time": "2024-09-13T17:55:51.466Z"
   },
   {
    "duration": 14,
    "start_time": "2024-09-13T17:55:52.555Z"
   },
   {
    "duration": 798,
    "start_time": "2024-09-13T17:55:53.252Z"
   },
   {
    "duration": 13,
    "start_time": "2024-09-13T17:55:55.009Z"
   },
   {
    "duration": 865,
    "start_time": "2024-09-13T17:55:55.796Z"
   },
   {
    "duration": 7,
    "start_time": "2024-09-13T17:55:57.391Z"
   },
   {
    "duration": 585,
    "start_time": "2024-09-13T17:55:58.110Z"
   },
   {
    "duration": 11,
    "start_time": "2024-09-13T17:55:59.509Z"
   },
   {
    "duration": 860,
    "start_time": "2024-09-13T17:56:00.107Z"
   },
   {
    "duration": 5,
    "start_time": "2024-09-13T17:56:08.836Z"
   },
   {
    "duration": 5,
    "start_time": "2024-09-13T17:56:10.429Z"
   },
   {
    "duration": 4,
    "start_time": "2024-09-13T17:56:17.335Z"
   },
   {
    "duration": 2,
    "start_time": "2024-09-13T17:56:18.754Z"
   },
   {
    "duration": 3,
    "start_time": "2024-09-13T17:56:19.314Z"
   },
   {
    "duration": 28,
    "start_time": "2024-09-13T17:56:20.727Z"
   },
   {
    "duration": 4,
    "start_time": "2024-09-13T18:10:51.329Z"
   },
   {
    "duration": 945107,
    "start_time": "2024-09-13T18:10:53.492Z"
   },
   {
    "duration": 1654687,
    "start_time": "2024-09-13T18:28:57.403Z"
   },
   {
    "duration": 3,
    "start_time": "2024-09-13T18:56:32.092Z"
   }
  ],
  "kernelspec": {
   "display_name": "Python 3 (ipykernel)",
   "language": "python",
   "name": "python3"
  },
  "language_info": {
   "codemirror_mode": {
    "name": "ipython",
    "version": 3
   },
   "file_extension": ".py",
   "mimetype": "text/x-python",
   "name": "python",
   "nbconvert_exporter": "python",
   "pygments_lexer": "ipython3",
   "version": "3.10.0"
  },
  "toc": {
   "base_numbering": 1,
   "nav_menu": {},
   "number_sections": true,
   "sideBar": true,
   "skip_h1_title": true,
   "title_cell": "Table of Contents",
   "title_sidebar": "Contents",
   "toc_cell": false,
   "toc_position": {},
   "toc_section_display": true,
   "toc_window_display": false
  }
 },
 "nbformat": 4,
 "nbformat_minor": 4
}
