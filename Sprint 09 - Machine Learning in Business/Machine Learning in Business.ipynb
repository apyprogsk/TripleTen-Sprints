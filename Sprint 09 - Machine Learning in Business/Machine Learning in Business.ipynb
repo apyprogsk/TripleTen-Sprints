{
 "cells": [
  {
   "cell_type": "markdown",
   "metadata": {},
   "source": [
    "<b> Project Overview: OilyGiant Mining Company Well Location Analysis </b>\n",
    "\n",
    "<b> Objective: </b>\n",
    "\n",
    "The goal of this project is to identify the most profitable region for developing new oil wells for OilyGiant mining company. We are tasked with analyzing oil well data from three different regions to determine which location offers the best combination of high returns and low risk.\n",
    "\n",
    "<b> Data: </b>\n",
    "\n",
    "We have geological exploration data for three regions, each containing information on 100,000 oil wells. The data includes features of each well (f0, f1, f2) and the volume of reserves (product) in thousands of barrels.\n",
    "\n",
    "<b> Methodology: </b>\n",
    "\n",
    "Data Preparation: Load and examine the data from all three regions. <br>\n",
    "Model Development: Create a linear regression model for each region to predict oil reserves based on well features. <br>\n",
    "Profit Calculation: Determine the break-even point and calculate potential profits for the top 200 wells in each region. <br>\n",
    "Risk Assessment: Use bootstrapping to estimate the distribution of profits and assess the risk of losses for each region. <br>\n",
    "Region Selection: Choose the best region based on the highest average profit with a risk of loss below 2.5%.\n",
    "\n",
    "\n",
    "<b> KEY CONDITIONS: </b>\n",
    "\n",
    "<b> Budget: </b> 100 million dollars for developing 200 oil wells <br>\n",
    "<b> Revenue: </b> 4,500 dollars per thousand barrels of oil <br>\n",
    "<b> Model Constraint: </b> Only linear regression is suitable for predictions <br>\n",
    "<b> Well Selection: </b> 200 best wells are chosen out of 500 explored in each region <br>\n",
    "<b> Risk Threshold: </b> Regions with over 2.5% risk of loss are disqualified\n",
    "\n",
    "\n",
    "<b> Expected Outcome: </b>\n",
    "By the end of this analysis, we will recommend the most suitable region for OilyGiant to develop new oil wells, balancing the potential for high profits with an acceptable level of risk."
   ]
  },
  {
   "cell_type": "code",
   "execution_count": 1,
   "metadata": {},
   "outputs": [
    {
     "name": "stdout",
     "output_type": "stream",
     "text": [
      "Region 0 shape: (100000, 5)\n"
     ]
    },
    {
     "data": {
      "text/html": [
       "<div>\n",
       "<style scoped>\n",
       "    .dataframe tbody tr th:only-of-type {\n",
       "        vertical-align: middle;\n",
       "    }\n",
       "\n",
       "    .dataframe tbody tr th {\n",
       "        vertical-align: top;\n",
       "    }\n",
       "\n",
       "    .dataframe thead th {\n",
       "        text-align: right;\n",
       "    }\n",
       "</style>\n",
       "<table border=\"1\" class=\"dataframe\">\n",
       "  <thead>\n",
       "    <tr style=\"text-align: right;\">\n",
       "      <th></th>\n",
       "      <th>id</th>\n",
       "      <th>f0</th>\n",
       "      <th>f1</th>\n",
       "      <th>f2</th>\n",
       "      <th>product</th>\n",
       "    </tr>\n",
       "  </thead>\n",
       "  <tbody>\n",
       "    <tr>\n",
       "      <th>0</th>\n",
       "      <td>txEyH</td>\n",
       "      <td>0.705745</td>\n",
       "      <td>-0.497823</td>\n",
       "      <td>1.221170</td>\n",
       "      <td>105.280062</td>\n",
       "    </tr>\n",
       "    <tr>\n",
       "      <th>1</th>\n",
       "      <td>2acmU</td>\n",
       "      <td>1.334711</td>\n",
       "      <td>-0.340164</td>\n",
       "      <td>4.365080</td>\n",
       "      <td>73.037750</td>\n",
       "    </tr>\n",
       "    <tr>\n",
       "      <th>2</th>\n",
       "      <td>409Wp</td>\n",
       "      <td>1.022732</td>\n",
       "      <td>0.151990</td>\n",
       "      <td>1.419926</td>\n",
       "      <td>85.265647</td>\n",
       "    </tr>\n",
       "    <tr>\n",
       "      <th>3</th>\n",
       "      <td>iJLyR</td>\n",
       "      <td>-0.032172</td>\n",
       "      <td>0.139033</td>\n",
       "      <td>2.978566</td>\n",
       "      <td>168.620776</td>\n",
       "    </tr>\n",
       "    <tr>\n",
       "      <th>4</th>\n",
       "      <td>Xdl7t</td>\n",
       "      <td>1.988431</td>\n",
       "      <td>0.155413</td>\n",
       "      <td>4.751769</td>\n",
       "      <td>154.036647</td>\n",
       "    </tr>\n",
       "  </tbody>\n",
       "</table>\n",
       "</div>"
      ],
      "text/plain": [
       "      id        f0        f1        f2     product\n",
       "0  txEyH  0.705745 -0.497823  1.221170  105.280062\n",
       "1  2acmU  1.334711 -0.340164  4.365080   73.037750\n",
       "2  409Wp  1.022732  0.151990  1.419926   85.265647\n",
       "3  iJLyR -0.032172  0.139033  2.978566  168.620776\n",
       "4  Xdl7t  1.988431  0.155413  4.751769  154.036647"
      ]
     },
     "metadata": {},
     "output_type": "display_data"
    },
    {
     "name": "stdout",
     "output_type": "stream",
     "text": [
      "<class 'pandas.core.frame.DataFrame'>\n",
      "RangeIndex: 100000 entries, 0 to 99999\n",
      "Data columns (total 5 columns):\n",
      " #   Column   Non-Null Count   Dtype  \n",
      "---  ------   --------------   -----  \n",
      " 0   id       100000 non-null  object \n",
      " 1   f0       100000 non-null  float64\n",
      " 2   f1       100000 non-null  float64\n",
      " 3   f2       100000 non-null  float64\n",
      " 4   product  100000 non-null  float64\n",
      "dtypes: float64(4), object(1)\n",
      "memory usage: 3.8+ MB\n",
      "None\n",
      "\n",
      "\n",
      "Region 1 shape: (100000, 5)\n"
     ]
    },
    {
     "data": {
      "text/html": [
       "<div>\n",
       "<style scoped>\n",
       "    .dataframe tbody tr th:only-of-type {\n",
       "        vertical-align: middle;\n",
       "    }\n",
       "\n",
       "    .dataframe tbody tr th {\n",
       "        vertical-align: top;\n",
       "    }\n",
       "\n",
       "    .dataframe thead th {\n",
       "        text-align: right;\n",
       "    }\n",
       "</style>\n",
       "<table border=\"1\" class=\"dataframe\">\n",
       "  <thead>\n",
       "    <tr style=\"text-align: right;\">\n",
       "      <th></th>\n",
       "      <th>id</th>\n",
       "      <th>f0</th>\n",
       "      <th>f1</th>\n",
       "      <th>f2</th>\n",
       "      <th>product</th>\n",
       "    </tr>\n",
       "  </thead>\n",
       "  <tbody>\n",
       "    <tr>\n",
       "      <th>0</th>\n",
       "      <td>kBEdx</td>\n",
       "      <td>-15.001348</td>\n",
       "      <td>-8.276000</td>\n",
       "      <td>-0.005876</td>\n",
       "      <td>3.179103</td>\n",
       "    </tr>\n",
       "    <tr>\n",
       "      <th>1</th>\n",
       "      <td>62mP7</td>\n",
       "      <td>14.272088</td>\n",
       "      <td>-3.475083</td>\n",
       "      <td>0.999183</td>\n",
       "      <td>26.953261</td>\n",
       "    </tr>\n",
       "    <tr>\n",
       "      <th>2</th>\n",
       "      <td>vyE1P</td>\n",
       "      <td>6.263187</td>\n",
       "      <td>-5.948386</td>\n",
       "      <td>5.001160</td>\n",
       "      <td>134.766305</td>\n",
       "    </tr>\n",
       "    <tr>\n",
       "      <th>3</th>\n",
       "      <td>KcrkZ</td>\n",
       "      <td>-13.081196</td>\n",
       "      <td>-11.506057</td>\n",
       "      <td>4.999415</td>\n",
       "      <td>137.945408</td>\n",
       "    </tr>\n",
       "    <tr>\n",
       "      <th>4</th>\n",
       "      <td>AHL4O</td>\n",
       "      <td>12.702195</td>\n",
       "      <td>-8.147433</td>\n",
       "      <td>5.004363</td>\n",
       "      <td>134.766305</td>\n",
       "    </tr>\n",
       "  </tbody>\n",
       "</table>\n",
       "</div>"
      ],
      "text/plain": [
       "      id         f0         f1        f2     product\n",
       "0  kBEdx -15.001348  -8.276000 -0.005876    3.179103\n",
       "1  62mP7  14.272088  -3.475083  0.999183   26.953261\n",
       "2  vyE1P   6.263187  -5.948386  5.001160  134.766305\n",
       "3  KcrkZ -13.081196 -11.506057  4.999415  137.945408\n",
       "4  AHL4O  12.702195  -8.147433  5.004363  134.766305"
      ]
     },
     "metadata": {},
     "output_type": "display_data"
    },
    {
     "name": "stdout",
     "output_type": "stream",
     "text": [
      "<class 'pandas.core.frame.DataFrame'>\n",
      "RangeIndex: 100000 entries, 0 to 99999\n",
      "Data columns (total 5 columns):\n",
      " #   Column   Non-Null Count   Dtype  \n",
      "---  ------   --------------   -----  \n",
      " 0   id       100000 non-null  object \n",
      " 1   f0       100000 non-null  float64\n",
      " 2   f1       100000 non-null  float64\n",
      " 3   f2       100000 non-null  float64\n",
      " 4   product  100000 non-null  float64\n",
      "dtypes: float64(4), object(1)\n",
      "memory usage: 3.8+ MB\n",
      "None\n",
      "\n",
      "\n",
      "Region 2 shape: (100000, 5)\n"
     ]
    },
    {
     "data": {
      "text/html": [
       "<div>\n",
       "<style scoped>\n",
       "    .dataframe tbody tr th:only-of-type {\n",
       "        vertical-align: middle;\n",
       "    }\n",
       "\n",
       "    .dataframe tbody tr th {\n",
       "        vertical-align: top;\n",
       "    }\n",
       "\n",
       "    .dataframe thead th {\n",
       "        text-align: right;\n",
       "    }\n",
       "</style>\n",
       "<table border=\"1\" class=\"dataframe\">\n",
       "  <thead>\n",
       "    <tr style=\"text-align: right;\">\n",
       "      <th></th>\n",
       "      <th>id</th>\n",
       "      <th>f0</th>\n",
       "      <th>f1</th>\n",
       "      <th>f2</th>\n",
       "      <th>product</th>\n",
       "    </tr>\n",
       "  </thead>\n",
       "  <tbody>\n",
       "    <tr>\n",
       "      <th>0</th>\n",
       "      <td>fwXo0</td>\n",
       "      <td>-1.146987</td>\n",
       "      <td>0.963328</td>\n",
       "      <td>-0.828965</td>\n",
       "      <td>27.758673</td>\n",
       "    </tr>\n",
       "    <tr>\n",
       "      <th>1</th>\n",
       "      <td>WJtFt</td>\n",
       "      <td>0.262778</td>\n",
       "      <td>0.269839</td>\n",
       "      <td>-2.530187</td>\n",
       "      <td>56.069697</td>\n",
       "    </tr>\n",
       "    <tr>\n",
       "      <th>2</th>\n",
       "      <td>ovLUW</td>\n",
       "      <td>0.194587</td>\n",
       "      <td>0.289035</td>\n",
       "      <td>-5.586433</td>\n",
       "      <td>62.871910</td>\n",
       "    </tr>\n",
       "    <tr>\n",
       "      <th>3</th>\n",
       "      <td>q6cA6</td>\n",
       "      <td>2.236060</td>\n",
       "      <td>-0.553760</td>\n",
       "      <td>0.930038</td>\n",
       "      <td>114.572842</td>\n",
       "    </tr>\n",
       "    <tr>\n",
       "      <th>4</th>\n",
       "      <td>WPMUX</td>\n",
       "      <td>-0.515993</td>\n",
       "      <td>1.716266</td>\n",
       "      <td>5.899011</td>\n",
       "      <td>149.600746</td>\n",
       "    </tr>\n",
       "  </tbody>\n",
       "</table>\n",
       "</div>"
      ],
      "text/plain": [
       "      id        f0        f1        f2     product\n",
       "0  fwXo0 -1.146987  0.963328 -0.828965   27.758673\n",
       "1  WJtFt  0.262778  0.269839 -2.530187   56.069697\n",
       "2  ovLUW  0.194587  0.289035 -5.586433   62.871910\n",
       "3  q6cA6  2.236060 -0.553760  0.930038  114.572842\n",
       "4  WPMUX -0.515993  1.716266  5.899011  149.600746"
      ]
     },
     "metadata": {},
     "output_type": "display_data"
    },
    {
     "name": "stdout",
     "output_type": "stream",
     "text": [
      "<class 'pandas.core.frame.DataFrame'>\n",
      "RangeIndex: 100000 entries, 0 to 99999\n",
      "Data columns (total 5 columns):\n",
      " #   Column   Non-Null Count   Dtype  \n",
      "---  ------   --------------   -----  \n",
      " 0   id       100000 non-null  object \n",
      " 1   f0       100000 non-null  float64\n",
      " 2   f1       100000 non-null  float64\n",
      " 3   f2       100000 non-null  float64\n",
      " 4   product  100000 non-null  float64\n",
      "dtypes: float64(4), object(1)\n",
      "memory usage: 3.8+ MB\n",
      "None\n",
      "\n",
      "\n"
     ]
    }
   ],
   "source": [
    "import pandas as pd\n",
    "import numpy as np\n",
    "import matplotlib.pyplot as plt\n",
    "from sklearn.model_selection import train_test_split\n",
    "from sklearn.linear_model import LinearRegression\n",
    "from sklearn.metrics import mean_squared_error\n",
    "from sklearn.linear_model import LinearRegression\n",
    "\n",
    "# Load the data\n",
    "region_0 = pd.read_csv('/datasets/geo_data_0.csv')\n",
    "region_1 = pd.read_csv('/datasets/geo_data_1.csv')\n",
    "region_2 = pd.read_csv('/datasets/geo_data_2.csv')\n",
    "\n",
    "# Check the data\n",
    "for i, region in enumerate([region_0, region_1, region_2]):\n",
    "    print(f\"Region {i} shape: {region.shape}\")\n",
    "    display(region.head())\n",
    "    print(region.info())\n",
    "    print(\"\\n\")"
   ]
  },
  {
   "cell_type": "markdown",
   "metadata": {},
   "source": [
    "<b> Analysis </b>\n",
    "\n",
    "<b> Data structure: </b>\n",
    "\n",
    "All three regions have the same structure: 100,000 entries with 5 columns each.\n",
    "The columns are: 'id', 'f0', 'f1', 'f2', and 'product'.\n",
    "\n",
    "\n",
    "<b> Data types: </b>\n",
    "\n",
    "'id' is an object (string) type, likely used as a unique identifier for each well.\n",
    "'f0', 'f1', 'f2', and 'product' are all float64 type, which is appropriate for numerical data.\n",
    "\n",
    "\n",
    "<b> Missing data: </b>\n",
    "\n",
    "There are no null values in any of the datasets, which is good for our analysis.\n",
    "\n",
    "\n",
    "<b> Feature ranges: </b>\n",
    "\n",
    "Region 0: Features seem to be mostly within a smaller range, roughly -1 to 5. <br>\n",
    "Region 1: Features have a wider range, roughly -15 to 15. <br>\n",
    "Region 2: Features seem to have a range similar to Region 0.\n",
    "\n",
    "\n",
    "<b> Target variable ('product'): </b>\n",
    "\n",
    "Region 0: The 'product' values seem to be higher, ranging from about 70 to 170. <br>\n",
    "Region 1: The 'product' values have a wider range, from very low (3.17) to higher values (137.94). <br>\n",
    "Region 2: The 'product' values seem to be in between, ranging from about 27 to 150.\n",
    "\n",
    "\n",
    "\n",
    "These observations suggest that the regions have different characteristics, which might lead to different predictions and profitability estimates.\n",
    "<br>\n",
    "<br>\n",
    "<br>\n",
    "<b> Step 2: </b> <br>Train and test the model for each region."
   ]
  },
  {
   "cell_type": "code",
   "execution_count": 2,
   "metadata": {},
   "outputs": [
    {
     "name": "stdout",
     "output_type": "stream",
     "text": [
      "Data Quality Check for Region 0:\n",
      "Missing values:\n",
      "id         0\n",
      "f0         0\n",
      "f1         0\n",
      "f2         0\n",
      "product    0\n",
      "dtype: int64\n",
      "\n",
      "Number of duplicate rows: 0\n",
      "\n",
      "\n",
      "Data Quality Check for Region 1:\n",
      "Missing values:\n",
      "id         0\n",
      "f0         0\n",
      "f1         0\n",
      "f2         0\n",
      "product    0\n",
      "dtype: int64\n",
      "\n",
      "Number of duplicate rows: 0\n",
      "\n",
      "\n",
      "Data Quality Check for Region 2:\n",
      "Missing values:\n",
      "id         0\n",
      "f0         0\n",
      "f1         0\n",
      "f2         0\n",
      "product    0\n",
      "dtype: int64\n",
      "\n",
      "Number of duplicate rows: 0\n",
      "\n",
      "\n"
     ]
    }
   ],
   "source": [
    "def check_data_quality(region_data, region_name):\n",
    "    print(f\"Data Quality Check for {region_name}:\")\n",
    "    \n",
    "    # Check for missing values\n",
    "    missing_values = region_data.isnull().sum()\n",
    "    print(\"Missing values:\")\n",
    "    print(missing_values)\n",
    "    \n",
    "    # Check for duplicates\n",
    "    duplicates = region_data.duplicated().sum()\n",
    "    print(f\"\\nNumber of duplicate rows: {duplicates}\")\n",
    "    \n",
    "    print(\"\\n\")\n",
    "\n",
    "# Run the check for each region\n",
    "for i, region in enumerate([region_0, region_1, region_2]):\n",
    "    check_data_quality(region, f\"Region {i}\")"
   ]
  },
  {
   "cell_type": "markdown",
   "metadata": {},
   "source": [
    "<b> For all three regions: </b>\n",
    "\n",
    "<b> Missing Values: </b> There are no missing values in any of the columns. This is excellent as it means we don't need to handle missing data.\n",
    "\n",
    "<b> Duplicate Rows: </b> There are no duplicate rows in any of the regions. This is good because it means we don't have any completely identical entries."
   ]
  },
  {
   "cell_type": "code",
   "execution_count": 3,
   "metadata": {},
   "outputs": [
    {
     "name": "stdout",
     "output_type": "stream",
     "text": [
      "Region 0:\n",
      "Average predicted volume: 92.40\n",
      "RMSE: 37.76\n",
      "\n",
      "\n",
      "Region 1:\n",
      "Average predicted volume: 68.71\n",
      "RMSE: 0.89\n",
      "\n",
      "\n",
      "Region 2:\n",
      "Average predicted volume: 94.77\n",
      "RMSE: 40.15\n",
      "\n",
      "\n"
     ]
    }
   ],
   "source": [
    "def train_test_model(region_data):\n",
    "    X = region_data[['f0', 'f1', 'f2']]\n",
    "    y = region_data['product']\n",
    "    \n",
    "    # 2.1 Split the data\n",
    "    X_train, X_val, y_train, y_val = train_test_split(X, y, test_size=0.25, random_state=42)\n",
    "    \n",
    "    # 2.2 Train the model and make predictions\n",
    "    model = LinearRegression()\n",
    "    model.fit(X_train, y_train)\n",
    "    y_pred = model.predict(X_val)\n",
    "    \n",
    "    # 2.3 Save predictions and correct answers\n",
    "    validation_results = pd.DataFrame({'actual': y_val, 'predicted': y_pred})\n",
    "    \n",
    "    # 2.4 Print average volume and RMSE\n",
    "    avg_predicted = np.mean(y_pred)\n",
    "    rmse = np.sqrt(mean_squared_error(y_val, y_pred))\n",
    "    \n",
    "    print(f\"Average predicted volume: {avg_predicted:.2f}\")\n",
    "    print(f\"RMSE: {rmse:.2f}\")\n",
    "    \n",
    "    return model, validation_results, avg_predicted, rmse\n",
    "\n",
    "# Run for each region\n",
    "for i, region in enumerate([region_0, region_1, region_2]):\n",
    "    print(f\"Region {i}:\")\n",
    "    model, val_results, avg_pred, rmse = train_test_model(region)\n",
    "    print(\"\\n\")"
   ]
  },
  {
   "cell_type": "markdown",
   "metadata": {},
   "source": [
    "<b> Analysis: </b>\n",
    "\n",
    "<b> Average Predicted Volume: </b>\n",
    "\n",
    "Region 2 has the highest average predicted volume (94.77), followed closely by Region 0 (92.40). <br>\n",
    "Region 1 has a significantly lower average predicted volume (68.71).\n",
    "\n",
    "\n",
    "<b> Root Mean Square Error (RMSE): </b>\n",
    "\n",
    "Region 1 has a remarkably low RMSE (0.89), indicating that the model's predictions are very close to the actual values for this region. <br>\n",
    "Regions 0 and 2 have much higher RMSE values (37.76 and 40.15 respectively), suggesting that the predictions for these regions are less accurate.\n",
    "\n",
    "\n",
    "\n",
    "<b> Interpretation: </b>\n",
    "\n",
    "<b> Region 1: </b>\n",
    "\n",
    "The model performs exceptionally well for this region, with very low prediction error. <br>\n",
    "However, it predicts the lowest average volume of oil.\n",
    "\n",
    "\n",
    "<b> Regions 0 and 2: </b>\n",
    "\n",
    "These regions show promise with higher predicted volumes. <br>\n",
    "However, the high RMSE values indicate that there's more uncertainty in these predictions.\n",
    "\n",
    "\n",
    "<b> Model Performance: </b>\n",
    "\n",
    "The linear regression model seems to fit Region 1 data very well, but struggles with Regions 0 and 2. <br>\n",
    "This could be due to more complex relationships between features and oil volume in Regions 0 and 2, which the linear model can't capture fully.\n",
    "\n",
    "\n",
    "<b> Potential Trade-offs: </b>\n",
    "\n",
    "We have a trade-off between prediction accuracy (favoring Region 1) and potential high yields (favoring Regions 0 and 2).\n",
    "\n",
    "\n",
    "\n",
    "<b> Next Steps: </b>\n",
    "For the profit calculation, we'll need to consider both the predicted volumes and the uncertainty in our predictions. The high RMSE values for Regions 0 and 2 suggest that we should be cautious about relying too heavily on their higher predicted volumes.\n",
    "<br>\n",
    "<br>\n",
    "<br>\n",
    "<b> Step 3: </b> <br>Preparing for profit calculation."
   ]
  },
  {
   "cell_type": "code",
   "execution_count": 4,
   "metadata": {},
   "outputs": [
    {
     "name": "stdout",
     "output_type": "stream",
     "text": [
      "Break-even volume per well: 111.11 thousand barrels\n",
      "Region 0 average volume: 92.50 thousand barrels\n",
      "Region 1 average volume: 68.83 thousand barrels\n",
      "Region 2 average volume: 95.00 thousand barrels\n"
     ]
    }
   ],
   "source": [
    "# 3.1 Key values\n",
    "budget = 100_000_000  # $100 million\n",
    "price_per_barrel = 4500  # $4500 per 1000 barrels\n",
    "num_wells = 200\n",
    "\n",
    "# 3.2 Calculate break-even volume\n",
    "break_even_volume = budget / (price_per_barrel * num_wells)\n",
    "\n",
    "print(f\"Break-even volume per well: {break_even_volume:.2f} thousand barrels\")\n",
    "\n",
    "# Compare with average volume in each region\n",
    "for i, region in enumerate([region_0, region_1, region_2]):\n",
    "    avg_volume = region['product'].mean()\n",
    "    print(f\"Region {i} average volume: {avg_volume:.2f} thousand barrels\")"
   ]
  },
  {
   "cell_type": "markdown",
   "metadata": {},
   "source": [
    "<b> Analysis: </b>\n",
    "\n",
    "<b> Break-even volume: </b>\n",
    "\n",
    "The break-even volume per well is 111.11 thousand barrels. This means that each well needs to produce at least this much oil to cover the costs.\n",
    "\n",
    "\n",
    "<b> Average volumes: </b>\n",
    "\n",
    "Region 0: 92.50 thousand barrels <br>\n",
    "Region 1: 68.83 thousand barrels <br>\n",
    "Region 2: 95.00 thousand barrels <br>\n",
    "\n",
    "\n",
    "<b> Analysis: </b>\n",
    "\n",
    "<b> Profitability Threshold: </b>\n",
    "\n",
    "None of the regions have an average volume that exceeds the break-even point of 111.11 thousand barrels. <br>\n",
    "This suggests that, on average, wells in all regions would operate at a loss if we were to develop all wells.\n",
    "\n",
    "\n",
    "<b> Comparison between regions: </b>\n",
    "\n",
    "Region 2 has the highest average volume (95.00), closest to the break-even point. <br>\n",
    "Region 0 is second (92.50), not far behind Region 2. <br>\n",
    "Region 1 has a significantly lower average volume (68.83), far below the break-even point.\n",
    "\n",
    "\n",
    "<b> Potential Strategies: </b>\n",
    "\n",
    "Since we're only developing 200 wells out of the 100,000 in each dataset, we should focus on selecting the most promising wells rather than relying on averages. <br>\n",
    "We'll need to identify the wells with the highest predicted volumes in each region.\n",
    "\n",
    "\n",
    "<b> Risk Considerations: </b>\n",
    "\n",
    "Remember that Regions 0 and 2 had high RMSE values, indicating more uncertainty in predictions. <br>\n",
    "While Region 1 has lower average volume, its low RMSE suggests more reliable predictions.\n",
    "\n",
    "\n",
    "\n",
    "<b> Conclusions: </b>\n",
    "\n",
    "The project appears risky as average volumes are below the break-even point. <br>\n",
    "Success will depend on our ability to accurately identify the most productive wells. <br>\n",
    "We'll need to balance the potential for high volumes (Regions 0 and 2) against prediction reliability (Region 1).\n",
    "<br>\n",
    "<br>\n",
    "<br>\n",
    "<b> Step 4: </b> <br>We will calculate the potential profit for each region by selecting the top 200 wells based on our model predictions. This will give us a more realistic picture of the potential profitability of each region."
   ]
  },
  {
   "cell_type": "code",
   "execution_count": 5,
   "metadata": {},
   "outputs": [
    {
     "name": "stdout",
     "output_type": "stream",
     "text": [
      "Region 0:\n",
      "Total volume: 30055.95 thousand barrels\n",
      "Profit: $35,251,755.05\n",
      "\n",
      "\n",
      "Region 1:\n",
      "Total volume: 27589.08 thousand barrels\n",
      "Profit: $24,150,866.97\n",
      "\n",
      "\n",
      "Region 2:\n",
      "Total volume: 27991.05 thousand barrels\n",
      "Profit: $25,959,739.93\n",
      "\n",
      "\n"
     ]
    }
   ],
   "source": [
    "def calculate_profit(predictions, targets, n_wells=200, price_per_barrel=4500, budget=100_000_000):\n",
    "    # 4.1 Select top 200 wells based on predictions\n",
    "    top_indices = np.argsort(predictions)[-n_wells:]\n",
    "    \n",
    "    # 4.2 Calculate total volume using corresponding actual values (targets)\n",
    "    top_actual_volumes = targets[top_indices]\n",
    "    total_volume = np.sum(top_actual_volumes)\n",
    "    \n",
    "    # 4.3 Calculate profit\n",
    "    revenue = total_volume * price_per_barrel\n",
    "    profit = revenue - budget\n",
    "    \n",
    "    return profit, total_volume\n",
    "\n",
    "# Calculate profit for each region\n",
    "for i, region in enumerate([region_0, region_1, region_2]):\n",
    "    # Split the data\n",
    "    X = region[['f0', 'f1', 'f2']]\n",
    "    y = region['product']\n",
    "    X_train, X_test, y_train, y_test = train_test_split(X, y, test_size=0.25, random_state=42)\n",
    "    \n",
    "    # Train the model\n",
    "    model = LinearRegression()\n",
    "    model.fit(X_train, y_train)\n",
    "    \n",
    "    # Make predictions on the entire dataset\n",
    "    predictions = model.predict(X)\n",
    "    \n",
    "    # Calculate profit\n",
    "    profit, volume = calculate_profit(predictions, y)\n",
    "    \n",
    "    print(f\"Region {i}:\")\n",
    "    print(f\"Total volume: {volume:.2f} thousand barrels\")\n",
    "    print(f\"Profit: ${profit:,.2f}\")\n",
    "    print(\"\\n\")"
   ]
  },
  {
   "cell_type": "markdown",
   "metadata": {},
   "source": [
    "<b> Analysis: </b>\n",
    "\n",
    "<b> Profitability Ranking: </b>\n",
    "\n",
    "<b> Region 0: </b> Highest profit at about USD 35.25 million <br>\n",
    "<b> Region 2: </b> Second-highest profit at about USD 25.96 million <br>\n",
    "<b> Region 1: </b> Lowest profit at about USD 24.15 million <br>\n",
    "\n",
    "\n",
    "<b> Volume Comparison: </b>\n",
    "\n",
    "The ranking by total volume matches the ranking by profit, which is expected given the fixed price per barrel. <br>\n",
    "Region 0 has significantly higher volume than the other two regions.\n",
    "\n",
    "\n",
    "<b> Comparison to Previous Results: </b>\n",
    "\n",
    "The profits are lower across all regions compared to our earlier calculations. This is because we're now using actual values (targets) to calculate the profit, rather than predicted values. <br>\n",
    "The ranking of regions has changed slightly, with Region 2 now showing higher profit than Region 1.\n",
    "\n",
    "\n",
    "<b> Profitability: </b>\n",
    "\n",
    "All three regions still show positive profits, which is encouraging. <br>\n",
    "However, the margins are smaller than in our previous analysis, reflecting a more realistic assessment based on actual oil volumes.\n",
    "\n",
    "\n",
    "<b> Model Performance Implications: </b>\n",
    "\n",
    "The difference between these results and our previous ones suggests that our model's predictions were somewhat optimistic, especially for Regions 0 and 2. <br>\n",
    "This aligns with the high RMSE values we observed earlier for these regions.\n",
    "\n",
    "\n",
    "\n",
    "<b> Conclusions: </b>\n",
    "\n",
    "Region 0 remains the most profitable option, with a significant lead over the other two regions. <br>\n",
    "The gap between Region 1 and Region 2 has narrowed, with Region 2 now slightly outperforming Region 1. <br>\n",
    "All regions are still profitable, but the profits are more modest than our initial estimates suggested.\n",
    "\n",
    "<b> Step 5: </b>\n",
    "\n",
    "Let's proceed with the risk assessment (bootstrapping) using this corrected profit calculation method. This will give us a more accurate picture of the potential outcomes and risks for each region. <br>\n",
    "Given the significant change in our profit estimates, we may want to revisit our break-even analysis to ensure that these lower profits still meet the company's investment criteria. <br>\n",
    "It would be valuable to analyze the discrepancies between our model's predictions and the actual values, especially for Regions 0 and 2, to understand where our model might be overestimating oil volumes. <br>\n",
    "Consider if there are any additional features or data that could improve our model's accuracy, particularly for Regions 0 and 2."
   ]
  },
  {
   "cell_type": "code",
   "execution_count": 6,
   "metadata": {},
   "outputs": [
    {
     "name": "stdout",
     "output_type": "stream",
     "text": [
      "Region 0:\n",
      "Average profit: $4,463,955.21\n",
      "95% Confidence Interval: ($-618,091.05, $9,458,595.77)\n",
      "Risk of loss: 4.60%\n",
      "\n",
      "\n",
      "Region 1:\n",
      "Average profit: $4,416,336.53\n",
      "95% Confidence Interval: ($523,280.70, $8,439,282.41)\n",
      "Risk of loss: 1.50%\n",
      "\n",
      "\n",
      "Region 2:\n",
      "Average profit: $3,757,110.55\n",
      "95% Confidence Interval: ($-1,637,759.81, $9,016,179.78)\n",
      "Risk of loss: 8.10%\n",
      "\n",
      "\n",
      "The best region for development is Region 1\n"
     ]
    }
   ],
   "source": [
    "def calculate_profit(predictions, targets, n_wells=200, price_per_barrel=4500, budget=100_000_000):\n",
    "    top_indices = np.argsort(predictions)[-n_wells:]\n",
    "    top_actual_volumes = targets[top_indices]\n",
    "    total_volume = np.sum(top_actual_volumes)\n",
    "    revenue = total_volume * price_per_barrel\n",
    "    profit = revenue - budget\n",
    "    return profit\n",
    "\n",
    "def bootstrap_profit(region_data, n_samples=1000, sample_size=500):\n",
    "    X = region_data[['f0', 'f1', 'f2']].values  # Convert to numpy array\n",
    "    y = region_data['product'].values  # Convert to numpy array\n",
    "    profits = []\n",
    "    \n",
    "    for _ in range(n_samples):\n",
    "        sample_indices = np.random.choice(len(X), size=sample_size, replace=True)\n",
    "        X_sample, y_sample = X[sample_indices], y[sample_indices]  # No .iloc[] needed\n",
    "        \n",
    "        model = LinearRegression().fit(X_sample, y_sample)\n",
    "        predictions = model.predict(X_sample)\n",
    "        \n",
    "        profit = calculate_profit(predictions, y_sample)\n",
    "        profits.append(profit)\n",
    "    \n",
    "    return profits\n",
    "\n",
    "def analyze_profits(profits):\n",
    "    avg_profit = np.mean(profits)\n",
    "    ci_lower, ci_upper = np.percentile(profits, [2.5, 97.5])\n",
    "    risk_of_loss = (np.array(profits) < 0).mean() * 100\n",
    "    return avg_profit, ci_lower, ci_upper, risk_of_loss\n",
    "\n",
    "# Perform bootstrapping for each region\n",
    "for i, region in enumerate([region_0, region_1, region_2]):\n",
    "    profits = bootstrap_profit(region)\n",
    "    avg_profit, ci_lower, ci_upper, risk_of_loss = analyze_profits(profits)\n",
    "    \n",
    "    print(f\"Region {i}:\")\n",
    "    print(f\"Average profit: ${avg_profit:,.2f}\")\n",
    "    print(f\"95% Confidence Interval: (${ci_lower:,.2f}, ${ci_upper:,.2f})\")\n",
    "    print(f\"Risk of loss: {risk_of_loss:.2f}%\")\n",
    "    print(\"\\n\")\n",
    "\n",
    "# Select the best region\n",
    "valid_regions = [i for i in range(3) if analyze_profits(bootstrap_profit([region_0, region_1, region_2][i]))[3] < 2.5]\n",
    "\n",
    "if valid_regions:\n",
    "    best_region = max(valid_regions, key=lambda i: analyze_profits(bootstrap_profit([region_0, region_1, region_2][i]))[0])\n",
    "    print(f\"The best region for development is Region {best_region}\")\n",
    "else:\n",
    "    print(\"No region satisfies the risk criteria.\")"
   ]
  },
  {
   "cell_type": "markdown",
   "metadata": {},
   "source": [
    "<b> Analysis: </b>\n",
    "\n",
    "<b> Region 1: </b>\n",
    "\n",
    "Average profit: USD 4,416,336.53 <br>\n",
    "95% Confidence Interval: (USD 523,280.70, USD 8,439,282.41) <br>\n",
    "Risk of loss: 1.50% <br>\n",
    "\n",
    "Region 1 stands out as the best option for several reasons: <br>\n",
    "\n",
    "Highest average profit among all regions <br>\n",
    "Lowest risk of loss at only 1.50% <br>\n",
    "The confidence interval is entirely positive, meaning even in the worst-case scenario within this interval, there's still a profit <br>\n",
    "\n",
    "<b> Region 0: </b>\n",
    "\n",
    "Average profit: USD 4,463,955.21 <br>\n",
    "95% Confidence Interval: (USD -618,091.05, USD 9,458,595.77) <br>\n",
    "Risk of loss: 4.60% <br>\n",
    "\n",
    "Region 0 has the second-highest average profit, but: <br>\n",
    "\n",
    "The lower bound of the confidence interval is negative <br>\n",
    "Higher risk of loss compared to Region 1 <br>\n",
    "\n",
    "<b> Region 2: </b>\n",
    "\n",
    "Average profit: USD 3,757,110.55 <br>\n",
    "95% Confidence Interval: (USD -1,637,759.81, USD 9,016,179.78) <br>\n",
    "Risk of loss: 8.10% <br>\n",
    "\n",
    "Region 2 is the least attractive option: <br>\n",
    "\n",
    "Lowest average profit <br>\n",
    "Highest risk of loss <br>\n",
    "Widest confidence interval with the most negative lower bound <br>\n",
    "\n",
    "\n",
    "\n",
    "<b> Conclusions: </b>\n",
    "\n",
    "Region 1 is the best choice for development. This conclusion is supported by the following key factors: <br>\n",
    "\n",
    "Highest average profit: Region 1 has the highest expected profit at USD 4,416,336.53, which is superior to both Region 0 (USD 4,463,955.21) and Region 2 (USD 3,757,110.55). <br>\n",
    "Lowest risk: Region 1 has the lowest risk of loss at 1.50%, compared to 4.60% for Region 0 and 8.10% for Region 2. <br>\n",
    "Positive confidence interval: Region 1 is the only region with a fully positive 95% confidence interval (USD 523,280.70 to USD 8,439,282.41), indicating that even in less favorable scenarios, it's likely to remain profitable. <br>\n",
    "\n",
    "These factors combine to make Region 1 the most attractive option for development, offering the best balance of high potential returns and lower risk compared to the alternatives. The project should therefore proceed with development plans focused on Region 1 to maximize the likelihood of success and profitability."
   ]
  }
 ],
 "metadata": {
  "ExecuteTimeLog": [
   {
    "duration": 1462,
    "start_time": "2024-08-21T00:41:33.986Z"
   },
   {
    "duration": 120,
    "start_time": "2024-08-21T00:46:34.155Z"
   },
   {
    "duration": 523,
    "start_time": "2024-08-21T00:55:26.933Z"
   },
   {
    "duration": 53,
    "start_time": "2024-08-21T00:55:53.831Z"
   },
   {
    "duration": 65,
    "start_time": "2024-08-21T00:56:16.339Z"
   },
   {
    "duration": 92,
    "start_time": "2024-08-21T00:56:38.895Z"
   },
   {
    "duration": 378,
    "start_time": "2024-08-21T00:58:19.685Z"
   },
   {
    "duration": 782,
    "start_time": "2024-08-21T01:00:38.128Z"
   },
   {
    "duration": 115,
    "start_time": "2024-08-21T01:01:16.166Z"
   },
   {
    "duration": 17,
    "start_time": "2024-08-21T01:01:56.060Z"
   },
   {
    "duration": 8,
    "start_time": "2024-08-21T01:02:18.107Z"
   },
   {
    "duration": 4,
    "start_time": "2024-08-21T01:02:48.745Z"
   },
   {
    "duration": 6,
    "start_time": "2024-08-21T01:03:15.581Z"
   },
   {
    "duration": 10,
    "start_time": "2024-08-21T01:04:07.863Z"
   },
   {
    "duration": 12,
    "start_time": "2024-08-21T01:04:46.869Z"
   },
   {
    "duration": 6,
    "start_time": "2024-08-21T01:05:03.983Z"
   },
   {
    "duration": 421,
    "start_time": "2024-08-21T01:05:59.141Z"
   },
   {
    "duration": 9,
    "start_time": "2024-08-21T01:06:19.419Z"
   },
   {
    "duration": 31,
    "start_time": "2024-08-21T01:15:32.136Z"
   },
   {
    "duration": 57,
    "start_time": "2024-08-21T01:15:51.468Z"
   },
   {
    "duration": 154,
    "start_time": "2024-08-21T01:16:14.195Z"
   },
   {
    "duration": 35,
    "start_time": "2024-08-21T01:18:59.834Z"
   },
   {
    "duration": 254,
    "start_time": "2024-08-21T01:19:15.771Z"
   },
   {
    "duration": 2173,
    "start_time": "2024-08-21T01:19:26.361Z"
   },
   {
    "duration": 2493,
    "start_time": "2024-08-21T01:22:29.533Z"
   },
   {
    "duration": 3,
    "start_time": "2024-08-21T01:25:14.406Z"
   },
   {
    "duration": 4,
    "start_time": "2024-08-21T01:28:48.854Z"
   },
   {
    "duration": 5,
    "start_time": "2024-08-21T01:29:06.250Z"
   },
   {
    "duration": 86,
    "start_time": "2024-08-21T01:33:14.558Z"
   },
   {
    "duration": 133,
    "start_time": "2024-08-21T01:34:03.621Z"
   },
   {
    "duration": 32,
    "start_time": "2024-08-21T01:35:44.438Z"
   },
   {
    "duration": 65,
    "start_time": "2024-08-21T01:37:01.816Z"
   },
   {
    "duration": 263,
    "start_time": "2024-08-21T01:37:48.504Z"
   },
   {
    "duration": 5,
    "start_time": "2024-08-21T01:38:08.572Z"
   },
   {
    "duration": 230,
    "start_time": "2024-08-21T01:38:23.624Z"
   },
   {
    "duration": 374,
    "start_time": "2024-08-21T01:38:51.063Z"
   },
   {
    "duration": 208,
    "start_time": "2024-08-21T01:39:59.240Z"
   },
   {
    "duration": 208,
    "start_time": "2024-08-21T01:40:28.279Z"
   },
   {
    "duration": 31,
    "start_time": "2024-08-21T01:42:39.409Z"
   },
   {
    "duration": 329,
    "start_time": "2024-08-21T01:42:56.058Z"
   },
   {
    "duration": 4634,
    "start_time": "2024-08-21T01:43:09.147Z"
   },
   {
    "duration": 26,
    "start_time": "2024-08-21T01:53:30.565Z"
   },
   {
    "duration": 10,
    "start_time": "2024-08-21T01:53:41.775Z"
   },
   {
    "duration": 571,
    "start_time": "2024-08-21T01:54:15.249Z"
   },
   {
    "duration": 7,
    "start_time": "2024-08-21T01:54:50.319Z"
   },
   {
    "duration": 30,
    "start_time": "2024-08-21T01:59:47.845Z"
   },
   {
    "duration": 10,
    "start_time": "2024-08-21T02:15:43.062Z"
   },
   {
    "duration": 43,
    "start_time": "2024-08-21T02:16:07.185Z"
   },
   {
    "duration": 30,
    "start_time": "2024-08-21T02:16:42.808Z"
   },
   {
    "duration": 152,
    "start_time": "2024-08-22T17:24:10.575Z"
   },
   {
    "duration": 434,
    "start_time": "2024-08-22T17:24:38.049Z"
   },
   {
    "duration": 446,
    "start_time": "2024-08-22T17:24:51.595Z"
   },
   {
    "duration": 148,
    "start_time": "2024-08-22T17:25:07.882Z"
   },
   {
    "duration": 7,
    "start_time": "2024-08-22T17:25:22.688Z"
   },
   {
    "duration": 339,
    "start_time": "2024-08-22T17:25:28.505Z"
   },
   {
    "duration": 910772,
    "start_time": "2024-08-22T17:25:56.072Z"
   },
   {
    "duration": 223096,
    "start_time": "2024-08-22T17:43:02.035Z"
   },
   {
    "duration": 260,
    "start_time": "2024-08-22T18:10:07.282Z"
   },
   {
    "duration": 83,
    "start_time": "2024-08-22T18:11:18.713Z"
   },
   {
    "duration": 170,
    "start_time": "2024-08-22T18:13:12.364Z"
   },
   {
    "duration": 1949,
    "start_time": "2024-08-22T20:09:05.439Z"
   },
   {
    "duration": 194,
    "start_time": "2024-08-22T20:09:11.692Z"
   },
   {
    "duration": 399,
    "start_time": "2024-08-22T20:09:14.328Z"
   },
   {
    "duration": 10,
    "start_time": "2024-08-22T20:09:18.631Z"
   },
   {
    "duration": 289,
    "start_time": "2024-08-22T20:09:22.666Z"
   },
   {
    "duration": 201434,
    "start_time": "2024-08-22T20:09:26.223Z"
   },
   {
    "duration": 13,
    "start_time": "2024-08-22T20:24:20.569Z"
   },
   {
    "duration": 464,
    "start_time": "2024-08-23T13:00:56.120Z"
   },
   {
    "duration": 189,
    "start_time": "2024-08-23T13:00:57.640Z"
   },
   {
    "duration": 114,
    "start_time": "2024-08-23T13:00:59.537Z"
   },
   {
    "duration": 8,
    "start_time": "2024-08-23T13:01:02.487Z"
   },
   {
    "duration": 307,
    "start_time": "2024-08-23T13:09:03.237Z"
   },
   {
    "duration": 1208,
    "start_time": "2024-08-23T13:12:38.930Z"
   },
   {
    "duration": 1044531,
    "start_time": "2024-08-23T13:13:25.517Z"
   },
   {
    "duration": 18818,
    "start_time": "2024-08-23T13:31:27.724Z"
   },
   {
    "duration": 173,
    "start_time": "2024-08-23T13:31:46.545Z"
   },
   {
    "duration": 4749,
    "start_time": "2024-08-23T13:36:19.938Z"
   },
   {
    "duration": 1863,
    "start_time": "2024-08-23T13:57:04.293Z"
   },
   {
    "duration": 194,
    "start_time": "2024-08-23T13:57:10.020Z"
   },
   {
    "duration": 193,
    "start_time": "2024-08-23T13:57:13.642Z"
   },
   {
    "duration": 8,
    "start_time": "2024-08-23T13:57:19.795Z"
   },
   {
    "duration": 349,
    "start_time": "2024-08-23T13:57:22.379Z"
   },
   {
    "duration": 4716,
    "start_time": "2024-08-23T13:57:34.494Z"
   }
  ],
  "kernelspec": {
   "display_name": "Python 3 (ipykernel)",
   "language": "python",
   "name": "python3"
  },
  "language_info": {
   "codemirror_mode": {
    "name": "ipython",
    "version": 3
   },
   "file_extension": ".py",
   "mimetype": "text/x-python",
   "name": "python",
   "nbconvert_exporter": "python",
   "pygments_lexer": "ipython3",
   "version": "3.10.0"
  },
  "toc": {
   "base_numbering": 1,
   "nav_menu": {},
   "number_sections": true,
   "sideBar": true,
   "skip_h1_title": true,
   "title_cell": "Table of Contents",
   "title_sidebar": "Contents",
   "toc_cell": false,
   "toc_position": {},
   "toc_section_display": true,
   "toc_window_display": false
  }
 },
 "nbformat": 4,
 "nbformat_minor": 4
}
