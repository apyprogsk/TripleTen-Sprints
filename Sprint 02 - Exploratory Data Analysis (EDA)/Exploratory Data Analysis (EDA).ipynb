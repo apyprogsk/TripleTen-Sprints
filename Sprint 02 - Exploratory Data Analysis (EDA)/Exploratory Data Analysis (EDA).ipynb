{
 "cells": [
  {
   "cell_type": "markdown",
   "id": "6e888e4f",
   "metadata": {},
   "source": [
    "Project Description\n",
    "The goal of this project is to gain insights into customer shopping habits, identify popular products, understand reorder behavior, and explore temporal trends in order placement. Through exploratory data analysis (EDA) and data preprocessing techniques, we aim to uncover meaningful patterns and trends that can inform business decisions and improve customer experience on the Instacart platform.\n",
    "Data Description\n",
    "\n",
    "The dataset consists of five tables:\n",
    "instacart_orders.csv: Contains information about each customer order, including order ID, user ID, order number, day of the week, hour of the day, and days since the prior order.\n",
    "\n",
    "products.csv: Provides details about individual products, such as product ID, product name, aisle ID, and department ID.\n",
    "\n",
    "order_products.csv: Specifies which products were included in each order, along with additional details such as add-to-cart order and reorder status.\n",
    "\n",
    "aisles.csv: Includes a list of aisle IDs and corresponding aisle names.\n",
    "\n",
    "departments.csv: Contains department IDs and corresponding department names.\n",
    "\n",
    "\n",
    "Tasks Performed\n",
    "The project encompasses various tasks, including data preprocessing, exploratory data analysis (EDA), and visualization. Key tasks include verifying and cleaning data, analyzing order patterns by hour and day of the week, identifying popular products, exploring reorder behavior, and investigating shopping trends over time.\n",
    "\n",
    "By conducting thorough analysis and interpretation of the Instacart dataset, we aim to provide actionable insights for improving operational efficiency and enhancing customer satisfaction."
   ]
  },
  {
   "cell_type": "code",
   "execution_count": 1,
   "id": "ad36396d",
   "metadata": {},
   "outputs": [],
   "source": [
    "import pandas as pd\n",
    "import matplotlib.pyplot as plt"
   ]
  },
  {
   "cell_type": "code",
   "execution_count": 2,
   "id": "ad6a1efa",
   "metadata": {},
   "outputs": [
    {
     "name": "stdout",
     "output_type": "stream",
     "text": [
      "<class 'pandas.core.frame.DataFrame'>\n",
      "RangeIndex: 478967 entries, 0 to 478966\n",
      "Data columns (total 6 columns):\n",
      " #   Column                  Non-Null Count   Dtype  \n",
      "---  ------                  --------------   -----  \n",
      " 0   order_id                478967 non-null  int64  \n",
      " 1   user_id                 478967 non-null  int64  \n",
      " 2   order_number            478967 non-null  int64  \n",
      " 3   order_dow               478967 non-null  int64  \n",
      " 4   order_hour_of_day       478967 non-null  int64  \n",
      " 5   days_since_prior_order  450148 non-null  float64\n",
      "dtypes: float64(1), int64(5)\n",
      "memory usage: 21.9 MB\n"
     ]
    }
   ],
   "source": [
    "instacart_orders_df = pd.read_csv('/datasets/instacart_orders.csv', sep=';')\n",
    "instacart_orders_df.info()"
   ]
  },
  {
   "cell_type": "code",
   "execution_count": 3,
   "id": "5130e05e",
   "metadata": {},
   "outputs": [
    {
     "name": "stdout",
     "output_type": "stream",
     "text": [
      "<class 'pandas.core.frame.DataFrame'>\n",
      "RangeIndex: 49694 entries, 0 to 49693\n",
      "Data columns (total 4 columns):\n",
      " #   Column         Non-Null Count  Dtype \n",
      "---  ------         --------------  ----- \n",
      " 0   product_id     49694 non-null  int64 \n",
      " 1   product_name   48436 non-null  object\n",
      " 2   aisle_id       49694 non-null  int64 \n",
      " 3   department_id  49694 non-null  int64 \n",
      "dtypes: int64(3), object(1)\n",
      "memory usage: 1.5+ MB\n"
     ]
    }
   ],
   "source": [
    "products_df = pd.read_csv('/datasets/products.csv', sep=';')\n",
    "products_df.info()"
   ]
  },
  {
   "cell_type": "code",
   "execution_count": 4,
   "id": "d8370c05",
   "metadata": {},
   "outputs": [
    {
     "name": "stdout",
     "output_type": "stream",
     "text": [
      "<class 'pandas.core.frame.DataFrame'>\n",
      "RangeIndex: 4545007 entries, 0 to 4545006\n",
      "Data columns (total 4 columns):\n",
      " #   Column             Dtype  \n",
      "---  ------             -----  \n",
      " 0   order_id           int64  \n",
      " 1   product_id         int64  \n",
      " 2   add_to_cart_order  float64\n",
      " 3   reordered          int64  \n",
      "dtypes: float64(1), int64(3)\n",
      "memory usage: 138.7 MB\n"
     ]
    }
   ],
   "source": [
    "order_products_df = pd.read_csv('/datasets/order_products.csv', sep=';')\n",
    "order_products_df.info()"
   ]
  },
  {
   "cell_type": "code",
   "execution_count": 5,
   "id": "59e2090f",
   "metadata": {},
   "outputs": [
    {
     "name": "stdout",
     "output_type": "stream",
     "text": [
      "<class 'pandas.core.frame.DataFrame'>\n",
      "RangeIndex: 134 entries, 0 to 133\n",
      "Data columns (total 2 columns):\n",
      " #   Column    Non-Null Count  Dtype \n",
      "---  ------    --------------  ----- \n",
      " 0   aisle_id  134 non-null    int64 \n",
      " 1   aisle     134 non-null    object\n",
      "dtypes: int64(1), object(1)\n",
      "memory usage: 2.2+ KB\n"
     ]
    }
   ],
   "source": [
    "aisles_df = pd.read_csv('/datasets/aisles.csv', sep=';')\n",
    "aisles_df.info()"
   ]
  },
  {
   "cell_type": "code",
   "execution_count": 6,
   "id": "6fc81694",
   "metadata": {},
   "outputs": [
    {
     "name": "stdout",
     "output_type": "stream",
     "text": [
      "<class 'pandas.core.frame.DataFrame'>\n",
      "RangeIndex: 21 entries, 0 to 20\n",
      "Data columns (total 2 columns):\n",
      " #   Column         Non-Null Count  Dtype \n",
      "---  ------         --------------  ----- \n",
      " 0   department_id  21 non-null     int64 \n",
      " 1   department     21 non-null     object\n",
      "dtypes: int64(1), object(1)\n",
      "memory usage: 464.0+ bytes\n"
     ]
    }
   ],
   "source": [
    "departments_df = pd.read_csv('/datasets/departments.csv', sep=';')\n",
    "departments_df.info()"
   ]
  },
  {
   "cell_type": "markdown",
   "id": "8903c846",
   "metadata": {},
   "source": [
    "CONCLUSION:\n",
    "\n",
    "Based on the information provided from the database files:\n",
    "\n",
    "The data seems to be structured into several tables:\n",
    "\n",
    "Orders Table: Contains information about orders such as order ID, user ID, order number, day of the week the order was made, hour of the day the order was made, and days since the prior order. It appears that there are some missing values in the \"days_since_prior_order\" column.\n",
    "\n",
    "Products Table: This table lists product details including product ID, product name, aisle ID, and department ID. It seems that there are some missing values in the \"product_name\" column.\n",
    "\n",
    "Order Products Table: Contains details about products added to each order, including the order ID, product ID, order in which the product was added to the cart, and whether the product was reordered.\n",
    "\n",
    "Aisles Table: Provides information about different aisles, including aisle ID and aisle name.\n",
    "\n",
    "Departments Table: Contains details about different departments, including department ID and department name.\n",
    "\n",
    "Intermediate Conclusion:\n",
    "The database consists of several tables containing information about orders, products, aisles, and departments. Further analysis could involve examining relationships between these tables, such as which products are frequently reordered, which departments have the highest sales, or which aisles are most commonly visited. Additionally, data cleaning may be necessary to handle missing values in certain columns."
   ]
  },
  {
   "cell_type": "markdown",
   "id": "07357848-dc64-4156-9cc3-01ff4365226d",
   "metadata": {},
   "source": [
    "## Find and remove duplicate values (and describe why you make your choices)"
   ]
  },
  {
   "cell_type": "markdown",
   "id": "f179f0a9",
   "metadata": {},
   "source": [
    "### `orders` data frame"
   ]
  },
  {
   "cell_type": "code",
   "execution_count": 7,
   "id": "b99297a5-405a-463d-8535-9adc3da4ad74",
   "metadata": {},
   "outputs": [
    {
     "data": {
      "text/plain": [
       "'Number of duplicated orders:'"
      ]
     },
     "metadata": {},
     "output_type": "display_data"
    },
    {
     "data": {
      "text/plain": [
       "30"
      ]
     },
     "metadata": {},
     "output_type": "display_data"
    }
   ],
   "source": [
    "# Check for duplicated orders\n",
    "duplicate_orders = instacart_orders_df[instacart_orders_df.duplicated(subset=['order_id'], keep=False)]\n",
    "display(\"Number of duplicated orders:\", len(duplicate_orders))"
   ]
  },
  {
   "cell_type": "code",
   "execution_count": 8,
   "id": "0d44de5d",
   "metadata": {},
   "outputs": [
    {
     "data": {
      "text/plain": [
       "'Orders placed on Wednesday at 2:00 AM:'"
      ]
     },
     "metadata": {},
     "output_type": "display_data"
    },
    {
     "data": {
      "text/html": [
       "<div>\n",
       "<style scoped>\n",
       "    .dataframe tbody tr th:only-of-type {\n",
       "        vertical-align: middle;\n",
       "    }\n",
       "\n",
       "    .dataframe tbody tr th {\n",
       "        vertical-align: top;\n",
       "    }\n",
       "\n",
       "    .dataframe thead th {\n",
       "        text-align: right;\n",
       "    }\n",
       "</style>\n",
       "<table border=\"1\" class=\"dataframe\">\n",
       "  <thead>\n",
       "    <tr style=\"text-align: right;\">\n",
       "      <th></th>\n",
       "      <th>order_id</th>\n",
       "      <th>user_id</th>\n",
       "      <th>order_number</th>\n",
       "      <th>order_dow</th>\n",
       "      <th>order_hour_of_day</th>\n",
       "      <th>days_since_prior_order</th>\n",
       "    </tr>\n",
       "  </thead>\n",
       "  <tbody>\n",
       "    <tr>\n",
       "      <th>4838</th>\n",
       "      <td>2766110</td>\n",
       "      <td>162084</td>\n",
       "      <td>41</td>\n",
       "      <td>3</td>\n",
       "      <td>2</td>\n",
       "      <td>16.0</td>\n",
       "    </tr>\n",
       "    <tr>\n",
       "      <th>5156</th>\n",
       "      <td>2190225</td>\n",
       "      <td>138285</td>\n",
       "      <td>18</td>\n",
       "      <td>3</td>\n",
       "      <td>2</td>\n",
       "      <td>11.0</td>\n",
       "    </tr>\n",
       "    <tr>\n",
       "      <th>15506</th>\n",
       "      <td>553049</td>\n",
       "      <td>58599</td>\n",
       "      <td>13</td>\n",
       "      <td>3</td>\n",
       "      <td>2</td>\n",
       "      <td>7.0</td>\n",
       "    </tr>\n",
       "    <tr>\n",
       "      <th>18420</th>\n",
       "      <td>382357</td>\n",
       "      <td>120200</td>\n",
       "      <td>19</td>\n",
       "      <td>3</td>\n",
       "      <td>2</td>\n",
       "      <td>11.0</td>\n",
       "    </tr>\n",
       "    <tr>\n",
       "      <th>24691</th>\n",
       "      <td>690242</td>\n",
       "      <td>77357</td>\n",
       "      <td>2</td>\n",
       "      <td>3</td>\n",
       "      <td>2</td>\n",
       "      <td>9.0</td>\n",
       "    </tr>\n",
       "    <tr>\n",
       "      <th>...</th>\n",
       "      <td>...</td>\n",
       "      <td>...</td>\n",
       "      <td>...</td>\n",
       "      <td>...</td>\n",
       "      <td>...</td>\n",
       "      <td>...</td>\n",
       "    </tr>\n",
       "    <tr>\n",
       "      <th>457013</th>\n",
       "      <td>3384021</td>\n",
       "      <td>14881</td>\n",
       "      <td>6</td>\n",
       "      <td>3</td>\n",
       "      <td>2</td>\n",
       "      <td>30.0</td>\n",
       "    </tr>\n",
       "    <tr>\n",
       "      <th>458816</th>\n",
       "      <td>910166</td>\n",
       "      <td>164782</td>\n",
       "      <td>18</td>\n",
       "      <td>3</td>\n",
       "      <td>2</td>\n",
       "      <td>4.0</td>\n",
       "    </tr>\n",
       "    <tr>\n",
       "      <th>459635</th>\n",
       "      <td>1680532</td>\n",
       "      <td>106435</td>\n",
       "      <td>6</td>\n",
       "      <td>3</td>\n",
       "      <td>2</td>\n",
       "      <td>21.0</td>\n",
       "    </tr>\n",
       "    <tr>\n",
       "      <th>468324</th>\n",
       "      <td>222962</td>\n",
       "      <td>54979</td>\n",
       "      <td>59</td>\n",
       "      <td>3</td>\n",
       "      <td>2</td>\n",
       "      <td>3.0</td>\n",
       "    </tr>\n",
       "    <tr>\n",
       "      <th>477526</th>\n",
       "      <td>2592344</td>\n",
       "      <td>46860</td>\n",
       "      <td>38</td>\n",
       "      <td>3</td>\n",
       "      <td>2</td>\n",
       "      <td>3.0</td>\n",
       "    </tr>\n",
       "  </tbody>\n",
       "</table>\n",
       "<p>121 rows × 6 columns</p>\n",
       "</div>"
      ],
      "text/plain": [
       "        order_id  user_id  order_number  order_dow  order_hour_of_day  \\\n",
       "4838     2766110   162084            41          3                  2   \n",
       "5156     2190225   138285            18          3                  2   \n",
       "15506     553049    58599            13          3                  2   \n",
       "18420     382357   120200            19          3                  2   \n",
       "24691     690242    77357             2          3                  2   \n",
       "...          ...      ...           ...        ...                ...   \n",
       "457013   3384021    14881             6          3                  2   \n",
       "458816    910166   164782            18          3                  2   \n",
       "459635   1680532   106435             6          3                  2   \n",
       "468324    222962    54979            59          3                  2   \n",
       "477526   2592344    46860            38          3                  2   \n",
       "\n",
       "        days_since_prior_order  \n",
       "4838                      16.0  \n",
       "5156                      11.0  \n",
       "15506                      7.0  \n",
       "18420                     11.0  \n",
       "24691                      9.0  \n",
       "...                        ...  \n",
       "457013                    30.0  \n",
       "458816                     4.0  \n",
       "459635                    21.0  \n",
       "468324                     3.0  \n",
       "477526                     3.0  \n",
       "\n",
       "[121 rows x 6 columns]"
      ]
     },
     "metadata": {},
     "output_type": "display_data"
    }
   ],
   "source": [
    "# Check for all orders placed Wednesday at 2:00 AM\n",
    "wednesday_2am_orders = instacart_orders_df[(instacart_orders_df['order_dow'] == 3) & (instacart_orders_df['order_hour_of_day'] == 2)]\n",
    "\n",
    "display(\"Orders placed on Wednesday at 2:00 AM:\", wednesday_2am_orders)"
   ]
  },
  {
   "cell_type": "code",
   "execution_count": 9,
   "id": "1faaa983",
   "metadata": {},
   "outputs": [
    {
     "data": {
      "text/html": [
       "<div>\n",
       "<style scoped>\n",
       "    .dataframe tbody tr th:only-of-type {\n",
       "        vertical-align: middle;\n",
       "    }\n",
       "\n",
       "    .dataframe tbody tr th {\n",
       "        vertical-align: top;\n",
       "    }\n",
       "\n",
       "    .dataframe thead th {\n",
       "        text-align: right;\n",
       "    }\n",
       "</style>\n",
       "<table border=\"1\" class=\"dataframe\">\n",
       "  <thead>\n",
       "    <tr style=\"text-align: right;\">\n",
       "      <th></th>\n",
       "      <th>order_id</th>\n",
       "      <th>user_id</th>\n",
       "      <th>order_number</th>\n",
       "      <th>order_dow</th>\n",
       "      <th>order_hour_of_day</th>\n",
       "      <th>days_since_prior_order</th>\n",
       "    </tr>\n",
       "  </thead>\n",
       "  <tbody>\n",
       "    <tr>\n",
       "      <th>0</th>\n",
       "      <td>1515936</td>\n",
       "      <td>183418</td>\n",
       "      <td>11</td>\n",
       "      <td>6</td>\n",
       "      <td>13</td>\n",
       "      <td>30.0</td>\n",
       "    </tr>\n",
       "    <tr>\n",
       "      <th>1</th>\n",
       "      <td>1690866</td>\n",
       "      <td>163593</td>\n",
       "      <td>5</td>\n",
       "      <td>5</td>\n",
       "      <td>12</td>\n",
       "      <td>9.0</td>\n",
       "    </tr>\n",
       "    <tr>\n",
       "      <th>2</th>\n",
       "      <td>1454967</td>\n",
       "      <td>39980</td>\n",
       "      <td>4</td>\n",
       "      <td>5</td>\n",
       "      <td>19</td>\n",
       "      <td>2.0</td>\n",
       "    </tr>\n",
       "  </tbody>\n",
       "</table>\n",
       "</div>"
      ],
      "text/plain": [
       "   order_id  user_id  order_number  order_dow  order_hour_of_day  \\\n",
       "0   1515936   183418            11          6                 13   \n",
       "1   1690866   163593             5          5                 12   \n",
       "2   1454967    39980             4          5                 19   \n",
       "\n",
       "   days_since_prior_order  \n",
       "0                    30.0  \n",
       "1                     9.0  \n",
       "2                     2.0  "
      ]
     },
     "metadata": {},
     "output_type": "display_data"
    },
    {
     "data": {
      "text/html": [
       "<div>\n",
       "<style scoped>\n",
       "    .dataframe tbody tr th:only-of-type {\n",
       "        vertical-align: middle;\n",
       "    }\n",
       "\n",
       "    .dataframe tbody tr th {\n",
       "        vertical-align: top;\n",
       "    }\n",
       "\n",
       "    .dataframe thead th {\n",
       "        text-align: right;\n",
       "    }\n",
       "</style>\n",
       "<table border=\"1\" class=\"dataframe\">\n",
       "  <thead>\n",
       "    <tr style=\"text-align: right;\">\n",
       "      <th></th>\n",
       "      <th>order_id</th>\n",
       "      <th>user_id</th>\n",
       "      <th>order_number</th>\n",
       "      <th>order_dow</th>\n",
       "      <th>order_hour_of_day</th>\n",
       "      <th>days_since_prior_order</th>\n",
       "    </tr>\n",
       "  </thead>\n",
       "  <tbody>\n",
       "    <tr>\n",
       "      <th>478964</th>\n",
       "      <td>885349</td>\n",
       "      <td>82944</td>\n",
       "      <td>16</td>\n",
       "      <td>2</td>\n",
       "      <td>11</td>\n",
       "      <td>6.0</td>\n",
       "    </tr>\n",
       "    <tr>\n",
       "      <th>478965</th>\n",
       "      <td>216274</td>\n",
       "      <td>4391</td>\n",
       "      <td>3</td>\n",
       "      <td>3</td>\n",
       "      <td>8</td>\n",
       "      <td>8.0</td>\n",
       "    </tr>\n",
       "    <tr>\n",
       "      <th>478966</th>\n",
       "      <td>2071924</td>\n",
       "      <td>1730</td>\n",
       "      <td>18</td>\n",
       "      <td>1</td>\n",
       "      <td>14</td>\n",
       "      <td>15.0</td>\n",
       "    </tr>\n",
       "  </tbody>\n",
       "</table>\n",
       "</div>"
      ],
      "text/plain": [
       "        order_id  user_id  order_number  order_dow  order_hour_of_day  \\\n",
       "478964    885349    82944            16          2                 11   \n",
       "478965    216274     4391             3          3                  8   \n",
       "478966   2071924     1730            18          1                 14   \n",
       "\n",
       "        days_since_prior_order  \n",
       "478964                     6.0  \n",
       "478965                     8.0  \n",
       "478966                    15.0  "
      ]
     },
     "execution_count": 9,
     "metadata": {},
     "output_type": "execute_result"
    }
   ],
   "source": [
    "# Reviewer's code\n",
    "\n",
    "display(instacart_orders_df.head(3))\n",
    "\n",
    "instacart_orders_df.tail(3)"
   ]
  },
  {
   "cell_type": "code",
   "execution_count": 10,
   "id": "480563c7",
   "metadata": {},
   "outputs": [
    {
     "name": "stdout",
     "output_type": "stream",
     "text": [
      "Before removing duplicates: (478967, 6)\n",
      "After removing duplicates: (478952, 6)\n"
     ]
    }
   ],
   "source": [
    "# Remove duplicate orders\n",
    "instacart_orders_df_unique = instacart_orders_df.drop_duplicates(subset=['order_id']).reset_index(drop=True)\n",
    "\n",
    "print(\"Before removing duplicates:\", instacart_orders_df.shape)\n",
    "print(\"After removing duplicates:\", instacart_orders_df_unique.shape)"
   ]
  },
  {
   "cell_type": "code",
   "execution_count": 11,
   "id": "0b2396a2",
   "metadata": {},
   "outputs": [
    {
     "name": "stdout",
     "output_type": "stream",
     "text": [
      "No of duplicated orders: 0\n"
     ]
    }
   ],
   "source": [
    "# Double check for duplicate rows\n",
    "print(\"No of duplicated orders:\", instacart_orders_df_unique.duplicated().sum())"
   ]
  },
  {
   "cell_type": "code",
   "execution_count": 12,
   "id": "f6113ef1",
   "metadata": {},
   "outputs": [
    {
     "name": "stdout",
     "output_type": "stream",
     "text": [
      "No of duplicate order IDs: 0\n"
     ]
    }
   ],
   "source": [
    "# Double check for duplicate order IDs only\n",
    "duplicate_order_ids = instacart_orders_df_unique['order_id'].duplicated().sum()\n",
    "print(\"No of duplicate order IDs:\", duplicate_order_ids)"
   ]
  },
  {
   "cell_type": "markdown",
   "id": "45e6bc46",
   "metadata": {},
   "source": [
    "### `products` data frame"
   ]
  },
  {
   "cell_type": "code",
   "execution_count": 13,
   "id": "5f526b5b-8175-46fa-a0fd-441767d50e64",
   "metadata": {},
   "outputs": [
    {
     "name": "stdout",
     "output_type": "stream",
     "text": [
      "No of fully duplicate rows in products DataFrame: 0\n"
     ]
    }
   ],
   "source": [
    "# Check for fully duplicate rows\n",
    "\n",
    "print(\"No of fully duplicate rows in products DataFrame:\", len(products_df[products_df.duplicated()]))"
   ]
  },
  {
   "cell_type": "code",
   "execution_count": 14,
   "id": "88daa4f4",
   "metadata": {},
   "outputs": [
    {
     "name": "stdout",
     "output_type": "stream",
     "text": [
      "No of duplicate product IDs: 0\n"
     ]
    }
   ],
   "source": [
    "# Check for just duplicate product IDs\n",
    "duplicate_product_ids = products_df['product_id'].duplicated().sum()\n",
    "print(\"No of duplicate product IDs:\", duplicate_product_ids)"
   ]
  },
  {
   "cell_type": "code",
   "execution_count": 15,
   "id": "c773f0bf",
   "metadata": {},
   "outputs": [
    {
     "name": "stdout",
     "output_type": "stream",
     "text": [
      "No of duplicate product names: 1361\n"
     ]
    }
   ],
   "source": [
    "# Check for just duplicate product names (convert names to lowercase to compare better)\n",
    "products_df['product_name_lower'] = products_df['product_name'].str.lower()\n",
    "\n",
    "duplicate_product_names = products_df['product_name_lower'].duplicated().sum()\n",
    "print(\"No of duplicate product names:\", duplicate_product_names)"
   ]
  },
  {
   "cell_type": "code",
   "execution_count": 16,
   "id": "01efd02e",
   "metadata": {},
   "outputs": [
    {
     "name": "stdout",
     "output_type": "stream",
     "text": [
      "No of duplicate product names (excluding missing): 104\n"
     ]
    }
   ],
   "source": [
    "# Check for duplicate product names that aren't missing\n",
    "products_df_notnull = products_df.dropna(subset=['product_name']).copy()\n",
    "\n",
    "products_df_notnull['product_name_lower'] = products_df_notnull['product_name'].str.lower()\n",
    "\n",
    "duplicate_product_names = products_df_notnull['product_name_lower'].duplicated().sum()\n",
    "print(\"No of duplicate product names (excluding missing):\", duplicate_product_names)"
   ]
  },
  {
   "cell_type": "markdown",
   "id": "74e79f13",
   "metadata": {},
   "source": [
    "Based on above, addressing duplicate product names is essential for maintaining data integrity and ensuring the accuracy of any analyses or applications built upon the dataset.\n",
    "This could involve standardizing naming conventions, resolving discrepancies, or updating incorrect entries and documenting the process of identifying and resolving duplicate product names is crucial for transparency and reproducibility. This documentation can help future users understand the dataset's quality and any modifications made to it."
   ]
  },
  {
   "cell_type": "markdown",
   "id": "60f30db1",
   "metadata": {},
   "source": [
    "### `departments` data frame"
   ]
  },
  {
   "cell_type": "code",
   "execution_count": 17,
   "id": "fb410ad4-0fbf-4b80-bb09-23fdea79afe3",
   "metadata": {},
   "outputs": [
    {
     "data": {
      "text/html": [
       "<div>\n",
       "<style scoped>\n",
       "    .dataframe tbody tr th:only-of-type {\n",
       "        vertical-align: middle;\n",
       "    }\n",
       "\n",
       "    .dataframe tbody tr th {\n",
       "        vertical-align: top;\n",
       "    }\n",
       "\n",
       "    .dataframe thead th {\n",
       "        text-align: right;\n",
       "    }\n",
       "</style>\n",
       "<table border=\"1\" class=\"dataframe\">\n",
       "  <thead>\n",
       "    <tr style=\"text-align: right;\">\n",
       "      <th></th>\n",
       "      <th>department_id</th>\n",
       "      <th>department</th>\n",
       "    </tr>\n",
       "  </thead>\n",
       "  <tbody>\n",
       "    <tr>\n",
       "      <th>0</th>\n",
       "      <td>1</td>\n",
       "      <td>frozen</td>\n",
       "    </tr>\n",
       "    <tr>\n",
       "      <th>1</th>\n",
       "      <td>2</td>\n",
       "      <td>other</td>\n",
       "    </tr>\n",
       "    <tr>\n",
       "      <th>2</th>\n",
       "      <td>3</td>\n",
       "      <td>bakery</td>\n",
       "    </tr>\n",
       "    <tr>\n",
       "      <th>3</th>\n",
       "      <td>4</td>\n",
       "      <td>produce</td>\n",
       "    </tr>\n",
       "    <tr>\n",
       "      <th>4</th>\n",
       "      <td>5</td>\n",
       "      <td>alcohol</td>\n",
       "    </tr>\n",
       "  </tbody>\n",
       "</table>\n",
       "</div>"
      ],
      "text/plain": [
       "   department_id department\n",
       "0              1     frozen\n",
       "1              2      other\n",
       "2              3     bakery\n",
       "3              4    produce\n",
       "4              5    alcohol"
      ]
     },
     "metadata": {},
     "output_type": "display_data"
    }
   ],
   "source": [
    "display(departments_df.head())"
   ]
  },
  {
   "cell_type": "code",
   "execution_count": 18,
   "id": "332b12bb",
   "metadata": {},
   "outputs": [
    {
     "name": "stdout",
     "output_type": "stream",
     "text": [
      "There are no duplicates in department_id.\n"
     ]
    }
   ],
   "source": [
    "# Checking for duplicates in department_id\n",
    "duplicate_department_ids = departments_df['department_id'].duplicated().any()\n",
    "\n",
    "if duplicate_department_ids:\n",
    "    print(\"There are duplicates in department_id.\")\n",
    "else:\n",
    "    print(\"There are no duplicates in department_id.\")"
   ]
  },
  {
   "cell_type": "markdown",
   "id": "889349c1",
   "metadata": {},
   "source": [
    "### `aisles` data frame"
   ]
  },
  {
   "cell_type": "code",
   "execution_count": 19,
   "id": "9da89fb9-4679-40f5-ad0d-c34df753a3f8",
   "metadata": {},
   "outputs": [
    {
     "data": {
      "text/html": [
       "<div>\n",
       "<style scoped>\n",
       "    .dataframe tbody tr th:only-of-type {\n",
       "        vertical-align: middle;\n",
       "    }\n",
       "\n",
       "    .dataframe tbody tr th {\n",
       "        vertical-align: top;\n",
       "    }\n",
       "\n",
       "    .dataframe thead th {\n",
       "        text-align: right;\n",
       "    }\n",
       "</style>\n",
       "<table border=\"1\" class=\"dataframe\">\n",
       "  <thead>\n",
       "    <tr style=\"text-align: right;\">\n",
       "      <th></th>\n",
       "      <th>aisle_id</th>\n",
       "      <th>aisle</th>\n",
       "    </tr>\n",
       "  </thead>\n",
       "  <tbody>\n",
       "    <tr>\n",
       "      <th>0</th>\n",
       "      <td>1</td>\n",
       "      <td>prepared soups salads</td>\n",
       "    </tr>\n",
       "    <tr>\n",
       "      <th>1</th>\n",
       "      <td>2</td>\n",
       "      <td>specialty cheeses</td>\n",
       "    </tr>\n",
       "    <tr>\n",
       "      <th>2</th>\n",
       "      <td>3</td>\n",
       "      <td>energy granola bars</td>\n",
       "    </tr>\n",
       "    <tr>\n",
       "      <th>3</th>\n",
       "      <td>4</td>\n",
       "      <td>instant foods</td>\n",
       "    </tr>\n",
       "    <tr>\n",
       "      <th>4</th>\n",
       "      <td>5</td>\n",
       "      <td>marinades meat preparation</td>\n",
       "    </tr>\n",
       "  </tbody>\n",
       "</table>\n",
       "</div>"
      ],
      "text/plain": [
       "   aisle_id                       aisle\n",
       "0         1       prepared soups salads\n",
       "1         2           specialty cheeses\n",
       "2         3         energy granola bars\n",
       "3         4               instant foods\n",
       "4         5  marinades meat preparation"
      ]
     },
     "metadata": {},
     "output_type": "display_data"
    }
   ],
   "source": [
    "display(aisles_df.head())"
   ]
  },
  {
   "cell_type": "code",
   "execution_count": 20,
   "id": "da7c2822",
   "metadata": {},
   "outputs": [
    {
     "name": "stdout",
     "output_type": "stream",
     "text": [
      "There are no duplicates in aisle_id.\n"
     ]
    }
   ],
   "source": [
    "# Checking for duplicates in aisle_id\n",
    "duplicate_aisle_ids = aisles_df['aisle_id'].duplicated().any()\n",
    "\n",
    "if duplicate_aisle_ids:\n",
    "    print(\"There are duplicates in aisle_id.\")\n",
    "else:\n",
    "    print(\"There are no duplicates in aisle_id.\")"
   ]
  },
  {
   "cell_type": "markdown",
   "id": "274cd06a",
   "metadata": {},
   "source": [
    "### `order_products` data frame"
   ]
  },
  {
   "cell_type": "code",
   "execution_count": 21,
   "id": "52326689-84a8-4b8f-a881-7c68780f62c9",
   "metadata": {},
   "outputs": [
    {
     "name": "stdout",
     "output_type": "stream",
     "text": [
      "No of fully duplicate rows in order_products DataFrame: 0\n"
     ]
    }
   ],
   "source": [
    "# Check for fullly duplicate rows\n",
    "fully_duplicate_order_products = order_products_df[order_products_df.duplicated()]\n",
    "print(\"No of fully duplicate rows in order_products DataFrame:\", len(fully_duplicate_order_products))"
   ]
  },
  {
   "cell_type": "code",
   "execution_count": 22,
   "id": "7b861391",
   "metadata": {},
   "outputs": [
    {
     "name": "stdout",
     "output_type": "stream",
     "text": [
      "No of duplicate combinations of order_id and product_id: 0\n"
     ]
    }
   ],
   "source": [
    "# Double check for any other tricky duplicates\n",
    "duplicate_order_product_combinations = order_products_df[order_products_df.duplicated(subset=['order_id', 'product_id'], keep=False)]\n",
    "print(\"No of duplicate combinations of order_id and product_id:\", len(duplicate_order_product_combinations))"
   ]
  },
  {
   "cell_type": "markdown",
   "id": "1e46de76",
   "metadata": {},
   "source": [
    "## Find and remove missing values\n"
   ]
  },
  {
   "cell_type": "markdown",
   "id": "c0aebd78",
   "metadata": {},
   "source": [
    "### `products` data frame"
   ]
  },
  {
   "cell_type": "code",
   "execution_count": 23,
   "id": "fe4a8b0f",
   "metadata": {},
   "outputs": [
    {
     "data": {
      "text/plain": [
       "'Missing values in the products DataFrame:'"
      ]
     },
     "metadata": {},
     "output_type": "display_data"
    },
    {
     "data": {
      "text/plain": [
       "product_id               0\n",
       "product_name          1258\n",
       "aisle_id                 0\n",
       "department_id            0\n",
       "product_name_lower    1258\n",
       "dtype: int64"
      ]
     },
     "metadata": {},
     "output_type": "display_data"
    }
   ],
   "source": [
    "# Checking for missing values in the products DataFrame\n",
    "missing_values = products_df.isnull().sum()\n",
    "display(\"Missing values in the products DataFrame:\", missing_values)"
   ]
  },
  {
   "cell_type": "code",
   "execution_count": 24,
   "id": "e96167bc",
   "metadata": {},
   "outputs": [
    {
     "name": "stdout",
     "output_type": "stream",
     "text": [
      "Are all missing product names associated with aisle ID 100? True\n"
     ]
    }
   ],
   "source": [
    "# Are all of the missing product names associated with aisle ID 100?\n",
    "\n",
    "# Filtering rows with missing product names and aisle ID 100\n",
    "missing_product_names_aisle_100 = products_df[(products_df['product_name'].isnull()) & (products_df['aisle_id'] == 100)]\n",
    "\n",
    "# Check if all missing product names are associated with aisle ID 100\n",
    "all_missing_product_names_associated_with_aisle_100 = len(missing_product_names_aisle_100) == missing_values['product_name']\n",
    "print(\"Are all missing product names associated with aisle ID 100?\", all_missing_product_names_associated_with_aisle_100)"
   ]
  },
  {
   "cell_type": "code",
   "execution_count": 25,
   "id": "8fd0a541",
   "metadata": {},
   "outputs": [
    {
     "name": "stdout",
     "output_type": "stream",
     "text": [
      "Are all missing product names associated with department ID 21? True\n"
     ]
    }
   ],
   "source": [
    "# Are all of the missing product names associated with department ID 21?\n",
    "\n",
    "# Filtering rows with missing product names and department ID 21\n",
    "missing_product_names_dept_21 = products_df[(products_df['product_name'].isnull()) & (products_df['department_id'] == 21)]\n",
    "\n",
    "# Check if all missing product names are associated with department ID 21\n",
    "all_missing_product_names_associated_with_dept_21 = len(missing_product_names_dept_21) == missing_values['product_name']\n",
    "print(\"Are all missing product names associated with department ID 21?\", all_missing_product_names_associated_with_dept_21)"
   ]
  },
  {
   "cell_type": "code",
   "execution_count": 26,
   "id": "325c3464",
   "metadata": {},
   "outputs": [
    {
     "name": "stdout",
     "output_type": "stream",
     "text": [
      "Aisle: missing\n",
      "Department: missing\n"
     ]
    }
   ],
   "source": [
    "# What is this ailse and department?\n",
    "# Retrieve the aisle and department names for the given aisle ID and department ID\n",
    "aisle_name = aisles_df.loc[aisles_df['aisle_id'] == 100, 'aisle'].values[0]\n",
    "department_name = departments_df.loc[departments_df['department_id'] == 21, 'department'].values[0]\n",
    "\n",
    "print(\"Aisle:\", aisle_name)\n",
    "print(\"Department:\", department_name)"
   ]
  },
  {
   "cell_type": "code",
   "execution_count": 27,
   "id": "6b295120",
   "metadata": {},
   "outputs": [
    {
     "name": "stdout",
     "output_type": "stream",
     "text": [
      "Missing values in the products DataFrame after filling:\n",
      "product_id               0\n",
      "product_name             0\n",
      "aisle_id                 0\n",
      "department_id            0\n",
      "product_name_lower    1258\n",
      "dtype: int64\n"
     ]
    }
   ],
   "source": [
    "# Fill missing product names with 'Unknown'\n",
    "products_df['product_name'] = products_df['product_name'].fillna('Unknown')\n",
    "\n",
    "# Verify that missing values have been filled\n",
    "missing_values_after_fill = products_df.isnull().sum()\n",
    "print(\"Missing values in the products DataFrame after filling:\")\n",
    "print(missing_values_after_fill)"
   ]
  },
  {
   "cell_type": "markdown",
   "id": "fc70e5ad",
   "metadata": {},
   "source": []
  },
  {
   "cell_type": "markdown",
   "id": "7eb45c86",
   "metadata": {},
   "source": [
    "### `orders` data frame"
   ]
  },
  {
   "cell_type": "code",
   "execution_count": 28,
   "id": "93e41d96",
   "metadata": {},
   "outputs": [
    {
     "name": "stdout",
     "output_type": "stream",
     "text": [
      "   order_id  user_id  order_number  order_dow  order_hour_of_day  \\\n",
      "0   1515936   183418            11          6                 13   \n",
      "1   1690866   163593             5          5                 12   \n",
      "2   1454967    39980             4          5                 19   \n",
      "3   1768857    82516            56          0                 20   \n",
      "4   3007858   196724             2          4                 12   \n",
      "\n",
      "   days_since_prior_order  \n",
      "0                    30.0  \n",
      "1                     9.0  \n",
      "2                     2.0  \n",
      "3                    10.0  \n",
      "4                    17.0  \n"
     ]
    }
   ],
   "source": [
    "print(instacart_orders_df.head())"
   ]
  },
  {
   "cell_type": "code",
   "execution_count": 29,
   "id": "ab750de6",
   "metadata": {},
   "outputs": [
    {
     "name": "stdout",
     "output_type": "stream",
     "text": [
      "There are missing values in the orders DataFrame.\n",
      "Count of missing values in each column:\n"
     ]
    },
    {
     "data": {
      "text/plain": [
       "order_id                      0\n",
       "user_id                       0\n",
       "order_number                  0\n",
       "order_dow                     0\n",
       "order_hour_of_day             0\n",
       "days_since_prior_order    28819\n",
       "dtype: int64"
      ]
     },
     "metadata": {},
     "output_type": "display_data"
    }
   ],
   "source": [
    "# Checking for missing values in orders DataFrame\n",
    "missing_values = instacart_orders_df.isnull().any().any()\n",
    "\n",
    "if missing_values:\n",
    "    print(\"There are missing values in the orders DataFrame.\")\n",
    "else:\n",
    "    print(\"There are no missing values in the orders DataFrame.\")\n",
    "\n",
    "# Count missing values in each column of the orders DataFrame\n",
    "missing_values_count = instacart_orders_df.isnull().sum()\n",
    "\n",
    "print(\"Count of missing values in each column:\")\n",
    "display(missing_values_count)"
   ]
  },
  {
   "cell_type": "code",
   "execution_count": 30,
   "id": "166e5a86",
   "metadata": {},
   "outputs": [
    {
     "name": "stdout",
     "output_type": "stream",
     "text": [
      "There are no missing values in 'days_since_prior_order' where it's not a customer's first order.\n"
     ]
    }
   ],
   "source": [
    "# Are there any missing values where it's not a customer's first order?\n",
    "\n",
    "# Filter rows where 'order_number' is greater than 1 and check for missing values in 'days_since_prior_order'\n",
    "missing_values_not_first_order = instacart_orders_df[instacart_orders_df['order_number'] > 1]['days_since_prior_order'].isnull().sum()\n",
    "\n",
    "if missing_values_not_first_order > 0:\n",
    "    print(\"There are missing values in 'days_since_prior_order' where it's not a customer's first order.\")\n",
    "else:\n",
    "    print(\"There are no missing values in 'days_since_prior_order' where it's not a customer's first order.\")"
   ]
  },
  {
   "cell_type": "markdown",
   "id": "69dc9ca4",
   "metadata": {},
   "source": [
    "### `order_products` data frame"
   ]
  },
  {
   "cell_type": "code",
   "execution_count": 31,
   "id": "b8240253",
   "metadata": {},
   "outputs": [
    {
     "name": "stdout",
     "output_type": "stream",
     "text": [
      "   order_id  product_id  add_to_cart_order  reordered\n",
      "0   2141543       11440               17.0          0\n",
      "1    567889        1560                1.0          1\n",
      "2   2261212       26683                1.0          1\n",
      "3    491251        8670               35.0          1\n",
      "4   2571142        1940                5.0          1\n"
     ]
    }
   ],
   "source": [
    "print(order_products_df.head())"
   ]
  },
  {
   "cell_type": "code",
   "execution_count": 32,
   "id": "22dd510f",
   "metadata": {},
   "outputs": [
    {
     "name": "stdout",
     "output_type": "stream",
     "text": [
      "There are missing values in the order_products DataFrame.\n",
      "Count of missing values in each column of order_products DataFrame:\n",
      "order_id               0\n",
      "product_id             0\n",
      "add_to_cart_order    836\n",
      "reordered              0\n",
      "dtype: int64\n"
     ]
    }
   ],
   "source": [
    "# Checking for missing values in order_products DataFrame\n",
    "missing_values_order_products = order_products_df.isnull().any().any()\n",
    "\n",
    "if missing_values_order_products:\n",
    "    print(\"There are missing values in the order_products DataFrame.\")\n",
    "else:\n",
    "    print(\"There are no missing values in the order_products DataFrame.\")\n",
    "\n",
    "# Count missing values in each column of the order_products DataFrame\n",
    "missing_values_count_order_products = order_products_df.isnull().sum()\n",
    "\n",
    "print(\"Count of missing values in each column of order_products DataFrame:\")\n",
    "print(missing_values_count_order_products)"
   ]
  },
  {
   "cell_type": "code",
   "execution_count": 33,
   "id": "9a78e5ee",
   "metadata": {},
   "outputs": [
    {
     "name": "stdout",
     "output_type": "stream",
     "text": [
      "Minimum value in 'add_to_cart_order' column: 1.0\n",
      "Maximum value in 'add_to_cart_order' column: 64.0\n"
     ]
    }
   ],
   "source": [
    "# What are the min and max values in this column?\n",
    "\n",
    "# Find the minimum and maximum values in the 'add_to_cart_order' column\n",
    "min_add_to_cart_order = order_products_df['add_to_cart_order'].min()\n",
    "max_add_to_cart_order = order_products_df['add_to_cart_order'].max()\n",
    "\n",
    "print(\"Minimum value in 'add_to_cart_order' column:\", min_add_to_cart_order)\n",
    "print(\"Maximum value in 'add_to_cart_order' column:\", max_add_to_cart_order)"
   ]
  },
  {
   "cell_type": "code",
   "execution_count": 34,
   "id": "ab9d0c2b",
   "metadata": {},
   "outputs": [
    {
     "name": "stdout",
     "output_type": "stream",
     "text": [
      "Order IDs with at least one missing value in 'add_to_cart_order' column:\n",
      "[2449164 1968313 2926893 1717990 1959075  844733   61355  936852  264710\n",
      " 1564093  129627  293169 2849370 1386261 3308010  903110 2136777 3347453\n",
      " 1888628  165801 2094761 1038146 2997021  813364 2256933  171934 2409109\n",
      " 1730767 1169835  733526  404157 3125735  747668 1800005 1961723  871281\n",
      "  388234 1648217 1477139  102236 1021563 1832957 2721963  678116 1220886\n",
      " 1673227 2999801 1633337 2470674 2625444 1677118 2479011 3383594 1183255\n",
      " 1713430 2652650 1598369 1916118  854647 1302315  888470  180546 2621907\n",
      " 1308785 2729254    9310 2170451 2979697 1625713 1529171]\n"
     ]
    }
   ],
   "source": [
    "# Save all order IDs with at least one missing value in 'add_to_cart_order'\n",
    "\n",
    "# Filter rows with missing values in 'add_to_cart_order' column and get unique order IDs\n",
    "orders_with_missing_add_to_cart_order = order_products_df[order_products_df['add_to_cart_order'].isnull()]['order_id'].unique()\n",
    "\n",
    "# Print the order IDs with at least one missing value in 'add_to_cart_order' column\n",
    "print(\"Order IDs with at least one missing value in 'add_to_cart_order' column:\")\n",
    "print(orders_with_missing_add_to_cart_order)"
   ]
  },
  {
   "cell_type": "code",
   "execution_count": 35,
   "id": "d8b372be",
   "metadata": {},
   "outputs": [
    {
     "name": "stdout",
     "output_type": "stream",
     "text": [
      "All orders with missing values in 'add_to_cart_order' have more than 64 products.\n"
     ]
    }
   ],
   "source": [
    "# Grouping by 'order_id' and count the number of products in each order\n",
    "order_product_counts = order_products_df.groupby('order_id')['product_id'].count()\n",
    "\n",
    "# Checking if all orders with missing values have more than 64 products\n",
    "all_orders_more_than_64_products = (order_product_counts.loc[orders_with_missing_add_to_cart_order] > 64).all()\n",
    "\n",
    "if all_orders_more_than_64_products:\n",
    "    print(\"All orders with missing values in 'add_to_cart_order' have more than 64 products.\")\n",
    "else:\n",
    "    print(\"Not all orders with missing values in 'add_to_cart_order' have more than 64 products.\")"
   ]
  },
  {
   "cell_type": "code",
   "execution_count": 36,
   "id": "7a987d08",
   "metadata": {},
   "outputs": [
    {
     "name": "stdout",
     "output_type": "stream",
     "text": [
      "Data types after conversion:\n",
      " order_id             int64\n",
      "product_id           int64\n",
      "add_to_cart_order    int64\n",
      "reordered            int64\n",
      "dtype: object\n"
     ]
    }
   ],
   "source": [
    "# Replace missing values with 999 and convert column to integer type\n",
    "\n",
    "# Replacing missing values with 999 in 'add_to_cart_order' column\n",
    "order_products_df['add_to_cart_order'] = order_products_df['add_to_cart_order'].fillna(999).astype(int)\n",
    "\n",
    "# Verifying the changes\n",
    "print(\"Data types after conversion:\\n\", order_products_df.dtypes)"
   ]
  },
  {
   "cell_type": "markdown",
   "id": "dcf65024",
   "metadata": {},
   "source": [
    "In this section, we addressed missing values in the 'add_to_cart_order' column by replacing them with 999 and converting the column to the integer data type. By doing so, we ensured data integrity and prepared the DataFrame for further analysis."
   ]
  },
  {
   "cell_type": "markdown",
   "id": "turkish-kidney",
   "metadata": {},
   "source": [
    "# [A] Easy (must complete all to pass)"
   ]
  },
  {
   "cell_type": "markdown",
   "id": "short-capability",
   "metadata": {},
   "source": [
    "### [A1] Verify that the `'order_hour_of_day'` and `'order_dow'` values in the `orders` tables are sensible (i.e. `'order_hour_of_day'` ranges from 0 to 23 and `'order_dow'` ranges from 0 to 6)"
   ]
  },
  {
   "cell_type": "code",
   "execution_count": 37,
   "id": "growing-fruit",
   "metadata": {},
   "outputs": [
    {
     "name": "stdout",
     "output_type": "stream",
     "text": [
      "All 'order_hour_of_day' and 'order_dow' values are sensible.\n"
     ]
    }
   ],
   "source": [
    "# Check for any outliers or invalid values in 'order_hour_of_day'\n",
    "invalid_hour_values = instacart_orders_df[\n",
    "    (instacart_orders_df['order_hour_of_day'] < 0) | \n",
    "    (instacart_orders_df['order_hour_of_day'] > 23)\n",
    "]\n",
    "\n",
    "# Check for any outliers or invalid values in 'order_dow'\n",
    "invalid_dow_values = instacart_orders_df[\n",
    "    (instacart_orders_df['order_dow'] < 0) | \n",
    "    (instacart_orders_df['order_dow'] > 6)\n",
    "]\n",
    "\n",
    "if invalid_hour_values.empty and invalid_dow_values.empty:\n",
    "    print(\"All 'order_hour_of_day' and 'order_dow' values are sensible.\")\n",
    "else:\n",
    "    print(\"There are outliers or invalid values in 'order_hour_of_day' or 'order_dow'.\")"
   ]
  },
  {
   "cell_type": "markdown",
   "id": "bdad8322",
   "metadata": {},
   "source": [
    "## Conclusion\n",
    "\n",
    "All 'order_hour_of_day' and 'order_dow' values in the orders table are sensible. The 'order_hour_of_day' values range from 0 to 23, representing the hours of the day when orders were placed. Similarly, the 'order_dow' values range from 0 to 6, representing the days of the week (0 being Sunday and 6 being Saturday) when orders were placed. These ranges align with expected values and indicate that the data is consistent and suitable for further analysis."
   ]
  },
  {
   "cell_type": "markdown",
   "id": "a6743a70",
   "metadata": {},
   "source": [
    "### [A2] What time of day do people shop for groceries?"
   ]
  },
  {
   "cell_type": "code",
   "execution_count": 38,
   "id": "a36cca27",
   "metadata": {},
   "outputs": [
    {
     "data": {
      "image/png": "[encoded data removed]",
      "text/plain": [
       "<Figure size 720x432 with 1 Axes>"
      ]
     },
     "metadata": {
      "needs_background": "light"
     },
     "output_type": "display_data"
    }
   ],
   "source": [
    "from matplotlib import pyplot as plt\n",
    "\n",
    "hourly_order_counts = instacart_orders_df['order_hour_of_day'].value_counts().sort_index()\n",
    "\n",
    "hourly_order_counts.plot(x='order_hour_of_day', y='hourly_order_counts', title='Frequency of Orders by Hour of Day', kind='bar',xlabel='Hour of Day', ylabel='Number of Orders', legend=False, xlim=[0,24], figsize=[10,6], alpha=0.7)\n",
    "plt.xticks(rotation=0)\n",
    "plt.show()"
   ]
  },
  {
   "cell_type": "markdown",
   "id": "26ae7ef7",
   "metadata": {},
   "source": [
    "Conclusion:\n",
    "\n",
    "The histogram illustrates the frequency of orders by hour of the day, providing insights into when people shop for groceries. From the visualization, it is evident that there are fluctuations in order frequency throughout the day, with peak shopping times typically occurring during the late morning to early afternoon hours. This observation aligns with common shopping patterns, as many individuals may prefer to purchase groceries during daytime hours. The histogram's clear labels and title enhance its interpretability, facilitating a better understanding of the distribution of orders across different times of the day. Overall, the analysis suggests that the majority of grocery shopping occurs during daytime hours, with notable variations in activity levels across the day."
   ]
  },
  {
   "cell_type": "markdown",
   "id": "documented-command",
   "metadata": {},
   "source": [
    "### [A3] What day of the week do people shop for groceries?"
   ]
  },
  {
   "cell_type": "code",
   "execution_count": 39,
   "id": "chief-digit",
   "metadata": {},
   "outputs": [
    {
     "data": {
      "image/png": "[encoded data removed]",
      "text/plain": [
       "<Figure size 720x432 with 1 Axes>"
      ]
     },
     "metadata": {
      "needs_background": "light"
     },
     "output_type": "display_data"
    }
   ],
   "source": [
    "import matplotlib.pyplot as plt\n",
    "\n",
    "daily_order_counts = instacart_orders_df['order_dow'].value_counts().sort_index()\n",
    "\n",
    "daily_order_counts.plot(x='order_dow', y='daily_order_counts', title='Frequency of Orders by Day of Week', kind='bar',xlabel='Day of Week (0=Sunday, 1=Monday, ..., 6=Saturday)', ylabel='No of Orders', legend=False, figsize=[10,6], alpha=0.7)\n",
    "plt.xticks(range(7), ['Sun', 'Mon', 'Tue', 'Wed', 'Thu', 'Fri', 'Sat'])\n",
    "plt.xticks(rotation=0)\n",
    "plt.show()"
   ]
  },
  {
   "cell_type": "markdown",
   "id": "bf935fe9",
   "metadata": {},
   "source": [
    "Conclusion:\n",
    "\n",
    "The histogram reveals interesting patterns in the frequency of grocery shopping by day of the week. Remarkably, the analysis shows that the highest frequency of orders occurs on Sunday and Monday, indicating significant shopping activity at the beginning and end of the traditional week. Conversely, the order frequencies on the remaining days of the week appear relatively uniform, suggesting consistent but less pronounced shopping behavior. This observation aligns with common shopping trends, where consumers may engage in more extensive grocery shopping over the weekend to prepare for the upcoming week. The histogram's clear labels, including rotated x-axis tick labels for improved readability, enhance its interpretability, facilitating a nuanced understanding of shopping behavior across different days of the week. Overall, the analysis provides valuable insights into the distribution of grocery shopping activity throughout the week, underscoring the significance of Sunday and Monday as peak shopping days."
   ]
  },
  {
   "cell_type": "markdown",
   "id": "cutting-concert",
   "metadata": {},
   "source": [
    "### [A4] How long do people wait until placing another order?"
   ]
  },
  {
   "cell_type": "code",
   "execution_count": 40,
   "id": "c231f523",
   "metadata": {},
   "outputs": [
    {
     "data": {
      "image/png": "[encoded data removed]",
      "text/plain": [
       "<Figure size 720x432 with 1 Axes>"
      ]
     },
     "metadata": {
      "needs_background": "light"
     },
     "output_type": "display_data"
    }
   ],
   "source": [
    "# Filter out the first orders (where days_since_prior_order is null)\n",
    "subsequent_orders = instacart_orders_df[instacart_orders_df['days_since_prior_order'].notnull()]\n",
    "\n",
    "# Plot histogram\n",
    "plt.figure(figsize=(10, 6))\n",
    "plt.hist(subsequent_orders['days_since_prior_order'], bins=30, color='skyblue', edgecolor='black')\n",
    "plt.title('Days Since Prior Order')\n",
    "plt.xlabel('Days Since Prior Order')\n",
    "plt.ylabel('No of Orders')\n",
    "plt.grid(alpha=0.7)\n",
    "plt.show()"
   ]
  },
  {
   "cell_type": "markdown",
   "id": "discrete-vertex",
   "metadata": {},
   "source": []
  },
  {
   "cell_type": "markdown",
   "id": "0d0a19e0",
   "metadata": {},
   "source": [
    "Conclusion:\n",
    "\n",
    "The histogram reveals interesting patterns in the frequency of days elapsed since the previous order. Notably, the analysis indicates that the highest frequency of orders occurs on the 30th day since the prior order, suggesting a significant proportion of customers placing orders monthly. Additionally, there is a notable peak in order frequency observed within the 3rd to 9th day range, possibly indicating a weekly shopping pattern for some customers. However, order frequencies decline considerably after the 15th day, with relatively few orders observed beyond this point. This observation suggests that a significant portion of customers may prefer to shop more frequently, with longer intervals between orders being less common. Overall, the histogram provides valuable insights into the distribution of days elapsed between orders, highlighting distinct patterns in customer shopping behavior."
   ]
  },
  {
   "cell_type": "markdown",
   "id": "tight-staff",
   "metadata": {},
   "source": [
    "# [B] Medium (must complete all to pass)"
   ]
  },
  {
   "cell_type": "markdown",
   "id": "packed-classic",
   "metadata": {},
   "source": [
    "### [B1] Is there a difference in `'order_hour_of_day'` distributions on Wednesdays and Saturdays? Plot the histograms for both days and describe the differences that you see."
   ]
  },
  {
   "cell_type": "code",
   "execution_count": 41,
   "id": "d89b8403",
   "metadata": {},
   "outputs": [],
   "source": [
    "# Filtering orders for Wednesdays and Saturdays\n",
    "wednesday_orders = instacart_orders_df[instacart_orders_df['order_dow'] == 3]  # Wednesday is represented by 3\n",
    "saturday_orders = instacart_orders_df[instacart_orders_df['order_dow'] == 5]   # Saturday is represented by 5"
   ]
  },
  {
   "cell_type": "code",
   "execution_count": 42,
   "id": "94e54e8a",
   "metadata": {},
   "outputs": [
    {
     "data": {
      "image/png": "[encoded data removed]",
      "text/plain": [
       "<Figure size 864x432 with 2 Axes>"
      ]
     },
     "metadata": {
      "needs_background": "light"
     },
     "output_type": "display_data"
    }
   ],
   "source": [
    "# Plot histograms for 'order_hour_of_day' on Wednesdays and Saturdays\n",
    "plt.figure(figsize=(12, 6))\n",
    "\n",
    "plt.subplot(1, 2, 1)\n",
    "plt.hist(wednesday_orders['order_hour_of_day'], bins=24, color='skyblue', edgecolor='black')\n",
    "plt.title('Wednesday Order Hour Distribution')\n",
    "plt.xlabel('Hour of Day')\n",
    "plt.ylabel('No of Orders')\n",
    "plt.xticks(range(24))\n",
    "\n",
    "plt.subplot(1, 2, 2)\n",
    "plt.hist(saturday_orders['order_hour_of_day'], bins=24, color='orange', edgecolor='black')\n",
    "plt.title('Saturday Order Hour Distribution')\n",
    "plt.xlabel('Hour of Day')\n",
    "plt.ylabel('No of Orders')\n",
    "plt.xticks(range(24))\n",
    "\n",
    "plt.tight_layout()\n",
    "plt.show()"
   ]
  },
  {
   "cell_type": "markdown",
   "id": "e9aaa781",
   "metadata": {},
   "source": [
    "Conclusion:\n",
    "\n",
    "The histograms comparing the distributions of order placements by hour on Wednesdays and Saturdays reveal relatively uniform patterns with peaks between 9 am and 5 pm on both days. This indicates that customers tend to place orders consistently throughout the day, with heightened activity during typical daytime hours. The absence of significant deviations in the distributions suggests that shopping behavior on Wednesdays and Saturdays follows similar patterns, characterized by steady order placements across various hours. Overall, the analysis provides valuable insights into the temporal distribution of order placements on these specific days, highlighting the importance of daytime hours in grocery shopping activity."
   ]
  },
  {
   "cell_type": "markdown",
   "id": "e3891143",
   "metadata": {},
   "source": [
    "### [B2] What's the distribution for the number of orders per customer?"
   ]
  },
  {
   "cell_type": "code",
   "execution_count": 43,
   "id": "d8c26c23",
   "metadata": {},
   "outputs": [],
   "source": [
    "# Group orders by 'user_id' and count the number of orders for each user\n",
    "orders_per_user = instacart_orders_df.groupby('user_id')['order_id'].count()"
   ]
  },
  {
   "cell_type": "code",
   "execution_count": 44,
   "id": "00e69a66",
   "metadata": {},
   "outputs": [
    {
     "data": {
      "image/png": "[encoded data removed]",
      "text/plain": [
       "<Figure size 720x432 with 1 Axes>"
      ]
     },
     "metadata": {
      "needs_background": "light"
     },
     "output_type": "display_data"
    }
   ],
   "source": [
    "# Plot histogram of orders per customer\n",
    "plt.figure(figsize=(10, 6))\n",
    "plt.hist(orders_per_user, bins=50, color='skyblue', edgecolor='black')\n",
    "plt.title('Distribution of Orders Per Customer')\n",
    "plt.xlabel('Number of Orders')\n",
    "plt.ylabel('No of Orders')\n",
    "plt.grid(axis='y', linestyle='--', alpha=0.7)\n",
    "plt.show()"
   ]
  },
  {
   "cell_type": "markdown",
   "id": "d2eff7d5",
   "metadata": {},
   "source": []
  },
  {
   "cell_type": "markdown",
   "id": "0466a99e",
   "metadata": {},
   "source": [
    "Conclusion:\n",
    "\n",
    "The histogram illustrates a skewed distribution of the number of orders per customer, with a significant proportion of customers having only one order. This suggests that a large number of customers may be occasional shoppers or may have made only a single purchase on the platform. Subsequently, the frequency of customers decreases gradually as the number of orders per customer increases, indicating that fewer customers place multiple orders. By the middle of the month, the frequency of customers with higher numbers of orders diminishes substantially, implying a decline in customer engagement or retention over time. Overall, the analysis provides insights into the distribution of customer order behavior, highlighting the prevalence of occasional shoppers and the challenges associated with retaining customers for multiple transactions."
   ]
  },
  {
   "cell_type": "markdown",
   "id": "54a0319c",
   "metadata": {},
   "source": [
    "### [B3] What are the top 20 popular products (display their id and name)?"
   ]
  },
  {
   "cell_type": "code",
   "execution_count": 45,
   "id": "25d4685e",
   "metadata": {},
   "outputs": [
    {
     "name": "stdout",
     "output_type": "stream",
     "text": [
      "Top 20 Popular Products:\n",
      "Banana                      66050\n",
      "Bag of Organic Bananas      53297\n",
      "Organic Strawberries        37039\n",
      "Organic Baby Spinach        33971\n",
      "Organic Hass Avocado        29773\n",
      "Organic Avocado             24689\n",
      "Large Lemon                 21495\n",
      "Strawberries                20018\n",
      "Limes                       19690\n",
      "Organic Whole Milk          19600\n",
      "Organic Raspberries         19197\n",
      "Organic Yellow Onion        15898\n",
      "Organic Garlic              15292\n",
      "Organic Zucchini            14584\n",
      "Organic Blueberries         13879\n",
      "Cucumber Kirby              13675\n",
      "Organic Fuji Apple          12544\n",
      "Organic Lemon               12232\n",
      "Apple Honeycrisp Organic    11993\n",
      "Organic Grape Tomatoes      11781\n",
      "Name: product_name, dtype: int64\n"
     ]
    }
   ],
   "source": [
    "# Merge order_products_df with products_df to get product names\n",
    "merged_df = order_products_df.merge(products_df[['product_id', 'product_name']], on='product_id')\n",
    "\n",
    "# Count the occurrences of each product\n",
    "product_counts = merged_df['product_name'].value_counts().head(20)\n",
    "\n",
    "# Print the top 20 popular products with their IDs and names\n",
    "print(\"Top 20 Popular Products:\")\n",
    "print(product_counts)"
   ]
  },
  {
   "cell_type": "markdown",
   "id": "b09eb78a",
   "metadata": {},
   "source": [
    "Conclusion:\n",
    "\n",
    "The analysis reveals the top 20 popular products based on their frequency in orders. Among these products, fresh fruits such as bananas, organic bananas, strawberries, and avocados dominate the list, reflecting a strong preference for healthy and organic options among customers. Additionally, staple items like organic whole milk and organic garlic also feature prominently, indicating a balance between fresh produce and pantry essentials in customers' shopping baskets. Notably, the high frequencies of certain products like bananas and organic strawberries underscore their widespread popularity and consistent demand among consumers. Overall, the top 20 popular products represent a diverse range of food items, reflecting the varied preferences and dietary choices of Instacart users."
   ]
  },
  {
   "cell_type": "markdown",
   "id": "gross-theme",
   "metadata": {},
   "source": [
    "# [C] Hard (must complete at least two to pass)"
   ]
  },
  {
   "cell_type": "markdown",
   "id": "romantic-deposit",
   "metadata": {},
   "source": [
    "### [C1] How many items do people typically buy in one order? What does the distribution look like?"
   ]
  },
  {
   "cell_type": "code",
   "execution_count": 46,
   "id": "virtual-punch",
   "metadata": {},
   "outputs": [
    {
     "name": "stdout",
     "output_type": "stream",
     "text": [
      "Mean number of items per order: 10.098983215049127\n",
      "Median number of items per order: 8.0\n"
     ]
    }
   ],
   "source": [
    "import matplotlib.pyplot as plt\n",
    "\n",
    "# Group order_products_df by 'order_id' and count the number of products per order\n",
    "items_per_order = order_products_df.groupby('order_id')['product_id'].count()\n",
    "\n",
    "# Calculate mean and median number of items per order\n",
    "mean_items_per_order = items_per_order.mean()\n",
    "median_items_per_order = items_per_order.median()\n",
    "print(\"Mean number of items per order:\", mean_items_per_order)\n",
    "print(\"Median number of items per order:\", median_items_per_order)"
   ]
  },
  {
   "cell_type": "code",
   "execution_count": 47,
   "id": "completed-frank",
   "metadata": {},
   "outputs": [
    {
     "data": {
      "image/png": "[encoded data removed]",
      "text/plain": [
       "<Figure size 720x432 with 1 Axes>"
      ]
     },
     "metadata": {
      "needs_background": "light"
     },
     "output_type": "display_data"
    }
   ],
   "source": [
    "\n",
    "# Plot histogram of items per order with 30 bins\n",
    "plt.figure(figsize=(10, 6))\n",
    "plt.hist(items_per_order, bins=30, color='skyblue', edgecolor='black')\n",
    "plt.title('Distribution of Items Per Order')\n",
    "plt.xlabel('Number of Items')\n",
    "plt.ylabel('No of Orders')\n",
    "plt.grid(axis='y', linestyle='--', alpha=0.7)\n",
    "plt.show()"
   ]
  },
  {
   "cell_type": "markdown",
   "id": "979ed285",
   "metadata": {},
   "source": [
    "Conclusion:\n",
    "\n",
    "The distribution of items per order exhibits a right-skewed pattern, with the majority of orders containing a relatively small number of items. The histogram demonstrates that the highest frequency of orders occurs with only one item, followed by gradually decreasing frequencies as the number of items per order increases. This trend reflects typical shopping behavior, where customers often make smaller purchases more frequently, interspersed with occasional larger orders. Understanding this distribution is essential for effective inventory management and order fulfillment strategies to accommodate the varying preferences and needs of customers."
   ]
  },
  {
   "cell_type": "markdown",
   "id": "5e6b5537",
   "metadata": {},
   "source": [
    "### [C2] What are the top 20 items that are reordered most frequently (display their names and product IDs)?"
   ]
  },
  {
   "cell_type": "code",
   "execution_count": 48,
   "id": "possible-change",
   "metadata": {},
   "outputs": [
    {
     "name": "stdout",
     "output_type": "stream",
     "text": [
      "Top 20 items that are reordered most frequently:\n",
      "     product_id              product_name\n",
      "0        24852                    Banana\n",
      "1        13176    Bag of Organic Bananas\n",
      "2        21137      Organic Strawberries\n",
      "3        21903      Organic Baby Spinach\n",
      "4        47209      Organic Hass Avocado\n",
      "5        47766           Organic Avocado\n",
      "6        27845        Organic Whole Milk\n",
      "7        47626               Large Lemon\n",
      "8        27966       Organic Raspberries\n",
      "9        16797              Strawberries\n",
      "10       26209                     Limes\n",
      "11       22935      Organic Yellow Onion\n",
      "12       24964            Organic Garlic\n",
      "13       45007          Organic Zucchini\n",
      "14       49683            Cucumber Kirby\n",
      "15       28204        Organic Fuji Apple\n",
      "16        8277  Apple Honeycrisp Organic\n",
      "17       39275       Organic Blueberries\n",
      "18        5876             Organic Lemon\n",
      "19       49235       Organic Half & Half\n"
     ]
    }
   ],
   "source": [
    "# Calculate the total number of times each product has been reordered\n",
    "reorder_counts = order_products_df[order_products_df['reordered'] == 1]['product_id'].value_counts().head(20)\n",
    "\n",
    "# Join with products DataFrame to get product names\n",
    "top_reorder_products_with_names = pd.DataFrame({'product_id': reorder_counts.index}).merge(products_df[['product_id', 'product_name']], on='product_id')\n",
    "\n",
    "# Display the top 20 items that are reordered most frequently with their names and product IDs\n",
    "print(\"Top 20 items that are reordered most frequently:\\n\", top_reorder_products_with_names)"
   ]
  },
  {
   "cell_type": "markdown",
   "id": "04883527",
   "metadata": {
    "scrolled": true
   },
   "source": [
    "Conclusion\n",
    "\n",
    "\n",
    "The top 20 items that are reordered most frequently on the Instacart platform include a variety of fresh produce, dairy products, and staple groceries. This analysis highlights customer preferences for organic fruits and vegetables, as well as the importance of convenience items such as bananas and milk. By understanding these popular items, Instacart can optimize its product offerings and enhance customer satisfaction."
   ]
  },
  {
   "cell_type": "markdown",
   "id": "9d312b14",
   "metadata": {},
   "source": [
    "### [C3] For each product, what proportion of its orders are reorders?"
   ]
  },
  {
   "cell_type": "code",
   "execution_count": 49,
   "id": "76a643f5",
   "metadata": {},
   "outputs": [
    {
     "data": {
      "text/plain": [
       "'Proportion of reordered orders for each product'"
      ]
     },
     "metadata": {},
     "output_type": "display_data"
    },
    {
     "data": {
      "text/html": [
       "<div>\n",
       "<style scoped>\n",
       "    .dataframe tbody tr th:only-of-type {\n",
       "        vertical-align: middle;\n",
       "    }\n",
       "\n",
       "    .dataframe tbody tr th {\n",
       "        vertical-align: top;\n",
       "    }\n",
       "\n",
       "    .dataframe thead th {\n",
       "        text-align: right;\n",
       "    }\n",
       "</style>\n",
       "<table border=\"1\" class=\"dataframe\">\n",
       "  <thead>\n",
       "    <tr style=\"text-align: right;\">\n",
       "      <th></th>\n",
       "      <th>product_id</th>\n",
       "      <th>proportion</th>\n",
       "      <th>product_name</th>\n",
       "    </tr>\n",
       "  </thead>\n",
       "  <tbody>\n",
       "    <tr>\n",
       "      <th>0</th>\n",
       "      <td>1</td>\n",
       "      <td>0.564286</td>\n",
       "      <td>Chocolate Sandwich Cookies</td>\n",
       "    </tr>\n",
       "    <tr>\n",
       "      <th>1</th>\n",
       "      <td>2</td>\n",
       "      <td>0.000000</td>\n",
       "      <td>All-Seasons Salt</td>\n",
       "    </tr>\n",
       "    <tr>\n",
       "      <th>2</th>\n",
       "      <td>3</td>\n",
       "      <td>0.738095</td>\n",
       "      <td>Robust Golden Unsweetened Oolong Tea</td>\n",
       "    </tr>\n",
       "    <tr>\n",
       "      <th>3</th>\n",
       "      <td>4</td>\n",
       "      <td>0.510204</td>\n",
       "      <td>Smart Ones Classic Favorites Mini Rigatoni Wit...</td>\n",
       "    </tr>\n",
       "    <tr>\n",
       "      <th>4</th>\n",
       "      <td>7</td>\n",
       "      <td>0.500000</td>\n",
       "      <td>Pure Coconut Water With Orange</td>\n",
       "    </tr>\n",
       "    <tr>\n",
       "      <th>...</th>\n",
       "      <td>...</td>\n",
       "      <td>...</td>\n",
       "      <td>...</td>\n",
       "    </tr>\n",
       "    <tr>\n",
       "      <th>45568</th>\n",
       "      <td>49690</td>\n",
       "      <td>0.800000</td>\n",
       "      <td>HIGH PERFORMANCE ENERGY DRINK</td>\n",
       "    </tr>\n",
       "    <tr>\n",
       "      <th>45569</th>\n",
       "      <td>49691</td>\n",
       "      <td>0.430556</td>\n",
       "      <td>ORIGINAL PANCAKE &amp; WAFFLE MIX</td>\n",
       "    </tr>\n",
       "    <tr>\n",
       "      <th>45570</th>\n",
       "      <td>49692</td>\n",
       "      <td>0.416667</td>\n",
       "      <td>ORGANIC INSTANT OATMEAL LIGHT MAPLE BROWN SUGAR</td>\n",
       "    </tr>\n",
       "    <tr>\n",
       "      <th>45571</th>\n",
       "      <td>49693</td>\n",
       "      <td>0.440000</td>\n",
       "      <td>SPRING WATER BODY WASH</td>\n",
       "    </tr>\n",
       "    <tr>\n",
       "      <th>45572</th>\n",
       "      <td>49694</td>\n",
       "      <td>0.333333</td>\n",
       "      <td>BURRITO- STEAK &amp; CHEESE</td>\n",
       "    </tr>\n",
       "  </tbody>\n",
       "</table>\n",
       "<p>45573 rows × 3 columns</p>\n",
       "</div>"
      ],
      "text/plain": [
       "       product_id  proportion  \\\n",
       "0               1    0.564286   \n",
       "1               2    0.000000   \n",
       "2               3    0.738095   \n",
       "3               4    0.510204   \n",
       "4               7    0.500000   \n",
       "...           ...         ...   \n",
       "45568       49690    0.800000   \n",
       "45569       49691    0.430556   \n",
       "45570       49692    0.416667   \n",
       "45571       49693    0.440000   \n",
       "45572       49694    0.333333   \n",
       "\n",
       "                                            product_name  \n",
       "0                             Chocolate Sandwich Cookies  \n",
       "1                                       All-Seasons Salt  \n",
       "2                   Robust Golden Unsweetened Oolong Tea  \n",
       "3      Smart Ones Classic Favorites Mini Rigatoni Wit...  \n",
       "4                         Pure Coconut Water With Orange  \n",
       "...                                                  ...  \n",
       "45568                      HIGH PERFORMANCE ENERGY DRINK  \n",
       "45569                      ORIGINAL PANCAKE & WAFFLE MIX  \n",
       "45570    ORGANIC INSTANT OATMEAL LIGHT MAPLE BROWN SUGAR  \n",
       "45571                             SPRING WATER BODY WASH  \n",
       "45572                            BURRITO- STEAK & CHEESE  \n",
       "\n",
       "[45573 rows x 3 columns]"
      ]
     },
     "metadata": {},
     "output_type": "display_data"
    }
   ],
   "source": [
    "# Calculate the number of reordered orders for each product\n",
    "reordered_orders_per_product = order_products_df.groupby('product_id')['reordered'].sum()\n",
    "\n",
    "# Calculate the total number of orders for each product\n",
    "total_orders_per_product = order_products_df.groupby('product_id').size()\n",
    "\n",
    "# Calculate the proportion of reordered orders for each product\n",
    "reorder_proportion_per_product = (reordered_orders_per_product / total_orders_per_product).reset_index()\n",
    "\n",
    "# Merge with products dataframe to get product names\n",
    "reorder_proportion_with_names = pd.merge(reorder_proportion_per_product, products_df[['product_id', 'product_name']], on='product_id')\n",
    "\n",
    "# Rename the column at index 1 to 'Proportion'\n",
    "reorder_proportion_with_names = reorder_proportion_with_names.rename(columns={reorder_proportion_with_names.columns[1]: 'proportion'})\n",
    "\n",
    "# Display the updated DataFrame\n",
    "display('Proportion of reordered orders for each product', reorder_proportion_with_names)"
   ]
  },
  {
   "cell_type": "markdown",
   "id": "2a36adbc",
   "metadata": {},
   "source": [
    "CONCLUSION:\n",
    "\n",
    "From the output showing the proportion of reordered orders for each product, we can observe the following:\n",
    "\n",
    "The product_id column represents the unique identifier for each product.\n",
    "The order_id column represents the proportion of reordered orders for each product. However, there seems to be some missing values in this column.\n",
    "The product_name column contains the names of the products.\n",
    "Conclusion:\n",
    "\n",
    "The proportion of reordered orders varies across different products.\n",
    "Some products have a high proportion of reordered orders, indicating that they are frequently repurchased by customers.\n",
    "Other products have a lower proportion of reordered orders, suggesting that they may be purchased less frequently or may not be as popular among customers.\n",
    "Further analysis can be conducted to understand the factors influencing the reordering behavior of customers and to identify strategies for improving product retention and customer satisfaction."
   ]
  },
  {
   "cell_type": "markdown",
   "id": "subject-boxing",
   "metadata": {},
   "source": [
    "### [C4] For each customer, what proportion of their products ordered are reorders?"
   ]
  },
  {
   "cell_type": "code",
   "execution_count": 50,
   "id": "06fddf96",
   "metadata": {},
   "outputs": [
    {
     "name": "stdout",
     "output_type": "stream",
     "text": [
      "user_id\n",
      "2         0.038462\n",
      "4         0.000000\n",
      "5         0.666667\n",
      "6         0.000000\n",
      "7         0.944444\n",
      "            ...   \n",
      "206203    0.222222\n",
      "206206    0.690476\n",
      "206207    0.815000\n",
      "206208    0.731443\n",
      "206209    0.347222\n",
      "Name: reorder_proportion, Length: 149626, dtype: float64\n"
     ]
    }
   ],
   "source": [
    "# Step 1: Calculate total products and sum of reordered products per order\n",
    "order_products_summary = order_products_df.groupby('order_id').agg(total_products=('product_id', 'count'),\n",
    "                                                                  total_reordered=('reordered', 'sum'))\n",
    "\n",
    "# Step 2: Merge with instacart_orders to associate orders with users\n",
    "order_user_merged = order_products_summary.merge(instacart_orders_df[['order_id', 'user_id']], on='order_id')\n",
    "\n",
    "# Step 3: Calculate proportion of reordered products for each order\n",
    "order_user_merged['reorder_proportion'] = order_user_merged['total_reordered'] / order_user_merged['total_products']\n",
    "\n",
    "# Step 4: Calculate average proportion of reordered products for each customer\n",
    "customer_reorder_proportion = order_user_merged.groupby('user_id')['reorder_proportion'].mean()\n",
    "\n",
    "# Display the result\n",
    "print(customer_reorder_proportion)"
   ]
  },
  {
   "cell_type": "code",
   "execution_count": 51,
   "id": "21b62ff7",
   "metadata": {},
   "outputs": [
    {
     "data": {
      "text/plain": [
       "user_id\n",
       "2         0.038462\n",
       "4         0.000000\n",
       "5         0.666667\n",
       "6         0.000000\n",
       "7         0.928571\n",
       "            ...   \n",
       "206203    0.222222\n",
       "206206    0.714286\n",
       "206207    0.891304\n",
       "206208    0.696000\n",
       "206209    0.320000\n",
       "Name: reordered, Length: 149626, dtype: float64"
      ]
     },
     "execution_count": 51,
     "metadata": {},
     "output_type": "execute_result"
    }
   ],
   "source": [
    "# Reviewer's code 2\n",
    "\n",
    "order_products_df.merge(instacart_orders_df).groupby('user_id')['reordered'].mean()"
   ]
  },
  {
   "cell_type": "markdown",
   "id": "091832cb",
   "metadata": {},
   "source": []
  },
  {
   "cell_type": "markdown",
   "id": "92d35137",
   "metadata": {},
   "source": [
    "### [C5] What are the top 20 items that people put in their carts first? "
   ]
  },
  {
   "cell_type": "code",
   "execution_count": 52,
   "id": "0ae57274",
   "metadata": {
    "scrolled": true
   },
   "outputs": [],
   "source": [
    "# First items added to the cart\n",
    "first_items = order_products_df[order_products_df['add_to_cart_order'] == 1]\n",
    "\n",
    "# Count the occurrences to find the top 20 first items\n",
    "top_first_items = first_items['product_id'].value_counts().head(20)"
   ]
  },
  {
   "cell_type": "code",
   "execution_count": 53,
   "id": "forty-netherlands",
   "metadata": {
    "scrolled": true
   },
   "outputs": [],
   "source": [
    "# Join with products DataFrame to get product names\n",
    "top_first_items_with_names = (pd.DataFrame({'product_id': top_first_items.index})).merge(products_df[['product_id', 'product_name']], on='product_id')"
   ]
  },
  {
   "cell_type": "code",
   "execution_count": 54,
   "id": "08e41ec2",
   "metadata": {},
   "outputs": [
    {
     "name": "stdout",
     "output_type": "stream",
     "text": [
      "Top 20 items that people put in their carts first:\n",
      "     product_id                 product_name\n",
      "0        24852                       Banana\n",
      "1        13176       Bag of Organic Bananas\n",
      "2        27845           Organic Whole Milk\n",
      "3        21137         Organic Strawberries\n",
      "4        47209         Organic Hass Avocado\n",
      "5        21903         Organic Baby Spinach\n",
      "6        47766              Organic Avocado\n",
      "7        19660                 Spring Water\n",
      "8        16797                 Strawberries\n",
      "9        27966          Organic Raspberries\n",
      "10       44632   Sparkling Water Grapefruit\n",
      "11       49235          Organic Half & Half\n",
      "12       47626                  Large Lemon\n",
      "13         196                         Soda\n",
      "14       38689     Organic Reduced Fat Milk\n",
      "15       26209                        Limes\n",
      "16       12341                Hass Avocados\n",
      "17        5785  Organic Reduced Fat 2% Milk\n",
      "18       27086                  Half & Half\n",
      "19       22935         Organic Yellow Onion\n"
     ]
    }
   ],
   "source": [
    "# Display the top 20 items that people put in their carts first along with their names and product IDs\n",
    "print(\"Top 20 items that people put in their carts first:\\n\", top_first_items_with_names)"
   ]
  },
  {
   "cell_type": "markdown",
   "id": "d2ccd5c7",
   "metadata": {},
   "source": [
    "CONCLUSION:\n",
    "\n",
    "Based on the top 20 items that people put in their carts first, it's evident that a significant portion of these items consists of fresh produce and dairy products, such as bananas, organic strawberries, organic whole milk, and organic baby spinach. Additionally, beverages like spring water, soda, and sparkling water grapefruit are also popular choices.\n",
    "\n",
    "This indicates that customers tend to prioritize purchasing perishable and essential items, such as fruits, vegetables, and dairy, at the beginning of their shopping trips. Additionally, the presence of beverages suggests that customers may also prioritize staying hydrated while shopping."
   ]
  },
  {
   "cell_type": "markdown",
   "id": "731ff6f4",
   "metadata": {},
   "source": [
    "FINAL SUMMARY:\n",
    "\n",
    "Throughout the project, an in-depth analysis of the Instacart dataset has been conducted, focusing on various aspects such as data cleaning, exploration, and visualization. Here's an overall summary of the project:\n",
    "\n",
    "Data Cleaning:\n",
    "\n",
    "Duplicates were identified and removed from the orders, products, and order_products dataframes.\n",
    "Missing values were handled by either filling them with appropriate values or dropping rows with missing data.\n",
    "Data types were adjusted to ensure consistency and accuracy in analysis.\n",
    "Exploratory Data Analysis (EDA):\n",
    "\n",
    "Distribution of orders by hour of the day and day of the week was analyzed, providing insights into peak shopping times.\n",
    "The frequency of orders, reorder rates, and other trends were explored to understand customer behavior.\n",
    "Top products, both in terms of popularity and reordering frequency, were identified.\n",
    "Visualization:\n",
    "\n",
    "Histograms, bar plots, and other visualizations were used to represent the distribution and trends within the data effectively.\n",
    "Matplotlib and Pandas plotting functions were utilized to create clear and insightful visualizations.\n",
    "Inferences:\n",
    "\n",
    "Peak shopping times were observed to be during daylight hours, with slight variations based on the day of the week.\n",
    "Customers tend to purchase perishable items such as fruits, vegetables, and dairy products frequently.\n",
    "Reorder rates provide insights into the popularity and trustworthiness of specific products among customers.\n",
    "The analysis provides valuable insights for Instacart to optimize inventory management, marketing strategies, and customer experiences.\n",
    "Overall, the project aimed to understand customer behavior, preferences, and patterns within the Instacart dataset. The insights gained can be used to make data-driven decisions to enhance the shopping experience for Instacart customers and improve operational efficiency for the company."
   ]
  }
 ],
 "metadata": {
  "kernelspec": {
   "display_name": "Python 3 (ipykernel)",
   "language": "python",
   "name": "python3"
  },
  "language_info": {
   "codemirror_mode": {
    "name": "ipython",
    "version": 3
   },
   "file_extension": ".py",
   "mimetype": "text/x-python",
   "name": "python",
   "nbconvert_exporter": "python",
   "pygments_lexer": "ipython3",
   "version": "3.10.0"
  },
  "toc": {
   "base_numbering": 1,
   "nav_menu": {},
   "number_sections": true,
   "sideBar": true,
   "skip_h1_title": true,
   "title_cell": "Table of Contents",
   "title_sidebar": "Contents",
   "toc_cell": false,
   "toc_position": {
    "height": "calc(100% - 180px)",
    "left": "10px",
    "top": "150px",
    "width": "320px"
   },
   "toc_section_display": true,
   "toc_window_display": true
  },
  "vscode": {
   "interpreter": {
    "hash": "01a7be9ec63e704a62cefc5fe7a4756944464ee731be31632bdf42a4cb4688cf"
   }
  }
 },
 "nbformat": 4,
 "nbformat_minor": 5
}
